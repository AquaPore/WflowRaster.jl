{
 "cells": [
  {
   "cell_type": "markdown",
   "metadata": {},
   "source": [
    "# **WFLOW: PRODUCTS RELATED TO DIGITAL ELEVATION MODEL**"
   ]
  },
  {
   "cell_type": "markdown",
   "metadata": {},
   "source": [
    "## *PACKAGES*\n"
   ]
  },
  {
   "cell_type": "code",
   "execution_count": 1,
   "metadata": {},
   "outputs": [],
   "source": [
    "include(raw\"d:\\JOE\\MAIN\\MODELS\\WFLOW\\WflowDataJoe\\WflowRaster.jl\\src\\GeoRaster.jl\")\n",
    "include(raw\"d:\\JOE\\MAIN\\MODELS\\WFLOW\\WflowDataJoe\\WflowRaster.jl\\src\\Parameters.jl\")\n",
    "\n",
    "using Rasters, Shapefile, GeoTIFF, ArchGDAL, GeoFormatTypes, GeoArrays, Extents\n",
    "using Geomorphometry\n",
    "# using CairoMakie, GLMakie\n",
    "\n",
    "# CairoMakie.activate!()\n"
   ]
  },
  {
   "cell_type": "markdown",
   "metadata": {},
   "source": [
    "## **DEM OFFICIAL GRID SIZE**"
   ]
  },
  {
   "cell_type": "markdown",
   "metadata": {},
   "source": [
    "\thttps://rafaqz.github.io/Rasters.jl/dev/api#Rasters.resample-Tuple\n",
    "method: A Symbol or String specifying the method to use for resampling. From the docs for gdalwarp:\n",
    "\n",
    "**:near:** nearest neighbour resampling (default, fastest algorithm, worst interpolation quality).\n",
    ":bilinear: bilinear resampling.\n",
    ":cubic: cubic resampling.\n",
    ":cubicspline: cubic spline resampling.\n",
    ":lanczos: Lanczos windowed sinc resampling.\n",
    ":average: average resampling, computes the weighted average of all non-NODATA contributing pixels. rms root mean square / quadratic mean of all non-NODATA contributing pixels (GDAL >= 3.3)\n",
    ":mode: mode resampling, selects the value which appears most often of all the sampled points.\n",
    ":max: maximum resampling, selects the maximum value from all non-NODATA contributing pixels.\n",
    ":min: minimum resampling, selects the minimum value from all non-NODATA contributing pixels.\n",
    ":med: median resampling, selects the median value of all non-NODATA contributing pixels.\n",
    ":q1: first quartile resampling, selects the first quartile value of all non-NODATA contributing pixels.\n",
    ":q3: third quartile resampling, selects the third quartile value of all non-NODATA contributing pixels.\n",
    ":sum: compute the weighted sum of all non-NODATA contributing pixels (since GDAL 3.1)"
   ]
  },
  {
   "cell_type": "markdown",
   "metadata": {},
   "source": [
    "## **DEM OPERATIONS**"
   ]
  },
  {
   "cell_type": "code",
   "execution_count": 2,
   "metadata": {},
   "outputs": [
    {
     "data": {
      "text/plain": [
       "Main.geoRaster.METADATA(921, 571, 5, 5, 143100.001, 147700.001, 42625.008, 39775.008, 29902, WellKnownText{GeoFormatTypes.CRS}(GeoFormatTypes.CRS(), \"PROJCS[\\\"TM65 / Irish Grid\\\",GEOGCS[\\\"TM65\\\",DATUM[\\\"TM65\\\",SPHEROID[\\\"Airy Modified 1849\\\",6377340.189,299.3249646,AUTHORITY[\\\"EPSG\\\",\\\"7002\\\"]],AUTHORITY[\\\"EPSG\\\",\\\"6299\\\"]],PRIMEM[\\\"Greenwich\\\",0,AUTHORITY[\\\"EPSG\\\",\\\"8901\\\"]],UNIT[\\\"degree\\\",0.0174532925199433,AUTHORITY[\\\"EPSG\\\",\\\"9122\\\"]],AUTHORITY[\\\"EPSG\\\",\\\"4299\\\"]],PROJECTION[\\\"Transverse_Mercator\\\"],PARAMETER[\\\"latitude_of_origin\\\",53.5],PARAMETER[\\\"central_meridian\\\",-8],PARAMETER[\\\"scale_factor\\\",1.000035],PARAMETER[\\\"false_easting\\\",200000],PARAMETER[\\\"false_northing\\\",250000],UNIT[\\\"metre\\\",1,AUTHORITY[\\\"EPSG\\\",\\\"9001\\\"]],AXIS[\\\"Easting\\\",EAST],AXIS[\\\"Northing\\\",NORTH],AUTHORITY[\\\"EPSG\\\",\\\"29902\\\"]]\"), 1, Extent(X = (143100.001, 147700.001), Y = (39775.008, 42625.008)))"
      ]
     },
     "metadata": {},
     "output_type": "display_data"
    }
   ],
   "source": [
    "\n",
    "# Reading data\n",
    "   Path_InputGis_Dem    = joinpath(Path_Root, Path_InputGis, Dem_Input)\n",
    "   Dem_Raw              = Rasters.Raster(Path_InputGis_Dem)\n",
    "\n",
    "   # Resample Dem in 2 steps\n",
    "\tCrs_GeoFormat = GeoFormatTypes.convert(WellKnownText, EPSG(Crs))\n",
    "\n",
    "\tDem_Resample₀ = Rasters.replace_missing(Dem_Raw, missingval=NaN)\n",
    "\n",
    "\tDem_Resample₁ = Rasters.resample(Dem_Resample₀; res=ΔX₁, method=ResampleMethod₁, crs=Crs_GeoFormat)\n",
    "\n",
    "\tDem_Resample = Rasters.resample(Dem_Resample₁; res=ΔX₂, method=ResampleMethod₂, crs=Crs_GeoFormat)\n",
    "\n",
    "   # Writting the output\n",
    "   Path_OutputJulia_Dem = joinpath(Path_Root, Path_OutputJulia, Dem_Julia)\n",
    "   Rasters.write(Path_OutputJulia_Dem, Dem_Resample; ext=\".tiff\", missingval= NaN, force=true, verbose=true)\n",
    "\n",
    "# Getting the metadata\n",
    "\tMetadatas = geoRaster.RASTER_METADATA(Path_OutputJulia_Dem; Verbose=false);\n",
    "\n",
    "# # Dem_Resample = Rasters.aggregate(locus=Rasters.Center(), Dem_Raw, (Y(ΔX), X(ΔX)); skipmissingval=true)\n",
    "\n"
   ]
  },
  {
   "cell_type": "code",
   "execution_count": 3,
   "metadata": {},
   "outputs": [],
   "source": [
    "using CairoMakie, GLMakie\n",
    "if Flag_Plots\n",
    "   Makie.plot(hillshade(Dem_Resample))\n",
    "end\n"
   ]
  },
  {
   "cell_type": "markdown",
   "metadata": {},
   "source": [
    "## ====== **PLEASE RUN PYTHON CODE** =======\n",
    "\n",
    "++===========================================++\n"
   ]
  },
  {
   "cell_type": "markdown",
   "metadata": {},
   "source": [
    "## **CATCHMENT:** *Reading catchment boundary from Python used as a mask*"
   ]
  },
  {
   "cell_type": "code",
   "execution_count": 4,
   "metadata": {},
   "outputs": [
    {
     "data": {
      "text/plain": [
       "\"d:\\\\JOE\\\\MAIN\\\\MODELS\\\\WFLOW\\\\DATA\\\\Timoleague\\\\OutputWflow\\\\wflow_subcatch.tiff\""
      ]
     },
     "metadata": {},
     "output_type": "display_data"
    }
   ],
   "source": [
    "Path_InputPython_Subcatchment = joinpath(Path_Root, Path_OutputPython, Subcatch_Python)\n",
    "Subcatchment₀ = Rasters.Raster(Path_InputPython_Subcatchment)\n",
    "\n",
    "# Assuring that it has the same grid size as the Dem_Resample\n",
    "Subcatchment = Rasters.resample(Subcatchment₀; to=Dem_Resample, missingval= NaN)\n",
    "\n",
    "# Writting the output\n",
    "Path_OutputWflow_Subcatchment = joinpath(Path_Root, Path_OutputWflow, Subcatch_Wflow)\n",
    "Rasters.write(Path_OutputWflow_Subcatchment, Subcatchment; ext=\".tiff\", missingval= NaN, force=true, verbose=true)\n"
   ]
  },
  {
   "cell_type": "code",
   "execution_count": 5,
   "metadata": {},
   "outputs": [],
   "source": [
    "if Flag_Plots\n",
    "   Makie.plot(Subcatchment)\n",
    "end\n"
   ]
  },
  {
   "cell_type": "markdown",
   "metadata": {},
   "source": [
    "## **DEM:** *Mask to catchment area*"
   ]
  },
  {
   "cell_type": "code",
   "execution_count": 6,
   "metadata": {},
   "outputs": [
    {
     "name": "stdout",
     "output_type": "stream",
     "text": [
      "d:\\JOE\\MAIN\\MODELS\\WFLOW\\DATA\\Timoleague\\OutputJulia\\Timoleague_DEM_Mask.tif\n",
      "Bands = 1\n",
      "Crs = 29902\n",
      "ΔX = 5.0\n",
      "ΔY = 5.0\n",
      "N_Width  = 921\n",
      "N_Height = 571\n",
      "Coord_X_Left = 143100.001, Coord_X_Right = 147700.001\n",
      "Coord_Y_Top = 42625.008, Coord_Y_Bottom = 39775.008\n"
     ]
    }
   ],
   "source": [
    "Dem_Resample_Mask = Rasters.mask(Dem_Resample; with=Subcatchment, missingval=NaN)\n",
    "\n",
    "# Writting the output\n",
    "Path_OutputJulia_DemMask = joinpath(Path_Root, Path_OutputJulia, Dem_Julia_Mask)\n",
    "Rasters.write(Path_OutputJulia_DemMask, Dem_Resample_Mask; ext=\".tiff\", missingval= NaN, force=true, verbose=true)\n",
    "\n",
    "# Getting the metadata\n",
    "\tMetadatas = geoRaster.RASTER_METADATA(Path_OutputJulia_DemMask; Verbose=true);\n",
    "\n",
    "if Flag_Plots\n",
    "   Makie.plot(hillshade(Dem_Resample_Mask))\n",
    "end\n"
   ]
  },
  {
   "cell_type": "markdown",
   "metadata": {},
   "source": [
    "## **LDD:** *Mask to catchment area* "
   ]
  },
  {
   "cell_type": "code",
   "execution_count": 7,
   "metadata": {},
   "outputs": [
    {
     "name": "stdout",
     "output_type": "stream",
     "text": [
      "d:\\JOE\\MAIN\\MODELS\\WFLOW\\DATA\\Timoleague\\OutputWflow\\wflow_ldd.tiff\n"
     ]
    }
   ],
   "source": [
    "Path_InputPython_Ldd = joinpath(Path_Root, Path_OutputPython, Ldd_Python)\n",
    "Ldd₀ = Rasters.Raster(Path_InputPython_Ldd)\n",
    "\n",
    "# Assuring that it has the same grid size as the Dem_Resample\n",
    "Ldd₁ = Rasters.resample(Ldd₀; to=Dem_Resample_Mask)\n",
    "\n",
    "Ldd_Mask = Rasters.mask(Ldd₁; with=Subcatchment, missingval=0)\n",
    "\n",
    "# Writting the output\n",
    "Path_OutputWflow_LddMask = joinpath(Path_Root, Path_OutputWflow, Ldd_Wflow)\n",
    "println(Path_OutputWflow_LddMask)\n",
    "Rasters.write(Path_OutputWflow_LddMask, Ldd_Mask; ext=\".tiff\", missingval=NaN, force=true, verbose=true)\n",
    "\n",
    "if Flag_Plots\n",
    "   Makie.plot(Ldd_Mask)\n",
    "end\n"
   ]
  },
  {
   "cell_type": "markdown",
   "metadata": {},
   "source": [
    "## **OUTLETS STATION**"
   ]
  },
  {
   "cell_type": "code",
   "execution_count": 8,
   "metadata": {},
   "outputs": [
    {
     "name": "stdout",
     "output_type": "stream",
     "text": [
      "d:\\JOE\\MAIN\\MODELS\\WFLOW\\DATA\\Timoleague\\InputGis\\Timoleague_Outlet_Hydro.shp\n"
     ]
    }
   ],
   "source": [
    "\n",
    "Path_InputGis_Outlet  = joinpath(Path_Root, Path_InputGis, Outlet_Input)\n",
    "println(Path_InputGis_Outlet)\n",
    "\n",
    "# Load the shapefile\n",
    "Outlet_Raw = Shapefile.Handle(Path_InputGis_Outlet)\n",
    "\n",
    "Outlet = Rasters.rasterize(last, Outlet_Raw; res=ΔX₂, fill=1, missingval=NaN, crs=Metadatas.Crs_GeoFormat, to=Dem_Resample_Mask, shape=:point ,progress=true)\n",
    "\n",
    "#TODO: check if the outlet is inside the subcatchment\n",
    "# Outlet_Mask = Rasters.mask(Outlet; with=Subcatchment, missingval=NaN)\n",
    "\n",
    "Path_OutputJulia_Outlet = joinpath(Path_Root, Path_OutputJulia, Outlet_Julia)\n",
    "Rasters.write(Path_OutputJulia_Outlet, Outlet; ext=\".tiff\", force=true, verbose=true, missingval= NaN)\n",
    "\n",
    "if Flag_Plots\n",
    "   CairoMakie.heatmap(Outlet)\n",
    "end\n"
   ]
  },
  {
   "cell_type": "markdown",
   "metadata": {},
   "source": [
    "## **RIVER:** *Mask to catchment area*"
   ]
  },
  {
   "cell_type": "code",
   "execution_count": 9,
   "metadata": {},
   "outputs": [
    {
     "name": "stdout",
     "output_type": "stream",
     "text": [
      "d:\\JOE\\MAIN\\MODELS\\WFLOW\\DATA\\Timoleague\\InputGis\\Timoleague_River.shp\n"
     ]
    },
    {
     "name": "stderr",
     "output_type": "stream",
     "text": [
      "\u001b[34mRasterizing... 100%|██████████████████████████████████████████████████| Time: 0:00:01\u001b[39m\u001b[K\n"
     ]
    }
   ],
   "source": [
    "\n",
    "Path_InputGis_River  = joinpath(Path_Root, Path_InputGis, River_Input)\n",
    "println(Path_InputGis_River)\n",
    "\n",
    "# Load the shapefile\n",
    "River_Raw = Shapefile.Handle(Path_InputGis_River)\n",
    "\n",
    "River = Rasters.rasterize(last, River_Raw; res=ΔX₂, fill=1.0, missingval=NaN, crs=Metadatas.Crs_GeoFormat, to=Dem_Resample_Mask, shape=:line ,progress=true)\n",
    "\n",
    "River_Mask = Rasters.mask(River; with=Subcatchment, missingval=0)\n",
    "\n",
    "Path_OutputWflow_River = joinpath(Path_Root, Path_OutputWflow, River_Wflow)\n",
    "Rasters.write(Path_OutputWflow_River, River_Mask; ext=\".tiff\", force=true, verbose=true, missingval= 0)\n",
    "\n",
    "if Flag_Plots\n",
    "   CairoMakie.heatmap(River_Mask ; colormap=:romaO, colorrange=(0, 1))\n",
    "end\n"
   ]
  },
  {
   "cell_type": "markdown",
   "metadata": {},
   "source": [
    "## **SLOPE:** *Reading Slope from Python & Mask*"
   ]
  },
  {
   "cell_type": "code",
   "execution_count": 10,
   "metadata": {},
   "outputs": [
    {
     "name": "stdout",
     "output_type": "stream",
     "text": [
      "d:\\JOE\\MAIN\\MODELS\\WFLOW\\DATA\\Timoleague\\OutputWflow\\RiverSlope.tiff\n"
     ]
    }
   ],
   "source": [
    "\n",
    "Path_InputPython_Slope = joinpath(Path_Root, Path_OutputPython, Slope_Python)\n",
    "\n",
    "Slope₀ = Rasters.Raster(Path_InputPython_Slope)\n",
    "\n",
    "Slope_Mask₀ = Rasters.mask(Slope₀; with=Subcatchment, missingval=NaN);\n",
    "\n",
    "Slope_Mask = Rasters.resample(Slope_Mask₀; to=Dem_Resample_Mask)\n",
    "\n",
    "# Writting the output\n",
    "Path_OutputWflow_Slope = joinpath(Path_Root, Path_OutputWflow, RiverSlope_Wflow)\n",
    "Rasters.write(Path_OutputWflow_Slope, Slope_Mask; ext=\".tiff\", missingval= NaN, force=true, verbose=true)\n",
    "println(Path_OutputWflow_Slope)\n",
    "\n",
    "if Flag_Plots\n",
    "   Makie.plot(Slope_Mask; colormap=:matter)\n",
    "end\n"
   ]
  },
  {
   "cell_type": "markdown",
   "metadata": {},
   "source": [
    "## **Rivers slope**"
   ]
  },
  {
   "cell_type": "code",
   "execution_count": 11,
   "metadata": {},
   "outputs": [
    {
     "name": "stdout",
     "output_type": "stream",
     "text": [
      "d:\\JOE\\MAIN\\MODELS\\WFLOW\\DATA\\Timoleague\\OutputWflow\\RiverSlope.tiff\n"
     ]
    }
   ],
   "source": [
    "RiverSlope = Rasters.mask(Slope_Mask; with=River_Mask, missingval=NaN)\n",
    "\n",
    "# RiverSlope = Float64.(RiverSlope)\n",
    "\n",
    "Path_OutputWflow_RiverSlope = joinpath(Path_Root, Path_OutputWflow, RiverSlope_Wflow)\n",
    "Rasters.write(Path_OutputWflow_RiverSlope, RiverSlope; ext=\".tiff\", force=true, verbose=true, missingval=0)\n",
    "println(Path_OutputWflow_RiverSlope)\n",
    "\n",
    "if Flag_Plots\n",
    "   CairoMakie.heatmap(RiverSlope ; colormap=:romaO, colorrange=(0, 60))\n",
    "end\n"
   ]
  },
  {
   "cell_type": "markdown",
   "metadata": {},
   "source": [
    "## **River width**"
   ]
  },
  {
   "cell_type": "code",
   "execution_count": 12,
   "metadata": {},
   "outputs": [
    {
     "name": "stdout",
     "output_type": "stream",
     "text": [
      "d:\\JOE\\MAIN\\MODELS\\WFLOW\\DATA\\Timoleague\\OutputWflow\\wflow_riverwidth.tiff\n"
     ]
    }
   ],
   "source": [
    "\n",
    "RiverWidth = Float64.(River_Mask) .* P_RiverWidth\n",
    "\n",
    "Path_OutputWflow_RiverWidth = joinpath(Path_Root, Path_OutputWflow, RiverWidth_Wflow)\n",
    "\n",
    "Rasters.write(Path_OutputWflow_RiverWidth, RiverWidth; ext=\".tiff\", force=true, verbose=true, missingval=NaN)\n",
    "\n",
    "println(Path_OutputWflow_RiverWidth)\n",
    "\n",
    "if Flag_Plots\n",
    "   CairoMakie.heatmap(RiverWidth; colormap=:romaO, colorrange=(0, 60))\n",
    "end\n"
   ]
  },
  {
   "cell_type": "markdown",
   "metadata": {},
   "source": [
    "## **River depth**"
   ]
  },
  {
   "cell_type": "code",
   "execution_count": 13,
   "metadata": {},
   "outputs": [
    {
     "name": "stdout",
     "output_type": "stream",
     "text": [
      "d:\\JOE\\MAIN\\MODELS\\WFLOW\\DATA\\Timoleague\\OutputWflow\\wflow_riverdepth.tiff\n"
     ]
    }
   ],
   "source": [
    "RiverDepth = River_Mask .* P_RiverDepth\n",
    "\n",
    "Path_OutputWflow_RiverDepth = joinpath(Path_Root, Path_OutputWflow, RiverDepth_Wflow)\n",
    "println(Path_OutputWflow_RiverDepth)\n",
    "\n",
    "Rasters.write(Path_OutputWflow_RiverDepth, RiverDepth; ext=\".tiff\", force=true, verbose=true, missingval=0)\n",
    "\n",
    "if Flag_Plots\n",
    "   CairoMakie.heatmap(RiverDepth; colormap=:romaO, colorrange=(0, 60))\n",
    "end\n"
   ]
  },
  {
   "cell_type": "markdown",
   "metadata": {},
   "source": [
    "## **NETCDF**"
   ]
  },
  {
   "cell_type": "code",
   "execution_count": 14,
   "metadata": {},
   "outputs": [
    {
     "name": "stderr",
     "output_type": "stream",
     "text": [
      "WARNING: replacing module geoRaster.\n"
     ]
    },
    {
     "name": "stdout",
     "output_type": "stream",
     "text": [
      "d:\\JOE\\MAIN\\MODELS\\WFLOW\\DATA\\Timoleague\\OutputNetCDF\\instates-Timoleague.nc\n",
      "wflow_ldd\n",
      "wflow_subcatch\n",
      "Slope\n",
      "wflow_river\n",
      "RiverSlope\n",
      "wflow_riverwidth\n",
      "wflow_riverdepth\n"
     ]
    }
   ],
   "source": [
    "include(raw\"d:\\JOE\\MAIN\\MODELS\\WFLOW\\WflowDataJoe\\WflowRaster.jl\\src\\GeoRaster.jl\")\n",
    "include(raw\"d:\\JOE\\MAIN\\MODELS\\WFLOW\\WflowDataJoe\\WflowRaster.jl\\src\\Parameters.jl\")\n",
    "\n",
    "NetCDF, Path_NetCDF_Full = geoRaster.TIFF_2_NETCDF(Ldd_Mask, Metadatas, River_Mask, River_Wflow, RiverDepth, RiverDepth_Wflow, RiverSlope, RiverSlope_Wflow, RiverWidth, RiverWidth_Wflow, Slope_Mask, Subcatch_Wflow, Subcatchment);\n"
   ]
  },
  {
   "cell_type": "code",
   "execution_count": 15,
   "metadata": {},
   "outputs": [
    {
     "data": {
      "text/plain": [
       "\u001b[31mDataset: d:\\JOE\\MAIN\\MODELS\\WFLOW\\DATA\\Timoleague\\OutputNetCDF\\instates-Timoleague.nc\u001b[39m\n",
       "Group: /\n",
       "\n",
       "\u001b[31mDimensions\u001b[39m\n",
       "   x = 921\n",
       "   y = 571\n",
       "\n",
       "\u001b[31mVariables\u001b[39m\n",
       "\u001b[32m  wflow_ldd\u001b[39m   (921 × 571)\n",
       "    Datatype:    \u001b[0m\u001b[1mInt64\u001b[22m (Int64)\n",
       "    Dimensions:  x × y\n",
       "    Attributes:\n",
       "     units                = \u001b[36m1-9\u001b[39m\n",
       "     comments             = \u001b[36mDerived from hydromt.flw.d8_from_dem\u001b[39m\n",
       "\n",
       "\u001b[32m  wflow_subcatch\u001b[39m   (921 × 571)\n",
       "    Datatype:    \u001b[0m\u001b[1mInt64\u001b[22m (Int64)\n",
       "    Dimensions:  x × y\n",
       "    Attributes:\n",
       "     units                = \u001b[36m1\u001b[39m\n",
       "     comments             = \u001b[36mDerived from hydromt\u001b[39m\n",
       "\n",
       "\u001b[32m  Slope\u001b[39m   (921 × 571)\n",
       "    Datatype:    \u001b[0m\u001b[1mFloat64\u001b[22m (Float64)\n",
       "    Dimensions:  x × y\n",
       "    Attributes:\n",
       "     units                = \u001b[36m-\u001b[39m\n",
       "     comments             = \u001b[36mDerived from hydromt\u001b[39m\n",
       "\n",
       "\u001b[32m  wflow_river\u001b[39m   (921 × 571)\n",
       "    Datatype:    \u001b[0m\u001b[1mInt64\u001b[22m (Int64)\n",
       "    Dimensions:  x × y\n",
       "    Attributes:\n",
       "     units                = \u001b[36m0/1\u001b[39m\n",
       "     comments             = \u001b[36mDerived from hydromt\u001b[39m\n",
       "\n",
       "\u001b[32m  RiverSlope\u001b[39m   (921 × 571)\n",
       "    Datatype:    \u001b[0m\u001b[1mFloat64\u001b[22m (Float64)\n",
       "    Dimensions:  x × y\n",
       "    Attributes:\n",
       "     units                = \u001b[36mSlope\u001b[39m\n",
       "     comments             = \u001b[36mDerived from hydromt\u001b[39m\n",
       "\n",
       "\u001b[32m  wflow_riverwidth\u001b[39m   (921 × 571)\n",
       "    Datatype:    \u001b[0m\u001b[1mInt64\u001b[22m (Int64)\n",
       "    Dimensions:  x × y\n",
       "    Attributes:\n",
       "     units                = \u001b[36mm\u001b[39m\n",
       "     comments             = \u001b[36mDerived from hydromt\u001b[39m\n",
       "\n",
       "\u001b[32m  wflow_riverdepth\u001b[39m   (921 × 571)\n",
       "    Datatype:    \u001b[0m\u001b[1mInt64\u001b[22m (Int64)\n",
       "    Dimensions:  x × y\n",
       "    Attributes:\n",
       "     units                = \u001b[36mSlope\u001b[39m\n",
       "     comments             = \u001b[36mDerived from hydromt\u001b[39m\n",
       "\n",
       "\u001b[31mGlobal attributes\u001b[39m\n",
       "  title                = \u001b[36mTimoleague instates dataset\u001b[39m\n",
       "  creator              = \u001b[36mJoseph A.P. POLLACCO\u001b[39m\n"
      ]
     },
     "metadata": {},
     "output_type": "display_data"
    }
   ],
   "source": [
    " using NCDatasets\n",
    "NetCdf = NCDataset(Path_NetCDF_Full)\n"
   ]
  },
  {
   "cell_type": "code",
   "execution_count": 16,
   "metadata": {},
   "outputs": [
    {
     "data": {
      "text/plain": [
       "closed Dataset"
      ]
     },
     "metadata": {},
     "output_type": "display_data"
    }
   ],
   "source": [
    "close(NetCdf)\n"
   ]
  },
  {
   "cell_type": "code",
   "execution_count": 23,
   "metadata": {},
   "outputs": [
    {
     "name": "stderr",
     "output_type": "stream",
     "text": [
      "WARNING: replacing module geoRaster.\n"
     ]
    },
    {
     "name": "stdout",
     "output_type": "stream",
     "text": [
      "d:\\JOE\\MAIN\\MODELS\\WFLOW\\DATA\\Timoleague\\InputTimeSeries/TimeSeries_Process\\forcing.Timoleague.csv\n",
      "(921, 571)\n",
      "(921, 571, 100)\n"
     ]
    },
    {
     "ename": "Base.IOError",
     "evalue": "IOError: unlink(\"d:\\\\JOE\\\\MAIN\\\\MODELS\\\\WFLOW\\\\DATA\\\\Timoleague\\\\InputTimeSeries/TimeSeries_Wflow\\\\forcing-Timoleague.nc\"): resource busy or locked (EBUSY)",
     "output_type": "error",
     "traceback": [
      "IOError: unlink(\"d:\\\\JOE\\\\MAIN\\\\MODELS\\\\WFLOW\\\\DATA\\\\Timoleague\\\\InputTimeSeries/TimeSeries_Wflow\\\\forcing-Timoleague.nc\"): resource busy or locked (EBUSY)\n",
      "\n",
      "Stacktrace:\n",
      " [1] uv_error\n",
      "   @ .\\libuv.jl:106 [inlined]\n",
      " [2] unlink(p::String)\n",
      "   @ Base.Filesystem .\\file.jl:1105\n",
      " [3] rm(path::String; force::Bool, recursive::Bool)\n",
      "   @ Base.Filesystem .\\file.jl:283\n",
      " [4] TIMESERIES_2_NETCDF(Metadatas::Main.geoRaster.METADATA, Subcatchment::Raster{UInt8, 2, Tuple{X{Projected{Float64, StepRangeLen{Float64, Base.TwicePrecision{Float64}, Base.TwicePrecision{Float64}, Int64}, DimensionalData.Dimensions.Lookups.ForwardOrdered, DimensionalData.Dimensions.Lookups.Regular{Float64}, DimensionalData.Dimensions.Lookups.Intervals{DimensionalData.Dimensions.Lookups.Start}, DimensionalData.Dimensions.Lookups.NoMetadata, WellKnownText{GeoFormatTypes.CRS}, Nothing, X{Colon}}}, Y{Projected{Float64, StepRangeLen{Float64, Base.TwicePrecision{Float64}, Base.TwicePrecision{Float64}, Int64}, DimensionalData.Dimensions.Lookups.ReverseOrdered, DimensionalData.Dimensions.Lookups.Regular{Float64}, DimensionalData.Dimensions.Lookups.Intervals{DimensionalData.Dimensions.Lookups.Start}, DimensionalData.Dimensions.Lookups.NoMetadata, WellKnownText{GeoFormatTypes.CRS}, Nothing, Y{Colon}}}}, Tuple{Band{DimensionalData.Dimensions.Lookups.Categorical{Int64, UnitRange{Int64}, DimensionalData.Dimensions.Lookups.ForwardOrdered, DimensionalData.Dimensions.Lookups.NoMetadata}}}, Matrix{UInt8}, Symbol, DimensionalData.Dimensions.Lookups.Metadata{Rasters.GDALsource, Dict{String, Any}}, UInt8})\n",
      "   @ Main.geoRaster d:\\JOE\\MAIN\\MODELS\\WFLOW\\WflowDataJoe\\WflowRaster.jl\\src\\GeoRaster.jl:247\n",
      " [5] top-level scope\n",
      "   @ d:\\JOE\\MAIN\\MODELS\\WFLOW\\WflowDataJoe\\WflowRaster.jl\\src\\Jupyter\\jl_notebook_cell_df34fa98e69747e1a8f8a730347b8e2f_X44sZmlsZQ==.jl:2"
     ]
    }
   ],
   "source": [
    "include(raw\"d:\\JOE\\MAIN\\MODELS\\WFLOW\\WflowDataJoe\\WflowRaster.jl\\src\\GeoRaster.jl\")\n",
    "include(raw\"d:\\JOE\\MAIN\\MODELS\\WFLOW\\WflowDataJoe\\WflowRaster.jl\\src\\Parameters.jl\")\n",
    "\n",
    "NetCDFmeteo, Path_NetCDFmeteo_Output, Time = geoRaster.TIMESERIES_2_NETCDF(Metadatas, Subcatchment);\n"
   ]
  },
  {
   "cell_type": "code",
   "execution_count": 18,
   "metadata": {},
   "outputs": [
    {
     "data": {
      "text/plain": [
       "\u001b[31mDataset: d:\\JOE\\MAIN\\MODELS\\WFLOW\\DATA\\Timoleague\\InputTimeSeries/TimeSeries_Wflow\\forcing-Timoleague.nc\u001b[39m\n",
       "Group: /\n",
       "\n",
       "\u001b[31mDimensions\u001b[39m\n",
       "   x = 921\n",
       "   y = 571\n",
       "   time = 1000\n",
       "\n",
       "\u001b[31mVariables\u001b[39m\n",
       "\u001b[32m  time\u001b[39m   (1000)\n",
       "    Datatype:    \u001b[0m\u001b[1mDates.DateTime\u001b[22m (Float64)\n",
       "    Dimensions:  time\n",
       "    Attributes:\n",
       "     units                = \u001b[36mdays since 1900-01-01 00:00:00\u001b[39m\n",
       "     calendar             = \u001b[36mproleptic_gregorian\u001b[39m\n",
       "\n",
       "\u001b[32m  precip\u001b[39m   (921 × 571 × 1000)\n",
       "    Datatype:    \u001b[0m\u001b[1mFloat64\u001b[22m (Float64)\n",
       "    Dimensions:  x × y × time\n",
       "    Attributes:\n",
       "     units                = \u001b[36mmm\u001b[39m\n",
       "     comments             = \u001b[36mprecipitation\u001b[39m\n",
       "\n",
       "\u001b[32m  pet\u001b[39m   (921 × 571 × 1000)\n",
       "    Datatype:    \u001b[0m\u001b[1mFloat64\u001b[22m (Float64)\n",
       "    Dimensions:  x × y × time\n",
       "    Attributes:\n",
       "     units                = \u001b[36mmm\u001b[39m\n",
       "     comments             = \u001b[36mpotential evapotranspiration\u001b[39m\n",
       "\n",
       "\u001b[32m  temp\u001b[39m   (921 × 571 × 1000)\n",
       "    Datatype:    \u001b[0m\u001b[1mFloat64\u001b[22m (Float64)\n",
       "    Dimensions:  x × y × time\n",
       "    Attributes:\n",
       "     units                = \u001b[36mmm\u001b[39m\n",
       "     comments             = \u001b[36mpotential evapotranspiration\u001b[39m\n",
       "\n",
       "\u001b[31mGlobal attributes\u001b[39m\n",
       "  title                = \u001b[36mTimoleague climate dataset\u001b[39m\n",
       "  creator              = \u001b[36mJoseph A.P. POLLACCO\u001b[39m\n",
       "  unit                 = \u001b[36mmm\u001b[39m\n"
      ]
     },
     "metadata": {},
     "output_type": "display_data"
    }
   ],
   "source": [
    " using NCDatasets\n",
    " Output_NCDatasets = NCDataset(Path_NetCDFmeteo_Output)\n"
   ]
  },
  {
   "cell_type": "code",
   "execution_count": 19,
   "metadata": {},
   "outputs": [
    {
     "data": {
      "text/plain": [
       "closed Dataset"
      ]
     },
     "metadata": {},
     "output_type": "display_data"
    }
   ],
   "source": [
    "close(NetCDFmeteo)\n"
   ]
  },
  {
   "cell_type": "code",
   "execution_count": 20,
   "metadata": {},
   "outputs": [
    {
     "data": {
      "text/plain": [
       "200"
      ]
     },
     "metadata": {},
     "output_type": "display_data"
    }
   ],
   "source": [
    "# ================================================================\n",
    "\t\t\t\t\t# Plotting parameters\n",
    "\t\t\t\t\tColourOption_No    = 1\n",
    "\t\t\t\t\tLinewidth          = 2\n",
    "\t\t\t\t\theight             = 400\n",
    "\t\t\t\t\tlabelsize          = 20\n",
    "\t\t\t\t\ttextcolor          = :blue\n",
    "\t\t\t\t\ttextsize           = 20\n",
    "\t\t\t\t\ttitlecolor         = :navyblue\n",
    "\t\t\t\t\ttitlesize          = 18.0\n",
    "\t\t\t\t\twidth              = height * 1.0\n",
    "\t\t\t\t\txgridstyle         = :dash\n",
    "\t\t\t\t\txgridvisible       = true\n",
    "\t\t\t\t\txlabelSize         = 20\n",
    "\t\t\t\t\txlabelpadding      = 5\n",
    "\t\t\t\t\txminortickalign    = 1.0\n",
    "\t\t\t\t\txminorticksvisible = true\n",
    "\t\t\t\t\txtickalign         = 0.9 # 0 is inside and 1 is outside\n",
    "\t\t\t\t\txticklabelrotation = π / 4.0\n",
    "\t\t\t\t\txticksize          = 10\n",
    "\t\t\t\t\txticksmirrored     = false\n",
    "\t\t\t\t\txtickwidt          = 0.5\n",
    "\t\t\t\t\txtrimspine         = false\n",
    "\t\t\t\t\tygridstyle         = :dash\n",
    "\t\t\t\t\tygridvisible       = false\n",
    "\t\t\t\t\tylabelpadding      = xlabelpadding\n",
    "\t\t\t\t\tylabelsize         = xlabelSize\n",
    "\t\t\t\t\tyminortickalign    = xminortickalign\n",
    "\t\t\t\t\tyminorticksvisible = true\n",
    "\t\t\t\t\tytickalign         = xtickalign\n",
    "\t\t\t\t\tyticksize          = xticksize\n",
    "\t\t\t\t\tyticksmirrored     = false\n",
    "\t\t\t\t\tytickwidt          = xtickwidt\n",
    "\t\t\t\t\tytrimspine         = false\n",
    "\n",
    "\t\t\t\t\tLinewidth = 4\n",
    "\t\t\t\t\txlabelSize = 30\n",
    "\t\t\t\t\txticksize = 10\n",
    "\t\t\t\t\txgridvisible = false\n",
    "\t\t\t\t\tWidth = 800 # 800\n",
    "\t\t\t\t\tHeight = 200\n"
   ]
  },
  {
   "cell_type": "code",
   "execution_count": 21,
   "metadata": {},
   "outputs": [
    {
     "data": {
      "text/plain": [
       "HEATMAP_TIME (generic function with 1 method)"
      ]
     },
     "metadata": {},
     "output_type": "display_data"
    }
   ],
   "source": [
    "\n",
    "using GLMakie\n",
    "GLMakie.activate!\n",
    "Makie.inline!(false)  # Make sure to inline plots into Documenter output!\n",
    "\n",
    "\n",
    "function HEATMAP_TIME(;Path=Path, NameOutput=\"q_land\", Layer=1)\n",
    "\tOutput_NCDatasets = NCDatasets.NCDataset(Path)\n",
    "\n",
    "\tData = Output_NCDatasets[NameOutput]\n",
    "\n",
    "\tData = Array(Data)\n",
    "\n",
    "\tDimensions = length(size(Data))\n",
    "\n",
    "\tif Dimensions == 3\n",
    "\t\tN_Lon = size(Data)[1]\n",
    "\t\tN_Lat  = size(Data)[2]\n",
    "\t\tN_Time  = size(Data)[3]\n",
    "\n",
    "\telseif Dimensions == 4\n",
    "\t\tN_Lon = size(Data)[1]\n",
    "\t\tN_Lat  = size(Data)[2]\n",
    "\t\tN_Time  = size(Data)[4]\n",
    "\tend\n",
    "\n",
    "\tPmin, Pmax = extrema(x for x ∈ skipmissing(Data) if !isnan(x))\n",
    "\t@show Pmin Pmax\n",
    "\n",
    "\tfunction DATA_3D_2_2D(Data; iTime=iTime, Dimensions=Dimensions, Layer=Layer)\n",
    "\t\tif Dimensions == 4\n",
    "\t\t\treturn Data[:,:, Layer, iTime]\n",
    "\t\telseif Dimensions == 3\n",
    "\t\t\treturn Data[:,:, iTime]\n",
    "\t\tend\n",
    "\tend\n",
    "\n",
    "\n",
    "\tFig = Figure(size=(Width, Height * 4.0))\n",
    "\n",
    "\tAx_1 = Axis(Fig[1, 1], title=NameOutput, xlabelsize=xlabelSize, ylabelsize=xlabelSize, xticksize=xticksize, xgridvisible=xgridvisible, ygridvisible=xgridvisible)\n",
    "\n",
    "\tsg = SliderGrid(Fig[2, 1],\n",
    "\t(label=\"iTime\", range=1:1:N_Time, startvalue=1),\n",
    "\twidth=550, tellheight=true)\n",
    "\n",
    "\tiTime = sg.sliders[1].value\n",
    "\n",
    "\tData_Time = lift((iTime) -> DATA_3D_2_2D(Data; iTime=iTime, Dimensions), iTime)\n",
    "\n",
    "\n",
    "\tData_Plot = heatmap!(Ax_1, 1:N_Lon, 1:N_Lat, Data_Time, colorrange=(Pmin, Pmax), colormap =:hawaii50)\n",
    "\n",
    "\tColorbar(Fig[1, 2], Data_Plot; label=NameOutput, width=20, ticks = Pmin:(Pmax-Pmin)/5:Pmax)\n",
    "\n",
    "\tFig\n",
    "end\n"
   ]
  },
  {
   "cell_type": "code",
   "execution_count": null,
   "metadata": {},
   "outputs": [
    {
     "name": "stdout",
     "output_type": "stream",
     "text": [
      "Pmin = 0.0\n",
      "Pmax = 3.6\n"
     ]
    }
   ],
   "source": [
    "using GLMakie\n",
    "GLMakie.activate!\n",
    "Makie.inline!(false)  # Make sure to inline plots into Documenter output!\n",
    "\n",
    "HEATMAP_TIME(;Path=Path_NetCDFmeteo_Output, NameOutput=\"precip\", Layer=1)\n"
   ]
  }
 ],
 "metadata": {
  "kernelspec": {
   "display_name": "Julia 1.11.5",
   "language": "julia",
   "name": "julia-1.11"
  },
  "language_info": {
   "file_extension": ".jl",
   "mimetype": "application/julia",
   "name": "julia",
   "version": "1.11.5"
  }
 },
 "nbformat": 4,
 "nbformat_minor": 2
}
