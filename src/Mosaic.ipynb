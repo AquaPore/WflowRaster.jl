{
 "cells": [
  {
   "cell_type": "code",
   "execution_count": 15,
   "id": "4c434c76",
   "metadata": {},
   "outputs": [
    {
     "name": "stderr",
     "output_type": "stream",
     "text": [
      "WARNING: replacing module geoRaster.\n",
      "WARNING: replacing module geoNetcdf.\n",
      "WARNING: replacing module geoPlot.\n"
     ]
    },
    {
     "data": {
      "text/plain": [
       "2-element Vector{String}:\n",
       " \"N51W008_FABDEM_V1-0.tif\"\n",
       " \"N51W009_FABDEM_V1-0.tif\""
      ]
     },
     "metadata": {},
     "output_type": "display_data"
    }
   ],
   "source": [
    "using  Revise, Rasters, GeoFormatTypes, GeoTIFF, ArchGDAL\n",
    "using Statistics\n",
    "\n",
    "include(\"Julia//Parameters.jl\")\n",
    "include(\"Julia//GeoRaster.jl\")\n",
    "include(\"Julia//GeoNetcdf.jl\")\n",
    "include(\"Julia//PlotParameter.jl\")\n",
    "include(\"Julia//GeoPlot.jl\")\n",
    "\n",
    "Path_Home = raw\"C:\\OSGeo4W\\Gis\\FABDEM\\IRELAND_MOSAIC0\"\n",
    "Path_Output = raw\"C:\\OSGeo4W\\Gis\\FABDEM\\IRELAND_OUTPUT\"\n",
    "Files =readdir(Path_Home)\n"
   ]
  },
  {
   "cell_type": "code",
   "execution_count": 21,
   "id": "1a1fb3d5",
   "metadata": {},
   "outputs": [],
   "source": [
    "Maps = []\n",
    "for iiFile in Files\n",
    "    Dem_Map₀ = Rasters.Raster(joinpath(Path_Home, iiFile))\n",
    "    Dem_Map  = Rasters.replace_missing(Dem_Map₀, missingval=NaN)\n",
    "    Maps     = push!(Maps, Dem_Map)\n",
    "end\n"
   ]
  },
  {
   "cell_type": "code",
   "execution_count": 24,
   "id": "d1d5fc14",
   "metadata": {},
   "outputs": [
    {
     "ename": "DimensionalData.Dimensions.Lookups.SelectorError{Projected{Float64, Vector{Float64}, DimensionalData.Dimensions.Lookups.ForwardOrdered, DimensionalData.Dimensions.Lookups.Regular{Float64}, DimensionalData.Dimensions.Lookups.Intervals{DimensionalData.Dimensions.Lookups.Center}, DimensionalData.Dimensions.Lookups.NoMetadata, WellKnownText{GeoFormatTypes.CRS}, Nothing, X{Colon}}, Float64}",
     "evalue": "SelectorError: attempt to select -7.9956249999999995 from lookup Projected{Float64, Vector{Float64}, DimensionalData.Dimensions.Lookups.ForwardOrdered, DimensionalData.Dimensions.Lookups.Regular{Float64}, DimensionalData.Dimensions.Lookups.Intervals{DimensionalData.Dimensions.Lookups.Center}, DimensionalData.Dimensions.Lookups.NoMetadata, WellKnownText{GeoFormatTypes.CRS}, Nothing, X{Colon}} with bounds (-8.000208333333333, -7.000208333333334)\n",
     "output_type": "error",
     "traceback": [
      "SelectorError: attempt to select -7.9956249999999995 from lookup Projected{Float64, Vector{Float64}, DimensionalData.Dimensions.Lookups.ForwardOrdered, DimensionalData.Dimensions.Lookups.Regular{Float64}, DimensionalData.Dimensions.Lookups.Intervals{DimensionalData.Dimensions.Lookups.Center}, DimensionalData.Dimensions.Lookups.NoMetadata, WellKnownText{GeoFormatTypes.CRS}, Nothing, X{Colon}} with bounds (-8.000208333333333, -7.000208333333334)\n",
      "\n",
      "\n",
      "Stacktrace:\n",
      "  [1] _selnotfound(l::Projected{Float64, Vector{Float64}, DimensionalData.Dimensions.Lookups.ForwardOrdered, DimensionalData.Dimensions.Lookups.Regular{Float64}, DimensionalData.Dimensions.Lookups.Intervals{DimensionalData.Dimensions.Lookups.Center}, DimensionalData.Dimensions.Lookups.NoMetadata, WellKnownText{GeoFormatTypes.CRS}, Nothing, X{Colon}}, selval::Float64)\n",
      "    @ DimensionalData.Dimensions.Lookups C:\\Users\\jpollacco.local\\.julia\\packages\\DimensionalData\\TpU10\\src\\Lookups\\selector.jl:233\n",
      "  [2] _selnotfound_or_nothing(err::DimensionalData.Dimensions.Lookups._True, lookup::Projected{Float64, Vector{Float64}, DimensionalData.Dimensions.Lookups.ForwardOrdered, DimensionalData.Dimensions.Lookups.Regular{Float64}, DimensionalData.Dimensions.Lookups.Intervals{DimensionalData.Dimensions.Lookups.Center}, DimensionalData.Dimensions.Lookups.NoMetadata, WellKnownText{GeoFormatTypes.CRS}, Nothing, X{Colon}}, selval::Float64)\n",
      "    @ DimensionalData.Dimensions.Lookups C:\\Users\\jpollacco.local\\.julia\\packages\\DimensionalData\\TpU10\\src\\Lookups\\selector.jl:231\n",
      "  [3] #at#52\n",
      "    @ C:\\Users\\jpollacco.local\\.julia\\packages\\DimensionalData\\TpU10\\src\\Lookups\\selector.jl:208 [inlined]\n",
      "  [4] at\n",
      "    @ C:\\Users\\jpollacco.local\\.julia\\packages\\DimensionalData\\TpU10\\src\\Lookups\\selector.jl:186 [inlined]\n",
      "  [5] #at#47\n",
      "    @ C:\\Users\\jpollacco.local\\.julia\\packages\\DimensionalData\\TpU10\\src\\Lookups\\selector.jl:158 [inlined]\n",
      "  [6] at\n",
      "    @ C:\\Users\\jpollacco.local\\.julia\\packages\\DimensionalData\\TpU10\\src\\Lookups\\selector.jl:157 [inlined]\n",
      "  [7] _selectindices\n",
      "    @ C:\\Users\\jpollacco.local\\.julia\\packages\\DimensionalData\\TpU10\\src\\Lookups\\selector.jl:1099 [inlined]\n",
      "  [8] #selectindices#3\n",
      "    @ C:\\Users\\jpollacco.local\\.julia\\packages\\Rasters\\5ShjB\\src\\lookup.jl:94 [inlined]\n",
      "  [9] selectindices\n",
      "    @ C:\\Users\\jpollacco.local\\.julia\\packages\\Rasters\\5ShjB\\src\\lookup.jl:92 [inlined]\n",
      " [10] #68\n",
      "    @ .\\none:0 [inlined]\n",
      " [11] iterate\n",
      "    @ .\\generator.jl:48 [inlined]\n",
      " [12] collect_to!(dest::Vector{Int64}, itr::Base.Generator{Projected{Float64, SubArray{Float64, 1, Vector{Float64}, Tuple{UnitRange{Int64}}, true}, DimensionalData.Dimensions.Lookups.ForwardOrdered, DimensionalData.Dimensions.Lookups.Regular{Float64}, DimensionalData.Dimensions.Lookups.Intervals{DimensionalData.Dimensions.Lookups.Center}, DimensionalData.Dimensions.Lookups.NoMetadata, WellKnownText{GeoFormatTypes.CRS}, Nothing, X{Colon}}, DimensionalData.Dimensions.Lookups.var\"#68#69\"{@Kwargs{}, Projected{Float64, Vector{Float64}, DimensionalData.Dimensions.Lookups.ForwardOrdered, DimensionalData.Dimensions.Lookups.Regular{Float64}, DimensionalData.Dimensions.Lookups.Intervals{DimensionalData.Dimensions.Lookups.Center}, DimensionalData.Dimensions.Lookups.NoMetadata, WellKnownText{GeoFormatTypes.CRS}, Nothing, X{Colon}}, At{Projected{Float64, SubArray{Float64, 1, Vector{Float64}, Tuple{UnitRange{Int64}}, true}, DimensionalData.Dimensions.Lookups.ForwardOrdered, DimensionalData.Dimensions.Lookups.Regular{Float64}, DimensionalData.Dimensions.Lookups.Intervals{DimensionalData.Dimensions.Lookups.Center}, DimensionalData.Dimensions.Lookups.NoMetadata, WellKnownText{GeoFormatTypes.CRS}, Nothing, X{Colon}}, Float64, Nothing}}}, offs::Int64, st::Tuple{Base.OneTo{Int64}, Int64})\n",
      "    @ Base .\\array.jl:849\n",
      " [13] collect_to_with_first!\n",
      "    @ .\\array.jl:827 [inlined]\n",
      " [14] collect(itr::Base.Generator{Projected{Float64, SubArray{Float64, 1, Vector{Float64}, Tuple{UnitRange{Int64}}, true}, DimensionalData.Dimensions.Lookups.ForwardOrdered, DimensionalData.Dimensions.Lookups.Regular{Float64}, DimensionalData.Dimensions.Lookups.Intervals{DimensionalData.Dimensions.Lookups.Center}, DimensionalData.Dimensions.Lookups.NoMetadata, WellKnownText{GeoFormatTypes.CRS}, Nothing, X{Colon}}, DimensionalData.Dimensions.Lookups.var\"#68#69\"{@Kwargs{}, Projected{Float64, Vector{Float64}, DimensionalData.Dimensions.Lookups.ForwardOrdered, DimensionalData.Dimensions.Lookups.Regular{Float64}, DimensionalData.Dimensions.Lookups.Intervals{DimensionalData.Dimensions.Lookups.Center}, DimensionalData.Dimensions.Lookups.NoMetadata, WellKnownText{GeoFormatTypes.CRS}, Nothing, X{Colon}}, At{Projected{Float64, SubArray{Float64, 1, Vector{Float64}, Tuple{UnitRange{Int64}}, true}, DimensionalData.Dimensions.Lookups.ForwardOrdered, DimensionalData.Dimensions.Lookups.Regular{Float64}, DimensionalData.Dimensions.Lookups.Intervals{DimensionalData.Dimensions.Lookups.Center}, DimensionalData.Dimensions.Lookups.NoMetadata, WellKnownText{GeoFormatTypes.CRS}, Nothing, X{Colon}}, Float64, Nothing}}})\n",
      "    @ Base .\\array.jl:801\n",
      " [15] _selectvec\n",
      "    @ C:\\Users\\jpollacco.local\\.julia\\packages\\DimensionalData\\TpU10\\src\\Lookups\\selector.jl:367 [inlined]\n",
      " [16] selectindices\n",
      "    @ C:\\Users\\jpollacco.local\\.julia\\packages\\Rasters\\5ShjB\\src\\lookup.jl:96 [inlined]\n",
      " [17] _dims2indices\n",
      "    @ C:\\Users\\jpollacco.local\\.julia\\packages\\DimensionalData\\TpU10\\src\\Dimensions\\indexing.jl:144 [inlined]\n",
      " [18] _dims2indices\n",
      "    @ C:\\Users\\jpollacco.local\\.julia\\packages\\DimensionalData\\TpU10\\src\\Dimensions\\indexing.jl:136 [inlined]\n",
      " [19] dims2indices\n",
      "    @ C:\\Users\\jpollacco.local\\.julia\\packages\\DimensionalData\\TpU10\\src\\Dimensions\\indexing.jl:31 [inlined]\n",
      " [20] macro expansion\n",
      "    @ C:\\Users\\jpollacco.local\\.julia\\packages\\DimensionalData\\TpU10\\src\\Dimensions\\indexing.jl:89 [inlined]\n",
      " [21] split_alignments\n",
      "    @ C:\\Users\\jpollacco.local\\.julia\\packages\\DimensionalData\\TpU10\\src\\Dimensions\\indexing.jl:89 [inlined]\n",
      " [22] split_alignments\n",
      "    @ C:\\Users\\jpollacco.local\\.julia\\packages\\DimensionalData\\TpU10\\src\\Dimensions\\indexing.jl:87 [inlined]\n",
      " [23] dims2indices\n",
      "    @ C:\\Users\\jpollacco.local\\.julia\\packages\\DimensionalData\\TpU10\\src\\Dimensions\\indexing.jl:56 [inlined]\n",
      " [24] dims2indices\n",
      "    @ C:\\Users\\jpollacco.local\\.julia\\packages\\DimensionalData\\TpU10\\src\\Dimensions\\indexing.jl:32 [inlined]\n",
      " [25] _dim_view\n",
      "    @ C:\\Users\\jpollacco.local\\.julia\\packages\\DimensionalData\\TpU10\\src\\array\\indexing.jl:106 [inlined]\n",
      " [26] view(::Raster{Float64, 2, Tuple{X{Projected{Float64, Vector{Float64}, DimensionalData.Dimensions.Lookups.ForwardOrdered, DimensionalData.Dimensions.Lookups.Regular{Float64}, DimensionalData.Dimensions.Lookups.Intervals{DimensionalData.Dimensions.Lookups.Center}, DimensionalData.Dimensions.Lookups.NoMetadata, WellKnownText{GeoFormatTypes.CRS}, Nothing, X{Colon}}}, Y{Projected{Float64, Vector{Float64}, DimensionalData.Dimensions.Lookups.ReverseOrdered, DimensionalData.Dimensions.Lookups.Regular{Float64}, DimensionalData.Dimensions.Lookups.Intervals{DimensionalData.Dimensions.Lookups.Center}, DimensionalData.Dimensions.Lookups.NoMetadata, WellKnownText{GeoFormatTypes.CRS}, Nothing, Y{Colon}}}}, Tuple{Band{DimensionalData.Dimensions.Lookups.Categorical{Int64, UnitRange{Int64}, DimensionalData.Dimensions.Lookups.ForwardOrdered, DimensionalData.Dimensions.Lookups.NoMetadata}}}, Matrix{Float64}, Symbol, DimensionalData.Dimensions.Lookups.Metadata{Rasters.GDALsource, Dict{String, Any}}, Float64}, ::Y{At{Projected{Float64, SubArray{Float64, 1, Vector{Float64}, Tuple{UnitRange{Int64}}, true}, DimensionalData.Dimensions.Lookups.ReverseOrdered, DimensionalData.Dimensions.Lookups.Regular{Float64}, DimensionalData.Dimensions.Lookups.Intervals{DimensionalData.Dimensions.Lookups.Center}, DimensionalData.Dimensions.Lookups.NoMetadata, WellKnownText{GeoFormatTypes.CRS}, Nothing, Y{Colon}}, Float64, Nothing}}, ::X{At{Projected{Float64, SubArray{Float64, 1, Vector{Float64}, Tuple{UnitRange{Int64}}, true}, DimensionalData.Dimensions.Lookups.ForwardOrdered, DimensionalData.Dimensions.Lookups.Regular{Float64}, DimensionalData.Dimensions.Lookups.Intervals{DimensionalData.Dimensions.Lookups.Center}, DimensionalData.Dimensions.Lookups.NoMetadata, WellKnownText{GeoFormatTypes.CRS}, Nothing, X{Colon}}, Float64, Nothing}})\n",
      "    @ DimensionalData C:\\Users\\jpollacco.local\\.julia\\packages\\DimensionalData\\TpU10\\src\\array\\indexing.jl:81\n",
      " [27] merge_and_index(f::Function, A::Raster{Float64, 2, Tuple{X{Projected{Float64, Vector{Float64}, DimensionalData.Dimensions.Lookups.ForwardOrdered, DimensionalData.Dimensions.Lookups.Regular{Float64}, DimensionalData.Dimensions.Lookups.Intervals{DimensionalData.Dimensions.Lookups.Center}, DimensionalData.Dimensions.Lookups.NoMetadata, WellKnownText{GeoFormatTypes.CRS}, Nothing, X{Colon}}}, Y{Projected{Float64, Vector{Float64}, DimensionalData.Dimensions.Lookups.ReverseOrdered, DimensionalData.Dimensions.Lookups.Regular{Float64}, DimensionalData.Dimensions.Lookups.Intervals{DimensionalData.Dimensions.Lookups.Center}, DimensionalData.Dimensions.Lookups.NoMetadata, WellKnownText{GeoFormatTypes.CRS}, Nothing, Y{Colon}}}}, Tuple{Band{DimensionalData.Dimensions.Lookups.Categorical{Int64, UnitRange{Int64}, DimensionalData.Dimensions.Lookups.ForwardOrdered, DimensionalData.Dimensions.Lookups.NoMetadata}}}, Matrix{Float64}, Symbol, DimensionalData.Dimensions.Lookups.Metadata{Rasters.GDALsource, Dict{String, Any}}, Float64}, dims::Tuple{DimSelectors{Tuple{X{At{Float64, Float64, Nothing}}, Y{At{Float64, Float64, Nothing}}}, 2, Tuple{X{Projected{Float64, SubArray{Float64, 1, Vector{Float64}, Tuple{UnitRange{Int64}}, true}, DimensionalData.Dimensions.Lookups.ForwardOrdered, DimensionalData.Dimensions.Lookups.Regular{Float64}, DimensionalData.Dimensions.Lookups.Intervals{DimensionalData.Dimensions.Lookups.Center}, DimensionalData.Dimensions.Lookups.NoMetadata, WellKnownText{GeoFormatTypes.CRS}, Nothing, X{Colon}}}, Y{Projected{Float64, SubArray{Float64, 1, Vector{Float64}, Tuple{UnitRange{Int64}}, true}, DimensionalData.Dimensions.Lookups.ReverseOrdered, DimensionalData.Dimensions.Lookups.Regular{Float64}, DimensionalData.Dimensions.Lookups.Intervals{DimensionalData.Dimensions.Lookups.Center}, DimensionalData.Dimensions.Lookups.NoMetadata, WellKnownText{GeoFormatTypes.CRS}, Nothing, Y{Colon}}}}, Tuple{At{Nothing, Float64, Nothing}, At{Nothing, Float64, Nothing}}}})\n",
      "    @ DimensionalData C:\\Users\\jpollacco.local\\.julia\\packages\\DimensionalData\\TpU10\\src\\array\\indexing.jl:149\n",
      " [28] _dim_view\n",
      "    @ C:\\Users\\jpollacco.local\\.julia\\packages\\DimensionalData\\TpU10\\src\\array\\indexing.jl:115 [inlined]\n",
      " [29] view\n",
      "    @ C:\\Users\\jpollacco.local\\.julia\\packages\\DimensionalData\\TpU10\\src\\array\\indexing.jl:91 [inlined]\n",
      " [30] _count_region!(count::Raster{UInt8, 2, Tuple{X{Projected{Float64, Vector{Float64}, DimensionalData.Dimensions.Lookups.ForwardOrdered, DimensionalData.Dimensions.Lookups.Regular{Float64}, DimensionalData.Dimensions.Lookups.Intervals{DimensionalData.Dimensions.Lookups.Center}, DimensionalData.Dimensions.Lookups.NoMetadata, WellKnownText{GeoFormatTypes.CRS}, Nothing, X{Colon}}}, Y{Projected{Float64, Vector{Float64}, DimensionalData.Dimensions.Lookups.ReverseOrdered, DimensionalData.Dimensions.Lookups.Regular{Float64}, DimensionalData.Dimensions.Lookups.Intervals{DimensionalData.Dimensions.Lookups.Center}, DimensionalData.Dimensions.Lookups.NoMetadata, WellKnownText{GeoFormatTypes.CRS}, Nothing, Y{Colon}}}}, Tuple{}, Matrix{UInt8}, Symbol, DimensionalData.Dimensions.Lookups.NoMetadata, UInt8}, region::Raster{Float64, 2, Tuple{X{Projected{Float64, Vector{Float64}, DimensionalData.Dimensions.Lookups.ForwardOrdered, DimensionalData.Dimensions.Lookups.Regular{Float64}, DimensionalData.Dimensions.Lookups.Intervals{DimensionalData.Dimensions.Lookups.Center}, DimensionalData.Dimensions.Lookups.NoMetadata, WellKnownText{GeoFormatTypes.CRS}, Nothing, X{Colon}}}, Y{Projected{Float64, Vector{Float64}, DimensionalData.Dimensions.Lookups.ReverseOrdered, DimensionalData.Dimensions.Lookups.Regular{Float64}, DimensionalData.Dimensions.Lookups.Intervals{DimensionalData.Dimensions.Lookups.Center}, DimensionalData.Dimensions.Lookups.NoMetadata, WellKnownText{GeoFormatTypes.CRS}, Nothing, Y{Colon}}}}, Tuple{Band{DimensionalData.Dimensions.Lookups.Categorical{Int64, UnitRange{Int64}, DimensionalData.Dimensions.Lookups.ForwardOrdered, DimensionalData.Dimensions.Lookups.NoMetadata}}}, Matrix{Float64}, Symbol, DimensionalData.Dimensions.Lookups.Metadata{Rasters.GDALsource, Dict{String, Any}}, Float64}; kw::@Kwargs{atol::Nothing, progress::Bool})\n",
      "    @ Rasters C:\\Users\\jpollacco.local\\.julia\\packages\\Rasters\\5ShjB\\src\\methods\\mosaic.jl:353\n",
      " [31] _count_region!\n",
      "    @ C:\\Users\\jpollacco.local\\.julia\\packages\\Rasters\\5ShjB\\src\\methods\\mosaic.jl:341 [inlined]\n",
      " [32] _mosaic_mean!(dest::Raster{Float64, 2, Tuple{X{Projected{Float64, Vector{Float64}, DimensionalData.Dimensions.Lookups.ForwardOrdered, DimensionalData.Dimensions.Lookups.Regular{Float64}, DimensionalData.Dimensions.Lookups.Intervals{DimensionalData.Dimensions.Lookups.Center}, DimensionalData.Dimensions.Lookups.NoMetadata, WellKnownText{GeoFormatTypes.CRS}, Nothing, X{Colon}}}, Y{Projected{Float64, Vector{Float64}, DimensionalData.Dimensions.Lookups.ReverseOrdered, DimensionalData.Dimensions.Lookups.Regular{Float64}, DimensionalData.Dimensions.Lookups.Intervals{DimensionalData.Dimensions.Lookups.Center}, DimensionalData.Dimensions.Lookups.NoMetadata, WellKnownText{GeoFormatTypes.CRS}, Nothing, Y{Colon}}}}, Tuple{}, Matrix{Float64}, Symbol, DimensionalData.Dimensions.Lookups.NoMetadata, Float64}, ::Type{UInt8}, regions::Vector{Raster{Float64, 2, Tuple{X{Projected{Float64, Vector{Float64}, DimensionalData.Dimensions.Lookups.ForwardOrdered, DimensionalData.Dimensions.Lookups.Regular{Float64}, DimensionalData.Dimensions.Lookups.Intervals{DimensionalData.Dimensions.Lookups.Center}, DimensionalData.Dimensions.Lookups.NoMetadata, WellKnownText{GeoFormatTypes.CRS}, Nothing, X{Colon}}}, Y{Projected{Float64, Vector{Float64}, DimensionalData.Dimensions.Lookups.ReverseOrdered, DimensionalData.Dimensions.Lookups.Regular{Float64}, DimensionalData.Dimensions.Lookups.Intervals{DimensionalData.Dimensions.Lookups.Center}, DimensionalData.Dimensions.Lookups.NoMetadata, WellKnownText{GeoFormatTypes.CRS}, Nothing, Y{Colon}}}}, Tuple{Band{DimensionalData.Dimensions.Lookups.Categorical{Int64, UnitRange{Int64}, DimensionalData.Dimensions.Lookups.ForwardOrdered, DimensionalData.Dimensions.Lookups.NoMetadata}}}, Matrix{Float64}, Symbol, DimensionalData.Dimensions.Lookups.Metadata{Rasters.GDALsource, Dict{String, Any}}, Float64}}; read::Bool, kw::@Kwargs{atol::Nothing, progress::Bool})\n",
      "    @ Rasters C:\\Users\\jpollacco.local\\.julia\\packages\\Rasters\\5ShjB\\src\\methods\\mosaic.jl:300\n",
      " [33] _mosaic_mean!\n",
      "    @ C:\\Users\\jpollacco.local\\.julia\\packages\\Rasters\\5ShjB\\src\\methods\\mosaic.jl:283 [inlined]\n",
      " [34] #_mosaic!#923\n",
      "    @ C:\\Users\\jpollacco.local\\.julia\\packages\\Rasters\\5ShjB\\src\\methods\\mosaic.jl:189 [inlined]\n",
      " [35] mosaic!(f::Function, dest::Raster{Float64, 2, Tuple{X{Projected{Float64, StepRangeLen{Float64, Base.TwicePrecision{Float64}, Base.TwicePrecision{Float64}, Int64}, DimensionalData.Dimensions.Lookups.ForwardOrdered, DimensionalData.Dimensions.Lookups.Regular{Float64}, DimensionalData.Dimensions.Lookups.Intervals{DimensionalData.Dimensions.Lookups.Start}, DimensionalData.Dimensions.Lookups.NoMetadata, WellKnownText{GeoFormatTypes.CRS}, Nothing, X{Colon}}}, Y{Projected{Float64, StepRangeLen{Float64, Base.TwicePrecision{Float64}, Base.TwicePrecision{Float64}, Int64}, DimensionalData.Dimensions.Lookups.ReverseOrdered, DimensionalData.Dimensions.Lookups.Regular{Float64}, DimensionalData.Dimensions.Lookups.Intervals{DimensionalData.Dimensions.Lookups.Start}, DimensionalData.Dimensions.Lookups.NoMetadata, WellKnownText{GeoFormatTypes.CRS}, Nothing, Y{Colon}}}}, Tuple{}, Matrix{Float64}, Symbol, DimensionalData.Dimensions.Lookups.NoMetadata, Float64}, regions::Vector{Any}; op::Rasters.NoKW, kw::@Kwargs{atol::Nothing, progress::Bool, read::Bool})\n",
      "    @ Rasters C:\\Users\\jpollacco.local\\.julia\\packages\\Rasters\\5ShjB\\src\\methods\\mosaic.jl:180\n",
      " [36] mosaic!\n",
      "    @ C:\\Users\\jpollacco.local\\.julia\\packages\\Rasters\\5ShjB\\src\\methods\\mosaic.jl:169 [inlined]\n",
      " [37] #911\n",
      "    @ C:\\Users\\jpollacco.local\\.julia\\packages\\Rasters\\5ShjB\\src\\methods\\mosaic.jl:125 [inlined]\n",
      " [38] create(filename::Nothing, ::Type{Float64}, dims::Tuple{X{Projected{Float64, StepRangeLen{Float64, Base.TwicePrecision{Float64}, Base.TwicePrecision{Float64}, Int64}, DimensionalData.Dimensions.Lookups.ForwardOrdered, DimensionalData.Dimensions.Lookups.Regular{Float64}, DimensionalData.Dimensions.Lookups.Intervals{DimensionalData.Dimensions.Lookups.Start}, DimensionalData.Dimensions.Lookups.NoMetadata, WellKnownText{GeoFormatTypes.CRS}, Nothing, X{Colon}}}, Y{Projected{Float64, StepRangeLen{Float64, Base.TwicePrecision{Float64}, Base.TwicePrecision{Float64}, Int64}, DimensionalData.Dimensions.Lookups.ReverseOrdered, DimensionalData.Dimensions.Lookups.Regular{Float64}, DimensionalData.Dimensions.Lookups.Intervals{DimensionalData.Dimensions.Lookups.Start}, DimensionalData.Dimensions.Lookups.NoMetadata, WellKnownText{GeoFormatTypes.CRS}, Nothing, Y{Colon}}}}; missingval::Pair{Float64, Float64}, fill::Float64, parent::Rasters.NoKW, verbose::Bool, f::Rasters.var\"#911#912\"{Nothing, Rasters.NoKW, Bool, Bool, typeof(mean), Vector{Any}}, suffix::Rasters.NoKW, force::Bool, chunks::Rasters.NoKW, driver::Rasters.NoKW, options::Rasters.NoKW, kw::@Kwargs{name::Symbol})\n",
      "    @ Rasters C:\\Users\\jpollacco.local\\.julia\\packages\\Rasters\\5ShjB\\src\\create.jl:234\n",
      " [39] create(::Function, ::Nothing, ::Vararg{Any}; kw::@Kwargs{name::Symbol, fill::Float64, missingval::Pair{Float64, Float64}})\n",
      "    @ Rasters C:\\Users\\jpollacco.local\\.julia\\packages\\Rasters\\5ShjB\\src\\create.jl:129\n",
      " [40] create\n",
      "    @ C:\\Users\\jpollacco.local\\.julia\\packages\\Rasters\\5ShjB\\src\\create.jl:129 [inlined]\n",
      " [41] _mosaic(f::typeof(mean), R1::Raster{Float64, 2, Tuple{X{Projected{Float64, StepRangeLen{Float64, Base.TwicePrecision{Float64}, Base.TwicePrecision{Float64}, Int64}, DimensionalData.Dimensions.Lookups.ForwardOrdered, DimensionalData.Dimensions.Lookups.Regular{Float64}, DimensionalData.Dimensions.Lookups.Intervals{DimensionalData.Dimensions.Lookups.Start}, DimensionalData.Dimensions.Lookups.NoMetadata, WellKnownText{GeoFormatTypes.CRS}, Nothing, X{Colon}}}, Y{Projected{Float64, StepRangeLen{Float64, Base.TwicePrecision{Float64}, Base.TwicePrecision{Float64}, Int64}, DimensionalData.Dimensions.Lookups.ReverseOrdered, DimensionalData.Dimensions.Lookups.Regular{Float64}, DimensionalData.Dimensions.Lookups.Intervals{DimensionalData.Dimensions.Lookups.Start}, DimensionalData.Dimensions.Lookups.NoMetadata, WellKnownText{GeoFormatTypes.CRS}, Nothing, Y{Colon}}}}, Tuple{Band{DimensionalData.Dimensions.Lookups.Categorical{Int64, UnitRange{Int64}, DimensionalData.Dimensions.Lookups.ForwardOrdered, DimensionalData.Dimensions.Lookups.NoMetadata}}}, Matrix{Float64}, Symbol, DimensionalData.Dimensions.Lookups.Metadata{Rasters.GDALsource, Dict{String, Any}}, Float64}, regions::Vector{Any}; to::Nothing, filename::Nothing, atol::Nothing, missingval::Float64, op::Rasters.NoKW, progress::Bool, read::Bool, kw::@Kwargs{})\n",
      "    @ Rasters C:\\Users\\jpollacco.local\\.julia\\packages\\Rasters\\5ShjB\\src\\methods\\mosaic.jl:119\n",
      " [42] mosaic(f::Function, regions::Vector{Any}; kw::@Kwargs{missingval::Float64, progress::Bool})\n",
      "    @ Rasters C:\\Users\\jpollacco.local\\.julia\\packages\\Rasters\\5ShjB\\src\\methods\\mosaic.jl:81\n",
      " [43] top-level scope\n",
      "    @ d:\\JOE\\MAIN\\MODELS\\WFLOW\\WflowDataJoe\\WflowRaster.jl\\src\\jl_notebook_cell_df34fa98e69747e1a8f8a730347b8e2f_W2sZmlsZQ==.jl:1"
     ]
    }
   ],
   "source": [
    "Mosaic = Rasters.mosaic(Statistics.mean, Maps; missingval=NaN, progress=true)\n"
   ]
  },
  {
   "cell_type": "code",
   "execution_count": 5,
   "id": "59a97940",
   "metadata": {},
   "outputs": [
    {
     "data": {
      "text/plain": [
       "\u001b[90m┌ \u001b[39m\u001b[38;5;209m21055\u001b[39m×\u001b[38;5;32m28024\u001b[39m Raster{Float64, 2}\u001b[90m ┐\u001b[39m\n",
       "\u001b[90m├────────────────────────────────┴─────────────────────────────────────── dims ┐\u001b[39m\n",
       "  \u001b[38;5;209m↓ \u001b[39m\u001b[38;5;209mX\u001b[39m Projected{Float64} \u001b[38;5;209m-10566.616338923981:20.0:410513.383661076\u001b[39m \u001b[38;5;244mForwardOrdered\u001b[39m \u001b[38;5;244mRegular\u001b[39m \u001b[38;5;244mIntervals{Start}\u001b[39m,\n",
       "  \u001b[38;5;32m→ \u001b[39m\u001b[38;5;32mY\u001b[39m Projected{Float64} \u001b[38;5;32m532331.122395666:-20.0:-28128.877604334033\u001b[39m \u001b[38;5;244mReverseOrdered\u001b[39m \u001b[38;5;244mRegular\u001b[39m \u001b[38;5;244mIntervals{Start}\u001b[39m\n",
       "\u001b[90m├──────────────────────────────────────────────────────────────────── metadata ┤\u001b[39m\n",
       "  Metadata{Rasters.GDALsource}\u001b[90m of \u001b[39mDict{String, Any} with 1 entry:\n",
       "  \"filepath\" => \"/vsimem/tmp\"\n",
       "\u001b[90m├────────────────────────────────────────────────────────────────────── raster ┤\u001b[39m\n",
       "\u001b[90m  missingval: \u001b[39mNaN\n",
       "\u001b[90m  extent: \u001b[39mExtent(X = (-10566.616338923981, 410533.383661076), Y = (-28128.877604334033, 532351.122395666))\n",
       "\u001b[90m  crs: \u001b[39mPROJCS[\"TM65 / Irish Grid\",GEOGCS[\"TM65\",DATUM[\"TM65\",SPHEROID[\"Airy...\n",
       "\u001b[90m└──────────────────────────────────────────────────────────────────────────────┘\u001b[39m\n",
       "      \u001b[38;5;209m↓\u001b[39m \u001b[38;5;32m→\u001b[39m          \u001b[38;5;32m5.32331e5\u001b[39m    \u001b[38;5;32m5.32311e5\u001b[39m  …  \u001b[38;5;32m-28088.9\u001b[39m  \u001b[38;5;32m-28108.9\u001b[39m  \u001b[38;5;32m-28128.9\u001b[39m\n",
       " \u001b[38;5;209m-10566.6\u001b[39m        NaN          NaN                NaN       NaN       NaN\n",
       " \u001b[38;5;209m-10546.6\u001b[39m        NaN          NaN                NaN       NaN       NaN\n",
       "      ⋮                                    ⋱                      \n",
       "      \u001b[38;5;209m4.10493e5\u001b[39m  NaN          NaN                NaN       NaN       NaN\n",
       "      \u001b[38;5;209m4.10513e5\u001b[39m  NaN          NaN          …     NaN       NaN       NaN"
      ]
     },
     "metadata": {},
     "output_type": "display_data"
    }
   ],
   "source": [
    "Param_Crs_GeoFormat = GeoFormatTypes.convert(WellKnownText, EPSG(Param_Crs))\n",
    "\n",
    "Mosaic_Resample = Rasters.resample(Mosaic; res=ΔX₂, method=ResampleMethod₂, crs=Param_Crs_GeoFormat)\n",
    "#  Mosaic_Resample = Rasters.replace_missing(Mosaic_Resample, missingval=NaN)\n"
   ]
  },
  {
   "cell_type": "code",
   "execution_count": 6,
   "id": "afee4cf6",
   "metadata": {},
   "outputs": [
    {
     "name": "stderr",
     "output_type": "stream",
     "text": [
      "WARNING: replacing module geoRaster.\n"
     ]
    },
    {
     "name": "stdout",
     "output_type": "stream",
     "text": [
      "Param_Crs = 29902\n",
      "ΔX = 20.0\n",
      "ΔY = -20.0\n",
      "N_Width  = 21055\n",
      "N_Height = 28024\n",
      "Coord_X_Left = -10566.616338923981, Coord_X_Right = 410513.383661076\n",
      "Coord_Y_Top = 532331.122395666, Coord_Y_Bottom = -28128.877604334033\n"
     ]
    },
    {
     "ename": "UndefVarError",
     "evalue": "UndefVarError: `DEM_CORRECT_BOARDERS!` not defined in `Main.geoRaster`\nSuggestion: check for spelling errors or missing imports.",
     "output_type": "error",
     "traceback": [
      "UndefVarError: `DEM_CORRECT_BOARDERS!` not defined in `Main.geoRaster`\n",
      "Suggestion: check for spelling errors or missing imports.\n",
      "\n",
      "Stacktrace:\n",
      " [1] getproperty(x::Module, f::Symbol)\n",
      "   @ Base .\\Base.jl:42\n",
      " [2] top-level scope\n",
      "   @ d:\\JOE\\MAIN\\MODELS\\WFLOW\\WflowDataJoe\\WflowRaster.jl\\src\\jl_notebook_cell_df34fa98e69747e1a8f8a730347b8e2f_W4sZmlsZQ==.jl:8"
     ]
    }
   ],
   "source": [
    "include(\"Julia//GeoRaster.jl\")\n",
    "\n",
    "# Getting the metadata\n",
    "\tMetadatas = geoRaster.RASTER_METADATA(Mosaic_Resample; Verbose=true)\n",
    "\n",
    "\tLongitude, Latitude = Rasters.X(Metadatas.Coord_X_Left: Metadatas.ΔX: Metadatas.Coord_X_Right, crs=Metadatas.Crs_GeoFormat), Rasters.Y(Metadatas.Coord_Y_Top: Metadatas.ΔY: Metadatas.Coord_Y_Bottom, crs=Metadatas.Crs_GeoFormat)\n",
    "\n",
    "\tMosaic_Resample, Mosaic_Boarder₀ = geoRaster.DEM_CORRECT_BOARDERS!(; Dem=Mosaic_Resample, Latitude, Longitude, Crs=Metadatas.Crs_GeoFormat, iiParam_GaugeCoordinate=Param_GaugeCoordinate)\n",
    "\n",
    "\tMosaic_Boarder = Rasters.replace_missing(Mosaic_Boarder₀, missingval=NaN)\n"
   ]
  },
  {
   "cell_type": "code",
   "execution_count": 7,
   "id": "58410d8d",
   "metadata": {},
   "outputs": [
    {
     "ename": "UndefVarError",
     "evalue": "UndefVarError: `Mosaic_Boarder` not defined in `Main`\nSuggestion: check for spelling errors or missing imports.",
     "output_type": "error",
     "traceback": [
      "UndefVarError: `Mosaic_Boarder` not defined in `Main`\n",
      "Suggestion: check for spelling errors or missing imports.\n",
      "\n",
      "Stacktrace:\n",
      " [1] top-level scope\n",
      "   @ d:\\JOE\\MAIN\\MODELS\\WFLOW\\WflowDataJoe\\WflowRaster.jl\\src\\jl_notebook_cell_df34fa98e69747e1a8f8a730347b8e2f_W5sZmlsZQ==.jl:2"
     ]
    }
   ],
   "source": [
    "\tPath_OutputJulia_Dem = joinpath(Path_Output, \"BOARDERS_Ireland_FABDEM.tiff\")\n",
    "\tRasters.write(Path_OutputJulia_Dem, Mosaic_Boarder; ext=\".tiff\", missingval= NaN, force=true, verbose=true)\n"
   ]
  },
  {
   "cell_type": "code",
   "execution_count": 8,
   "id": "31ce1adc",
   "metadata": {},
   "outputs": [
    {
     "data": {
      "text/plain": [
       "\"C:\\\\OSGeo4W\\\\Gis\\\\FABDEM\\\\IRELAND_OUTPUT\\\\DEM_Ireland_FABDEM2.tiff\""
      ]
     },
     "metadata": {},
     "output_type": "display_data"
    }
   ],
   "source": [
    "\n",
    "# Writting the output\n",
    "\tPath_OutputJulia_Dem = joinpath(Path_Output, \"DEM_Ireland_FABDEM2.tiff\")\n",
    "\tRasters.write(Path_OutputJulia_Dem, Mosaic_Resample; ext=\".tiff\", missingval= NaN, force=true, verbose=true)\n"
   ]
  },
  {
   "cell_type": "code",
   "execution_count": 9,
   "id": "b4d60edb",
   "metadata": {},
   "outputs": [],
   "source": [
    "# geoPlot.HEATMAP(;🎏_Colorbar=true, Input= Mosaic, Title=string(\"iiFile\"), Label=\"True [m]\")\n",
    "# using GLMakie\n",
    "# fig = GLMakie.Figure()\n",
    "# ga = Axis(\n",
    "#     fig[1, 1] # any cell of the figure's layout\n",
    "#     # dest = \"+proj=wintri\", # the CRS in which you want to plot\n",
    "# )\n",
    "# # lines!(Maps, GeoMakie.coastlines()) # plot coastlines from Natural Earth as a reference\n",
    "# # # You can plot your data the same way you would in Makie\n",
    "# GLMakie.heatmap!(ga, Mosaic)\n",
    "# fig\n"
   ]
  }
 ],
 "metadata": {
  "kernelspec": {
   "display_name": "Julia 1.11.6",
   "language": "julia",
   "name": "julia-1.11"
  },
  "language_info": {
   "file_extension": ".jl",
   "mimetype": "application/julia",
   "name": "julia",
   "version": "1.11.6"
  }
 },
 "nbformat": 4,
 "nbformat_minor": 5
}
