{
 "cells": [
  {
   "cell_type": "code",
   "execution_count": 11,
   "id": "4c434c76",
   "metadata": {},
   "outputs": [
    {
     "name": "stderr",
     "output_type": "stream",
     "text": [
      "WARNING: replacing module geoRaster.\n",
      "WARNING: replacing module geoNetcdf.\n",
      "WARNING: replacing module geoPlot.\n"
     ]
    },
    {
     "data": {
      "text/plain": [
       "26-element Vector{String}:\n",
       " \"N51W008_FABDEM_V1-0.tif\"\n",
       " \"N51W009_FABDEM_V1-0.tif\"\n",
       " \"N51W010_FABDEM_V1-0.tif\"\n",
       " \"N51W011_FABDEM_V1-0.tif\"\n",
       " \"N52W006_FABDEM_V1-0.tif\"\n",
       " \"N52W007_FABDEM_V1-0.tif\"\n",
       " \"N52W008_FABDEM_V1-0.tif\"\n",
       " \"N52W009_FABDEM_V1-0.tif\"\n",
       " \"N52W010_FABDEM_V1-0.tif\"\n",
       " \"N52W011_FABDEM_V1-0.tif\"\n",
       " ⋮\n",
       " \"N54W007_FABDEM_V1-0.tif\"\n",
       " \"N54W008_FABDEM_V1-0.tif\"\n",
       " \"N54W009_FABDEM_V1-0.tif\"\n",
       " \"N54W010_FABDEM_V1-0.tif\"\n",
       " \"N54W011_FABDEM_V1-0.tif\"\n",
       " \"N55W006_FABDEM_V1-0.tif\"\n",
       " \"N55W007_FABDEM_V1-0.tif\"\n",
       " \"N55W008_FABDEM_V1-0.tif\"\n",
       " \"N55W009_FABDEM_V1-0.tif\""
      ]
     },
     "metadata": {},
     "output_type": "display_data"
    }
   ],
   "source": [
    "using  Revise, Rasters, GeoFormatTypes, GeoTIFF, ArchGDAL\n",
    "using Statistics\n",
    "\n",
    "include(\"Julia//Parameters.jl\")\n",
    "include(\"Julia//GeoRaster.jl\")\n",
    "include(\"Julia//GeoNetcdf.jl\")\n",
    "include(\"Julia//PlotParameter.jl\")\n",
    "include(\"Julia//GeoPlot.jl\")\n",
    "\n",
    "Path_Home = raw\"C:\\OSGeo4W\\Gis\\FABDEM\\IRELAND_MOSAIC\"\n",
    "Path_Output = raw\"C:\\OSGeo4W\\Gis\\FABDEM\\IRELAND_OUTPUT\"\n",
    "Files =readdir(Path_Home)\n"
   ]
  },
  {
   "cell_type": "code",
   "execution_count": null,
   "id": "1a1fb3d5",
   "metadata": {},
   "outputs": [],
   "source": [
    "Maps = []\n",
    "for iiFile in Files\n",
    "    Dem_Map₀ = Rasters.Raster(joinpath(Path_Home, iiFile))\n",
    "    Dem_Map  = Rasters.replace_missing(Dem_Map₀, missingval=NaN)\n",
    "    Maps     = push!(Maps, Dem_Map)\n",
    "end\n"
   ]
  },
  {
   "cell_type": "code",
   "execution_count": 13,
   "id": "d1d5fc14",
   "metadata": {},
   "outputs": [
    {
     "name": "stderr",
     "output_type": "stream",
     "text": [
      "\u001b[34mMosaicing 26 regions with first... 100%|██████████████████████████████████████████████████| Time: 0:00:00\u001b[39m\u001b[K\n"
     ]
    },
    {
     "data": {
      "text/plain": [
       "\u001b[90m┌ \u001b[39m\u001b[38;5;209m21600\u001b[39m×\u001b[38;5;32m18000\u001b[39m Raster{Float64, 2}\u001b[90m ┐\u001b[39m\n",
       "\u001b[90m├────────────────────────────────┴─────────────────────────────────────── dims ┐\u001b[39m\n",
       "  \u001b[38;5;209m↓ \u001b[39m\u001b[38;5;209mX\u001b[39m Projected{Float64} \u001b[38;5;209m-11.000208333333333:0.0002777777777777778:-5.000486111111111\u001b[39m \u001b[38;5;244mForwardOrdered\u001b[39m \u001b[38;5;244mRegular\u001b[39m \u001b[38;5;244mIntervals{Start}\u001b[39m,\n",
       "  \u001b[38;5;32m→ \u001b[39m\u001b[38;5;32mY\u001b[39m Projected{Float64} \u001b[38;5;32m55.999861111111116:-0.0002777777777777785:51.000138888888884\u001b[39m \u001b[38;5;244mReverseOrdered\u001b[39m \u001b[38;5;244mRegular\u001b[39m \u001b[38;5;244mIntervals{Start}\u001b[39m\n",
       "\u001b[90m├────────────────────────────────────────────────────────────────────── raster ┤\u001b[39m\n",
       "\u001b[90m  missingval: \u001b[39mNaN\n",
       "\u001b[90m  extent: \u001b[39mExtent(X = (-11.000208333333333, -5.000208333333333), Y = (51.000138888888884, 56.00013888888889))\n",
       "\u001b[90m  crs: \u001b[39mGEOGCS[\"WGS 84\",DATUM[\"WGS_1984\",SPHEROID[\"WGS 84\",6378137,298.25722...\n",
       "\u001b[90m└──────────────────────────────────────────────────────────────────────────────┘\u001b[39m\n",
       "   \u001b[38;5;209m↓\u001b[39m \u001b[38;5;32m→\u001b[39m       \u001b[38;5;32m55.9999\u001b[39m   \u001b[38;5;32m55.9996\u001b[39m   \u001b[38;5;32m55.9993\u001b[39m  …   \u001b[38;5;32m51.0007\u001b[39m   \u001b[38;5;32m51.0004\u001b[39m   \u001b[38;5;32m51.0001\u001b[39m\n",
       " \u001b[38;5;209m-11.0002\u001b[39m   NaN       NaN       NaN            0.0       0.0       0.0\n",
       " \u001b[38;5;209m-10.9999\u001b[39m   NaN       NaN       NaN            0.0       0.0       0.0\n",
       " \u001b[38;5;209m-10.9997\u001b[39m   NaN       NaN       NaN            0.0       0.0       0.0\n",
       " \u001b[38;5;209m-10.9994\u001b[39m   NaN       NaN       NaN            0.0       0.0       0.0\n",
       "   ⋮                                      ⋱                        ⋮\n",
       "  \u001b[38;5;209m-5.00132\u001b[39m  100.57    103.16    110.82       NaN       NaN       NaN\n",
       "  \u001b[38;5;209m-5.00104\u001b[39m   98.14     97.23    103.85       NaN       NaN       NaN\n",
       "  \u001b[38;5;209m-5.00076\u001b[39m   98.63     94.81     97.7        NaN       NaN       NaN\n",
       "  \u001b[38;5;209m-5.00049\u001b[39m  103.79     95.06     88.57    …  NaN       NaN       NaN"
      ]
     },
     "metadata": {},
     "output_type": "display_data"
    }
   ],
   "source": [
    "Mosaic = Rasters.mosaic(first, Maps; missingval=NaN, progress=true)\n"
   ]
  },
  {
   "cell_type": "code",
   "execution_count": 14,
   "id": "59a97940",
   "metadata": {},
   "outputs": [
    {
     "data": {
      "text/plain": [
       "\u001b[90m┌ \u001b[39m\u001b[38;5;209m21055\u001b[39m×\u001b[38;5;32m28024\u001b[39m Raster{Float64, 2}\u001b[90m ┐\u001b[39m\n",
       "\u001b[90m├────────────────────────────────┴─────────────────────────────────────── dims ┐\u001b[39m\n",
       "  \u001b[38;5;209m↓ \u001b[39m\u001b[38;5;209mX\u001b[39m Projected{Float64} \u001b[38;5;209m-10566.616338923981:20.0:410513.383661076\u001b[39m \u001b[38;5;244mForwardOrdered\u001b[39m \u001b[38;5;244mRegular\u001b[39m \u001b[38;5;244mIntervals{Start}\u001b[39m,\n",
       "  \u001b[38;5;32m→ \u001b[39m\u001b[38;5;32mY\u001b[39m Projected{Float64} \u001b[38;5;32m532331.122395666:-20.0:-28128.877604334033\u001b[39m \u001b[38;5;244mReverseOrdered\u001b[39m \u001b[38;5;244mRegular\u001b[39m \u001b[38;5;244mIntervals{Start}\u001b[39m\n",
       "\u001b[90m├──────────────────────────────────────────────────────────────────── metadata ┤\u001b[39m\n",
       "  Metadata{Rasters.GDALsource}\u001b[90m of \u001b[39mDict{String, Any} with 1 entry:\n",
       "  \"filepath\" => \"/vsimem/tmp\"\n",
       "\u001b[90m├────────────────────────────────────────────────────────────────────── raster ┤\u001b[39m\n",
       "\u001b[90m  missingval: \u001b[39mNaN\n",
       "\u001b[90m  extent: \u001b[39mExtent(X = (-10566.616338923981, 410533.383661076), Y = (-28128.877604334033, 532351.122395666))\n",
       "\u001b[90m  crs: \u001b[39mPROJCS[\"TM65 / Irish Grid\",GEOGCS[\"TM65\",DATUM[\"TM65\",SPHEROID[\"Airy...\n",
       "\u001b[90m└──────────────────────────────────────────────────────────────────────────────┘\u001b[39m\n",
       "      \u001b[38;5;209m↓\u001b[39m \u001b[38;5;32m→\u001b[39m          \u001b[38;5;32m5.32331e5\u001b[39m    \u001b[38;5;32m5.32311e5\u001b[39m  …  \u001b[38;5;32m-28088.9\u001b[39m  \u001b[38;5;32m-28108.9\u001b[39m  \u001b[38;5;32m-28128.9\u001b[39m\n",
       " \u001b[38;5;209m-10566.6\u001b[39m        NaN          NaN                NaN       NaN       NaN\n",
       " \u001b[38;5;209m-10546.6\u001b[39m        NaN          NaN                NaN       NaN       NaN\n",
       "      ⋮                                    ⋱                      \n",
       "      \u001b[38;5;209m4.10493e5\u001b[39m  NaN          NaN                NaN       NaN       NaN\n",
       "      \u001b[38;5;209m4.10513e5\u001b[39m  NaN          NaN          …     NaN       NaN       NaN"
      ]
     },
     "metadata": {},
     "output_type": "display_data"
    }
   ],
   "source": [
    "Param_Crs_GeoFormat = GeoFormatTypes.convert(WellKnownText, EPSG(Param_Crs))\n",
    "\n",
    "Mosaic_Resample = Rasters.resample(Mosaic; res=ΔX₂, method=ResampleMethod₂, crs=Param_Crs_GeoFormat)\n",
    "#  Mosaic_Resample = Rasters.replace_missing(Mosaic_Resample, missingval=NaN)\n"
   ]
  },
  {
   "cell_type": "code",
   "execution_count": null,
   "id": "afee4cf6",
   "metadata": {},
   "outputs": [
    {
     "name": "stderr",
     "output_type": "stream",
     "text": [
      "WARNING: replacing module geoRaster.\n"
     ]
    }
   ],
   "source": [
    "include(\"Julia//GeoRaster.jl\")\n",
    "\n",
    "# Getting the metadata\n",
    "\tMetadatas = geoRaster.RASTER_METADATA(Mosaic_Resample; Verbose=true)\n",
    "\n",
    "\tLongitude, Latitude = Rasters.X(Metadatas.Coord_X_Left: Metadatas.ΔX: Metadatas.Coord_X_Right, crs=Metadatas.Crs_GeoFormat), Rasters.Y(Metadatas.Coord_Y_Top: Metadatas.ΔY: Metadatas.Coord_Y_Bottom, crs=Metadatas.Crs_GeoFormat)\n",
    "\n",
    "\tMosaic_Resample, Mosaic_Boarder₀ = geoRaster.DEM_CORRECT_BOARDERS!(; Dem=Mosaic_Resample, Latitude, Longitude, Crs=Metadatas.Crs_GeoFormat, iiParam_GaugeCoordinate=Param_GaugeCoordinate)\n",
    "\n",
    "\tMosaic_Boarder = Rasters.replace_missing(Mosaic_Boarder₀, missingval=NaN)\n"
   ]
  },
  {
   "cell_type": "code",
   "execution_count": null,
   "id": "58410d8d",
   "metadata": {},
   "outputs": [],
   "source": [
    "\tPath_OutputJulia_Dem = joinpath(Path_Output, \"BOARDERS_Ireland_FABDEM.tiff\")\n",
    "\tRasters.write(Path_OutputJulia_Dem, Mosaic_Boarder; ext=\".tiff\", missingval= NaN, force=true, verbose=true)\n"
   ]
  },
  {
   "cell_type": "code",
   "execution_count": null,
   "id": "31ce1adc",
   "metadata": {},
   "outputs": [],
   "source": [
    "\n",
    "# Writting the output\n",
    "\tPath_OutputJulia_Dem = joinpath(Path_Output, \"DEM_Ireland_FABDEM2.tiff\")\n",
    "\tRasters.write(Path_OutputJulia_Dem, Mosaic_Resample; ext=\".tiff\", missingval= NaN, force=true, verbose=true)\n"
   ]
  },
  {
   "cell_type": "code",
   "execution_count": null,
   "id": "b4d60edb",
   "metadata": {},
   "outputs": [],
   "source": [
    "# geoPlot.HEATMAP(;🎏_Colorbar=true, Input= Mosaic, Title=string(\"iiFile\"), Label=\"True [m]\")\n",
    "# using GLMakie\n",
    "# fig = GLMakie.Figure()\n",
    "# ga = Axis(\n",
    "#     fig[1, 1] # any cell of the figure's layout\n",
    "#     # dest = \"+proj=wintri\", # the CRS in which you want to plot\n",
    "# )\n",
    "# # lines!(Maps, GeoMakie.coastlines()) # plot coastlines from Natural Earth as a reference\n",
    "# # # You can plot your data the same way you would in Makie\n",
    "# GLMakie.heatmap!(ga, Mosaic)\n",
    "# fig\n"
   ]
  }
 ],
 "metadata": {
  "kernelspec": {
   "display_name": "Julia 1.11.6",
   "language": "julia",
   "name": "julia-1.11"
  },
  "language_info": {
   "file_extension": ".jl",
   "mimetype": "application/julia",
   "name": "julia",
   "version": "1.11.6"
  }
 },
 "nbformat": 4,
 "nbformat_minor": 5
}
