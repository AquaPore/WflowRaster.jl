{
 "cells": [
  {
   "cell_type": "markdown",
   "metadata": {},
   "source": [
    "# ===================================\n",
    "# **WFLOW: DERIVING INPUT MAPS**\n",
    "# ==================================="
   ]
  },
  {
   "cell_type": "markdown",
   "metadata": {},
   "source": [
    "## ==== **PACKAGES** ====\n"
   ]
  },
  {
   "cell_type": "code",
   "execution_count": 1,
   "metadata": {},
   "outputs": [
    {
     "data": {
      "text/plain": [
       "\"D:\\\\JOE\\\\MAIN\\\\MODELS\\\\WFLOW\\\\Wflow.jl\\\\Wflow\\\\Data\\\\input\\\\Timoleague\""
      ]
     },
     "metadata": {},
     "output_type": "display_data"
    }
   ],
   "source": [
    "using  Revise, Rasters, GeoFormatTypes, GeoTIFF, ArchGDAL, Shapefile, NCDatasets, GeoDataFrames\n",
    "using Colors, ColorSchemes, CairoMakie, DimensionalData\n",
    "using Geomorphometry\n",
    "\n",
    "Path_Home = @__DIR__\n",
    "cd(Path_Home)\n",
    "\n",
    "include(\"Julia//Parameters.jl\")\n",
    "include(\"Julia//GeoRaster.jl\")\n",
    "include(\"Julia//GeoNetcdf.jl\")\n",
    "include(\"Julia//PlotParameter.jl\")\n",
    "include(\"Julia//GeoPlot.jl\")\n",
    "include(\"Julia//GeoLookuptable.jl\")\n",
    "\n",
    "# For new projects if does not exist\n",
    "   mkpath(joinpath(Path_Root, Path_Forcing))\n",
    "   mkpath(joinpath(Path_Root, Path_Gis))\n",
    "   mkpath(joinpath(Path_Root, Path_Lookuptable))\n",
    "   mkpath(joinpath(Path_Root, Path_NetCDF))\n",
    "   mkpath(joinpath(Path_Root, Path_Julia))\n",
    "   mkpath(joinpath(Path_Root, Path_Python))\n",
    "   mkpath(joinpath(Path_Root, Path_TimeSeriesWflow))\n",
    "   mkpath(joinpath(Path_Root, Path_Wflow))\n",
    "   mkpath(joinpath(Path_Root, \"Qgis\"))\n",
    "   mkpath(joinpath(Path_Root_NetCDF))\n"
   ]
  },
  {
   "cell_type": "markdown",
   "metadata": {},
   "source": [
    "## **=== DEM OPERATIONS ===**"
   ]
  },
  {
   "cell_type": "markdown",
   "metadata": {},
   "source": [
    "### **== DEM:** *Deriving data from Mosaic  ==*"
   ]
  },
  {
   "cell_type": "code",
   "execution_count": null,
   "metadata": {},
   "outputs": [],
   "source": [
    "```\n",
    "Deriving maps from mosaic\n",
    "```\n",
    "if 🎏_Mosaic\n",
    "    Dem₀ = geoRaster.MOSAIC(;Path_Root_Mosaic, Missing=NaN)\n",
    "\n",
    "    Path_Output_Mosaic = joinpath(Path_Root, Path_Gis, Filename_Input_Dem)\n",
    "\n",
    "\t# Reducing the size of the raw map with the shape file having the same shp file as MOSAIC\n",
    "    Path_Input_Shp = joinpath(Path_Root, Path_Gis, Filename_Mask_Shp)\n",
    "    Mask_Shapefile = GeoDataFrames.read(Path_Input_Shp)\n",
    "\tprintln(Path_Input_Shp)\n",
    "\n",
    "\tDem_Resample₁ = Rasters.mask(Dem₀; with=Mask_Shapefile, missingval=NaN, shape=:polygon, boundary=:touches, progress=true)\n",
    "\n",
    "\tRasters.write(Path_Output_Mosaic, Dem_Resample₁; ext=\".tiff\", missingval=NaN, force=true, verbose=true)\n",
    "\tprintln(Path_Output_Mosaic)\n",
    "else\n",
    "    printstyled(\"🎏_Mosaic=$🎏_Mosaic\",color=:blue, italic=true )\n",
    "end\n"
   ]
  },
  {
   "cell_type": "markdown",
   "metadata": {},
   "source": [
    "### == **DEM:** *Resampling and deriving new CRS* =="
   ]
  },
  {
   "cell_type": "code",
   "execution_count": null,
   "metadata": {},
   "outputs": [],
   "source": [
    "\"\"\"\thttps://rafaqz.github.io/Rasters.jl/dev/api#Rasters.resample-Tuple\n",
    "method: A Symbol or String specifying the method to use for resampling. From the docs for gdalwarp:\n",
    "\n",
    "**:near:** nearest neighbour resampling (default, fastest algorithm, worst interpolation quality).\n",
    ":bilinear: bilinear resampling.\n",
    ":cubic: cubic resampling.\n",
    ":cubicspline: cubic spline resampling.\n",
    ":lanczos: Lanczos windowed sinc resampling.\n",
    ":average: average resampling, computes the weighted average of all non-NODATA contributing pixels. rms root mean square / quadratic mean of all non-NODATA contributing pixels (GDAL >= 3.3)\n",
    ":mode: mode resampling, selects the value which appears most often of all the sampled points.\n",
    ":max: maximum resampling, selects the maximum value from all non-NODATA contributing pixels.\n",
    ":min: minimum resampling, selects the minimum value from all non-NODATA contributing pixels.\n",
    ":med: median resampling, selects the median value of all non-NODATA contributing pixels.\n",
    ":q1: first quartile resampling, selects the first quartile value of all non-NODATA contributing pixels.\n",
    ":q3: third quartile resampling, selects the third quartile value of all non-NODATA contributing pixels.\n",
    ":sum: compute the weighted sum of all non-NODATA contributing pixels (since GDAL 3.1)\"\"\"\n",
    "\n",
    "🎏_Method₁ = true\n",
    "🎏_Method₂ = true\n",
    "\n",
    "@assert(🎏_Method₁ || 🎏_Method₂)\n",
    "\n",
    "# Reading data\n",
    "\tif 🎏_DemFromMosaic\n",
    "        Path_Output_Mosaic = joinpath(Path_Root, Path_Gis, Filename_Input_Dem)\n",
    "        Dem_Resample₀      = Rasters.Raster(Path_Output_Mosaic)\n",
    "        Dem_Resample₁      = Rasters.replace_missing(Dem_Resample₀, missingval=NaN)\n",
    "\n",
    "    elseif !(🎏_Mosaic)\n",
    "        Path_Gis_Dem  = joinpath(Path_Root, Path_Gis, Filename_Input_Dem)\n",
    "        Dem_Resample₀ = Rasters.Raster(Path_Gis_Dem)\n",
    "        Dem_Resample₁ = Rasters.replace_missing(Dem_Resample₀, missingval=NaN)\n",
    "\tend\n",
    "\n",
    "   # Resample Dem in 2 steps\n",
    "      Param_Crs_GeoFormat = GeoFormatTypes.convert(WellKnownText, EPSG(Param_Crs))\n",
    "\n",
    "    if 🎏_Method₁\n",
    "        Dem_Resample₁ = Rasters.resample(Dem_Resample₁; res=Param_ΔX₁, method=Param_ResampleMethod₁, crs=Param_Crs_GeoFormat)\n",
    "    end\n",
    "\n",
    "    if 🎏_Method₂\n",
    "      Dem_Resample₁  = Rasters.resample(Dem_Resample₁; res=Param_ΔX₂, method=Param_ResampleMethod₂, crs=Param_Crs_GeoFormat)\n",
    "    end\n",
    "\n",
    "    # Shiftlocus\n",
    "        Dem_Resample = DimensionalData.shiftlocus(DimensionalData.Center(), Dem_Resample₁)\n",
    "\n",
    "# Getting the metadata\n",
    "\tMetadatas = geoRaster.RASTER_METADATA(Dem_Resample; Verbose=true)\n",
    "\n",
    "Dem_Resample₁ = Dem_Resample₀ = empty\n"
   ]
  },
  {
   "cell_type": "code",
   "execution_count": null,
   "metadata": {},
   "outputs": [],
   "source": [
    "# import GeoInterface as GI\n",
    "# Crs_Input = GI.crs(Dem_Resample)\n"
   ]
  },
  {
   "cell_type": "markdown",
   "metadata": {},
   "source": [
    "### == **DEM:** *Longitute and Latitude* =="
   ]
  },
  {
   "cell_type": "code",
   "execution_count": null,
   "metadata": {},
   "outputs": [],
   "source": [
    "# Longitude, Latitude = Rasters.X(Metadatas.Coord_X_Left: Metadatas.ΔX: Metadatas.Coord_X_Right, crs=Metadatas.Crs_GeoFormat), Rasters.Y(Metadatas.Coord_Y_Top: Metadatas.ΔY: Metadatas.Coord_Y_Bottom, crs=Metadatas.Crs_GeoFormat)\n",
    "\n",
    "Longitude = DimensionalData.X(LinRange(Metadatas.Coord_X_Left: Metadatas.ΔX: Metadatas.Coord_X_Right);  sampling=DimensionalData.Intervals(DimensionalData.Center()), crs=Metadatas.Crs_GeoFormat)\n",
    "\n",
    "Latitude = DimensionalData.Y(LinRange(Metadatas.Coord_Y_Top: Metadatas.ΔY: Metadatas.Coord_Y_Bottom);  sampling=DimensionalData.Intervals(DimensionalData.Center()), crs=Metadatas.Crs_GeoFormat)\n",
    "\n",
    "@assert(Metadatas.N_Width  == length(Longitude))\n",
    "@assert(Metadatas.N_Height == length(Latitude))\n"
   ]
  },
  {
   "cell_type": "markdown",
   "metadata": {},
   "source": [
    "### == **DEM:** *Deriving a coastal boundary* =="
   ]
  },
  {
   "cell_type": "code",
   "execution_count": null,
   "metadata": {},
   "outputs": [],
   "source": [
    "if 🎏_Coastline\n",
    "\tCoastline_Bool, Dem_Resample = geoRaster.DEM_DERIVE_COASTLINES(;Dem=Dem_Resample,  Longitude, Latitude, Crs=Metadatas.Crs_GeoFormat, Missing=NaN, DemMin=5.0)\n",
    "\n",
    "\t# Writting the output\n",
    "\tPath_Julia_Coastline = joinpath(Path_Root, Path_Julia, Filename_Coastline)\n",
    "\tRasters.write(Path_Julia_Coastline, Coastline_Bool; ext=\".tiff\", missingval= NaN, force=true, verbose=true)\n",
    "\n",
    "    if 🎏_Plots\n",
    "\t    using GLMakie\n",
    "\t    GLMakie.activate!()\n",
    "\n",
    "\t    geoPlot.HEATMAP(;🎏_Colorbar=true, Input=Coastline_Bool, Title=\"Digital Elevation Model\", Label=\"Altitude [m]\", colormap=:greys)\n",
    "    end\n",
    "end\n"
   ]
  },
  {
   "cell_type": "markdown",
   "metadata": {},
   "source": [
    "### == **DEM:** *Reduce size of map by removing NaN* =="
   ]
  },
  {
   "cell_type": "code",
   "execution_count": null,
   "metadata": {},
   "outputs": [],
   "source": [
    "Dem_Resample = Rasters.trim(Dem_Resample)\n",
    "Metadatas    = geoRaster.RASTER_METADATA(Dem_Resample; Verbose=true)\n",
    "\n",
    "Longitude, Latitude = Rasters.X(Metadatas.Coord_X_Left: Metadatas.ΔX: Metadatas.Coord_X_Right, crs=Metadatas.Crs_GeoFormat), Rasters.Y(Metadatas.Coord_Y_Top: Metadatas.ΔY: Metadatas.Coord_Y_Bottom, crs=Metadatas.Crs_GeoFormat)\n",
    "\n",
    "if 🎏_Plots\n",
    "\tusing GLMakie\n",
    "\tGLMakie.activate!()\n",
    "\n",
    "\tgeoPlot.HEATMAP(;🎏_Colorbar=true, Input= Geomorphometry.multihillshade(Dem_Resample), Title=\"Digital Elevation Model\", Label=\"Altitude [m]\", colormap=:greys)\n",
    "end\n"
   ]
  },
  {
   "cell_type": "markdown",
   "metadata": {},
   "source": [
    "## == **WRITTING OUTPUTS** =="
   ]
  },
  {
   "cell_type": "code",
   "execution_count": null,
   "metadata": {},
   "outputs": [],
   "source": [
    "# Writting the output\n",
    "\tPath_Julia_Dem = joinpath(Path_Root, Path_Julia, Filename_Julia_Dem)\n",
    "    println(Path_Julia_Dem)\n",
    "\tRasters.write(Path_Julia_Dem, Dem_Resample; ext=\".tiff\", missingval= NaN, force=true, verbose=true)\n"
   ]
  },
  {
   "cell_type": "markdown",
   "metadata": {},
   "source": [
    "## ====== **PLEASE RUN PYTHON CODE** ======="
   ]
  },
  {
   "cell_type": "markdown",
   "metadata": {},
   "source": [
    "# === **DEM:** *Reading the corrected DEM from python & cleaning data* ==="
   ]
  },
  {
   "cell_type": "code",
   "execution_count": null,
   "metadata": {},
   "outputs": [],
   "source": [
    "include(\"Julia//GeoRaster.jl\")\n",
    "\n",
    "# Reading data\n",
    "   Path_InputPython_Dem = joinpath(Path_Root, Path_Python, Filename_Python_DemCorrected)\n",
    "\n",
    "   Dem_Resample₀ = Rasters.Raster(Path_InputPython_Dem)\n",
    "   Dem_Resample₁  = Rasters.replace_missing(Dem_Resample₀, missingval=NaN)\n",
    "\n",
    "# Cleaning data\n",
    "    Dem_Resample₂ = Rasters.trim(Dem_Resample₁)\n",
    "    Dem_Resample = DimensionalData.shiftlocus(DimensionalData.Center(), Dem_Resample₂)\n",
    "\n",
    "# Getting the metadata\n",
    "    Metadatas    = geoRaster.RASTER_METADATA(Dem_Resample; Verbose=true)\n",
    "\n",
    "if 🎏_Plots\n",
    "\tgeoPlot.HEATMAP(;🎏_Colorbar=true, Input= Geomorphometry.multihillshade(Dem_Resample), Title=\"Corrected Digital Elevation Model\", Label=\"Altitude [m]\", colormap=:greys)\n",
    "end\n",
    "\n",
    "# Writting the output\n",
    "   Path_Julia_Dem_Corrected = joinpath(Path_Root, Path_Julia, Filename_Julia_DemCorrected)\n",
    "   Rasters.write(Path_Julia_Dem_Corrected, Dem_Resample; ext=\".tiff\", missingval= NaN, force=true, verbose=true)\n",
    "\n",
    "Dem_Resample₁ = Dem_Resample₀ = empty\n"
   ]
  },
  {
   "cell_type": "markdown",
   "metadata": {},
   "source": [
    "## **== Longitude & Latitude ==**"
   ]
  },
  {
   "cell_type": "code",
   "execution_count": null,
   "metadata": {},
   "outputs": [],
   "source": [
    "\n",
    "Longitude = DimensionalData.X(LinRange(Metadatas.Coord_X_Left: Metadatas.ΔX: Metadatas.Coord_X_Right);  sampling=DimensionalData.Intervals(DimensionalData.Center()), crs=Metadatas.Crs_GeoFormat)\n",
    "\n",
    "Latitude = DimensionalData.Y(LinRange(Metadatas.Coord_Y_Top: Metadatas.ΔY: Metadatas.Coord_Y_Bottom);  sampling=DimensionalData.Intervals(DimensionalData.Center()), crs=Metadatas.Crs_GeoFormat)\n"
   ]
  },
  {
   "cell_type": "markdown",
   "metadata": {},
   "source": [
    "## **== Subcatchment ==**"
   ]
  },
  {
   "cell_type": "code",
   "execution_count": null,
   "metadata": {},
   "outputs": [],
   "source": [
    "if 🎏_MaskFromDem\n",
    "    # Computing subcatchments\n",
    "   Subcatchment = Rasters.Raster((Longitude, Latitude), crs=Metadatas.Crs_GeoFormat, missingval=0)\n",
    "\n",
    "   Threads.@threads for iX=1:Metadatas.N_Width\n",
    "      Threads.@threads for iY=1:Metadatas.N_Height\n",
    "\t    if !isnan(Dem_Resample[iX,iY])\n",
    "            Subcatchment[iX,iY] = 1::Int64\n",
    "         else\n",
    "            Subcatchment[iX,iY] = 0::Int64\n",
    "         end\n",
    "      end # for iY=1:Metadatas.N_Height\n",
    "   end # for iX=1:Metadatas.N_Width\n",
    "\n",
    "else\n",
    "    Path_InputPython_Subcatchment = joinpath(Path_Root, Path_Python, Filename_Python_CatchmentSubcatchment)\n",
    "   #  Subcatchment₀                 = Rasters.Raster(Path_InputPython_Subcatchment)\n",
    "   #  Subcatchment₀                 = Rasters.replace_missing(Subcatchment₀, missingval=0)\n",
    "\n",
    "    # Computing subcatchments\n",
    "    Subcatchment = Rasters.Raster((Longitude, Latitude), crs=Metadatas.Crs_GeoFormat)\n",
    "\n",
    "    Threads.@threads for iX=1:Metadatas.N_Width\n",
    "        Threads.@threads for iY=1:Metadatas.N_Height\n",
    "            # if Subcatchment₀[iX,iY] == 1\n",
    "            #  if Subcatchment₀[iX,iY] > 0\n",
    "            if !isnan(Dem_Resample[iX,iY])\n",
    "                Subcatchment[iX,iY] = 1::Int64\n",
    "            else\n",
    "                Subcatchment[iX,iY] = 0::Int64\n",
    "            end\n",
    "        end # for iY=1:Metadatas.N_Height\n",
    "    end # for iX=1:Metadatas.N_Width\n",
    "end # if 🎏_MaskFromDem\n",
    "\n",
    "# Testing for issues\n",
    "    🎏_Map₁_Eq_Map₂ = geoRaster.TEST_SAMESIZE(; Map₁=Dem_Resample, Map₂=Subcatchment, Map₁_Nodata=NaN, Map₂_Nodata=0)\n",
    "\n",
    "# Writting the output\n",
    "   Path_Subcatchment = joinpath(Path_Root, Path_Wflow, Filename_Wflow_Subcatchment)\n",
    "   println(Path_Subcatchment)\n",
    "   Rasters.write(Path_Subcatchment, Subcatchment; ext=\".tiff\", missingval= NaN, force=true, verbose=true)\n",
    "\n",
    "if 🎏_Plots\n",
    "\tgeoPlot.HEATMAP(;🎏_Colorbar=true, Input=Subcatchment, Title=\"Subcatchment\", Label=\"Subcatchment\")\n",
    "end\n"
   ]
  },
  {
   "cell_type": "markdown",
   "metadata": {},
   "source": [
    "## === **CATCHMENT:** *Reading catchment boundary from Python used as a mask* ==="
   ]
  },
  {
   "cell_type": "markdown",
   "metadata": {},
   "source": [
    "## **DEM:** *Mask to catchment area*"
   ]
  },
  {
   "cell_type": "code",
   "execution_count": null,
   "metadata": {},
   "outputs": [],
   "source": [
    "# include(\"Julia//GeoRaster.jl\")\n",
    "\n",
    "# Dem_Resample_Mask = geoRaster.MASK(;Input=Dem_Resample, Mask=Subcatchment, Param_Crs=Metadatas.Crs_GeoFormat, Latitude, Longitude)\n",
    "\n",
    "# 🎏_Map₁_Eq_Map₂ = geoRaster.TEST_SAMESIZE(; Map₁=Dem_Resample_Mask, Map₂=Subcatchment, Map₁_Nodata=NaN, Map₂_Nodata=0)\n",
    "\n",
    "# # Writting output\n",
    "#    Path_Julia_DemMask = joinpath(Path_Root, Path_Julia, Filename_Julia_Dem_Mask)\n",
    "\n",
    "#    Rasters.write(Path_Julia_DemMask, Dem_Resample_Mask; ext=\".tiff\", missingval= NaN, force=true, verbose=true)\n",
    "\n",
    "# # Getting the metadata\n",
    "# \tMetadatas = geoRaster.RASTER_METADATA(Dem_Resample_Mask; Verbose=true);\n",
    "\n",
    "# if 🎏_Plots\n",
    "# \tgeoPlot.HEATMAP(;🎏_Colorbar=true, Input= Dem_Resample_Mask, Title=\"Digital Elevation Model Masked\", Label=\"Altitude [m]\")\n",
    "# end\n"
   ]
  },
  {
   "cell_type": "markdown",
   "metadata": {},
   "source": [
    "## == **DEM:** *flow accumulation* =="
   ]
  },
  {
   "cell_type": "code",
   "execution_count": null,
   "metadata": {},
   "outputs": [],
   "source": [
    "if 🎏_Plots && 🎏_Plot_FlowAccumulation\n",
    "   # Options: DInf(), D8(), FD8(2)\n",
    "   Acc, Ldd = Geomorphometry.flowaccumulation(Dem_Resample; method=FD8(4))\n",
    "\n",
    "   Acc_Mask = geoRaster.MASK(;Param_Crs=Metadatas.Crs_GeoFormat, Input=Acc, Latitude, Longitude, Mask=Subcatchment)\n",
    "\n",
    "\tgeoPlot.HEATMAP(;🎏_Colorbar=true, Input= log10.(Acc_Mask), Title=\"Flow accumulation\", Label=\"Flow accumulation [mm]\", colormap=:rain)\n",
    "end\n"
   ]
  },
  {
   "cell_type": "markdown",
   "metadata": {},
   "source": [
    "## == **LDD:** *Python Mask to catchment area* == "
   ]
  },
  {
   "cell_type": "code",
   "execution_count": null,
   "metadata": {},
   "outputs": [],
   "source": [
    "include(\"Julia//GeoRaster.jl\")\n",
    "\n",
    "Path_InputPython_Ldd = joinpath(Path_Root, Path_Python, Filename_Python_Ldd)\n",
    "Ldd₁                 = Rasters.Raster(Path_InputPython_Ldd)\n",
    "Ldd₁                 = Rasters.replace_missing(Ldd₁, missingval=0)\n",
    "\n",
    "# Masking with catchment\n",
    "   Ldd_Mask = Rasters.resample(Ldd₁; to=Dem_Resample, missingval=0)\n",
    "\n",
    "   Ldd_Mask = geoRaster.MASK(;Param_Crs=Metadatas.Crs_GeoFormat, Input=Ldd_Mask, Latitude, Longitude, Mask=Subcatchment, Missing=0)\n",
    "\n",
    "# Writting output\n",
    "   Path_Wflow_LddMask = joinpath(Path_Root, Path_Wflow, Filename_Wflow_Ldd)\n",
    "   Rasters.write(Path_Wflow_LddMask, Ldd_Mask; ext=\".tiff\", force=true, verbose=true)\n",
    "   println(Path_Wflow_LddMask)\n",
    "\n",
    "if 🎏_Plots\n",
    "\tgeoPlot.HEATMAP(;🎏_Colorbar=true, Input=Ldd_Mask, Title=\"Local Drain Direction\", Label=\"Ldd [1-9]\", colormap=Makie.Categorical(:Spectral_11))\n",
    "end\n",
    "\n",
    "🎏_Map₁_Eq_Map₂ = geoRaster.TEST_SAMESIZE(; Map₁=Subcatchment, Map₂=Ldd_Mask, Map₁_Nodata=0, Map₂_Nodata=0)\n"
   ]
  },
  {
   "cell_type": "markdown",
   "metadata": {},
   "source": [
    "## == **GAUGE** =="
   ]
  },
  {
   "cell_type": "code",
   "execution_count": null,
   "metadata": {},
   "outputs": [],
   "source": [
    "\"\"\" Sometimes the Near() method returns the right pixel data, but it’s strange, it “fails” with coordinate points that are pretty at the center of their pixel..\n",
    " But also note your Raster does not contain “pixels” that have a center (Intervals on x/y), but Points. So likely your confusion is from treating them as pixels starting from the point at one side\"\"\"\n",
    "\n",
    "Path_OutputGauge = joinpath(Path_Root, Path_Wflow, Filename_Wflow_Gauge)\n",
    "\n",
    "Gauge, iiParam_GaugeCoordinate = geoRaster.GAUGE(;🎏_Method_Index = \"Rasters\", Latitude=Latitude, Longitude=Longitude, Metadatas=Metadatas, Param_GaugeCoordinate, Path_OutputGauge)\n",
    "\n",
    "if 🎏_Plots\n",
    "\tgeoPlot.HEATMAP(;🎏_Colorbar=true, Input= Gauge, Title=\"Gauge\", Label=\"Altitude [m]\", colormap=:reds)\n",
    "end\n",
    "\n",
    "println(Path_OutputGauge)\n"
   ]
  },
  {
   "cell_type": "markdown",
   "metadata": {},
   "source": [
    "## ==**RIVER:** *Mask to catchment area*=="
   ]
  },
  {
   "cell_type": "code",
   "execution_count": null,
   "metadata": {},
   "outputs": [],
   "source": [
    "include(\"Julia//Parameters.jl\")\n",
    "\n",
    "if 🎏_RiverFromDem\n",
    "    Path_Input_RiverFromDem = joinpath(Path_Root, Path_Python, Filename_Python_Dem2Rivers)\n",
    "    println(Path_Input_RiverFromDem)\n",
    "    River₀ = Rasters.Raster(Path_Input_RiverFromDem)\n",
    "\n",
    "    River = Rasters.resample(River₀; to=Dem_Resample, missingval=0)\n",
    "\n",
    "    for iX=1:Metadatas.N_Width\n",
    "        for iY=1:Metadatas.N_Height\n",
    "            if !(ismissing(River[iX,iY]))\n",
    "                if River[iX,iY] > 0\n",
    "                    River[iX,iY] = 1\n",
    "                else\n",
    "                    River[iX,iY] = 0\n",
    "                end\n",
    "            else\n",
    "                River[iX,iY] = 0\n",
    "            end\n",
    "        end # for iY=1:Metadatas.N_Height\n",
    "    end # for iX=1:Metadatas.N_Width\n",
    "\n",
    "else\n",
    "    Path_Gis_River  = joinpath(Path_Root_Data, Path_River, Filename_River_Shp)\n",
    "    println(Path_Gis_River)\n",
    "    @assert isfile(Path_Gis_River)\n",
    "\n",
    "    # Load the shapefile\n",
    "    River_Raw = Shapefile.Handle(Path_Gis_River)\n",
    "\n",
    "    River = Rasters.rasterize(minimum, River_Raw; res=Param_ΔX₂, fill=1, missingval=0, crs=Metadatas.Crs_GeoFormat, to=Dem_Resample, shape=:point ,progress=true, boundary=:center)\n",
    "end # if 🎏_RiverFromDem\n",
    "\n",
    "River = geoRaster.MASK(;Param_Crs=Metadatas.Crs_GeoFormat, Input=River, Latitude, Longitude, Mask=Subcatchment, Missing=0)\n",
    "\n",
    "Path_Wflow_River = joinpath(Path_Root, Path_Wflow, Filename_Wflow_Rivers)\n",
    "Rasters.write(Path_Wflow_River, River; ext=\".tiff\", force=true, verbose=true, missingval=0)\n",
    "\n",
    "if 🎏_Plots\n",
    "   CairoMakie.activate!()\n",
    "   Fig_6 =  CairoMakie.Figure()\n",
    "   Axis_6 = CairoMakie.Axis(Fig_6[1, 1], title=\"Rivers\", xlabel= L\"$Latitude$\", ylabel=L\"$Longitude$\", ylabelsize=ylabelsize, xlabelsize=xlabelSize, xticksize=xticksize, yticksize=yticksize, titlesize=titlesize,  titlecolor=titlecolor)\n",
    "\n",
    "   Map_6 = CairoMakie.heatmap!(Axis_6, River, colormap=Reverse(:lajolla))\n",
    "#    Map_6 = CairoMakie.heatmap!(Axis_6, Gauge, colormap=:reds)\n",
    "\n",
    "#    CairoMakie.Colorbar(Fig_6[1, 2], Map_6, label = \"Rivers\", width = 15, ticksize = 15, tickalign = 0.5)\n",
    "   CairoMakie.display(Fig_6)\n",
    "end\n"
   ]
  },
  {
   "cell_type": "markdown",
   "metadata": {},
   "source": [
    "## ==**RIVER ORDER:** *Mask to catchment area*=="
   ]
  },
  {
   "cell_type": "code",
   "execution_count": null,
   "metadata": {},
   "outputs": [],
   "source": [
    "include(\"Julia//Parameters.jl\")\n",
    "\n",
    "Path_Input_RiverOrder = joinpath(Path_Root, Path_Python, Filename_Python_RiverOrder)\n",
    "println(Path_Input_RiverOrder)\n",
    "RiverOrder₀ = Rasters.Raster(Path_Input_RiverOrder)\n",
    "\n",
    "RiverOrder = Rasters.resample(RiverOrder₀; to=Dem_Resample, missingval=0)\n",
    "\n",
    "for iX=1:Metadatas.N_Width\n",
    "   for iY=1:Metadatas.N_Height\n",
    "      if !(ismissing(RiverOrder[iX,iY]))\n",
    "            if RiverOrder[iX,iY] > 0\n",
    "               RiverOrder[iX,iY] = RiverOrder[iX,iY]\n",
    "            else\n",
    "               RiverOrder[iX,iY] = 0\n",
    "            end\n",
    "      else\n",
    "            RiverOrder[iX,iY] = 0\n",
    "      end\n",
    "   end # for iY=1:Metadatas.N_Height\n",
    "end # for iX=1:Metadatas.N_Width\n",
    "\n",
    "RiverOrder = geoRaster.MASK(;Param_Crs=Metadatas.Crs_GeoFormat, Input=RiverOrder, Latitude, Longitude, Mask=Subcatchment, Missing=0)\n",
    "\n",
    "Path_Output_RiverOrder = joinpath(Path_Root, Path_Julia, Filename_Julia_RiverOrder)\n",
    "Rasters.write(Path_Output_RiverOrder, RiverOrder; ext=\".tiff\", force=true, verbose=true, missingval=0)\n",
    "\n",
    "if 🎏_Plots\n",
    "   CairoMakie.activate!()\n",
    "   Fig_6 =  CairoMakie.Figure()\n",
    "   Axis_6 = CairoMakie.Axis(Fig_6[1, 1], title=\"River Order\", xlabel= L\"$Latitude$\", ylabel=L\"$Longitude$\", ylabelsize=ylabelsize, xlabelsize=xlabelSize, xticksize=xticksize, yticksize=yticksize, titlesize=titlesize,  titlecolor=titlecolor)\n",
    "\n",
    "   Map_6 = CairoMakie.heatmap!(Axis_6, RiverOrder, colormap=Reverse(:lajolla))\n",
    "\n",
    "   CairoMakie.display(Fig_6)\n",
    "end\n"
   ]
  },
  {
   "cell_type": "markdown",
   "metadata": {},
   "source": [
    "## == **PITS**=="
   ]
  },
  {
   "cell_type": "code",
   "execution_count": null,
   "metadata": {},
   "outputs": [],
   "source": [
    "#   Ldd_Mask[iiParam_GaugeCoordinate[1],iiParam_GaugeCoordinate[2]] = 5\n",
    "\n",
    "Pits  = Rasters.Raster((Longitude, Latitude), crs=Metadatas.Crs_GeoFormat,  missingval=0)\n",
    "\n",
    "Pits_Count = 0\n",
    "for iX=1:Metadatas.N_Width\n",
    "   for iY=1:Metadatas.N_Height\n",
    "      if Ldd_Mask[iX, iY] == 5\n",
    "         Pits_Count += 1\n",
    "         Pits[iX,iY] = Pits_Count\n",
    "         display(\"[$iX, $iY]\")\n",
    "    else\n",
    "        Pits[iX,iY] = NaN\n",
    "      end\n",
    "   end # for iY=1:Metadatas.N_Height\n",
    "end # for iX=1:Metadatas.N_Width\n",
    "\n",
    "println(\"\tPits = $Pits_Count\")\n",
    "\n",
    "# Writting output\n",
    "   PathOutput_Pits = joinpath(Path_Root, Path_Julia, Filename_Julia_Pits)\n",
    "   Rasters.write(PathOutput_Pits, Pits; ext=\".tiff\", force=true, verbose=true)\n",
    "   println(PathOutput_Pits)\n"
   ]
  },
  {
   "cell_type": "markdown",
   "metadata": {},
   "source": [
    "## == **SLOPE:** *Reading Slope from Python & Mask* =="
   ]
  },
  {
   "cell_type": "code",
   "execution_count": null,
   "metadata": {},
   "outputs": [],
   "source": [
    "include(\"Julia//GeoRaster.jl\")\n",
    "\n",
    "Path_InputPython_Slope = joinpath(Path_Root, Path_Python, Filename_Python_Slope)\n",
    "\n",
    "Slope₀ = Rasters.Raster(Path_InputPython_Slope)\n",
    "\n",
    "Slope = Rasters.replace_missing(Slope₀, missingval=NaN)\n",
    "\n",
    "Slope = Rasters.resample(Slope₀; to=Dem_Resample, missingval=0)\n",
    "\n",
    "Slope_Mask = geoRaster.MASK(;Param_Crs=Metadatas.Crs_GeoFormat, Input=Slope, Latitude, Longitude, Mask=Subcatchment)\n",
    "\n",
    "# Slope_Mask = Rasters.replace_missing(Slope₀, missingval=NaN)\n",
    "\n",
    "# Writting the output\n",
    "Path_Wflow_Slope = joinpath(Path_Root, Path_Wflow, Filename_Wflow_Slope)\n",
    "Rasters.write(Path_Wflow_Slope, Slope_Mask; ext=\".tiff\", force=true, verbose=true)\n",
    "println(Path_Wflow_Slope)\n",
    "\n",
    "if 🎏_Plots\n",
    "\tgeoPlot.HEATMAP(;🎏_Colorbar=true, Input=Slope_Mask, Title=\"Slope\", Label=\"Slope\", colormap=:matter)\n",
    "end\n",
    "\n",
    "# 🎏_Map₁_Eq_Map₂ = geoRaster.TEST_SAMESIZE(; Map₁=Subcatchment, Map₂=Slope_Mask,  Map₁_Nodata=NaN, Map₂_Nodata=NaN)\n",
    "\n",
    "Slope₀ = nothing\n"
   ]
  },
  {
   "cell_type": "markdown",
   "metadata": {},
   "source": [
    "## == **Rivers slope** =="
   ]
  },
  {
   "cell_type": "code",
   "execution_count": null,
   "metadata": {},
   "outputs": [],
   "source": [
    "include(\"Julia//GeoRaster.jl\")\n",
    "\n",
    "RiverSlope = geoRaster.MASK(;Param_Crs=Metadatas.Crs_GeoFormat, Input=Slope_Mask, Latitude, Longitude, Mask=River)\n",
    "\n",
    "Path_Wflow_RiverSlope = joinpath(Path_Root, Path_Wflow, Filename_Wflow_RiverSlope)\n",
    "\n",
    "Rasters.write(Path_Wflow_RiverSlope, RiverSlope; ext=\".tiff\", force=true, verbose=true)\n",
    "println(Path_Wflow_RiverSlope)\n",
    "\n",
    "if 🎏_Plots\n",
    "   CairoMakie.activate!()\n",
    "   Fig_12 =  CairoMakie.Figure()\n",
    "   Axis_12 = CairoMakie.Axis(Fig_12[1, 1], title=\"River Slope Per Pixel\", xlabel= L\"$Latitude$\", ylabel=L\"$Longitude$\", ylabelsize=ylabelsize, xlabelsize=xlabelSize, xticksize=xticksize, yticksize=yticksize, titlesize=titlesize, titlecolor=titlecolor)\n",
    "\n",
    "   # CairoMakie.plot!(Axis_12, River, colormap=Reverse(:lajolla))\n",
    "   Map_12 = CairoMakie.heatmap!(Axis_12, RiverSlope, colormap=:viridis)\n",
    "\n",
    "   Colorbar(Fig_12[1, 2], Map_12, label = \"River slope [deg]\", width = 15, ticksize = 15, tickalign = 0.5)\n",
    "   display(Fig_12)\n",
    "end\n"
   ]
  },
  {
   "cell_type": "markdown",
   "metadata": {},
   "source": [
    "## == **River width** =="
   ]
  },
  {
   "cell_type": "code",
   "execution_count": null,
   "metadata": {},
   "outputs": [],
   "source": [
    "# RiverWidth = Rasters.Raster((Longitude, Latitude), crs=Metadatas.Crs_GeoFormat, mappedcrs=EPSG(Metadatas.Param_Crs))\n",
    "\n",
    "# for iX=1:Metadatas.N_Width\n",
    "#    for iY=1:Metadatas.N_Height\n",
    "#       if River[iX,iY] == 1\n",
    "#          RiverWidth[iX,iY] = Param_RiverWidth\n",
    "#       else\n",
    "#          RiverWidth[iX,iY] = NaN\n",
    "#       end\n",
    "#    end # for iY=1:Metadatas.N_Height\n",
    "# end # for iX=1:Metadatas.N_Width\n",
    "\n",
    "# Path_Wflow_RiverWidth = joinpath(Path_Root, Path_Wflow, Filename_Wflow_RiverWidth)\n",
    "# # Rasters.write(Path_Wflow_RiverWidth, RiverWidth; ext=\".tiff\", force=true, verbose=true)\n",
    "\n",
    "# if 🎏_Plots\n",
    "#    CairoMakie.activate!()\n",
    "#    Fig_9 =  CairoMakie.Figure()\n",
    "#    Axis_9 = CairoMakie.Axis(Fig_9[1, 1], title=\"River Width\", xlabel= L\"$Latitude$\", ylabel=L\"$Longitude$\",  ylabelsize=ylabelsize, xlabelsize=xlabelSize, xticksize=xticksize, yticksize=yticksize, titlesize=titlesize,  titlecolor=titlecolor)\n",
    "\n",
    "#    Map_9 = CairoMakie.plot!(Axis_9, RiverWidth, colormap=:lajolla)\n",
    "\n",
    "#    # CairoMakie.Colorbar(Fig_6[1, 2], Map_6, label = \"Rivers\", width = 15, ticksize = 15, tickalign = 0.5)\n",
    "#    CairoMakie.display(Fig_9)\n",
    "# end\n"
   ]
  },
  {
   "cell_type": "markdown",
   "metadata": {},
   "source": [
    "## == **River depth** =="
   ]
  },
  {
   "cell_type": "code",
   "execution_count": null,
   "metadata": {},
   "outputs": [],
   "source": [
    "# RiverDepth = Rasters.Raster((Longitude, Latitude), crs=Metadatas.Crs_GeoFormat)\n",
    "\n",
    "# for iX=1:Metadatas.N_Width\n",
    "#    for iY=1:Metadatas.N_Height\n",
    "#       if River[iX,iY] == 1\n",
    "#          RiverDepth[iX,iY] = Param_RiverDepth\n",
    "#       else\n",
    "#          RiverDepth[iX,iY] = NaN\n",
    "#       end\n",
    "#    end # for iY=1:Metadatas.N_Height\n",
    "# end # for iX=1:Metadatas.N_Width\n",
    "\n",
    "# Path_Wflow_RiverDepth = joinpath(Path_Root, Path_Wflow, Filename_Wflow_RiverDepth)\n",
    "# println(Path_Wflow_RiverDepth)\n",
    "\n",
    "# Rasters.write(Path_Wflow_RiverDepth, RiverDepth; ext=\".tiff\", force=true, verbose=true, crs=Metadatas.Crs_GeoFormat)\n",
    "\n",
    "# if 🎏_Plots\n",
    "#    CairoMakie.activate!()\n",
    "#    Fig_10 =  CairoMakie.Figure()\n",
    "#    Axis_10 = CairoMakie.Axis(Fig_10[1, 1], title=\"River Depth\", xlabel= L\"$Latitude$\", ylabel=L\"$Longitude$\",  ylabelsize=ylabelsize, xlabelsize=xlabelSize, xticksize=xticksize, yticksize=yticksize, titlesize=titlesize,  titlecolor=titlecolor)\n",
    "\n",
    "#    Map_10 = CairoMakie.plot!(Axis_10, RiverDepth, colormap=Reverse(:viridis))\n",
    "\n",
    "#    # CairoMakie.Colorbar(Fig_6[1, 2], Map_6, label = \"Rivers\", width = 15, ticksize = 15, tickalign = 0.5)\n",
    "#    CairoMakie.display(Fig_10)\n",
    "# end\n"
   ]
  },
  {
   "cell_type": "markdown",
   "metadata": {},
   "source": [
    "## == **River length** =="
   ]
  },
  {
   "cell_type": "code",
   "execution_count": null,
   "metadata": {},
   "outputs": [],
   "source": [
    "Path_InputPython_RiverLength = joinpath(Path_Root, Path_Python, Filename_Python_RiverLength)\n",
    "println(Path_InputPython_RiverLength)\n",
    "\n",
    "RiverLength₀ = Rasters.Raster(Path_InputPython_RiverLength)\n",
    "RiverLength₁ = Rasters.resample(RiverLength₀; to=Dem_Resample, missingval=0)\n",
    "\n",
    "RiverLength₁ = Rasters.replace_missing(RiverLength₁, missingval=NaN)\n",
    "RiverLength_Mask = geoRaster.MASK(;Param_Crs=Metadatas.Crs_GeoFormat, Input=RiverLength₁, Latitude, Longitude, Mask=River)\n",
    "\n",
    "Path_Wflow_RiverLength = joinpath(Path_Root, Path_Wflow, Filename_Wflow_RiverLength)\n",
    "Rasters.write(Path_Wflow_RiverLength, RiverLength_Mask; ext=\".tiff\", force=true, verbose=true)\n",
    "println(Path_Wflow_RiverLength)\n",
    "\n",
    "if 🎏_Plots\n",
    "   CairoMakie.activate!()\n",
    "   Fig_12 =  CairoMakie.Figure()\n",
    "   Axis_12 = CairoMakie.Axis(Fig_12[1, 1], title=\"River Length Per Pixel\", xlabel= L\"$Latitude$\", ylabel=L\"$Longitudegitude$\",  ylabelsize=ylabelsize, xlabelsize=xlabelSize, xticksize=xticksize, yticksize=yticksize, titlesize=titlesize, titlecolor=titlecolor)\n",
    "\n",
    "   Map_12 = CairoMakie.heatmap!(Axis_12, RiverLength_Mask, colormap=:viridis)\n",
    "\n",
    "   Colorbar(Fig_12[1, 2], Map_12, label = \"River length [m]\", width = 15, ticksize = 15, tickalign = 0.5)\n",
    "   display(Fig_12)\n",
    "end\n"
   ]
  },
  {
   "cell_type": "markdown",
   "metadata": {},
   "source": [
    "## == **River Manning** ==\n"
   ]
  },
  {
   "cell_type": "code",
   "execution_count": null,
   "metadata": {},
   "outputs": [],
   "source": [
    "# RiverManning = Rasters.Raster((Longitude, Latitude), crs=Metadatas.Crs_GeoFormat)\n",
    "\n",
    "# for iX=1:Metadatas.N_Width\n",
    "#    for iY=1:Metadatas.N_Height\n",
    "#       if River[iX,iY] == 1\n",
    "#          RiverManning[iX,iY] = Param_RiverManning\n",
    "#       else\n",
    "#          RiverManning[iX,iY] = NaN\n",
    "#       end\n",
    "#    end # for iY=1:Metadatas.N_Height\n",
    "# end # for iX=1:Metadatas.N_Width\n",
    "\n",
    "# Path_Wflow_RiverManning = joinpath(Path_Root, Path_Wflow, Filename_Wflow_RiverManning)\n",
    "# println(Path_Wflow_RiverManning)\n",
    "\n",
    "# Rasters.write(Path_Wflow_RiverManning, RiverManning; ext=\".tiff\", force=true, verbose=true, crs=Metadatas.Crs_GeoFormat)\n",
    "\n",
    "# if 🎏_Plots\n",
    "#    CairoMakie.activate!()\n",
    "#    Fig_10 =  CairoMakie.Figure()\n",
    "#    Axis_10 = CairoMakie.Axis(Fig_10[1, 1], title=\"River Manning\", xlabel= L\"$Latitude$\", ylabel=L\"$Longitude$\",  ylabelsize=ylabelsize, xlabelsize=xlabelSize, xticksize=xticksize, yticksize=yticksize, titlesize=titlesize,  titlecolor=titlecolor)\n",
    "\n",
    "#    Map_10 = CairoMakie.plot!(Axis_10, RiverManning, colormap=Reverse(:viridis))\n",
    "\n",
    "#    # CairoMakie.Colorbar(Fig_6[1, 2], Map_6, label = \"Rivers\", width = 15, ticksize = 15, tickalign = 0.5)\n",
    "#    CairoMakie.display(Fig_10)\n",
    "# end\n"
   ]
  },
  {
   "cell_type": "markdown",
   "metadata": {},
   "source": [
    "# === **LOOKUP TABLES**===\n"
   ]
  },
  {
   "cell_type": "markdown",
   "metadata": {},
   "source": [
    "## == **SoilMap:** *LookupTable* =="
   ]
  },
  {
   "cell_type": "code",
   "execution_count": null,
   "metadata": {},
   "outputs": [],
   "source": [
    "if 🎏_SoilMap\n",
    "    include(\"Julia//Parameters.jl\")\n",
    "\t include(\"Julia//GeoLookuptable.jl\")\n",
    "\n",
    "   Path_Home = @__DIR__\n",
    "\tPath₀ = abspath(joinpath(Path_Home, \"..\"))\n",
    " \tPath_Lookup_Hydro = joinpath(Path₀, Path_Root_LookupTable, Filename_Lookuptable_Hydro)\n",
    "   @assert isfile(Path_Lookup_Hydro)\n",
    "\n",
    "   Path_Input_Map = joinpath(Path_Root, Path_Gis, Filename_SoilMap_Shp)\n",
    "\n",
    "   Soil_Header, Soil_Maps = geoLookuptable.LOOKUPTABLE_2_MAPS(;🎏_Plots, Dem_Resample, Path_Input_Map, Latitude, Longitude, Path_Lookup=Path_Lookup_Hydro, ShpLayer=Layer_Soil, Metadatas, Param_Crs=Metadatas.Crs_GeoFormat, Path_Root, Subcatchment, TitleMap=\"Soil Map\", ΔX=Param_ΔX₂)\n",
    "else\n",
    "   Soil_Header = Soil_Maps = []\n",
    "end # if 🎏_SoilMap\n",
    "\n"
   ]
  },
  {
   "cell_type": "markdown",
   "metadata": {},
   "source": [
    "## == **LandUse:** *LookupTable* =="
   ]
  },
  {
   "cell_type": "code",
   "execution_count": null,
   "metadata": {},
   "outputs": [],
   "source": [
    "include(\"Julia//GeoLookuptable.jl\")\n",
    "include(\"Julia//Parameters.jl\")\n",
    "include(\"Julia//GeoRaster.jl\")\n",
    "if 🎏_LandUseMap\n",
    "\n",
    "   Path_Home = @__DIR__\n",
    "\tPath₀ = abspath(joinpath(Path_Home, \"..\"))\n",
    " \tPath_Lookup_LandUse = joinpath(Path₀, Path_Root_LookupTable, Filename_Lookuptable_LandUse)\n",
    "   @assert isfile(Path_Lookup_LandUse)\n",
    "\n",
    "   Path_Input_Map = joinpath(Path_Root, Path_Gis, Filename_LandUseMap_Shp)\n",
    "\n",
    "   LandUse_Header, LandUse_Maps = geoLookuptable.LOOKUPTABLE_2_MAPS(;🎏_Plots, Dem_Resample, Path_Input_Map, Latitude, Longitude, Path_Lookup=Path_Lookup_LandUse, ShpLayer=Layer_LandUse, Metadatas, Param_Crs=Metadatas.Crs_GeoFormat, Path_Root, Subcatchment, TitleMap=\"LandUse Map\", ΔX=Param_ΔX₂)\n",
    "else\n",
    "   LandUse_Header = LandUse_Maps = []\n",
    "\n",
    "end # if 🎏_LandUseMap\n"
   ]
  },
  {
   "cell_type": "markdown",
   "metadata": {},
   "source": [
    "## == **River:** *Lookup table* =="
   ]
  },
  {
   "cell_type": "code",
   "execution_count": null,
   "metadata": {},
   "outputs": [],
   "source": [
    "include(\"Julia//GeoLookuptable.jl\")\n",
    "include(\"Julia//Parameters.jl\")\n",
    "include(\"Julia//GeoRaster.jl\")\n",
    "\n",
    "Path_Input_Map = joinpath(Path_Root, Path_Julia, Filename_Julia_RiverOrder)\n",
    "Path_Lookup_River = joinpath(Path_Root, Path_Lookuptable, Filename_Lookuptable_River)\n",
    "\n",
    "River_Header, River_Maps = geoLookuptable.LOOKUPTABLE_2_MAPS(;🎏_Plots=false, Dem_Resample, Path_Input_Map, Latitude, Longitude, Path_Lookup=Path_Lookup_River, ShpLayer=Layer_LandUse, Metadatas, Param_Crs=Metadatas.Crs_GeoFormat, Path_Root, Subcatchment, TitleMap=\"LandUse Map\", ΔX=Param_ΔX₂)\n"
   ]
  },
  {
   "cell_type": "markdown",
   "metadata": {},
   "source": [
    "## ==**Impermeable layers:** *LookupTable*=="
   ]
  },
  {
   "cell_type": "markdown",
   "metadata": {},
   "source": [
    "# =**NETCDF**="
   ]
  },
  {
   "cell_type": "markdown",
   "metadata": {},
   "source": [
    "## ==  ***Static maps*** =="
   ]
  },
  {
   "cell_type": "code",
   "execution_count": null,
   "metadata": {},
   "outputs": [],
   "source": [
    "include(\"Julia//Parameters.jl\")\n",
    "include(\"Julia//GeoNetcdf.jl\")\n",
    "\n",
    "if 🎏_NetCDF\n",
    "   NetCDF, Path_NetCDF_Full = geoNetcdf.TIFF_2_NETCDF(Filename_Wflow_RiverManning, Filename_Wflow_RiverDepth, Filename_Wflow_Rivers, Filename_Wflow_RiverSlope, Filename_Wflow_RiverWidth, Filename_Wflow_Subcatchment, Gauge, Latitude, Ldd_Mask, Longitude, Metadatas, River, RiverDepth, RiverLength_Mask, RiverManning, RiverSlope, RiverWidth, Slope_Mask, Soil_Header, Soil_Maps, Subcatchment, LandUse_Header, LandUse_Maps)\n",
    "end\n",
    "\n",
    "# SAVING FILE\n",
    "   # Path_Copy =  joinpath(Path_Root, Path_NetCDF, Filename_NetCDF_Instates)\n",
    "   # Path_Paste  = joinpath(Path_Root_NetCDF, Filename_NetCDF_Instates)\n",
    "   # Base.Filesystem.cp(Path_Copy, Path_Paste, force=true)\n",
    "   # geoNetcdf.COPYPASTE_LARGE_FILES(;Path_Copy, Path_Paste)\n"
   ]
  },
  {
   "cell_type": "code",
   "execution_count": null,
   "metadata": {},
   "outputs": [],
   "source": [
    "if 🎏_NetCDF\n",
    "\tOutput_NCDatasets = NCDatasets.NCDataset(Path_NetCDF_Full)\n",
    "\tclose(Output_NCDatasets)\n",
    "end\n"
   ]
  },
  {
   "cell_type": "markdown",
   "metadata": {},
   "source": [
    "### ***Plotting NetCDF maps***"
   ]
  },
  {
   "cell_type": "code",
   "execution_count": null,
   "metadata": {},
   "outputs": [],
   "source": [
    "if 🎏_Plots && 🎏_Plot_NetCDF\n",
    "\tusing NCDatasets\n",
    "\n",
    "\tPath_NetCDF_Full  = joinpath(Path_Root, Path_NetCDF, Filename_NetCDF_Instates)\n",
    "\tOutput_NCDatasets = NCDatasets.NCDataset(Path_NetCDF_Full)\n",
    "\n",
    "\tKeys = NCDatasets.keys(Output_NCDatasets)\n",
    "\n",
    "\tKeys_Select = []\n",
    "\tfor iiKeys ∈ Keys\n",
    "\t\tOutput = Output_NCDatasets[iiKeys]\n",
    "\t\tDimensions = length(size(Output))\n",
    "\n",
    "\t\tif Dimensions == 2\n",
    "\t\t\t\tpush!(Keys_Select, String(iiKeys))\n",
    "\t\tend # Dimensions == 2\n",
    "\tend # for iiKeys ∈ Keys\n",
    "\n",
    "\tKeys_Select = String.(Keys_Select)\n",
    "\tprintln(Keys_Select)\n",
    "\n",
    "\tfor iiKeys ∈ Keys_Select\n",
    "\t\tprintln(iiKeys)\n",
    "\t\tMap₀ = Array(Output_NCDatasets[iiKeys])\n",
    "\n",
    "\t\t# Clean data\n",
    "\t\t\tFillValue = Output_NCDatasets[iiKeys].attrib[\"_FillValue\"]\n",
    "\t\t\tMap =  replace(Map₀, FillValue => NaN)\n",
    "\n",
    "\t\tgeoPlot.HEATMAP(;🎏_Colorbar=true, Input=Map, Label=\"$iiKeys\", Title=\"$iiKeys\", Xlabel= L\"$iX$\", Ylabel=L\"$iY$\", Yreversed=true, colormap=:hawaii50)\n",
    "\tend\n",
    "end  # if: 🎏_Plots &&\n",
    "\n",
    "Output_NCDatasets = nothing\n"
   ]
  },
  {
   "cell_type": "markdown",
   "metadata": {},
   "source": [
    "## ***Timeseries NetCDF maps***"
   ]
  },
  {
   "cell_type": "code",
   "execution_count": null,
   "metadata": {},
   "outputs": [],
   "source": [
    "include(\"Julia//Parameters.jl\")\n",
    "\n",
    "if 🎏_Forcing_2_NetCDF\n",
    "\tinclude(\"Julia//GeoRaster.jl\")\n",
    "\tinclude(\"Julia//GeoNetcdf.jl\")\n",
    "\n",
    "\tNetCDFmeteo, Path_NetCDFmeteo_Output = geoNetcdf.TIMESERIES_2_NETCDF(Latitude, Longitude, Metadatas, Subcatchment; NsplitYear=3)\n",
    "\n",
    "\t\t# NetCDFmeteo, Path_NetCDFmeteo_Output = geoNetcdf.TIMESERIES_2_NETCDF(Latitude, Longitude, Metadatas, Subcatchment;  )\n",
    "\n",
    "\tif 🎏_Plot_TimeSeries\n",
    "   \t# precip pet temp\n",
    "   \tgeoPlot.HEATMAP_TIME(;Path=Path_NetCDFmeteo_Output, NameOutput=\"temp\", Layer=1)\n",
    "\tend\n",
    "\n",
    "   # Saving NetCDF\n",
    "   #    Path_Copy = joinpath(Path_Root, Path_TimeSeriesWflow, Filename_NetCDF_Forcing)\n",
    "\n",
    "   # Path_Paste  = joinpath(Path_Root_NetCDF, Filename_NetCDF_Forcing)\n",
    "   # Base.Filesystem.cp(Path_Copy, Path_Paste, force=true)\n",
    "\n",
    "end\n"
   ]
  }
 ],
 "metadata": {
  "kernelspec": {
   "display_name": "Julia 1.12.0",
   "language": "julia",
   "name": "julia-1.12"
  },
  "language_info": {
   "file_extension": ".jl",
   "mimetype": "application/julia",
   "name": "julia",
   "version": "1.12.0"
  }
 },
 "nbformat": 4,
 "nbformat_minor": 2
}
