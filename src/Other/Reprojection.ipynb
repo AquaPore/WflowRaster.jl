{
 "cells": [
  {
   "cell_type": "markdown",
   "id": "5a47af17",
   "metadata": {},
   "source": [
    "# Reprojection software"
   ]
  },
  {
   "cell_type": "code",
   "execution_count": 16,
   "id": "68cc46e5",
   "metadata": {},
   "outputs": [
    {
     "data": {
      "text/plain": [
       "Main.geoRaster"
      ]
     },
     "metadata": {},
     "output_type": "display_data"
    }
   ],
   "source": [
    "\n",
    "pwd()\n",
    "Path = cd(pwd, \"..\")\n",
    "include(joinpath(Path,\"Julia//Parameters.jl\"))\n",
    "include(joinpath(Path,\"Julia//GeoRaster.jl\"))\n"
   ]
  },
  {
   "cell_type": "code",
   "execution_count": null,
   "id": "fac5afc6",
   "metadata": {},
   "outputs": [
    {
     "data": {
      "text/html": [
       "<div><div style = \"float: left;\"><span>5×2 DataFrame</span></div><div style = \"clear: both;\"></div></div><div class = \"data-frame\" style = \"overflow-x: scroll;\"><table class = \"data-frame\" style = \"margin-bottom: 6px;\"><thead><tr class = \"columnLabelRow\"><th class = \"stubheadLabel\" style = \"font-weight: bold; text-align: right;\">Row</th><th style = \"text-align: left;\">Coordinates</th><th style = \"text-align: left;\">Site</th></tr><tr class = \"columnLabelRow\"><th class = \"stubheadLabel\" style = \"font-weight: bold; text-align: right;\"></th><th title = \"Tuple{Float64, Float64}\" style = \"text-align: left;\">Tuple…</th><th title = \"String\" style = \"text-align: left;\">String</th></tr></thead><tbody><tr class = \"dataRow\"><td class = \"rowLabel\" style = \"font-weight: bold; text-align: right;\">1</td><td style = \"text-align: left;\">(1.46699e5, 42148.2)</td><td style = \"text-align: left;\">5_ASU1</td></tr><tr class = \"dataRow\"><td class = \"rowLabel\" style = \"font-weight: bold; text-align: right;\">2</td><td style = \"text-align: left;\">(1.46502e5, 41481.2)</td><td style = \"text-align: left;\">5_ASU2</td></tr><tr class = \"dataRow\"><td class = \"rowLabel\" style = \"font-weight: bold; text-align: right;\">3</td><td style = \"text-align: left;\">(1.46502e5, 41481.2)</td><td style = \"text-align: left;\">5_ASU2</td></tr><tr class = \"dataRow\"><td class = \"rowLabel\" style = \"font-weight: bold; text-align: right;\">4</td><td style = \"text-align: left;\">(1.45322e5, 41204.2)</td><td style = \"text-align: left;\">5_ASU3</td></tr><tr class = \"dataRow\"><td class = \"rowLabel\" style = \"font-weight: bold; text-align: right;\">5</td><td style = \"text-align: left;\">(1.44353e5, 41298.2)</td><td style = \"text-align: left;\">5_ASU4</td></tr></tbody></table></div>"
      ],
      "text/latex": [
       "\\begin{tabular}{r|cc}\n",
       "\t& Coordinates & Site\\\\\n",
       "\t\\hline\n",
       "\t& Tuple… & String\\\\\n",
       "\t\\hline\n",
       "\t1 & (1.46699e5, 42148.2) & 5\\_ASU1 \\\\\n",
       "\t2 & (1.46502e5, 41481.2) & 5\\_ASU2 \\\\\n",
       "\t3 & (1.46502e5, 41481.2) & 5\\_ASU2 \\\\\n",
       "\t4 & (1.45322e5, 41204.2) & 5\\_ASU3 \\\\\n",
       "\t5 & (1.44353e5, 41298.2) & 5\\_ASU4 \\\\\n",
       "\\end{tabular}\n"
      ],
      "text/plain": [
       "\u001b[1m5×2 DataFrame\u001b[0m\n",
       "\u001b[1m Row \u001b[0m│\u001b[1m Coordinates          \u001b[0m\u001b[1m Site   \u001b[0m\n",
       "\u001b[1m     \u001b[0m│\u001b[90m Tuple…               \u001b[0m\u001b[90m String \u001b[0m\n",
       "─────┼──────────────────────────────\n",
       "   1 │ (1.46699e5, 42148.2)  5_ASU1\n",
       "   2 │ (1.46502e5, 41481.2)  5_ASU2\n",
       "   3 │ (1.46502e5, 41481.2)  5_ASU2\n",
       "   4 │ (1.45322e5, 41204.2)  5_ASU3\n",
       "   5 │ (1.44353e5, 41298.2)  5_ASU4"
      ]
     },
     "metadata": {},
     "output_type": "display_data"
    }
   ],
   "source": [
    "Latitude_Y =[51.629893\n",
    "51.62388\n",
    "51.62388\n",
    "51.621277\n",
    "51.622027\n",
    "]\n",
    "Longitude_X = [-8.770467\n",
    "-8.77321\n",
    "-8.77321\n",
    "-8.790204\n",
    "-8.804208\n",
    "]\n",
    "Site =[\"5_ASU1\"\n",
    "\"5_ASU2\"\n",
    "\"5_ASU2\"\n",
    "\"5_ASU3\"\n",
    "\"5_ASU4\"\n",
    "]\n",
    "PathOutputShp  = raw\"D:\\TEMP\\Gis2\\SamplingPoints.shp\"\n",
    "\n",
    "geoRaster.REPROJECTION(;PathOutputShp, Latitude_Y, Longitude_X, Site, EPSG_Input=4326, EPSG_Output=29902)\n",
    "\n",
    "wkt = GeoFormatTypes.convert(WellKnownText, EPSG(29902))\n",
    "GeoFormatTypes.convert(EPSG, wkt)\n",
    "\n"
   ]
  }
 ],
 "metadata": {
  "kernelspec": {
   "display_name": "Julia 1.12.0",
   "language": "julia",
   "name": "julia-1.12"
  },
  "language_info": {
   "file_extension": ".jl",
   "mimetype": "application/julia",
   "name": "julia",
   "version": "1.12.0"
  }
 },
 "nbformat": 4,
 "nbformat_minor": 5
}
