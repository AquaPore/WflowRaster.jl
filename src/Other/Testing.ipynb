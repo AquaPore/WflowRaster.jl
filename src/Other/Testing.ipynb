{
 "cells": [
  {
   "cell_type": "code",
   "execution_count": 89,
   "id": "b84c8dae",
   "metadata": {},
   "outputs": [
    {
     "data": {
      "text/plain": [
       "1×2 Matrix{Float64}:\n",
       " 1.0  101.0"
      ]
     },
     "metadata": {},
     "output_type": "display_data"
    }
   ],
   "source": [
    "Nit = 101\n",
    "Nsplit = 1\n",
    "\n",
    "# Preparing splitting\n",
    "\tNsplit_Array = zeros(Nsplit, 2)\n",
    "\tΔsplit = Nit ÷ Nsplit\n",
    "\tNsplit_Array[1,1] = 1\n",
    "\n",
    "\tfor iSplit =1:Nsplit\n",
    "\t\t# Nsplit_Array[iSplit][1] = Nsplit_Array[iSplit-1]\n",
    "\t\tif iSplit ==1\n",
    "\t\t\tNsplit_Array[iSplit,2] = Nit ÷ Nsplit\n",
    "\t\telse\n",
    "\t\t\tNsplit_Array[iSplit,1] = Nsplit_Array[iSplit-1 ,2] + 1\n",
    "\t\t\tNsplit_Array[iSplit,2] = Nsplit_Array[iSplit,1] - 1 + Δsplit\n",
    "\t\tend\n",
    "\tend\n",
    "\t# Last one needs to account for the last ones\n",
    "\tNsplit_Array[Nsplit, 2] += Nit % Nsplit\n",
    "\n",
    "\tNsplit_Array\n",
    "\n",
    "\n"
   ]
  },
  {
   "cell_type": "code",
   "execution_count": 87,
   "id": "803fcf18",
   "metadata": {},
   "outputs": [
    {
     "data": {
      "text/plain": [
       "\"One\""
      ]
     },
     "metadata": {},
     "output_type": "display_data"
    }
   ],
   "source": [
    "Split =split(\"One.it\", \".\")\n",
    "Split[1]\n"
   ]
  },
  {
   "cell_type": "code",
   "execution_count": 21,
   "id": "097c9e32",
   "metadata": {},
   "outputs": [
    {
     "ename": "UndefVarError",
     "evalue": "UndefVarError: `Warn` not defined in `Main`\nSuggestion: check for spelling errors or missing imports.\nHint: a global variable of this name may be made accessible by importing Logging in the current active module Main",
     "output_type": "error",
     "traceback": [
      "UndefVarError: `Warn` not defined in `Main`\n",
      "Suggestion: check for spelling errors or missing imports.\n",
      "Hint: a global variable of this name may be made accessible by importing Logging in the current active module Main\n",
      "\n",
      "Stacktrace:\n",
      " [1] top-level scope\n",
      "   @ d:\\JOE\\MAIN\\MODELS\\WFLOW\\WflowDataJoe\\WflowRaster.jl\\src\\Other\\jl_notebook_cell_df34fa98e69747e1a8f8a730347b8e2f_W2sZmlsZQ==.jl:8"
     ]
    }
   ],
   "source": [
    "# Cleaning\n",
    "Path=raw\"D:\\JOE\\MAIN\\MODELS\\WFLOW\\Wflow.jl\\Wflow\\Data\\input\\Timoleague\"\n",
    "Files=readdir(Path)\n",
    "for iFile ∈ Files\n",
    "\tif occursin(\"forcing\", iFile)\n",
    "\n",
    "\t\tPath = joinpath(Path, iFile)\n",
    "\t\tWarn(\"Got expected something >= 1, returning 0\")\n",
    "\t\t# rm(Path)\n",
    "\tend\n",
    "end\n",
    "\n"
   ]
  }
 ],
 "metadata": {
  "kernelspec": {
   "display_name": "Julia 1.11.7",
   "language": "julia",
   "name": "julia-1.11"
  },
  "language_info": {
   "file_extension": ".jl",
   "mimetype": "application/julia",
   "name": "julia",
   "version": "1.11.7"
  }
 },
 "nbformat": 4,
 "nbformat_minor": 5
}
