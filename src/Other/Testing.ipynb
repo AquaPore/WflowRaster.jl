{
 "cells": [
  {
   "cell_type": "code",
   "execution_count": 89,
   "id": "b84c8dae",
   "metadata": {},
   "outputs": [
    {
     "data": {
      "text/plain": [
       "1×2 Matrix{Float64}:\n",
       " 1.0  101.0"
      ]
     },
     "metadata": {},
     "output_type": "display_data"
    }
   ],
   "source": [
    "Nit = 101\n",
    "Nsplit = 1\n",
    "\n",
    "# Preparing splitting\n",
    "\tNsplit_Array = zeros(Nsplit, 2)\n",
    "\tΔsplit = Nit ÷ Nsplit\n",
    "\tNsplit_Array[1,1] = 1\n",
    "\n",
    "\tfor iSplit =1:Nsplit\n",
    "\t\t# Nsplit_Array[iSplit][1] = Nsplit_Array[iSplit-1]\n",
    "\t\tif iSplit ==1\n",
    "\t\t\tNsplit_Array[iSplit,2] = Nit ÷ Nsplit\n",
    "\t\telse\n",
    "\t\t\tNsplit_Array[iSplit,1] = Nsplit_Array[iSplit-1 ,2] + 1\n",
    "\t\t\tNsplit_Array[iSplit,2] = Nsplit_Array[iSplit,1] - 1 + Δsplit\n",
    "\t\tend\n",
    "\tend\n",
    "\t# Last one needs to account for the last ones\n",
    "\tNsplit_Array[Nsplit, 2] += Nit % Nsplit\n",
    "\n",
    "\tNsplit_Array\n",
    "\n",
    "\n"
   ]
  },
  {
   "cell_type": "code",
   "execution_count": 87,
   "id": "803fcf18",
   "metadata": {},
   "outputs": [
    {
     "data": {
      "text/plain": [
       "\"One\""
      ]
     },
     "metadata": {},
     "output_type": "display_data"
    }
   ],
   "source": [
    "Split =split(\"One.it\", \".\")\n",
    "Split[1]\n"
   ]
  },
  {
   "cell_type": "code",
   "execution_count": 21,
   "id": "097c9e32",
   "metadata": {},
   "outputs": [
    {
     "ename": "UndefVarError",
     "evalue": "UndefVarError: `Warn` not defined in `Main`\nSuggestion: check for spelling errors or missing imports.\nHint: a global variable of this name may be made accessible by importing Logging in the current active module Main",
     "output_type": "error",
     "traceback": [
      "UndefVarError: `Warn` not defined in `Main`\n",
      "Suggestion: check for spelling errors or missing imports.\n",
      "Hint: a global variable of this name may be made accessible by importing Logging in the current active module Main\n",
      "\n",
      "Stacktrace:\n",
      " [1] top-level scope\n",
      "   @ d:\\JOE\\MAIN\\MODELS\\WFLOW\\WflowDataJoe\\WflowRaster.jl\\src\\Other\\jl_notebook_cell_df34fa98e69747e1a8f8a730347b8e2f_W2sZmlsZQ==.jl:8"
     ]
    }
   ],
   "source": [
    "# Cleaning\n",
    "Path=raw\"D:\\JOE\\MAIN\\MODELS\\WFLOW\\Wflow.jl\\Wflow\\Data\\input\\Timoleague\"\n",
    "Files=readdir(Path)\n",
    "for iFile ∈ Files\n",
    "\tif occursin(\"forcing\", iFile)\n",
    "\n",
    "\t\tPath = joinpath(Path, iFile)\n",
    "\t\tWarn(\"Got expected something >= 1, returning 0\")\n",
    "\t\t# rm(Path)\n",
    "\tend\n",
    "end\n",
    "\n"
   ]
  },
  {
   "cell_type": "code",
   "execution_count": 2,
   "id": "b5d1d1cb",
   "metadata": {},
   "outputs": [
    {
     "data": {
      "text/plain": [
       "\"LEVEL_2_VALUE\""
      ]
     },
     "metadata": {},
     "output_type": "display_data"
    }
   ],
   "source": [
    "Layer_LandUse = :LEVEL_2_VALUE\n",
    "String(Layer_LandUse)\n"
   ]
  },
  {
   "cell_type": "code",
   "execution_count": 2,
   "id": "3c4ecb87",
   "metadata": {},
   "outputs": [
    {
     "name": "stderr",
     "output_type": "stream",
     "text": [
      "┌ Info: Reprojecting the map fron CRS=(Crs_Input) to CRS=(Param_Crs)\n",
      "└ @ Main d:\\JOE\\MAIN\\MODELS\\WFLOW\\WflowDataJoe\\WflowRaster.jl\\src\\Other\\jl_notebook_cell_df34fa98e69747e1a8f8a730347b8e2f_W4sZmlsZQ==.jl:1\n"
     ]
    }
   ],
   "source": [
    "\t@info  \"Reprojecting the map fron CRS=(Crs_Input) to CRS=(Param_Crs)\"\n"
   ]
  },
  {
   "cell_type": "code",
   "execution_count": 1,
   "id": "5ca3caf9",
   "metadata": {},
   "outputs": [
    {
     "data": {
      "text/plain": [
       "true"
      ]
     },
     "metadata": {},
     "output_type": "display_data"
    }
   ],
   "source": [
    "A=[]\n",
    "isempty(A)\n"
   ]
  },
  {
   "cell_type": "code",
   "execution_count": 40,
   "id": "e91e8ee7",
   "metadata": {},
   "outputs": [
    {
     "ename": "MethodError",
     "evalue": "MethodError: no method matching (GeodeticLatLon{WGS84Latest})(::Tuple{Vector{Float64}, Vector{Float64}})\nThe type `GeodeticLatLon{WGS84Latest}` exists, but no method is defined for this combination of argument types when trying to construct it.\n\nClosest candidates are:\n  (GeodeticLatLon{Datum})(!Matched::D, !Matched::D) where {Datum, D<:(Unitful.Quantity{T, NoDims, Unitful.FreeUnits{(°,), NoDims, nothing}} where T)}\n   @ CoordRefSystems C:\\Users\\jpollacco.local\\.julia\\packages\\CoordRefSystems\\7lCCI\\src\\crs\\geographic\\geodetic.jl:29\n  (GeodeticLatLon{Datum})(!Matched::Unitful.Quantity{T, NoDims, Unitful.FreeUnits{(°,), NoDims, nothing}} where T, !Matched::Unitful.Quantity{T, NoDims, Unitful.FreeUnits{(°,), NoDims, nothing}} where T) where Datum\n   @ CoordRefSystems C:\\Users\\jpollacco.local\\.julia\\packages\\CoordRefSystems\\7lCCI\\src\\crs\\geographic\\geodetic.jl:30\n  (GeodeticLatLon{Datum})(!Matched::Unitful.Quantity{T, NoDims, Unitful.FreeUnits{(rad,), NoDims, nothing}} where T, !Matched::Unitful.Quantity{T, NoDims, Unitful.FreeUnits{(rad,), NoDims, nothing}} where T) where Datum\n   @ CoordRefSystems C:\\Users\\jpollacco.local\\.julia\\packages\\CoordRefSystems\\7lCCI\\src\\crs\\geographic\\geodetic.jl:31\n  ...\n",
     "output_type": "error",
     "traceback": [
      "MethodError: no method matching (GeodeticLatLon{WGS84Latest})(::Tuple{Vector{Float64}, Vector{Float64}})\n",
      "The type `GeodeticLatLon{WGS84Latest}` exists, but no method is defined for this combination of argument types when trying to construct it.\n",
      "\n",
      "Closest candidates are:\n",
      "  (GeodeticLatLon{Datum})(!Matched::D, !Matched::D) where {Datum, D<:(Unitful.Quantity{T, NoDims, Unitful.FreeUnits{(°,), NoDims, nothing}} where T)}\n",
      "   @ CoordRefSystems C:\\Users\\jpollacco.local\\.julia\\packages\\CoordRefSystems\\7lCCI\\src\\crs\\geographic\\geodetic.jl:29\n",
      "  (GeodeticLatLon{Datum})(!Matched::Unitful.Quantity{T, NoDims, Unitful.FreeUnits{(°,), NoDims, nothing}} where T, !Matched::Unitful.Quantity{T, NoDims, Unitful.FreeUnits{(°,), NoDims, nothing}} where T) where Datum\n",
      "   @ CoordRefSystems C:\\Users\\jpollacco.local\\.julia\\packages\\CoordRefSystems\\7lCCI\\src\\crs\\geographic\\geodetic.jl:30\n",
      "  (GeodeticLatLon{Datum})(!Matched::Unitful.Quantity{T, NoDims, Unitful.FreeUnits{(rad,), NoDims, nothing}} where T, !Matched::Unitful.Quantity{T, NoDims, Unitful.FreeUnits{(rad,), NoDims, nothing}} where T) where Datum\n",
      "   @ CoordRefSystems C:\\Users\\jpollacco.local\\.julia\\packages\\CoordRefSystems\\7lCCI\\src\\crs\\geographic\\geodetic.jl:31\n",
      "  ...\n",
      "\n",
      "\n",
      "Stacktrace:\n",
      " [1] top-level scope\n",
      "   @ d:\\JOE\\MAIN\\MODELS\\WFLOW\\WflowDataJoe\\WflowRaster.jl\\src\\Other\\jl_notebook_cell_df34fa98e69747e1a8f8a730347b8e2f_W6sZmlsZQ==.jl:17"
     ]
    }
   ],
   "source": [
    "using CoordRefSystems\n",
    "\n",
    "Latitude =[51.629893\n",
    "51.62388\n",
    "51.621277\n",
    "51.622027\n",
    "]\n",
    "\n",
    "Longitude = [-8.770467\n",
    "-8.77321\n",
    "-8.790204\n",
    "-8.804208]\n",
    "\n",
    "CRS_4326 = CoordRefSystems.get(CoordRefSystems.EPSG{4326})\n",
    "CRS_29903 = CoordRefSystems.get(CoordRefSystems.EPSG{29903})\n",
    "\n",
    "CoordRefSystems.convert(CRS_29903, CRS_4326((Longitude[:], Latitude[:])))\n",
    "\n"
   ]
  },
  {
   "cell_type": "code",
   "execution_count": 52,
   "id": "1eeaffb1",
   "metadata": {},
   "outputs": [
    {
     "ename": "DimensionMismatch",
     "evalue": "DimensionMismatch: new dimensions (3, 3, 3) must be consistent with array length 9",
     "output_type": "error",
     "traceback": [
      "DimensionMismatch: new dimensions (3, 3, 3) must be consistent with array length 9\n",
      "\n",
      "Stacktrace:\n",
      " [1] throw_dmrsa(dims::Tuple{Int64, Int64, Int64}, len::Int64)\n",
      "   @ Base .\\reshapedarray.jl:38\n",
      " [2] reshape(a::Matrix{Float64}, dims::Tuple{Int64, Int64, Int64})\n",
      "   @ Base .\\reshapedarray.jl:46\n",
      " [3] top-level scope\n",
      "   @ d:\\JOE\\MAIN\\MODELS\\WFLOW\\WflowDataJoe\\WflowRaster.jl\\src\\Other\\jl_notebook_cell_df34fa98e69747e1a8f8a730347b8e2f_X11sZmlsZQ==.jl:4"
     ]
    }
   ],
   "source": [
    "A= zeros(Float64, (3,3))\n",
    "A\n",
    "size(A)\n",
    "reshape(A, (3,3,3))\n",
    "size(A)\n"
   ]
  }
 ],
 "metadata": {
  "kernelspec": {
   "display_name": "Julia 1.12.0",
   "language": "julia",
   "name": "julia-1.12"
  },
  "language_info": {
   "file_extension": ".jl",
   "mimetype": "application/julia",
   "name": "julia",
   "version": "1.12.0"
  }
 },
 "nbformat": 4,
 "nbformat_minor": 5
}
