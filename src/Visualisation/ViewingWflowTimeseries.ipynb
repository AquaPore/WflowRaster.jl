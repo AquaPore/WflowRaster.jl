{
 "cells": [
  {
   "cell_type": "code",
   "execution_count": 100,
   "metadata": {},
   "outputs": [
    {
     "data": {
      "text/plain": [
       "2-element Vector{String}:\n",
       " \"satwaterdepth\"\n",
       " \"h_av_river\""
      ]
     },
     "metadata": {},
     "output_type": "display_data"
    }
   ],
   "source": [
    "OutputVizualisation = [\"satwaterdepth\", \"h_av_river\"]\n"
   ]
  },
  {
   "cell_type": "code",
   "execution_count": 101,
   "metadata": {},
   "outputs": [
    {
     "data": {
      "text/plain": [
       "Main.geoPlot"
      ]
     },
     "metadata": {},
     "output_type": "display_data"
    }
   ],
   "source": [
    "using DataFrames, NCDatasets, CairoMakie\n",
    "import CairoMakie as Mke\n",
    "\n",
    "Path_Home = @__DIR__\n",
    "cd(Path_Home)\n",
    "Path₀ = abspath(joinpath(Path_Home, \"..\"))\n",
    "println(Path₀)\n",
    "\n",
    "include(joinpath(Path₀, \"Julia//Parameters.jl\"))\n",
    "include(joinpath(Path₀, \"Julia//GeoRaster.jl\"))\n",
    "include(joinpath(Path₀, \"Julia//PlotParameter.jl\"))\n",
    "include(joinpath(Path₀, \"Julia//GeoPlot.jl\"))\n"
   ]
  },
  {
   "cell_type": "code",
   "execution_count": 102,
   "metadata": {},
   "outputs": [],
   "source": [
    "Path_Output = abspath(joinpath(Path_Root_NetCDF, \"..\"))\n",
    "Path_Output = abspath(joinpath(Path_Output, \"..\"))\n",
    "\n",
    "Path_Output_Nc = joinpath(Path_Output, \"output\", 🎏_CatchmentName, \"output_$(🎏_CatchmentName).nc\")\n",
    "    @assert(isfile(Path_Output_Nc))\n",
    "\n",
    "Path_Output_Scalar = joinpath(Path_Output, \"output\", 🎏_CatchmentName, \"output_scalar_$(🎏_CatchmentName).nc\")\n",
    "    @assert(isfile(Path_Output_Scalar))\n",
    "\n",
    "Path_Output_Csv = joinpath(Path_Output, \"output\", 🎏_CatchmentName, \"output_$(🎏_CatchmentName).csv\")\n",
    "    @assert(isfile(Path_Output_Csv))\n",
    "\n",
    "Path_Input_TimeSeries = joinpath(Path_Output, \"input\", 🎏_CatchmentName, \"forcing-$(🎏_CatchmentName).nc\")\n",
    "    @assert(isfile(Path_Input_TimeSeries))\n"
   ]
  },
  {
   "cell_type": "code",
   "execution_count": 103,
   "metadata": {},
   "outputs": [],
   "source": [
    "# Path = raw\"D:\\JOE\\MAIN\\MODELS\\WFLOW\\DATA\\WflowExample\\Data\\input\"\n",
    "# Path_Forcing = joinpath(Path,\"forcing-moselle.nc\")\n",
    "# isfile(Path_Forcing)\n"
   ]
  },
  {
   "cell_type": "code",
   "execution_count": 104,
   "metadata": {},
   "outputs": [
    {
     "data": {
      "text/plain": [
       "\u001b[31mDataset: D:\\JOE\\MAIN\\MODELS\\WFLOW\\Wflow.jl\\Wflow\\Data\\output\\Timoleague\\output_Timoleague.nc\u001b[39m\n",
       "Group: /\n",
       "\n",
       "\u001b[31mDimensions\u001b[39m\n",
       "   time = 29\n",
       "   x = 280\n",
       "   y = 186\n",
       "   layer = 4\n",
       "\n",
       "\u001b[31mVariables\u001b[39m\n",
       "\u001b[32m  x\u001b[39m   (280)\n",
       "    Datatype:    \u001b[0m\u001b[1mFloat64\u001b[22m (Float64)\n",
       "    Dimensions:  x\n",
       "    Attributes:\n",
       "     long_name            = \u001b[36mx coordinate of projection\u001b[39m\n",
       "     standard_name        = \u001b[36mprojection_x_coordinate\u001b[39m\n",
       "     axis                 = \u001b[36mX\u001b[39m\n",
       "     units                = \u001b[36mm\u001b[39m\n",
       "\n",
       "\u001b[32m  y\u001b[39m   (186)\n",
       "    Datatype:    \u001b[0m\u001b[1mFloat64\u001b[22m (Float64)\n",
       "    Dimensions:  y\n",
       "    Attributes:\n",
       "     long_name            = \u001b[36my coordinate of projection\u001b[39m\n",
       "     standard_name        = \u001b[36mprojection_y_coordinate\u001b[39m\n",
       "     axis                 = \u001b[36mY\u001b[39m\n",
       "     units                = \u001b[36mm\u001b[39m\n",
       "\n",
       "\u001b[32m  layer\u001b[39m   (4)\n",
       "    Datatype:    \u001b[0m\u001b[1mFloat64\u001b[22m (Float64)\n",
       "    Dimensions:  layer\n",
       "    Attributes:\n",
       "     long_name            = \u001b[36mlayer_index\u001b[39m\n",
       "     standard_name        = \u001b[36mlayer_index\u001b[39m\n",
       "     axis                 = \u001b[36mZ\u001b[39m\n",
       "\n",
       "\u001b[32m  time\u001b[39m   (29)\n",
       "    Datatype:    \u001b[0m\u001b[1mDates.DateTime\u001b[22m (Float64)\n",
       "    Dimensions:  time\n",
       "    Attributes:\n",
       "     units                = \u001b[36mdays since 1900-01-01 00:00:00\u001b[39m\n",
       "     calendar             = \u001b[36mstandard\u001b[39m\n",
       "\n",
       "\u001b[32m  h_av_land\u001b[39m   (280 × 186 × 29)\n",
       "    Datatype:    \u001b[0m\u001b[1mUnion{Missing, Float32}\u001b[22m (Float32)\n",
       "    Dimensions:  x × y × time\n",
       "    Attributes:\n",
       "     _FillValue           = \u001b[36mNaN\u001b[39m\n",
       "\n",
       "\u001b[32m  q_av_land\u001b[39m   (280 × 186 × 29)\n",
       "    Datatype:    \u001b[0m\u001b[1mUnion{Missing, Float32}\u001b[22m (Float32)\n",
       "    Dimensions:  x × y × time\n",
       "    Attributes:\n",
       "     _FillValue           = \u001b[36mNaN\u001b[39m\n",
       "\n",
       "\u001b[32m  ssf\u001b[39m   (280 × 186 × 29)\n",
       "    Datatype:    \u001b[0m\u001b[1mUnion{Missing, Float32}\u001b[22m (Float32)\n",
       "    Dimensions:  x × y × time\n",
       "    Attributes:\n",
       "     _FillValue           = \u001b[36mNaN\u001b[39m\n",
       "\n",
       "\u001b[32m  q_av_river\u001b[39m   (280 × 186 × 29)\n",
       "    Datatype:    \u001b[0m\u001b[1mUnion{Missing, Float32}\u001b[22m (Float32)\n",
       "    Dimensions:  x × y × time\n",
       "    Attributes:\n",
       "     _FillValue           = \u001b[36mNaN\u001b[39m\n",
       "\n",
       "\u001b[32m  satwaterdepth\u001b[39m   (280 × 186 × 29)\n",
       "    Datatype:    \u001b[0m\u001b[1mUnion{Missing, Float32}\u001b[22m (Float32)\n",
       "    Dimensions:  x × y × time\n",
       "    Attributes:\n",
       "     _FillValue           = \u001b[36mNaN\u001b[39m\n",
       "\n",
       "\u001b[32m  h_av_river\u001b[39m   (280 × 186 × 29)\n",
       "    Datatype:    \u001b[0m\u001b[1mUnion{Missing, Float32}\u001b[22m (Float32)\n",
       "    Dimensions:  x × y × time\n",
       "    Attributes:\n",
       "     _FillValue           = \u001b[36mNaN\u001b[39m\n",
       "\n",
       "\u001b[32m  ustorelayerdepth\u001b[39m   (280 × 186 × 4 × 29)\n",
       "    Datatype:    \u001b[0m\u001b[1mUnion{Missing, Float32}\u001b[22m (Float32)\n",
       "    Dimensions:  x × y × layer × time\n",
       "    Attributes:\n",
       "     _FillValue           = \u001b[36mNaN\u001b[39m\n",
       "\n",
       "\u001b[32m  canopystorage\u001b[39m   (280 × 186 × 29)\n",
       "    Datatype:    \u001b[0m\u001b[1mUnion{Missing, Float32}\u001b[22m (Float32)\n",
       "    Dimensions:  x × y × time\n",
       "    Attributes:\n",
       "     _FillValue           = \u001b[36mNaN\u001b[39m\n",
       "\n",
       "\u001b[32m  tsoil\u001b[39m   (280 × 186 × 29)\n",
       "    Datatype:    \u001b[0m\u001b[1mUnion{Missing, Float32}\u001b[22m (Float32)\n",
       "    Dimensions:  x × y × time\n",
       "    Attributes:\n",
       "     _FillValue           = \u001b[36mNaN\u001b[39m\n",
       "\n"
      ]
     },
     "metadata": {},
     "output_type": "display_data"
    }
   ],
   "source": [
    "\n",
    "# All information of NCDataset\n",
    "Output_NCDatasets = NCDatasets.NCDataset(Path_Output_Nc)\n"
   ]
  },
  {
   "cell_type": "code",
   "execution_count": 115,
   "metadata": {},
   "outputs": [],
   "source": [
    "include(joinpath(Path₀, \"Julia//GeoPlot.jl\"))\n",
    "\n",
    "geoPlot.HEATMAP_TIME(;Path=Path_Output_Nc, NameOutput=\"canopystorage\", Layer=1)\n"
   ]
  }
 ],
 "metadata": {
  "kernelspec": {
   "display_name": "Julia 1.11.7",
   "language": "julia",
   "name": "julia-1.11"
  },
  "language_info": {
   "file_extension": ".jl",
   "mimetype": "application/julia",
   "name": "julia",
   "version": "1.11.7"
  }
 },
 "nbformat": 4,
 "nbformat_minor": 2
}
