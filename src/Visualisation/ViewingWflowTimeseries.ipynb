{
 "cells": [
  {
   "cell_type": "code",
   "execution_count": 1,
   "metadata": {},
   "outputs": [
    {
     "data": {
      "text/plain": [
       "1"
      ]
     },
     "metadata": {},
     "output_type": "display_data"
    }
   ],
   "source": [
    "OutputVizualisation = [\"canopystorage\",\n",
    "                        \"h_av_land\",\n",
    "                        \"q_av_land\",\n",
    "                        \"h_av_river\",\n",
    "                        \"q_av_river\",\n",
    "                        \"ustorelayerdepth\",\n",
    "                        \"tsoil\",\n",
    "                        \"satwaterdepth\",\n",
    "                        \"ssf\"]\n",
    "\n",
    "SelectOutput = 1\n",
    "# 6 layers ustorelayerdepth\n"
   ]
  },
  {
   "cell_type": "code",
   "execution_count": 2,
   "metadata": {},
   "outputs": [
    {
     "name": "stdout",
     "output_type": "stream",
     "text": [
      "d:\\JOE\\MAIN\\MODELS\\WFLOW\\WflowDataJoe\\WflowRaster.jl\\src\\\n"
     ]
    },
    {
     "data": {
      "text/plain": [
       "Main.geoPlot"
      ]
     },
     "metadata": {},
     "output_type": "display_data"
    }
   ],
   "source": [
    "using DataFrames, NCDatasets, CairoMakie\n",
    "import CairoMakie as Mke\n",
    "\n",
    "Path_Home = @__DIR__\n",
    "cd(Path_Home)\n",
    "Path₀ = abspath(joinpath(Path_Home, \"..\"))\n",
    "println(Path₀)\n",
    "\n",
    "include(joinpath(Path₀, \"Julia//Parameters.jl\"))\n",
    "include(joinpath(Path₀, \"Julia//GeoRaster.jl\"))\n",
    "include(joinpath(Path₀, \"Julia//PlotParameter.jl\"))\n",
    "include(joinpath(Path₀, \"Julia//GeoPlot.jl\"))\n"
   ]
  },
  {
   "cell_type": "code",
   "execution_count": 3,
   "metadata": {},
   "outputs": [],
   "source": [
    "Path_Output = abspath(joinpath(Path_Root_NetCDF, \"..\"))\n",
    "Path_Output = abspath(joinpath(Path_Output, \"..\"))\n",
    "\n",
    "Path_Output_Nc = joinpath(Path_Output, \"output\", 🎏_CatchmentName, \"output_$(🎏_CatchmentName).nc\")\n",
    "    @assert(isfile(Path_Output_Nc))\n",
    "\n",
    "Path_Output_Scalar = joinpath(Path_Output, \"output\", 🎏_CatchmentName, \"output_scalar_$(🎏_CatchmentName).nc\")\n",
    "    @assert(isfile(Path_Output_Scalar))\n",
    "\n",
    "Path_Output_Csv = joinpath(Path_Output, \"output\", 🎏_CatchmentName, \"output_$(🎏_CatchmentName).csv\")\n",
    "    @assert(isfile(Path_Output_Csv))\n",
    "\n",
    "Path_Input_TimeSeries = joinpath(Path_Output, \"input\", 🎏_CatchmentName, \"forcing-$(🎏_CatchmentName).nc\")\n",
    "    @assert(isfile(Path_Input_TimeSeries))\n"
   ]
  },
  {
   "cell_type": "code",
   "execution_count": 5,
   "metadata": {},
   "outputs": [
    {
     "data": {
      "text/plain": [
       "\"D:\\\\JOE\\\\MAIN\\\\MODELS\\\\WFLOW\\\\Wflow.jl\\\\Wflow\\\\Data\\\\input\\\\Timoleague\\\\forcing-Timoleague.nc\""
      ]
     },
     "metadata": {},
     "output_type": "display_data"
    }
   ],
   "source": [
    "Path_Input = Path_Input_TimeSeries\n"
   ]
  },
  {
   "cell_type": "code",
   "execution_count": 6,
   "metadata": {},
   "outputs": [
    {
     "data": {
      "text/plain": [
       "\u001b[31mDataset: D:\\JOE\\MAIN\\MODELS\\WFLOW\\Wflow.jl\\Wflow\\Data\\input\\Timoleague\\forcing-Timoleague.nc\u001b[39m\n",
       "Group: /\n",
       "\n",
       "\u001b[31mDimensions\u001b[39m\n",
       "   time = 131256\n",
       "   y = 186\n",
       "   x = 280\n",
       "\n",
       "\u001b[31mVariables\u001b[39m\n",
       "\u001b[32m  x\u001b[39m   (280)\n",
       "    Datatype:    \u001b[0m\u001b[1mFloat64\u001b[22m (Float64)\n",
       "    Dimensions:  x\n",
       "    Attributes:\n",
       "     long_name            = \u001b[36mx coordinate of projection\u001b[39m\n",
       "     standard_name        = \u001b[36mprojection_x_coordinate\u001b[39m\n",
       "     axis                 = \u001b[36mX\u001b[39m\n",
       "     units                = \u001b[36mm\u001b[39m\n",
       "\n",
       "\u001b[32m  y\u001b[39m   (186)\n",
       "    Datatype:    \u001b[0m\u001b[1mFloat64\u001b[22m (Float64)\n",
       "    Dimensions:  y\n",
       "    Attributes:\n",
       "     long_name            = \u001b[36my coordinate of projection\u001b[39m\n",
       "     standard_name        = \u001b[36mprojection_y_coordinate\u001b[39m\n",
       "     axis                 = \u001b[36mY\u001b[39m\n",
       "     units                = \u001b[36mm\u001b[39m\n",
       "\n",
       "\u001b[32m  time\u001b[39m   (131256)\n",
       "    Datatype:    \u001b[0m\u001b[1mDates.DateTime\u001b[22m (Float64)\n",
       "    Dimensions:  time\n",
       "    Attributes:\n",
       "     units                = \u001b[36mdays since 1900-01-01 00:00:00\u001b[39m\n",
       "\n",
       "\u001b[32m  precip\u001b[39m   (280 × 186 × 131256)\n",
       "    Datatype:    \u001b[0m\u001b[1mUnion{Missing, Float32}\u001b[22m (Float32)\n",
       "    Dimensions:  x × y × time\n",
       "    Attributes:\n",
       "     _FillValue           = \u001b[36mNaN\u001b[39m\n",
       "\n",
       "\u001b[32m  pet\u001b[39m   (280 × 186 × 131256)\n",
       "    Datatype:    \u001b[0m\u001b[1mUnion{Missing, Float32}\u001b[22m (Float32)\n",
       "    Dimensions:  x × y × time\n",
       "    Attributes:\n",
       "     _FillValue           = \u001b[36mNaN\u001b[39m\n",
       "\n",
       "\u001b[32m  temp\u001b[39m   (280 × 186 × 131256)\n",
       "    Datatype:    \u001b[0m\u001b[1mUnion{Missing, Float32}\u001b[22m (Float32)\n",
       "    Dimensions:  x × y × time\n",
       "    Attributes:\n",
       "     _FillValue           = \u001b[36mNaN\u001b[39m\n",
       "\n",
       "\u001b[31mGlobal attributes\u001b[39m\n",
       "  title                = \u001b[36mclimate dataset\u001b[39m\n",
       "  creator              = \u001b[36mJoseph A.P. POLLACCO\u001b[39m\n",
       "  units                = \u001b[36mmm\u001b[39m\n",
       "  crs                  = \u001b[36mWellKnownText{GeoFormatTypes.CRS}(GeoFormatTypes.CRS(), \"PROJCS[\\\"TM65 / Irish Grid\\\",GEOGCS[\\\"TM65\\\",DATUM[\\\"TM65\\\",SPHEROID[\\\"Airy Modified 1849\\\",6377340.189,299.3249646,AUTHORITY[\\\"EPSG\\\",\\\"7002\\\"]],AUTHORITY[\\\"EPSG\\\",\\\"6299\\\"]],PRIMEM[\\\"Greenwich\\\",0,AUTHORITY[\\\"EPSG\\\",\\\"8901\\\"]],UNIT[\\\"degree\\\",0.0174532925199433,AUTHORITY[\\\"EPSG\\\",\\\"9122\\\"]],AUTHORITY[\\\"EPSG\\\",\\\"4299\\\"]],PROJECTION[\\\"Transverse_Mercator\\\"],PARAMETER[\\\"latitude_of_origin\\\",53.5],PARAMETER[\\\"central_meridian\\\",-8],PARAMETER[\\\"scale_factor\\\",1.000035],PARAMETER[\\\"false_easting\\\",200000],PARAMETER[\\\"false_northing\\\",250000],UNIT[\\\"metre\\\",1,AUTHORITY[\\\"EPSG\\\",\\\"9001\\\"]],AXIS[\\\"Easting\\\",EAST],AXIS[\\\"Northing\\\",NORTH],AUTHORITY[\\\"EPSG\\\",\\\"29902\\\"]]\")\u001b[39m\n"
      ]
     },
     "metadata": {},
     "output_type": "display_data"
    }
   ],
   "source": [
    "# All information of NCDataset\n",
    "Output_NCDatasets = NCDatasets.NCDataset(Path_Input)\n"
   ]
  },
  {
   "cell_type": "markdown",
   "metadata": {},
   "source": []
  },
  {
   "cell_type": "code",
   "execution_count": 7,
   "metadata": {},
   "outputs": [
    {
     "name": "stdout",
     "output_type": "stream",
     "text": [
      "(Pmin, Pmax) = (0.0f0, 24.8f0)\n"
     ]
    }
   ],
   "source": [
    "\n",
    "# geoPlot.HEATMAP_TIME(;Path=Path_Output_Nc, NameOutput=OutputVizualisation[6], Layer=SelectOutput)\n",
    "\n",
    "geoPlot.HEATMAP_TIME(;Path=Path_Input, NameOutput=\"precip\", Layer=SelectOutput, 🎏_Reverse=true)\n"
   ]
  }
 ],
 "metadata": {
  "kernelspec": {
   "display_name": "Julia 1.11.7",
   "language": "julia",
   "name": "julia-1.11"
  },
  "language_info": {
   "file_extension": ".jl",
   "mimetype": "application/julia",
   "name": "julia",
   "version": "1.11.7"
  }
 },
 "nbformat": 4,
 "nbformat_minor": 2
}
