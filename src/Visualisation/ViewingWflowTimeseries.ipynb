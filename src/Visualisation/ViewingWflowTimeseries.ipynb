{
 "cells": [
  {
   "cell_type": "code",
   "execution_count": 1,
   "metadata": {},
   "outputs": [
    {
     "data": {
      "text/plain": [
       "1"
      ]
     },
     "metadata": {},
     "output_type": "display_data"
    }
   ],
   "source": [
    "OutputVizualisation = [\"canopystorage\",\n",
    "                        \"h_av_land\",\n",
    "                        \"q_av_land\",\n",
    "                        \"h_av_river\",\n",
    "                        \"q_av_river\",\n",
    "                        \"ustorelayerdepth\",\n",
    "                        \"tsoil\",\n",
    "                        \"satwaterdepth\",\n",
    "                        \"ssf\"]\n",
    "\n",
    "SelectOutput = 1\n",
    "# 6 layers ustorelayerdepth\n"
   ]
  },
  {
   "cell_type": "code",
   "execution_count": 2,
   "metadata": {},
   "outputs": [
    {
     "name": "stdout",
     "output_type": "stream",
     "text": [
      "d:\\JOE\\MAIN\\MODELS\\WFLOW\\WflowDataJoe\\WflowRaster.jl\\src\\\n"
     ]
    },
    {
     "data": {
      "text/plain": [
       "Main.geoPlot"
      ]
     },
     "metadata": {},
     "output_type": "display_data"
    }
   ],
   "source": [
    "using DataFrames, NCDatasets, CairoMakie\n",
    "import CairoMakie as Mke\n",
    "\n",
    "Path_Home = @__DIR__\n",
    "cd(Path_Home)\n",
    "Path₀ = abspath(joinpath(Path_Home, \"..\"))\n",
    "println(Path₀)\n",
    "\n",
    "include(joinpath(Path₀, \"Julia//Parameters.jl\"))\n",
    "include(joinpath(Path₀, \"Julia//GeoRaster.jl\"))\n",
    "include(joinpath(Path₀, \"Julia//PlotParameter.jl\"))\n",
    "include(joinpath(Path₀, \"Julia//GeoPlot.jl\"))\n"
   ]
  },
  {
   "cell_type": "code",
   "execution_count": 3,
   "metadata": {},
   "outputs": [],
   "source": [
    "Path_Output = abspath(joinpath(Path_Root_NetCDF, \"..\"))\n",
    "Path_Output = abspath(joinpath(Path_Output, \"..\"))\n",
    "\n",
    "Path_Output_Nc = joinpath(Path_Output, \"output\", 🎏_CatchmentName, \"output_$(🎏_CatchmentName).nc\")\n",
    "    @assert(isfile(Path_Output_Nc))\n",
    "\n",
    "Path_Output_Scalar = joinpath(Path_Output, \"output\", 🎏_CatchmentName, \"output_scalar_$(🎏_CatchmentName).nc\")\n",
    "    @assert(isfile(Path_Output_Scalar))\n",
    "\n",
    "Path_Output_Csv = joinpath(Path_Output, \"output\", 🎏_CatchmentName, \"output_$(🎏_CatchmentName).csv\")\n",
    "    @assert(isfile(Path_Output_Csv))\n",
    "\n",
    "# Path_Input_TimeSeries = joinpath(Path_Output, \"input\", 🎏_CatchmentName, \"forcing-$(🎏_CatchmentName).nc\")\n",
    "#     @assert(isfile(Path_Input_TimeSeries))\n"
   ]
  },
  {
   "cell_type": "code",
   "execution_count": 4,
   "metadata": {},
   "outputs": [
    {
     "data": {
      "text/plain": [
       "\"D:\\\\JOE\\\\MAIN\\\\MODELS\\\\WFLOW\\\\Wflow.jl\\\\Wflow\\\\Data\\\\output\\\\Timoleague\\\\output_scalar_Timoleague.nc\""
      ]
     },
     "metadata": {},
     "output_type": "display_data"
    }
   ],
   "source": [
    "Path_Input = Path_Output_Scalar\n"
   ]
  },
  {
   "cell_type": "code",
   "execution_count": 5,
   "metadata": {},
   "outputs": [
    {
     "data": {
      "text/plain": [
       "\u001b[31mDataset: D:\\JOE\\MAIN\\MODELS\\WFLOW\\Wflow.jl\\Wflow\\Data\\output\\Timoleague\\output_scalar_Timoleague.nc\u001b[39m\n",
       "Group: /\n",
       "\n",
       "\u001b[31mDimensions\u001b[39m\n",
       "   time = 717\n",
       "   layer = 4\n",
       "   Q_river_gauge__count = 1\n",
       "   temp_bycoord = 1\n",
       "   temp_byindex = 1\n",
       "\n",
       "\u001b[31mVariables\u001b[39m\n",
       "\u001b[32m  time\u001b[39m   (717)\n",
       "    Datatype:    \u001b[0m\u001b[1mDates.DateTime\u001b[22m (Float64)\n",
       "    Dimensions:  time\n",
       "    Attributes:\n",
       "     units                = \u001b[36mdays since 1900-01-01 00:00:00\u001b[39m\n",
       "     calendar             = \u001b[36mstandard\u001b[39m\n",
       "\n",
       "\u001b[32m  layer\u001b[39m   (4)\n",
       "    Datatype:    \u001b[0m\u001b[1mFloat64\u001b[22m (Float64)\n",
       "    Dimensions:  layer\n",
       "    Attributes:\n",
       "     long_name            = \u001b[36mlayer_index\u001b[39m\n",
       "     standard_name        = \u001b[36mlayer_index\u001b[39m\n",
       "     axis                 = \u001b[36mZ\u001b[39m\n",
       "\n",
       "\u001b[32m  Q_river_gauge__count\u001b[39m   (1)\n",
       "    Datatype:    \u001b[0m\u001b[1mString\u001b[22m (String)\n",
       "    Dimensions:  Q_river_gauge__count\n",
       "    Attributes:\n",
       "     cf_role              = \u001b[36mtimeseries_id\u001b[39m\n",
       "\n",
       "\u001b[32m  Q\u001b[39m   (1 × 717)\n",
       "    Datatype:    \u001b[0m\u001b[1mUnion{Missing, Float32}\u001b[22m (Float32)\n",
       "    Dimensions:  Q_river_gauge__count × time\n",
       "    Attributes:\n",
       "     _FillValue           = \u001b[36mNaN\u001b[39m\n",
       "\n",
       "\u001b[32m  temp_bycoord\u001b[39m   (1)\n",
       "    Datatype:    \u001b[0m\u001b[1mString\u001b[22m (String)\n",
       "    Dimensions:  temp_bycoord\n",
       "    Attributes:\n",
       "     cf_role              = \u001b[36mtimeseries_id\u001b[39m\n",
       "\n",
       "\u001b[32m  temp_coord\u001b[39m   (1 × 717)\n",
       "    Datatype:    \u001b[0m\u001b[1mUnion{Missing, Float32}\u001b[22m (Float32)\n",
       "    Dimensions:  temp_bycoord × time\n",
       "    Attributes:\n",
       "     _FillValue           = \u001b[36mNaN\u001b[39m\n",
       "\n",
       "\u001b[32m  temp_byindex\u001b[39m   (1)\n",
       "    Datatype:    \u001b[0m\u001b[1mString\u001b[22m (String)\n",
       "    Dimensions:  temp_byindex\n",
       "    Attributes:\n",
       "     cf_role              = \u001b[36mtimeseries_id\u001b[39m\n",
       "\n",
       "\u001b[32m  temp_index\u001b[39m   (1 × 717)\n",
       "    Datatype:    \u001b[0m\u001b[1mUnion{Missing, Float32}\u001b[22m (Float32)\n",
       "    Dimensions:  temp_byindex × time\n",
       "    Attributes:\n",
       "     _FillValue           = \u001b[36mNaN\u001b[39m\n",
       "\n"
      ]
     },
     "metadata": {},
     "output_type": "display_data"
    }
   ],
   "source": [
    "# All information of NCDataset\n",
    "Output_NCDatasets = NCDatasets.NCDataset(Path_Input)\n"
   ]
  },
  {
   "cell_type": "code",
   "execution_count": 12,
   "metadata": {},
   "outputs": [
    {
     "data": {
      "text/plain": [
       "10-element Vector{Union{Missing, Float32}}:\n",
       " 1.0f-30\n",
       " 1.0f-30\n",
       " 1.0f-30\n",
       " 3.5692742f-6\n",
       " 2.543486f-6\n",
       " 1.3419082f-6\n",
       " 5.8982204f-7\n",
       " 3.071127f-7\n",
       " 8.2976953f-7\n",
       " 3.9446803f-7"
      ]
     },
     "metadata": {},
     "output_type": "display_data"
    }
   ],
   "source": [
    "Data = Output_NCDatasets[\"Q\"]\n",
    "Data = Array(Data)\n",
    "Data[1:10]\n"
   ]
  },
  {
   "cell_type": "markdown",
   "metadata": {},
   "source": []
  },
  {
   "cell_type": "code",
   "execution_count": 6,
   "metadata": {},
   "outputs": [
    {
     "name": "stdout",
     "output_type": "stream",
     "text": [
      "(Pmin, Pmax) = (1.0f-30, 0.5797864f0)\n"
     ]
    },
    {
     "ename": "UndefVarError",
     "evalue": "UndefVarError: `N_Time` not defined in local scope\nSuggestion: check for an assignment to a local variable that shadows a global of the same name.",
     "output_type": "error",
     "traceback": [
      "UndefVarError: `N_Time` not defined in local scope\n",
      "Suggestion: check for an assignment to a local variable that shadows a global of the same name.\n",
      "\n",
      "Stacktrace:\n",
      " [1] HEATMAP_TIME(; Path::String, NameOutput::String, Layer::Int64, 🎏_Reverse::Bool)\n",
      "   @ Main.geoPlot d:\\JOE\\MAIN\\MODELS\\WFLOW\\WflowDataJoe\\WflowRaster.jl\\src\\Julia\\GeoPlot.jl:84\n",
      " [2] top-level scope\n",
      "   @ d:\\JOE\\MAIN\\MODELS\\WFLOW\\WflowDataJoe\\WflowRaster.jl\\src\\Visualisation\\jl_notebook_cell_df34fa98e69747e1a8f8a730347b8e2f_W6sZmlsZQ==.jl:4"
     ]
    }
   ],
   "source": [
    "\n",
    "# geoPlot.HEATMAP_TIME(;Path=Path_Output_Nc, NameOutput=OutputVizualisation[6], Layer=SelectOutput)\n",
    "\n",
    "geoPlot.HEATMAP_TIME(;Path=Path_Input, NameOutput=\"Q\", Layer=SelectOutput, 🎏_Reverse=true)\n"
   ]
  }
 ],
 "metadata": {
  "kernelspec": {
   "display_name": "Julia 1.12.0",
   "language": "julia",
   "name": "julia-1.12"
  },
  "language_info": {
   "file_extension": ".jl",
   "mimetype": "application/julia",
   "name": "julia",
   "version": "1.12.0"
  }
 },
 "nbformat": 4,
 "nbformat_minor": 2
}
