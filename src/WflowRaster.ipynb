{
 "cells": [
  {
   "cell_type": "markdown",
   "metadata": {},
   "source": [
    "# ===================================\n",
    "# **WFLOW: DERIVING INPUT MAPS**\n",
    "# ==================================="
   ]
  },
  {
   "cell_type": "markdown",
   "metadata": {},
   "source": [
    "## ==== **PACKAGES** ====\n"
   ]
  },
  {
   "cell_type": "code",
   "execution_count": 1,
   "metadata": {},
   "outputs": [
    {
     "data": {
      "text/plain": [
       "\"D:\\\\JOE\\\\MAIN\\\\MODELS\\\\WFLOW\\\\Wflow.jl\\\\Wflow\\\\Data\\\\input\\\\Timoleague\""
      ]
     },
     "metadata": {},
     "output_type": "display_data"
    }
   ],
   "source": [
    "using  Revise, Rasters, GeoFormatTypes, GeoTIFF, ArchGDAL, Shapefile, NCDatasets, GeoDataFrames\n",
    "using Colors, ColorSchemes, CairoMakie, DimensionalData\n",
    "using Geomorphometry\n",
    "\n",
    "Path_Home = @__DIR__\n",
    "cd(Path_Home)\n",
    "\n",
    "include(\"Julia//Parameters.jl\")\n",
    "include(\"Julia//GeoRaster.jl\")\n",
    "include(\"Julia//GeoNetcdf.jl\")\n",
    "include(\"Julia//PlotParameter.jl\")\n",
    "include(\"Julia//GeoPlot.jl\")\n",
    "\n",
    "# For new projects if does not exist\n",
    "   mkpath(joinpath(Path_Root, Path_Forcing))\n",
    "   mkpath(joinpath(Path_Root, Path_Gis))\n",
    "#    mkpath(joinpath(Path_Root, Path_Lookuptable))\n",
    "   mkpath(joinpath(Path_Root, Path_NetCDF))\n",
    "   mkpath(joinpath(Path_Root, Path_Julia))\n",
    "   mkpath(joinpath(Path_Root, Path_Python))\n",
    "   mkpath(joinpath(Path_Root, Path_TimeSeriesWflow))\n",
    "   mkpath(joinpath(Path_Root, Path_Wflow))\n",
    "   mkpath(joinpath(Path_Root, \"Qgis\"))\n",
    "   mkpath(joinpath(Path_Root_NetCDF))\n"
   ]
  },
  {
   "cell_type": "markdown",
   "metadata": {},
   "source": [
    "## **=== DEM OPERATIONS ===**"
   ]
  },
  {
   "cell_type": "markdown",
   "metadata": {},
   "source": [
    "### **== DEM:** *Deriving data from Mosaic  ==*"
   ]
  },
  {
   "cell_type": "code",
   "execution_count": 2,
   "metadata": {},
   "outputs": [
    {
     "name": "stdout",
     "output_type": "stream",
     "text": [
      "\u001b[34m\u001b[3m🎏_Mosaic=false\u001b[23m\u001b[39m"
     ]
    }
   ],
   "source": [
    "```\n",
    "Deriving maps from mosaic\n",
    "```\n",
    "if 🎏_Mosaic\n",
    "    Dem₀ = geoRaster.MOSAIC(;Path_Root_Mosaic, Missing=NaN)\n",
    "\n",
    "    Path_Output_Mosaic = joinpath(Path_Root, Path_Gis, Filename_Input_Dem)\n",
    "\n",
    "\t# Reducing the size of the raw map with the shape file having the same shp file as MOSAIC\n",
    "    Path_Input_Shp = joinpath(Path_Root, Path_Gis, Filename_Mask_Shp)\n",
    "    Mask_Shapefile = GeoDataFrames.read(Path_Input_Shp)\n",
    "\tprintln(Path_Input_Shp)\n",
    "\n",
    "\tDem_Resample₁ = Rasters.mask(Dem₀; with=Mask_Shapefile, missingval=NaN, shape=:polygon, boundary=:touches, progress=true)\n",
    "\n",
    "\tRasters.write(Path_Output_Mosaic, Dem_Resample₁; ext=\".tiff\", missingval=NaN, force=true, verbose=true)\n",
    "\tprintln(Path_Output_Mosaic)\n",
    "else\n",
    "    printstyled(\"🎏_Mosaic=$🎏_Mosaic\",color=:blue, italic=true )\n",
    "end\n"
   ]
  },
  {
   "cell_type": "markdown",
   "metadata": {},
   "source": [
    "### == **DEM:** *Resampling and deriving new CRS* =="
   ]
  },
  {
   "cell_type": "code",
   "execution_count": 3,
   "metadata": {},
   "outputs": [
    {
     "name": "stdout",
     "output_type": "stream",
     "text": [
      "Param_Crs = 29902\n",
      "ΔX = 20.0\n",
      "ΔY = -20.0\n",
      "N_Width  = 21055\n",
      "N_Height = 28024\n",
      "Coord_X_Left = -10556.616338923981, Coord_X_Right = 410523.383661076\n",
      "Coord_Y_Top = 532341.122395666, Coord_Y_Bottom = -28118.877604334033\n"
     ]
    },
    {
     "data": {
      "text/plain": [
       "Main.geoRaster.METADATA(21055, 28024, 20, -20, -10556.616338923981, 410523.383661076, 532341.122395666, -28118.877604334033, 29902, WellKnownText{GeoFormatTypes.CRS}(GeoFormatTypes.CRS(), \"PROJCS[\\\"TM65 / Irish Grid\\\",GEOGCS[\\\"TM65\\\",DATUM[\\\"TM65\\\",SPHEROID[\\\"Airy Modified 1849\\\",6377340.189,299.3249646,AUTHORITY[\\\"EPSG\\\",\\\"7002\\\"]],AUTHORITY[\\\"EPSG\\\",\\\"6299\\\"]],PRIMEM[\\\"Greenwich\\\",0,AUTHORITY[\\\"EPSG\\\",\\\"8901\\\"]],UNIT[\\\"degree\\\",0.0174532925199433,AUTHORITY[\\\"EPSG\\\",\\\"9122\\\"]],AUTHORITY[\\\"EPSG\\\",\\\"4299\\\"]],PROJECTION[\\\"Transverse_Mercator\\\"],PARAMETER[\\\"latitude_of_origin\\\",53.5],PARAMETER[\\\"central_meridian\\\",-8],PARAMETER[\\\"scale_factor\\\",1.000035],PARAMETER[\\\"false_easting\\\",200000],PARAMETER[\\\"false_northing\\\",250000],UNIT[\\\"metre\\\",1,AUTHORITY[\\\"EPSG\\\",\\\"9001\\\"]],AXIS[\\\"Easting\\\",EAST],AXIS[\\\"Northing\\\",NORTH],AUTHORITY[\\\"EPSG\\\",\\\"29902\\\"]]\"))"
      ]
     },
     "metadata": {},
     "output_type": "display_data"
    }
   ],
   "source": [
    "\"\"\"\thttps://rafaqz.github.io/Rasters.jl/dev/api#Rasters.resample-Tuple\n",
    "method: A Symbol or String specifying the method to use for resampling. From the docs for gdalwarp:\n",
    "\n",
    "**:near:** nearest neighbour resampling (default, fastest algorithm, worst interpolation quality).\n",
    ":bilinear: bilinear resampling.\n",
    ":cubic: cubic resampling.\n",
    ":cubicspline: cubic spline resampling.\n",
    ":lanczos: Lanczos windowed sinc resampling.\n",
    ":average: average resampling, computes the weighted average of all non-NODATA contributing pixels. rms root mean square / quadratic mean of all non-NODATA contributing pixels (GDAL >= 3.3)\n",
    ":mode: mode resampling, selects the value which appears most often of all the sampled points.\n",
    ":max: maximum resampling, selects the maximum value from all non-NODATA contributing pixels.\n",
    ":min: minimum resampling, selects the minimum value from all non-NODATA contributing pixels.\n",
    ":med: median resampling, selects the median value of all non-NODATA contributing pixels.\n",
    ":q1: first quartile resampling, selects the first quartile value of all non-NODATA contributing pixels.\n",
    ":q3: third quartile resampling, selects the third quartile value of all non-NODATA contributing pixels.\n",
    ":sum: compute the weighted sum of all non-NODATA contributing pixels (since GDAL 3.1)\"\"\"\n",
    "\n",
    "🎏_Method₁ = true\n",
    "🎏_Method₂ = true\n",
    "\n",
    "@assert(🎏_Method₁ || 🎏_Method₂)\n",
    "\n",
    "# Reading data\n",
    "\tif 🎏_DemFromMosaic\n",
    "        Path_Output_Mosaic = joinpath(Path_Root, Path_Gis, Filename_Input_Dem)\n",
    "        Dem_Resample₀ = Rasters.Raster(Path_Output_Mosaic)\n",
    "        Dem_Resample₁  = Rasters.replace_missing(Dem_Resample₀, missingval=NaN)\n",
    "\n",
    "    elseif !(🎏_Mosaic)\n",
    "        Path_Gis_Dem  = joinpath(Path_Root, Path_Gis, Filename_Input_Dem)\n",
    "        Dem_Resample₀ = Rasters.Raster(Path_Gis_Dem)\n",
    "        Dem_Resample₁  = Rasters.replace_missing(Dem_Resample₀, missingval=NaN)\n",
    "\tend\n",
    "\n",
    "   # Resample Dem in 2 steps\n",
    "      Param_Crs_GeoFormat = GeoFormatTypes.convert(WellKnownText, EPSG(Param_Crs))\n",
    "\n",
    "    if 🎏_Method₁\n",
    "        Dem_Resample₁ = Rasters.resample(Dem_Resample₁; res=Param_ΔX₁, method=Param_ResampleMethod₁, crs=Param_Crs_GeoFormat)\n",
    "    end\n",
    "\n",
    "    if 🎏_Method₂\n",
    "      Dem_Resample₁  = Rasters.resample(Dem_Resample₁; res=Param_ΔX₂, method=Param_ResampleMethod₂, crs=Param_Crs_GeoFormat)\n",
    "    end\n",
    "\n",
    "    # Shiftlocus\n",
    "        Dem_Resample = DimensionalData.shiftlocus(DimensionalData.Center(), Dem_Resample₁)\n",
    "\n",
    "# Getting the metadata\n",
    "\tMetadatas = geoRaster.RASTER_METADATA(Dem_Resample; Verbose=true)\n"
   ]
  },
  {
   "cell_type": "markdown",
   "metadata": {},
   "source": [
    "### == **DEM:** *Longitute and Latitude* =="
   ]
  },
  {
   "cell_type": "code",
   "execution_count": 4,
   "metadata": {},
   "outputs": [],
   "source": [
    "# Longitude, Latitude = Rasters.X(Metadatas.Coord_X_Left: Metadatas.ΔX: Metadatas.Coord_X_Right, crs=Metadatas.Crs_GeoFormat), Rasters.Y(Metadatas.Coord_Y_Top: Metadatas.ΔY: Metadatas.Coord_Y_Bottom, crs=Metadatas.Crs_GeoFormat)\n",
    "\n",
    "Longitude = DimensionalData.X(LinRange(Metadatas.Coord_X_Left: Metadatas.ΔX: Metadatas.Coord_X_Right);  sampling=DimensionalData.Intervals(DimensionalData.Center()), crs=Metadatas.Crs_GeoFormat)\n",
    "\n",
    "Latitude = DimensionalData.Y(LinRange(Metadatas.Coord_Y_Top: Metadatas.ΔY: Metadatas.Coord_Y_Bottom);  sampling=DimensionalData.Intervals(DimensionalData.Center()), crs=Metadatas.Crs_GeoFormat)\n",
    "\n",
    "@assert(Metadatas.N_Width  == length(Longitude))\n",
    "@assert(Metadatas.N_Height == length(Latitude))\n"
   ]
  },
  {
   "cell_type": "markdown",
   "metadata": {},
   "source": [
    "### == **DEM:** *Deriving a coastal boundary* =="
   ]
  },
  {
   "cell_type": "code",
   "execution_count": 5,
   "metadata": {},
   "outputs": [],
   "source": [
    "if 🎏_Coastline\n",
    "\tCoastline_Bool, Dem_Resample = geoRaster.DEM_DERIVE_COASTLINES(;Dem=Dem_Resample,  Longitude, Latitude, Crs=Metadatas.Crs_GeoFormat, Missing=NaN, DemMin=5.0)\n",
    "\n",
    "\t# Writting the output\n",
    "\tPath_Julia_Coastline = joinpath(Path_Root, Path_Julia, Filename_Coastline)\n",
    "\tRasters.write(Path_Julia_Coastline, Coastline_Bool; ext=\".tiff\", missingval= NaN, force=true, verbose=true)\n",
    "\n",
    "    if 🎏_Plots\n",
    "\t    using GLMakie\n",
    "\t    GLMakie.activate!()\n",
    "\n",
    "\t    geoPlot.HEATMAP(;🎏_Colorbar=true, Input=Coastline_Bool, Title=\"Digital Elevation Model\", Label=\"Altitude [m]\", colormap=:greys)\n",
    "    end\n",
    "end\n"
   ]
  },
  {
   "cell_type": "markdown",
   "metadata": {},
   "source": [
    "### == **DEM:** *Reduce size of map by removing NaN* =="
   ]
  },
  {
   "cell_type": "code",
   "execution_count": 6,
   "metadata": {},
   "outputs": [
    {
     "name": "stdout",
     "output_type": "stream",
     "text": [
      "Param_Crs = 29902\n",
      "ΔX = 20.0\n",
      "ΔY = -20.0\n",
      "N_Width  = 605\n",
      "N_Height = 623\n",
      "Coord_X_Left = 141403.38366107602, Coord_X_Right = 153483.38366107602\n",
      "Coord_Y_Top = 47781.12239566597, Coord_Y_Bottom = 35341.12239566597\n"
     ]
    }
   ],
   "source": [
    "Dem_Resample = Rasters.trim(Dem_Resample)\n",
    "Metadatas    = geoRaster.RASTER_METADATA(Dem_Resample; Verbose=true)\n",
    "\n",
    "Longitude, Latitude = Rasters.X(Metadatas.Coord_X_Left: Metadatas.ΔX: Metadatas.Coord_X_Right, crs=Metadatas.Crs_GeoFormat), Rasters.Y(Metadatas.Coord_Y_Top: Metadatas.ΔY: Metadatas.Coord_Y_Bottom, crs=Metadatas.Crs_GeoFormat)\n",
    "\n",
    "if 🎏_Plots\n",
    "\tusing GLMakie\n",
    "\tGLMakie.activate!()\n",
    "\n",
    "\tgeoPlot.HEATMAP(;🎏_Colorbar=true, Input= Geomorphometry.multihillshade(Dem_Resample), Title=\"Digital Elevation Model\", Label=\"Altitude [m]\", colormap=:greys)\n",
    "end\n"
   ]
  },
  {
   "cell_type": "markdown",
   "metadata": {},
   "source": [
    "## == **WRITTING OUTPUTS** =="
   ]
  },
  {
   "cell_type": "code",
   "execution_count": 7,
   "metadata": {},
   "outputs": [
    {
     "name": "stdout",
     "output_type": "stream",
     "text": [
      "d:\\JOE\\MAIN\\MODELS\\WFLOW\\DATA\\Timoleague\\OutputJulia\\Ireland_DEM_Croped.tiff\n"
     ]
    },
    {
     "data": {
      "text/plain": [
       "\"d:\\\\JOE\\\\MAIN\\\\MODELS\\\\WFLOW\\\\DATA\\\\Timoleague\\\\OutputJulia\\\\Ireland_DEM_Croped.tiff\""
      ]
     },
     "metadata": {},
     "output_type": "display_data"
    }
   ],
   "source": [
    "# Writting the output\n",
    "\tPath_Julia_Dem = joinpath(Path_Root, Path_Julia, Filename_Julia_Dem)\n",
    "    println(Path_Julia_Dem)\n",
    "\tRasters.write(Path_Julia_Dem, Dem_Resample; ext=\".tiff\", missingval= NaN, force=true, verbose=true)\n"
   ]
  },
  {
   "cell_type": "markdown",
   "metadata": {},
   "source": [
    "## ====== **PLEASE RUN PYTHON CODE** ======="
   ]
  },
  {
   "cell_type": "markdown",
   "metadata": {},
   "source": [
    "# === **DEM:** *Reading the corrected DEM from python & cleaning data* ==="
   ]
  },
  {
   "cell_type": "code",
   "execution_count": 8,
   "metadata": {},
   "outputs": [
    {
     "name": "stderr",
     "output_type": "stream",
     "text": [
      "WARNING: replacing module geoRaster.\n"
     ]
    },
    {
     "name": "stdout",
     "output_type": "stream",
     "text": [
      "Param_Crs = 29902\n",
      "ΔX = 20.0\n",
      "ΔY = -20.0\n",
      "N_Width  = 280\n",
      "N_Height = 186\n",
      "Coord_X_Left = 142243.38366107602, Coord_X_Right = 147823.38366107602\n",
      "Coord_Y_Top = 43581.12239566597, Coord_Y_Bottom = 39881.12239566597\n"
     ]
    },
    {
     "data": {
      "text/plain": [
       "\"d:\\\\JOE\\\\MAIN\\\\MODELS\\\\WFLOW\\\\DATA\\\\Timoleague\\\\OutputJulia\\\\DEM_Corrected.tiff\""
      ]
     },
     "metadata": {},
     "output_type": "display_data"
    }
   ],
   "source": [
    "include(\"Julia//GeoRaster.jl\")\n",
    "\n",
    "# Reading data\n",
    "   Path_InputPython_Dem = joinpath(Path_Root, Path_Python, Filename_Python_DemCorrected)\n",
    "\n",
    "   Dem_Resample₀ = Rasters.Raster(Path_InputPython_Dem)\n",
    "   Dem_Resample₁  = Rasters.replace_missing(Dem_Resample₀, missingval=NaN)\n",
    "\n",
    "# Cleaning data\n",
    "    Dem_Resample₂ = Rasters.trim(Dem_Resample₁)\n",
    "    Dem_Resample = DimensionalData.shiftlocus(DimensionalData.Center(), Dem_Resample₂)\n",
    "\n",
    "# Getting the metadata\n",
    "    Metadatas    = geoRaster.RASTER_METADATA(Dem_Resample; Verbose=true)\n",
    "\n",
    "if 🎏_Plots\n",
    "\tgeoPlot.HEATMAP(;🎏_Colorbar=true, Input= Geomorphometry.multihillshade(Dem_Resample), Title=\"Corrected Digital Elevation Model\", Label=\"Altitude [m]\", colormap=:greys)\n",
    "end\n",
    "\n",
    "# Writting the output\n",
    "   Path_Julia_Dem_Corrected = joinpath(Path_Root, Path_Julia, Filename_Julia_DemCorrected)\n",
    "   Rasters.write(Path_Julia_Dem_Corrected, Dem_Resample; ext=\".tiff\", missingval= NaN, force=true, verbose=true)\n"
   ]
  },
  {
   "cell_type": "markdown",
   "metadata": {},
   "source": [
    "## **== Longitude & Latitude ==**"
   ]
  },
  {
   "cell_type": "code",
   "execution_count": 9,
   "metadata": {},
   "outputs": [
    {
     "data": {
      "text/plain": [
       "\u001b[38;5;209mY\u001b[39m"
      ]
     },
     "metadata": {},
     "output_type": "display_data"
    }
   ],
   "source": [
    "\n",
    "Longitude = DimensionalData.X(LinRange(Metadatas.Coord_X_Left: Metadatas.ΔX: Metadatas.Coord_X_Right);  sampling=DimensionalData.Intervals(DimensionalData.Center()), crs=Metadatas.Crs_GeoFormat)\n",
    "\n",
    "Latitude = DimensionalData.Y(LinRange(Metadatas.Coord_Y_Top: Metadatas.ΔY: Metadatas.Coord_Y_Bottom);  sampling=DimensionalData.Intervals(DimensionalData.Center()), crs=Metadatas.Crs_GeoFormat)\n"
   ]
  },
  {
   "cell_type": "markdown",
   "metadata": {},
   "source": [
    "## **== Subcatchment ==**"
   ]
  },
  {
   "cell_type": "code",
   "execution_count": 10,
   "metadata": {},
   "outputs": [
    {
     "name": "stdout",
     "output_type": "stream",
     "text": [
      "d:\\JOE\\MAIN\\MODELS\\WFLOW\\DATA\\Timoleague\\OutputWflow\\Wflow_Subcatchment.tiff\n"
     ]
    }
   ],
   "source": [
    "if 🎏_MaskFromDem\n",
    "    # Computing subcatchments\n",
    "   Subcatchment = Rasters.Raster((Longitude, Latitude), crs=Metadatas.Crs_GeoFormat, missingval=0)\n",
    "\n",
    "   Threads.@threads for iX=1:Metadatas.N_Width\n",
    "      Threads.@threads for iY=1:Metadatas.N_Height\n",
    "\t    if !isnan(Dem_Resample[iX,iY])\n",
    "            Subcatchment[iX,iY] = 1::Int64\n",
    "         else\n",
    "            Subcatchment[iX,iY] = 0::Int64\n",
    "         end\n",
    "      end # for iY=1:Metadatas.N_Height\n",
    "   end # for iX=1:Metadatas.N_Width\n",
    "\n",
    "\n",
    "else\n",
    "    Path_InputPython_Subcatchment = joinpath(Path_Root, Path_Python, Filename_Python_CatchmentSubcatchment)\n",
    "    Subcatchment₀                 = Rasters.Raster(Path_InputPython_Subcatchment)\n",
    "    Subcatchment₀                 = Rasters.replace_missing(Subcatchment₀, missingval=0)\n",
    "\n",
    "    # Computing subcatchments\n",
    "    Subcatchment = Rasters.Raster((Longitude, Latitude), crs=Metadatas.Crs_GeoFormat)\n",
    "\n",
    "    Threads.@threads for iX=1:Metadatas.N_Width\n",
    "        Threads.@threads for iY=1:Metadatas.N_Height\n",
    "            # if Subcatchment₀[iX,iY] == 1\n",
    "            #  if Subcatchment₀[iX,iY] > 0\n",
    "            if !isnan(Dem_Resample[iX,iY])\n",
    "                Subcatchment[iX,iY] = 1::Int64\n",
    "            else\n",
    "                Subcatchment[iX,iY] = 0::Int64\n",
    "            end\n",
    "        end # for iY=1:Metadatas.N_Height\n",
    "    end # for iX=1:Metadatas.N_Width\n",
    "end # if 🎏_MaskFromDem\n",
    "\n",
    "# Testing for issues\n",
    "    🎏_Map₁_Eq_Map₂ = geoRaster.TEST_SAMESIZE(; Map₁=Dem_Resample, Map₂=Subcatchment, Map₁_Nodata=NaN, Map₂_Nodata=0)\n",
    "\n",
    "# Writting the output\n",
    "   Path_Subcatchment = joinpath(Path_Root, Path_Wflow, Filename_Wflow_Subcatchment)\n",
    "   println(Path_Subcatchment)\n",
    "   Rasters.write(Path_Subcatchment, Subcatchment; ext=\".tiff\", missingval= NaN, force=true, verbose=true)\n",
    "\n",
    "if 🎏_Plots\n",
    "\tgeoPlot.HEATMAP(;🎏_Colorbar=true, Input=Subcatchment, Title=\"Subcatchment\", Label=\"Subcatchment\")\n",
    "end\n"
   ]
  },
  {
   "cell_type": "markdown",
   "metadata": {},
   "source": [
    "## === **CATCHMENT:** *Reading catchment boundary from Python used as a mask* ==="
   ]
  },
  {
   "cell_type": "markdown",
   "metadata": {},
   "source": [
    "## **DEM:** *Mask to catchment area*"
   ]
  },
  {
   "cell_type": "code",
   "execution_count": 11,
   "metadata": {},
   "outputs": [],
   "source": [
    "# include(\"Julia//GeoRaster.jl\")\n",
    "\n",
    "# Dem_Resample_Mask = geoRaster.MASK(;Input=Dem_Resample, Mask=Subcatchment, Param_Crs=Metadatas.Crs_GeoFormat, Latitude, Longitude)\n",
    "\n",
    "# 🎏_Map₁_Eq_Map₂ = geoRaster.TEST_SAMESIZE(; Map₁=Dem_Resample_Mask, Map₂=Subcatchment, Map₁_Nodata=NaN, Map₂_Nodata=0)\n",
    "\n",
    "# # Writting output\n",
    "#    Path_Julia_DemMask = joinpath(Path_Root, Path_Julia, Filename_Julia_Dem_Mask)\n",
    "\n",
    "#    Rasters.write(Path_Julia_DemMask, Dem_Resample_Mask; ext=\".tiff\", missingval= NaN, force=true, verbose=true)\n",
    "\n",
    "# # Getting the metadata\n",
    "# \tMetadatas = geoRaster.RASTER_METADATA(Dem_Resample_Mask; Verbose=true);\n",
    "\n",
    "# if 🎏_Plots\n",
    "# \tgeoPlot.HEATMAP(;🎏_Colorbar=true, Input= Dem_Resample_Mask, Title=\"Digital Elevation Model Masked\", Label=\"Altitude [m]\")\n",
    "# end\n"
   ]
  },
  {
   "cell_type": "markdown",
   "metadata": {},
   "source": [
    "## == **DEM:** *flow accumulation* =="
   ]
  },
  {
   "cell_type": "code",
   "execution_count": 12,
   "metadata": {},
   "outputs": [],
   "source": [
    "if 🎏_Plots && 🎏_Plot_FlowAccumulation\n",
    "   # Options: DInf(), D8(), FD8(2)\n",
    "   Acc, Ldd = Geomorphometry.flowaccumulation(Dem_Resample; method=FD8(4))\n",
    "\n",
    "   Acc_Mask = geoRaster.MASK(;Param_Crs=Metadatas.Crs_GeoFormat, Input=Acc, Latitude, Longitude, Mask=Subcatchment)\n",
    "\n",
    "\tgeoPlot.HEATMAP(;🎏_Colorbar=true, Input= log10.(Acc_Mask), Title=\"Flow accumulation\", Label=\"Flow accumulation [mm]\", colormap=:rain)\n",
    "end\n"
   ]
  },
  {
   "cell_type": "markdown",
   "metadata": {},
   "source": [
    "## == **LDD:** *Python Mask to catchment area* == "
   ]
  },
  {
   "cell_type": "code",
   "execution_count": 13,
   "metadata": {},
   "outputs": [
    {
     "name": "stderr",
     "output_type": "stream",
     "text": [
      "WARNING: replacing module geoRaster.\n"
     ]
    },
    {
     "name": "stdout",
     "output_type": "stream",
     "text": [
      "d:\\JOE\\MAIN\\MODELS\\WFLOW\\DATA\\Timoleague\\OutputWflow\\Wflow_Ldd.tiff\n"
     ]
    },
    {
     "data": {
      "text/plain": [
       "true"
      ]
     },
     "metadata": {},
     "output_type": "display_data"
    }
   ],
   "source": [
    "include(\"Julia//GeoRaster.jl\")\n",
    "\n",
    "Path_InputPython_Ldd = joinpath(Path_Root, Path_Python, Filename_Python_Ldd)\n",
    "Ldd₁                 = Rasters.Raster(Path_InputPython_Ldd)\n",
    "Ldd₁                 = Rasters.replace_missing(Ldd₁, missingval=0)\n",
    "\n",
    "# Masking with catchment\n",
    "   Ldd_Mask = Rasters.resample(Ldd₁; to=Dem_Resample, missingval=0)\n",
    "\n",
    "   Ldd_Mask = geoRaster.MASK(;Param_Crs=Metadatas.Crs_GeoFormat, Input=Ldd_Mask, Latitude, Longitude, Mask=Subcatchment, Missing=0)\n",
    "\n",
    "# Writting output\n",
    "   Path_Wflow_LddMask = joinpath(Path_Root, Path_Wflow, Filename_Wflow_Ldd)\n",
    "   Rasters.write(Path_Wflow_LddMask, Ldd_Mask; ext=\".tiff\", force=true, verbose=true)\n",
    "   println(Path_Wflow_LddMask)\n",
    "\n",
    "if 🎏_Plots\n",
    "\tgeoPlot.HEATMAP(;🎏_Colorbar=true, Input=Ldd_Mask, Title=\"Local Drain Direction\", Label=\"Ldd [1-9]\", colormap=Makie.Categorical(:Spectral_11))\n",
    "end\n",
    "\n",
    "🎏_Map₁_Eq_Map₂ = geoRaster.TEST_SAMESIZE(; Map₁=Subcatchment, Map₂=Ldd_Mask, Map₁_Nodata=0, Map₂_Nodata=0)\n"
   ]
  },
  {
   "cell_type": "markdown",
   "metadata": {},
   "source": [
    "## == **GAUGE** =="
   ]
  },
  {
   "cell_type": "code",
   "execution_count": 14,
   "metadata": {},
   "outputs": [
    {
     "name": "stdout",
     "output_type": "stream",
     "text": [
      "[224, 71]\n",
      "d:\\JOE\\MAIN\\MODELS\\WFLOW\\DATA\\Timoleague\\OutputWflow\\Wflow_Gauges_grdc.tiff\n"
     ]
    }
   ],
   "source": [
    "\"\"\" Sometimes the Near() method returns the right pixel data, but it’s strange, it “fails” with coordinate points that are pretty at the center of their pixel..\n",
    " But also note your Raster does not contain “pixels” that have a center (Intervals on x/y), but Points. So likely your confusion is from treating them as pixels starting from the point at one side\"\"\"\n",
    "\n",
    "Path_OutputGauge = joinpath(Path_Root, Path_Wflow, Filename_Wflow_Gauge)\n",
    "\n",
    "Gauge, iiParam_GaugeCoordinate = geoRaster.GAUGE(;🎏_Method_Index = \"Rasters\", Latitude=Latitude, Longitude=Longitude, Metadatas=Metadatas, Param_GaugeCoordinate, Path_OutputGauge)\n",
    "\n",
    "if 🎏_Plots\n",
    "\tgeoPlot.HEATMAP(;🎏_Colorbar=true, Input= Gauge, Title=\"Gauge\", Label=\"Altitude [m]\", colormap=:reds)\n",
    "end\n",
    "\n",
    "println(Path_OutputGauge)\n"
   ]
  },
  {
   "cell_type": "markdown",
   "metadata": {},
   "source": [
    "## ==**RIVER:** *Mask to catchment area*=="
   ]
  },
  {
   "cell_type": "code",
   "execution_count": 15,
   "metadata": {},
   "outputs": [
    {
     "name": "stdout",
     "output_type": "stream",
     "text": [
      "d:\\JOE\\MAIN\\MODELS\\WFLOW\\DATA\\Timoleague\\OutputPython\\Dem2Rivers.tiff\n"
     ]
    }
   ],
   "source": [
    "if 🎏_RiverFromDem\n",
    "    Path_Input_RiverFromDem = joinpath(Path_Root, Path_Python, Filename_Python_Dem2Rivers)\n",
    "    println(Path_Input_RiverFromDem)\n",
    "    River₀ = Rasters.Raster(Path_Input_RiverFromDem)\n",
    "\n",
    "    River = Rasters.resample(River₀; to=Dem_Resample, missingval=0)\n",
    "\n",
    "    for iX=1:Metadatas.N_Width\n",
    "        for iY=1:Metadatas.N_Height\n",
    "            if !(ismissing(River[iX,iY]))\n",
    "                if River[iX,iY] > 0\n",
    "                    River[iX,iY] = 1\n",
    "                else\n",
    "                    River[iX,iY] = 0\n",
    "                end\n",
    "            else\n",
    "                River[iX,iY] = 0\n",
    "            end\n",
    "        end # for iY=1:Metadatas.N_Height\n",
    "    end # for iX=1:Metadatas.N_Width\n",
    "\n",
    "else\n",
    "    Path_Gis_River  = joinpath(Path_Root, Path_Gis, Filename_River_Shp)\n",
    "    println(Path_Gis_River)\n",
    "\n",
    "    # Load the shapefile\n",
    "    River_Raw = Shapefile.Handle(Path_Gis_River)\n",
    "\n",
    "    River = Rasters.rasterize(last, River_Raw; res=Param_ΔX₂, fill=1, missingval=0, crs=Metadatas.Crs_GeoFormat, to=Dem_Resample, shape=:line ,progress=true)\n",
    "end # if 🎏_RiverFromDem\n",
    "\n",
    "River_Mask = geoRaster.MASK(;Param_Crs=Metadatas.Crs_GeoFormat, Input=River, Latitude, Longitude, Mask=Subcatchment, Missing=0)\n",
    "\n",
    "Path_Wflow_River = joinpath(Path_Root, Path_Wflow, Filename_Wflow_Rivers)\n",
    "Rasters.write(Path_Wflow_River, River_Mask; ext=\".tiff\", force=true, verbose=true, missingval=0)\n",
    "\n",
    "if 🎏_Plots\n",
    "   CairoMakie.activate!()\n",
    "   Fig_6 =  CairoMakie.Figure()\n",
    "   Axis_6 = CairoMakie.Axis(Fig_6[1, 1], title=\"Rivers\", xlabel= L\"$Latitude$\", ylabel=L\"$Longitude$\", ylabelsize=ylabelsize, xlabelsize=xlabelSize, xticksize=xticksize, yticksize=yticksize, titlesize=titlesize,  titlecolor=titlecolor)\n",
    "\n",
    "   Map_6 = CairoMakie.heatmap!(Axis_6, River_Mask, colormap=Reverse(:lajolla))\n",
    "#    Map_6 = CairoMakie.heatmap!(Axis_6, Gauge, colormap=:reds)\n",
    "\n",
    "#    CairoMakie.Colorbar(Fig_6[1, 2], Map_6, label = \"Rivers\", width = 15, ticksize = 15, tickalign = 0.5)\n",
    "   CairoMakie.display(Fig_6)\n",
    "end\n"
   ]
  },
  {
   "cell_type": "markdown",
   "metadata": {},
   "source": [
    "## == **PITS**=="
   ]
  },
  {
   "cell_type": "code",
   "execution_count": 16,
   "metadata": {},
   "outputs": [
    {
     "data": {
      "text/plain": [
       "\"[224, 71]\""
      ]
     },
     "metadata": {},
     "output_type": "display_data"
    },
    {
     "name": "stdout",
     "output_type": "stream",
     "text": [
      "\tPits = 1\n",
      "d:\\JOE\\MAIN\\MODELS\\WFLOW\\DATA\\Timoleague\\OutputJulia\\Pits.tiff\n"
     ]
    }
   ],
   "source": [
    "#   Ldd_Mask[iiParam_GaugeCoordinate[1],iiParam_GaugeCoordinate[2]] = 5\n",
    "\n",
    "Pits  = Rasters.Raster((Longitude, Latitude), crs=Metadatas.Crs_GeoFormat,  missingval=0)\n",
    "\n",
    "Pits_Count = 0\n",
    "for iX=1:Metadatas.N_Width\n",
    "   for iY=1:Metadatas.N_Height\n",
    "      if Ldd_Mask[iX, iY] == 5\n",
    "         Pits_Count += 1\n",
    "         Pits[iX,iY] = Pits_Count\n",
    "         display(\"[$iX, $iY]\")\n",
    "    else\n",
    "        Pits[iX,iY] = NaN\n",
    "      end\n",
    "   end # for iY=1:Metadatas.N_Height\n",
    "end # for iX=1:Metadatas.N_Width\n",
    "\n",
    "println(\"\tPits = $Pits_Count\")\n",
    "\n",
    "# Writting output\n",
    "   PathOutput_Pits = joinpath(Path_Root, Path_Julia, Filename_Julia_Pits)\n",
    "   Rasters.write(PathOutput_Pits, Pits; ext=\".tiff\", force=true, verbose=true)\n",
    "   println(PathOutput_Pits)\n"
   ]
  },
  {
   "cell_type": "markdown",
   "metadata": {},
   "source": [
    "## == **SLOPE:** *Reading Slope from Python & Mask* =="
   ]
  },
  {
   "cell_type": "code",
   "execution_count": 17,
   "metadata": {},
   "outputs": [
    {
     "name": "stderr",
     "output_type": "stream",
     "text": [
      "WARNING: replacing module geoRaster.\n"
     ]
    },
    {
     "name": "stdout",
     "output_type": "stream",
     "text": [
      "d:\\JOE\\MAIN\\MODELS\\WFLOW\\DATA\\Timoleague\\OutputWflow\\Wflow_Slope.tiff\n"
     ]
    }
   ],
   "source": [
    "include(\"Julia//GeoRaster.jl\")\n",
    "\n",
    "Path_InputPython_Slope = joinpath(Path_Root, Path_Python, Filename_Python_Slope)\n",
    "\n",
    "Slope₀ = Rasters.Raster(Path_InputPython_Slope)\n",
    "\n",
    "Slope = Rasters.replace_missing(Slope₀, missingval=NaN)\n",
    "\n",
    "Slope = Rasters.resample(Slope₀; to=Dem_Resample, missingval=0)\n",
    "\n",
    "Slope_Mask = geoRaster.MASK(;Param_Crs=Metadatas.Crs_GeoFormat, Input=Slope, Latitude, Longitude, Mask=Subcatchment)\n",
    "\n",
    "# Slope_Mask = Rasters.replace_missing(Slope₀, missingval=NaN)\n",
    "\n",
    "# Writting the output\n",
    "Path_Wflow_Slope = joinpath(Path_Root, Path_Wflow, Filename_Wflow_Slope)\n",
    "Rasters.write(Path_Wflow_Slope, Slope_Mask; ext=\".tiff\", force=true, verbose=true)\n",
    "println(Path_Wflow_Slope)\n",
    "\n",
    "if 🎏_Plots\n",
    "\tgeoPlot.HEATMAP(;🎏_Colorbar=true, Input=Slope_Mask, Title=\"Slope\", Label=\"Slope\", colormap=:matter)\n",
    "end\n",
    "\n",
    "# 🎏_Map₁_Eq_Map₂ = geoRaster.TEST_SAMESIZE(; Map₁=Subcatchment, Map₂=Slope_Mask,  Map₁_Nodata=NaN, Map₂_Nodata=NaN)\n"
   ]
  },
  {
   "cell_type": "markdown",
   "metadata": {},
   "source": [
    "## == **Rivers slope** =="
   ]
  },
  {
   "cell_type": "code",
   "execution_count": 18,
   "metadata": {},
   "outputs": [
    {
     "name": "stdout",
     "output_type": "stream",
     "text": [
      "d:\\JOE\\MAIN\\MODELS\\WFLOW\\DATA\\Timoleague\\OutputWflow\\Wflow_RiverSlope.tiff\n"
     ]
    },
    {
     "name": "stderr",
     "output_type": "stream",
     "text": [
      "WARNING: replacing module geoRaster.\n"
     ]
    }
   ],
   "source": [
    "include(\"Julia//GeoRaster.jl\")\n",
    "\n",
    "RiverSlope = geoRaster.MASK(;Param_Crs=Metadatas.Crs_GeoFormat, Input=Slope_Mask, Latitude, Longitude, Mask=River_Mask)\n",
    "\n",
    "Path_Wflow_RiverSlope = joinpath(Path_Root, Path_Wflow, Filename_Wflow_RiverSlope)\n",
    "\n",
    "Rasters.write(Path_Wflow_RiverSlope, RiverSlope; ext=\".tiff\", force=true, verbose=true)\n",
    "println(Path_Wflow_RiverSlope)\n",
    "\n",
    "if 🎏_Plots\n",
    "   CairoMakie.activate!()\n",
    "   Fig_12 =  CairoMakie.Figure()\n",
    "   Axis_12 = CairoMakie.Axis(Fig_12[1, 1], title=\"River Slope Per Pixel\", xlabel= L\"$Latitude$\", ylabel=L\"$Longitude$\", ylabelsize=ylabelsize, xlabelsize=xlabelSize, xticksize=xticksize, yticksize=yticksize, titlesize=titlesize, titlecolor=titlecolor)\n",
    "\n",
    "   # CairoMakie.plot!(Axis_12, River_Mask, colormap=Reverse(:lajolla))\n",
    "   Map_12 = CairoMakie.heatmap!(Axis_12, RiverSlope, colormap=:viridis)\n",
    "\n",
    "   Colorbar(Fig_12[1, 2], Map_12, label = \"River slope [deg]\", width = 15, ticksize = 15, tickalign = 0.5)\n",
    "   display(Fig_12)\n",
    "end\n"
   ]
  },
  {
   "cell_type": "markdown",
   "metadata": {},
   "source": [
    "## == **River width** =="
   ]
  },
  {
   "cell_type": "code",
   "execution_count": 19,
   "metadata": {},
   "outputs": [],
   "source": [
    "RiverWidth = Rasters.Raster((Longitude, Latitude), crs=Metadatas.Crs_GeoFormat, mappedcrs=EPSG(Metadatas.Param_Crs))\n",
    "for iX=1:Metadatas.N_Width\n",
    "   for iY=1:Metadatas.N_Height\n",
    "      if River_Mask[iX,iY] == 1\n",
    "         RiverWidth[iX,iY] = Param_RiverWidth\n",
    "      else\n",
    "         RiverWidth[iX,iY] = NaN\n",
    "      end\n",
    "   end # for iY=1:Metadatas.N_Height\n",
    "end # for iX=1:Metadatas.N_Width\n",
    "\n",
    "Path_Wflow_RiverWidth = joinpath(Path_Root, Path_Wflow, Filename_Wflow_RiverWidth)\n",
    "# Rasters.write(Path_Wflow_RiverWidth, RiverWidth; ext=\".tiff\", force=true, verbose=true)\n",
    "\n",
    "if 🎏_Plots\n",
    "   CairoMakie.activate!()\n",
    "   Fig_9 =  CairoMakie.Figure()\n",
    "   Axis_9 = CairoMakie.Axis(Fig_9[1, 1], title=\"River Width\", xlabel= L\"$Latitude$\", ylabel=L\"$Longitude$\",  ylabelsize=ylabelsize, xlabelsize=xlabelSize, xticksize=xticksize, yticksize=yticksize, titlesize=titlesize,  titlecolor=titlecolor)\n",
    "\n",
    "   Map_9 = CairoMakie.plot!(Axis_9, RiverWidth, colormap=:lajolla)\n",
    "\n",
    "   # CairoMakie.Colorbar(Fig_6[1, 2], Map_6, label = \"Rivers\", width = 15, ticksize = 15, tickalign = 0.5)\n",
    "   CairoMakie.display(Fig_9)\n",
    "end\n"
   ]
  },
  {
   "cell_type": "markdown",
   "metadata": {},
   "source": [
    "## == **River depth** =="
   ]
  },
  {
   "cell_type": "code",
   "execution_count": 20,
   "metadata": {},
   "outputs": [
    {
     "name": "stdout",
     "output_type": "stream",
     "text": [
      "d:\\JOE\\MAIN\\MODELS\\WFLOW\\DATA\\Timoleague\\OutputWflow\\Wflow_Riverdepth.tiff\n"
     ]
    }
   ],
   "source": [
    "RiverDepth = Rasters.Raster((Longitude, Latitude), crs=Metadatas.Crs_GeoFormat)\n",
    "\n",
    "for iX=1:Metadatas.N_Width\n",
    "   for iY=1:Metadatas.N_Height\n",
    "      if River_Mask[iX,iY] == 1\n",
    "         RiverDepth[iX,iY] = Param_RiverDepth\n",
    "      else\n",
    "         RiverDepth[iX,iY] = NaN\n",
    "      end\n",
    "   end # for iY=1:Metadatas.N_Height\n",
    "end # for iX=1:Metadatas.N_Width\n",
    "\n",
    "Path_Wflow_RiverDepth = joinpath(Path_Root, Path_Wflow, Filename_Wflow_RiverDepth)\n",
    "println(Path_Wflow_RiverDepth)\n",
    "\n",
    "Rasters.write(Path_Wflow_RiverDepth, RiverDepth; ext=\".tiff\", force=true, verbose=true, crs=Metadatas.Crs_GeoFormat)\n",
    "\n",
    "if 🎏_Plots\n",
    "   CairoMakie.activate!()\n",
    "   Fig_10 =  CairoMakie.Figure()\n",
    "   Axis_10 = CairoMakie.Axis(Fig_10[1, 1], title=\"River Depth\", xlabel= L\"$Latitudeitude$\", ylabel=L\"$Longitudegitude$\",  ylabelsize=ylabelsize, xlabelsize=xlabelSize, xticksize=xticksize, yticksize=yticksize, titlesize=titlesize,  titlecolor=titlecolor)\n",
    "\n",
    "   Map_10 = CairoMakie.plot!(Axis_10, RiverDepth, colormap=Reverse(:viridis))\n",
    "\n",
    "   # CairoMakie.Colorbar(Fig_6[1, 2], Map_6, label = \"Rivers\", width = 15, ticksize = 15, tickalign = 0.5)\n",
    "   CairoMakie.display(Fig_10)\n",
    "end\n"
   ]
  },
  {
   "cell_type": "markdown",
   "metadata": {},
   "source": [
    "## == **River length** =="
   ]
  },
  {
   "cell_type": "code",
   "execution_count": 21,
   "metadata": {},
   "outputs": [
    {
     "name": "stdout",
     "output_type": "stream",
     "text": [
      "d:\\JOE\\MAIN\\MODELS\\WFLOW\\DATA\\Timoleague\\OutputPython\\RiverLength.tiff\n",
      "d:\\JOE\\MAIN\\MODELS\\WFLOW\\DATA\\Timoleague\\OutputWflow\\Wflow_Riverlength.tiff\n"
     ]
    }
   ],
   "source": [
    "Path_InputPython_RiverLength = joinpath(Path_Root, Path_Python, Filename_Python_RiverLength)\n",
    "println(Path_InputPython_RiverLength)\n",
    "\n",
    "RiverLength₀ = Rasters.Raster(Path_InputPython_RiverLength)\n",
    "RiverLength₁ = Rasters.resample(RiverLength₀; to=Dem_Resample, missingval=0)\n",
    "\n",
    "RiverLength₁ = Rasters.replace_missing(RiverLength₁, missingval=NaN)\n",
    "RiverLength_Mask = geoRaster.MASK(;Param_Crs=Metadatas.Crs_GeoFormat, Input=RiverLength₁, Latitude, Longitude, Mask=River_Mask)\n",
    "\n",
    "Path_Wflow_RiverLength = joinpath(Path_Root, Path_Wflow, Filename_Wflow_RiverLength)\n",
    "Rasters.write(Path_Wflow_RiverLength, RiverLength_Mask; ext=\".tiff\", force=true, verbose=true)\n",
    "println(Path_Wflow_RiverLength)\n",
    "\n",
    "if 🎏_Plots\n",
    "   CairoMakie.activate!()\n",
    "   Fig_12 =  CairoMakie.Figure()\n",
    "   Axis_12 = CairoMakie.Axis(Fig_12[1, 1], title=\"River Length Per Pixel\", xlabel= L\"$Latitude$\", ylabel=L\"$Longitudegitude$\",  ylabelsize=ylabelsize, xlabelsize=xlabelSize, xticksize=xticksize, yticksize=yticksize, titlesize=titlesize, titlecolor=titlecolor)\n",
    "\n",
    "   Map_12 = CairoMakie.heatmap!(Axis_12, RiverLength_Mask, colormap=:viridis)\n",
    "\n",
    "   Colorbar(Fig_12[1, 2], Map_12, label = \"River length [m]\", width = 15, ticksize = 15, tickalign = 0.5)\n",
    "   display(Fig_12)\n",
    "end\n"
   ]
  },
  {
   "cell_type": "markdown",
   "metadata": {},
   "source": [
    "## == **Impermeable layers:** =="
   ]
  },
  {
   "cell_type": "code",
   "execution_count": 22,
   "metadata": {},
   "outputs": [
    {
     "data": {
      "text/plain": [
       "Any[]"
      ]
     },
     "metadata": {},
     "output_type": "display_data"
    }
   ],
   "source": [
    "if 🎏_ImpermeableMap\n",
    "   Path_Gis_Roads = joinpath(Path_Root, Path_Gis, Filename_Roads_Shp)\n",
    "   println(Path_Gis_Roads)\n",
    "\n",
    "   Road_Shapefile= GeoDataFrames.read(Path_Gis_Roads)\n",
    "\n",
    "   Impermeable = Rasters.rasterize(last, Road_Shapefile;  fill=1, res=Metadatas.ΔX, to=Dem_Resample_Mask, missingval=NaN, shape=:polygon, crs=Param_Crs_GeoFormat, boundary=:touches , progress=true, verbose=true)\n",
    "\n",
    "   Impermeable_Mask = geoRaster.MASK(;Param_Crs=Metadatas.Param_Crs_GeoFormat, Input=Impermeable, Latitude, Longitude, Mask=Subcatchment)\n",
    "\n",
    "   Path_Wflow_Impermeable = joinpath(Path_Root, Path_Wflow, Filename_Wflow_Impermable)\n",
    "\n",
    "   Rasters.write(Path_Wflow_Impermeable, Impermeable_Mask; ext=\".tiff\", force=true, verbose=true)\n",
    "\n",
    "   geoPlot.HEATMAP(;Title=\"Roads\", Label=\"Road\", Input=Impermeable_Mask, 🎏_Colorbar=false)\n",
    "else\n",
    "   Impermeable_Mask = []\n",
    "end\n"
   ]
  },
  {
   "cell_type": "markdown",
   "metadata": {},
   "source": [
    "# === **LOOKUP TABLES**===\n"
   ]
  },
  {
   "cell_type": "markdown",
   "metadata": {},
   "source": [
    "## == ***SOIL MAPS*** ==="
   ]
  },
  {
   "cell_type": "code",
   "execution_count": 23,
   "metadata": {},
   "outputs": [],
   "source": [
    "# if 🎏_SoilMap\n",
    "#    Path_InputSoils = joinpath(Path_Root, Path_Gis, Filename_Input_SoilMap)\n",
    "#    println(Path_InputSoils)\n",
    "\n",
    "#    SoilMapₒ = Rasters.Raster(Path_InputSoils)\n",
    "\n",
    "#    SoilMap₁ = Rasters.resample(SoilMapₒ; to=Dem_Resample, missingval=NaN)\n",
    "\n",
    "#    SoilMap = geoRaster.MASK(;Param_Crs=Metadatas.Crs_GeoFormat, Input=SoilMap₁, Latitude, Longitude, Mask=Subcatchment)\n",
    "\n",
    "#    if 🎏_Plots\n",
    "#       geoPlot.HEATMAP(;🎏_Colorbar=true, Input=SoilMap, Label=\"Infiltration index [-]\", Title =\"Soil Maps\" )\n",
    "#    end\n",
    "# end\n"
   ]
  },
  {
   "cell_type": "markdown",
   "metadata": {},
   "source": [
    "## == **SoilMap:** *LookupTable* =="
   ]
  },
  {
   "cell_type": "code",
   "execution_count": 24,
   "metadata": {},
   "outputs": [
    {
     "name": "stdout",
     "output_type": "stream",
     "text": [
      "d:\\JOE\\MAIN\\MODELS\\WFLOW\\WflowDataJoe\\WflowRaster.jl\\DATA\\Lookuptable\\LookupTable_Hydro.csv\n",
      "InlineStrings.String15[\"Excessively\", \"imperfectly\", \"Other\", \"moderately\", \"Moderately\", \"Other\", \"Poor\", \"Poorly\", \"Well\", \"missing\", \"LAKE\", \"Imperfectly\", \"Lake\"]\n",
      "d:\\JOE\\MAIN\\MODELS\\WFLOW\\DATA\\Timoleague\\InputGis\\SoilMap.shp\n",
      "KsatVer\n",
      "d:\\JOE\\MAIN\\MODELS\\WFLOW\\DATA\\Timoleague\\OutputWflow\\KsatVer.tiff\n"
     ]
    },
    {
     "data": {
      "text/plain": [
       "([\"KsatVer\"], Any[[NaN NaN … NaN NaN; NaN NaN … NaN NaN; … ; NaN NaN … NaN NaN; NaN NaN … NaN NaN]])"
      ]
     },
     "metadata": {},
     "output_type": "display_data"
    }
   ],
   "source": [
    "if 🎏_SoilMap\n",
    "    include(\"Julia//Parameters.jl\")\n",
    "\n",
    "   Soil_Header, Soil_Maps = geoRaster.LOOKUPTABLE_2_MAPS(;🎏_Plots, Param_Crs=Metadatas.Crs_GeoFormat, Dem_Resample, Latitude, Longitude, LookupTable=Filename_Lookuptable_Hydro, Map_Shp=Filename_SoilMap_Shp, Map_Value=Layer_Soil, Metadatas, Path_Gis, Path_Root, Path_Root_LookupTable, Subcatchment, TitleMap=\"Soil Map\", ΔX=Param_ΔX₂)\n",
    "else\n",
    "   Soil_Header = Soil_Maps = []\n",
    "end # if 🎏_SoilMap\n"
   ]
  },
  {
   "cell_type": "markdown",
   "metadata": {},
   "source": [
    "## ==**Vegetation:** *LookupTable*=="
   ]
  },
  {
   "cell_type": "code",
   "execution_count": 25,
   "metadata": {},
   "outputs": [],
   "source": [
    "# if 🎏_VegetationMap\n",
    "#     include(\"Julia//geoRaster.jl\")\n",
    "#     include(\"Julia//Parameters.jl\")\n",
    "\n",
    "#     # LIST OF NAMES\n",
    "#     Path_Input = joinpath(Path_Root, Path_Gis, Filename_VegetationMap_Shp)\n",
    "#     Map_Shapefile= GeoDataFrames.read(Path_Input)\n",
    "#     Map_Shapefile2 = Map_Shapefile[!, :CROP]\n",
    "\n",
    "#     Names = []\n",
    "#     for (i, iiDrainage) in enumerate(Map_Shapefile[!, :CROP])\n",
    "#         if ismissing(iiDrainage)\n",
    "#             iiDrainage = \"missing\"\n",
    "#         end\n",
    "#         Names     = push!(Names, iiDrainage)\n",
    "#     end\n",
    "#     Names = unique(Names)\n",
    "#     println(Names)\n",
    "# end\n"
   ]
  },
  {
   "cell_type": "code",
   "execution_count": 26,
   "metadata": {},
   "outputs": [
    {
     "name": "stderr",
     "output_type": "stream",
     "text": [
      "WARNING: replacing module geoRaster.\n"
     ]
    },
    {
     "name": "stdout",
     "output_type": "stream",
     "text": [
      "d:\\JOE\\MAIN\\MODELS\\WFLOW\\WflowDataJoe\\WflowRaster.jl\\DATA\\Lookuptable\\LookupTable_Veg.csv\n",
      "[\"Permanent Pasture\", \"Farmyard\", \"Grass Year 4\", \"Barley - Spring\", \"Barley - Winter\", \"Oats - Spring\", \"Woodland\", \"Forestry Ineligible\", \"Scrub\", \"Grass Year 3\", \"Wheat - Winter\", \"Oilseed Rape - Winter\", \"Forestry Pre-2009\", \"Beans - Spring\", \"Extensively Grazed Pasture\", \"Building\", \"Bog\", \"Maize\", \"Habitat\", \"Forestry Eligible\", \"Grass Year 2\", \"Protein/Cereal Mix 50/50\", \"Oats - Winter\", \"Low Input Grassland\", \"Forestry\", \"Winter Bird Food Plot\", \"Grass Year 1\", \"Lake / Waterway / Pond\", \"Orchard\", \"Fodder Beet\", \"Daffodils\", \"Wheat - Spring\", \"Riparian Buffer Zone - Grassland\", \"Quarry\", \"Potatoes - Maincrop\", \"Grass Year 5\", \"Grass Year 1 (MSS Measure)\", \"Farm Road\", \"Fallow\", \"Red Clover\", \"Triticale - Spring\", \"Wild Bird Cover\", \"Forestry ESB Corridor Ineligible\", \"Designated Habitat\", \"Low Input Peat Grassland\", \"Management of intensive grassland next to a watercourse\", \"Red Clover Silage (RCS Measure)\", \"Gardens\", \"Oilseed Rape - Spring\", \"Beans - Winter\", \"Beetroot\", \"Cauliflowers - Winter\", \"Riparian Buffer Zone - Arable\", \"Environmental Management Of Arable Fallow\", \"Kale\", \"Arable Silage (Grass)\", \"Permanent Pasture (MSS)\", \"Peas\", \"Recreational Area\", \"Forage Rape\", \"Mixed Cropping\", \"Arable Habitat\", \"Permanent Pasture (MSS Eco-Scheme 2023)\", \"Access Road / Roadways\", \"Permanent Pasture (MSS Measure)\", \"Apples\", \"Rye\", \"Riparian Zone\", \"Miscanthus Sinensis\", \"Native Tree Area\", \"Low Input Permanent Pasture\", \"Willow\", \"Cabbage - Spring\", \"Raspberries\", \"Inactive\", \"Other cut flower / bulb crops\", \"Sugar Beet\", \"Grass Year 2 (MSS Measure)\", \"Grass Year 3 (MSS)\", \"Strawberries\", \"Christmas Trees\", \"Traditional Hay Meadow\", \"Grass Seed\", \"Grass Year 2 (MSS)\", \"Blueberries\", \"Foliage\", \"Alfalfa\", \"Nursery\", \"Potatoes - Early\", \"Rocky Outcrop\", \"Mixed Cropping (Horticulture)\", \"Pumpkins\", \"Tree belts for ammonia capture from farmyards\", \"Carrots\", \"Grass Year 1 (MSS)\", \"Planted Buffer Zone\", \"Swede\", \"Parsnips\", \"Cabbage - Winter\", \"Celery - Winter\", \"Broccoli - Spring\", \"Forestry ESB Corridor\", \"Arable Silage (No Grass)\", \"Forestry 2023\", \"Copse\", \"Reed Canary Grass\", \"Clover\", \"Potatoes - Seed\", \"Mint\", \"Garlic\", \"Grass Year 5 (MSS)\", \"Short Rotation Coppice\", \"Permanent Pasture (MSS Eco-Scheme 2024)\", \"Onions\", \"Peppers\", \"Unknown\", \"Leeks - Spring\", \"Brussel sprouts\", \"Turnips\", \"Blackberries\", \"Forestry Setaside\", \"100% Protein\", \"Linseed\", \"Rhubarb\", \"Coriander\", \"Flax\", \"Mustard\", \"Sunflower\", \"Parsley\", \"Glasshouse\", \"Cauliflowers - Spring\", \"Broccoli - Winter\", \"Grass Year 1 (MSS Eco-Scheme)\", \"Forestry ESB Corridor Eligible\", \"Calabrese\", \"Lupins\", \"Lettuce\", \"Baby Leaf Spinach\", \"Plums\", \"Grassmeal\", \"Invalid Crop\", \"Blackcurrants\", \"Grass Year 2 (MSS Eco-Scheme)\", \"Hemp for Industrial Use\", \"Gooseberries\", \"Celery - Spring\", \"Artichoke\", \"Scallions\", \"Triticale - Winter\", \"Rosemary\", \"Leeks - Winter\", \"Radish\", \"Borage\", \"Courgettes\", \"Grapes\", \"Hemp for Food Use\", \"Vetch\", \"Grass Year 4 (MSS)\", \"Tomatoes\", \"Management of Environmental Fallow (horticulture)\", \"Linnet Habitat\", \"Sweetcorn\", \"Camelina\", \"Squash\", \"Thyme\", \"Environmental Mgt. of Fallow Land\", \"Quinoa\", \"Pak Choi\", \"Cherries\", \"Basil\", \"Forestry 2024\", \"Fennel\", \"Rocket\", \"Asparagus\", \"Lucerne\", \"Perpetual Spinach\", \"Redcurrants\", \"Aubergines\", \"Sage\", \"Pears\", \"Grass\", \"missing\", \"Barley\", \"Wheat\", \"Setaside\", \"Oats\", \"Arable Silage\", \"Oilseed\", \"Oats\", \"Spring Wheat\", \"Winter Wheat\", \"Spring Wheat\", \"Winter Oats\", \"Beet\", \"Spring Barley\", \"Beans\", \"Green Cover\", \"Beans\", \"Green Cover\", \"Winter Barley\", \"Potatoes\"]\n",
      "d:\\JOE\\MAIN\\MODELS\\WFLOW\\DATA\\Timoleague\\InputGis\\VegetationMap.shp\n",
      "canopygapfraction\n",
      "Cmax\n",
      "kext\n",
      "Swood\n",
      "alpha_h1\n",
      "h1\n",
      "h2\n",
      "h3_high\n",
      "h3_low\n",
      "h4\n",
      "Kc\n",
      "rootdistpar\n",
      "rootfraction\n",
      "d:\\JOE\\MAIN\\MODELS\\WFLOW\\DATA\\Timoleague\\OutputWflow\\canopygapfraction.tiff\n",
      "d:\\JOE\\MAIN\\MODELS\\WFLOW\\DATA\\Timoleague\\OutputWflow\\Cmax.tiff\n",
      "d:\\JOE\\MAIN\\MODELS\\WFLOW\\DATA\\Timoleague\\OutputWflow\\kext.tiff\n",
      "d:\\JOE\\MAIN\\MODELS\\WFLOW\\DATA\\Timoleague\\OutputWflow\\Swood.tiff\n",
      "d:\\JOE\\MAIN\\MODELS\\WFLOW\\DATA\\Timoleague\\OutputWflow\\alpha_h1.tiff\n",
      "d:\\JOE\\MAIN\\MODELS\\WFLOW\\DATA\\Timoleague\\OutputWflow\\h1.tiff\n",
      "d:\\JOE\\MAIN\\MODELS\\WFLOW\\DATA\\Timoleague\\OutputWflow\\h2.tiff\n",
      "d:\\JOE\\MAIN\\MODELS\\WFLOW\\DATA\\Timoleague\\OutputWflow\\h3_high.tiff\n",
      "d:\\JOE\\MAIN\\MODELS\\WFLOW\\DATA\\Timoleague\\OutputWflow\\h3_low.tiff\n",
      "d:\\JOE\\MAIN\\MODELS\\WFLOW\\DATA\\Timoleague\\OutputWflow\\h4.tiff\n",
      "d:\\JOE\\MAIN\\MODELS\\WFLOW\\DATA\\Timoleague\\OutputWflow\\Kc.tiff\n",
      "d:\\JOE\\MAIN\\MODELS\\WFLOW\\DATA\\Timoleague\\OutputWflow\\rootdistpar.tiff\n",
      "d:\\JOE\\MAIN\\MODELS\\WFLOW\\DATA\\Timoleague\\OutputWflow\\rootfraction.tiff\n"
     ]
    },
    {
     "data": {
      "text/plain": [
       "([\"canopygapfraction\", \"Cmax\", \"kext\", \"Swood\", \"alpha_h1\", \"h1\", \"h2\", \"h3_high\", \"h3_low\", \"h4\", \"Kc\", \"rootdistpar\", \"rootfraction\"], Any[[NaN NaN … NaN NaN; NaN NaN … NaN NaN; … ; NaN NaN … NaN NaN; NaN NaN … NaN NaN], [NaN NaN … NaN NaN; NaN NaN … NaN NaN; … ; NaN NaN … NaN NaN; NaN NaN … NaN NaN], [NaN NaN … NaN NaN; NaN NaN … NaN NaN; … ; NaN NaN … NaN NaN; NaN NaN … NaN NaN], [NaN NaN … NaN NaN; NaN NaN … NaN NaN; … ; NaN NaN … NaN NaN; NaN NaN … NaN NaN], [NaN NaN … NaN NaN; NaN NaN … NaN NaN; … ; NaN NaN … NaN NaN; NaN NaN … NaN NaN], [NaN NaN … NaN NaN; NaN NaN … NaN NaN; … ; NaN NaN … NaN NaN; NaN NaN … NaN NaN], [NaN NaN … NaN NaN; NaN NaN … NaN NaN; … ; NaN NaN … NaN NaN; NaN NaN … NaN NaN], [NaN NaN … NaN NaN; NaN NaN … NaN NaN; … ; NaN NaN … NaN NaN; NaN NaN … NaN NaN], [NaN NaN … NaN NaN; NaN NaN … NaN NaN; … ; NaN NaN … NaN NaN; NaN NaN … NaN NaN], [NaN NaN … NaN NaN; NaN NaN … NaN NaN; … ; NaN NaN … NaN NaN; NaN NaN … NaN NaN], [NaN NaN … NaN NaN; NaN NaN … NaN NaN; … ; NaN NaN … NaN NaN; NaN NaN … NaN NaN], [NaN NaN … NaN NaN; NaN NaN … NaN NaN; … ; NaN NaN … NaN NaN; NaN NaN … NaN NaN], [NaN NaN … NaN NaN; NaN NaN … NaN NaN; … ; NaN NaN … NaN NaN; NaN NaN … NaN NaN]])"
      ]
     },
     "metadata": {},
     "output_type": "display_data"
    }
   ],
   "source": [
    "include(\"Julia//geoRaster.jl\")\n",
    "include(\"Julia//Parameters.jl\")\n",
    "if 🎏_VegetationMap\n",
    "   Vegetation_Header, Vegetation_Maps = geoRaster.LOOKUPTABLE_2_MAPS(;🎏_Plots, Colormap=:plasma, Param_Crs=Metadatas.Crs_GeoFormat, Dem_Resample, Latitude, Longitude, LookupTable=Filename_Lookuptable_Vegetation, Map_Shp=Filename_VegetationMap_Shp, Map_Value=Layer_Vegetation, Metadatas, Path_Gis, Path_Root, Path_Root_LookupTable, Subcatchment, TitleMap=\"Vegetation Map\", ΔX=Param_ΔX₂)\n",
    "else\n",
    "   Vegetation_Header = Vegetation_Maps = []\n",
    "\n",
    "end # if 🎏_VegetationMap\n"
   ]
  },
  {
   "cell_type": "markdown",
   "metadata": {},
   "source": [
    "# =**NETCDF**="
   ]
  },
  {
   "cell_type": "markdown",
   "metadata": {},
   "source": [
    "## ==  ***Static maps*** =="
   ]
  },
  {
   "cell_type": "code",
   "execution_count": 27,
   "metadata": {},
   "outputs": [
    {
     "name": "stderr",
     "output_type": "stream",
     "text": [
      "WARNING: replacing module geoNetcdf.\n"
     ]
    },
    {
     "name": "stdout",
     "output_type": "stream",
     "text": [
      "D:\\JOE\\MAIN\\MODELS\\WFLOW\\Wflow.jl\\Wflow\\Data\\input\\Timoleague\\staticmaps-Timoleague.nc\n",
      "x\n",
      "y\n",
      "layer\n",
      "Wflow_Ldd\n",
      "Wflow_Subcatchment\n",
      "Wflow_Gauges_grdc\n",
      "Wflow_Slope\n",
      "Wflow_River\n",
      "Wflow_RiverSlope\n",
      "Wflow_Riverlength\n",
      "Wflow_Riverwidth\n",
      "Wflow_Riverdepth\n",
      "\u001b[32m==== SOIL MAPS ====\u001b[39m\n",
      "KsatVer\n",
      "\u001b[32m==== VEGETATION MAPS ====\u001b[39m\n",
      "canopygapfraction\n",
      "Cmax\n",
      "kext\n",
      "Swood\n",
      "alpha_h1\n",
      "h1\n",
      "h2\n",
      "h3_high\n",
      "h3_low\n",
      "h4\n",
      "Kc\n",
      "rootdistpar\n",
      "rootfraction\n"
     ]
    },
    {
     "data": {
      "text/plain": [
       "(closed Dataset, \"D:\\\\JOE\\\\MAIN\\\\MODELS\\\\WFLOW\\\\Wflow.jl\\\\Wflow\\\\Data\\\\input\\\\Timoleague\\\\staticmaps-Timoleague.nc\")"
      ]
     },
     "metadata": {},
     "output_type": "display_data"
    }
   ],
   "source": [
    "include(\"Julia//Parameters.jl\")\n",
    "include(\"Julia//GeoNetcdf.jl\")\n",
    "\n",
    "if 🎏_NetCDF\n",
    "   NetCDF, Path_NetCDF_Full = geoNetcdf.TIFF_2_NETCDF(Gauge, Filename_Wflow_Impermable, Impermeable_Mask, Latitude, Ldd_Mask, Longitude, Metadatas, River_Mask, Filename_Wflow_Rivers, RiverDepth, Filename_Wflow_RiverDepth, RiverLength_Mask, RiverSlope, Filename_Wflow_RiverSlope, RiverWidth, Filename_Wflow_RiverWidth, Slope_Mask, Soil_Header, Soil_Maps, Filename_Wflow_Subcatchment, Subcatchment, Vegetation_Header, Vegetation_Maps)\n",
    "end\n",
    "\n",
    "# SAVING FILE\n",
    "   # Path_Copy =  joinpath(Path_Root, Path_NetCDF, Filename_NetCDF_Instates)\n",
    "   # Path_Paste  = joinpath(Path_Root_NetCDF, Filename_NetCDF_Instates)\n",
    "   # Base.Filesystem.cp(Path_Copy, Path_Paste, force=true)\n",
    "   # geoNetcdf.COPYPASTE_LARGE_FILES(;Path_Copy, Path_Paste)\n"
   ]
  },
  {
   "cell_type": "code",
   "execution_count": 28,
   "metadata": {},
   "outputs": [
    {
     "data": {
      "text/plain": [
       "closed Dataset"
      ]
     },
     "metadata": {},
     "output_type": "display_data"
    }
   ],
   "source": [
    "Output_NCDatasets = NCDatasets.NCDataset(Path_NetCDF_Full)\n",
    "close(Output_NCDatasets)\n"
   ]
  },
  {
   "cell_type": "markdown",
   "metadata": {},
   "source": [
    "### ***Plotting NetCDF maps***"
   ]
  },
  {
   "cell_type": "code",
   "execution_count": 29,
   "metadata": {},
   "outputs": [],
   "source": [
    "if 🎏_Plots && 🎏_Plot_NetCDF\n",
    "\tusing NCDatasets\n",
    "\n",
    "\tPath_NetCDF_Full  = joinpath(Path_Root, Path_NetCDF, Filename_NetCDF_Instates)\n",
    "\tOutput_NCDatasets = NCDatasets.NCDataset(Path_NetCDF_Full)\n",
    "\n",
    "\tKeys = NCDatasets.keys(Output_NCDatasets)\n",
    "\n",
    "\tKeys_Select = []\n",
    "\tfor iiKeys ∈ Keys\n",
    "\t\tOutput = Output_NCDatasets[iiKeys]\n",
    "\t\tDimensions = length(size(Output))\n",
    "\n",
    "\t\tif Dimensions == 2\n",
    "\t\t\t\tpush!(Keys_Select, String(iiKeys))\n",
    "\t\tend # Dimensions == 2\n",
    "\tend # for iiKeys ∈ Keys\n",
    "\n",
    "\tKeys_Select = String.(Keys_Select)\n",
    "\tprintln(Keys_Select)\n",
    "\n",
    "\tfor iiKeys ∈ Keys_Select\n",
    "\t\tprintln(iiKeys)\n",
    "\t\tMap₀ = Array(Output_NCDatasets[iiKeys])\n",
    "\n",
    "\t\t# Clean data\n",
    "\t\t\tFillValue = Output_NCDatasets[iiKeys].attrib[\"_FillValue\"]\n",
    "\t\t\tMap =  replace(Map₀, FillValue => NaN)\n",
    "\n",
    "\t\tgeoPlot.HEATMAP(;🎏_Colorbar=true, Input=Map, Label=\"$iiKeys\", Title=\"$iiKeys\", Xlabel= L\"$iX$\", Ylabel=L\"$iY$\", Yreversed=true, colormap=:hawaii50)\n",
    "\tend\n",
    "end  # if: 🎏_Plots &&\n",
    "\n",
    "Output_NCDatasets = nothing\n"
   ]
  },
  {
   "cell_type": "markdown",
   "metadata": {},
   "source": [
    "## ***Timeseries NetCDF maps***"
   ]
  },
  {
   "cell_type": "code",
   "execution_count": 46,
   "metadata": {},
   "outputs": [
    {
     "name": "stdout",
     "output_type": "stream",
     "text": [
      "\u001b[32mStarting Dates = 2010-01-10T00:00:00 \u001b[39m\n",
      "\u001b[32mEnding Dates = 2024-12-30T23:00:00 \u001b[39m\n",
      "d:\\JOE\\MAIN\\MODELS\\WFLOW\\DATA\\Timoleague\\InputTimeSeries/TimeSeries_Process\\forcing.Timoleague.csv\n",
      "\u001b[32mNumber of time steps = 131256 \u001b[39m\n",
      "SplitArray = [1 26251; 26252 52502; 52503 78753; 78754 105004; 105005 131256]\n",
      "\u001b[34m==== Split number: 1 / 5    : 1 -> 26251==== \u001b[39m\n"
     ]
    },
    {
     "name": "stderr",
     "output_type": "stream",
     "text": [
      "WARNING: replacing module geoRaster.\n",
      "WARNING: replacing module geoNetcdf.\n"
     ]
    },
    {
     "name": "stdout",
     "output_type": "stream",
     "text": [
      "D:\\JOE\\MAIN\\MODELS\\WFLOW\\Wflow.jl\\Wflow\\Data\\input\\Timoleague\\forcing-Timoleague_1.nc\n",
      "x\n",
      "y\n",
      "time\n",
      "\u001b[34m==== Split number: 2 / 5    : 26252 -> 52502==== \u001b[39m\n",
      "D:\\JOE\\MAIN\\MODELS\\WFLOW\\Wflow.jl\\Wflow\\Data\\input\\Timoleague\\forcing-Timoleague_2.nc\n",
      "x\n",
      "y\n",
      "time\n",
      "\u001b[34m==== Split number: 3 / 5    : 52503 -> 78753==== \u001b[39m\n",
      "D:\\JOE\\MAIN\\MODELS\\WFLOW\\Wflow.jl\\Wflow\\Data\\input\\Timoleague\\forcing-Timoleague_3.nc\n",
      "x\n",
      "y\n",
      "time\n",
      "\u001b[34m==== Split number: 4 / 5    : 78754 -> 105004==== \u001b[39m\n",
      "D:\\JOE\\MAIN\\MODELS\\WFLOW\\Wflow.jl\\Wflow\\Data\\input\\Timoleague\\forcing-Timoleague_4.nc\n",
      "x\n",
      "y\n",
      "time\n",
      "\u001b[34m==== Split number: 5 / 5    : 105005 -> 131256==== \u001b[39m\n",
      "D:\\JOE\\MAIN\\MODELS\\WFLOW\\Wflow.jl\\Wflow\\Data\\input\\Timoleague\\forcing-Timoleague_5.nc\n",
      "x\n",
      "y\n",
      "time\n",
      "[\"precip\", \"pet\", \"temp\"]\n",
      "========== FINISHED ======================\n"
     ]
    }
   ],
   "source": [
    "include(\"Julia//Parameters.jl\")\n",
    "\n",
    "if 🎏_Forcing_2_NetCDF\n",
    "\tinclude(\"Julia//GeoRaster.jl\")\n",
    "\tinclude(\"Julia//GeoNetcdf.jl\")\n",
    "\n",
    "\tNetCDFmeteo, Path_NetCDFmeteo_Output = geoNetcdf.TIMESERIES_2_NETCDF(Latitude, Longitude, Metadatas, Subcatchment; NsplitYear=3)\n",
    "\n",
    "\t\t# NetCDFmeteo, Path_NetCDFmeteo_Output = geoNetcdf.TIMESERIES_2_NETCDF(Latitude, Longitude, Metadatas, Subcatchment;  )\n",
    "\n",
    "\tif 🎏_Plot_TimeSeries\n",
    "   \t# precip pet temp\n",
    "   \tgeoPlot.HEATMAP_TIME(;Path=Path_NetCDFmeteo_Output, NameOutput=\"temp\", Layer=1)\n",
    "\tend\n",
    "\n",
    "   # Saving NetCDF\n",
    "   #    Path_Copy = joinpath(Path_Root, Path_TimeSeriesWflow, Filename_NetCDF_Forcing)\n",
    "\n",
    "   # Path_Paste  = joinpath(Path_Root_NetCDF, Filename_NetCDF_Forcing)\n",
    "   # Base.Filesystem.cp(Path_Copy, Path_Paste, force=true)\n",
    "\n",
    "end\n"
   ]
  }
 ],
 "metadata": {
  "kernelspec": {
   "display_name": "Julia 1.11.7",
   "language": "julia",
   "name": "julia-1.11"
  },
  "language_info": {
   "file_extension": ".jl",
   "mimetype": "application/julia",
   "name": "julia",
   "version": "1.11.7"
  }
 },
 "nbformat": 4,
 "nbformat_minor": 2
}
