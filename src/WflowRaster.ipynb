{
 "cells": [
  {
   "cell_type": "markdown",
   "metadata": {},
   "source": [
    "# **WFLOW: DERIVING INPUT MAPS**"
   ]
  },
  {
   "cell_type": "markdown",
   "metadata": {},
   "source": [
    "## *PACKAGES*\n"
   ]
  },
  {
   "cell_type": "code",
   "execution_count": 83,
   "metadata": {},
   "outputs": [
    {
     "name": "stderr",
     "output_type": "stream",
     "text": [
      "WARNING: replacing module geoRaster.\n",
      "WARNING: replacing module geoNetcdf.\n"
     ]
    },
    {
     "data": {
      "text/plain": [
       "\"d:\\\\JOE\\\\MAIN\\\\MODELS\\\\WFLOW\\\\DATA\\\\Timoleague\\\\OutputWflow\""
      ]
     },
     "metadata": {},
     "output_type": "display_data"
    }
   ],
   "source": [
    "using  Revise, Rasters, GeoFormatTypes, GeoTIFF, ArchGDAL, Shapefile, NCDatasets\n",
    "\n",
    "#  Geomorphometry\n",
    "#  GeoDataFrames,\n",
    "# using CairoMakie, Colors, ColorSchemes\n",
    "\n",
    "Path_Home = @__DIR__\n",
    "cd(Path_Home)\n",
    "\n",
    "include(\"Julia//Parameters.jl\")\n",
    "include(\"Julia//GeoRaster.jl\")\n",
    "include(\"Julia//GeoNetcdf.jl\")\n",
    "include(\"Julia//PlotParameter.jl\")\n",
    "# include(\"Julia//GeoPlot.jl\")\n",
    "\n",
    "# For new projects if does not exist\n",
    "   mkpath(joinpath(Path_Root, Path_InputForcing))\n",
    "   mkpath(joinpath(Path_Root, Path_InputGis))\n",
    "   mkpath(joinpath(Path_Root, Path_InputLookuptable))\n",
    "   mkpath(joinpath(Path_Root, Path_NetCDF))\n",
    "   mkpath(joinpath(Path_Root, Path_OutputJulia))\n",
    "   mkpath(joinpath(Path_Root, Path_OutputPython))\n",
    "   mkpath(joinpath(Path_Root, Path_OutputTimeSeriesWflow))\n",
    "   mkpath(joinpath(Path_Root, Path_OutputWflow))\n",
    "\n",
    "# Pkg.add(name=\"ArchGDAL\", version=\"0.10.9\")\n"
   ]
  },
  {
   "cell_type": "markdown",
   "metadata": {},
   "source": [
    "## **DEM OFFICIAL GRID SIZE**"
   ]
  },
  {
   "cell_type": "markdown",
   "metadata": {},
   "source": [
    "\thttps://rafaqz.github.io/Rasters.jl/dev/api#Rasters.resample-Tuple\n",
    "method: A Symbol or String specifying the method to use for resampling. From the docs for gdalwarp:\n",
    "\n",
    "**:near:** nearest neighbour resampling (default, fastest algorithm, worst interpolation quality).\n",
    ":bilinear: bilinear resampling.\n",
    ":cubic: cubic resampling.\n",
    ":cubicspline: cubic spline resampling.\n",
    ":lanczos: Lanczos windowed sinc resampling.\n",
    ":average: average resampling, computes the weighted average of all non-NODATA contributing pixels. rms root mean square / quadratic mean of all non-NODATA contributing pixels (GDAL >= 3.3)\n",
    ":mode: mode resampling, selects the value which appears most often of all the sampled points.\n",
    ":max: maximum resampling, selects the maximum value from all non-NODATA contributing pixels.\n",
    ":min: minimum resampling, selects the minimum value from all non-NODATA contributing pixels.\n",
    ":med: median resampling, selects the median value of all non-NODATA contributing pixels.\n",
    ":q1: first quartile resampling, selects the first quartile value of all non-NODATA contributing pixels.\n",
    ":q3: third quartile resampling, selects the third quartile value of all non-NODATA contributing pixels.\n",
    ":sum: compute the weighted sum of all non-NODATA contributing pixels (since GDAL 3.1)"
   ]
  },
  {
   "cell_type": "markdown",
   "metadata": {},
   "source": [
    "## **DEM OPERATIONS**"
   ]
  },
  {
   "cell_type": "code",
   "execution_count": 84,
   "metadata": {},
   "outputs": [
    {
     "name": "stdout",
     "output_type": "stream",
     "text": [
      "Param_Crs = 29902\n",
      "ΔX = 10.0\n",
      "ΔY = -10.0\n",
      "N_Width  = 461\n",
      "N_Height = 286\n",
      "Coord_X_Left = 143100.001, Coord_X_Right = 147700.001\n",
      "Coord_Y_Top = 42620.008, Coord_Y_Bottom = 39770.008\n"
     ]
    }
   ],
   "source": [
    "# include(\"Julia//GeoRaster.jl\")\n",
    "# Reading data\n",
    "   Path_InputGis_Dem = joinpath(Path_Root, Path_InputGis, Dem_Input_Qgis)\n",
    "\n",
    "   Dem_Resample₀ = Rasters.Raster(Path_InputGis_Dem)\n",
    "   Dem_Resample₀ = Rasters.replace_missing(Dem_Resample₀, missingval=NaN)\n",
    "\n",
    "   # Resample Dem in 2 steps\n",
    "      Param_Crs_GeoFormat = GeoFormatTypes.convert(WellKnownText, EPSG(Param_Crs))\n",
    "\n",
    "    #   Dem_Resample₀ = Rasters.resample(Dem_Resample₀; res=ΔX₁, method=ResampleMethod₁, crs=Param_Crs_GeoFormat)\n",
    "\n",
    "      Dem_Resample₀  = Rasters.resample(Dem_Resample₀; res=ΔX₂, method=ResampleMethod₂, crs=Param_Crs_GeoFormat)\n",
    "\n",
    "   # Writting the output\n",
    "      Path_OutputJulia_Dem = joinpath(Path_Root, Path_OutputJulia, Dem_Julia)\n",
    "\n",
    "      Rasters.write(Path_OutputJulia_Dem, Dem_Resample₀; ext=\".tiff\", missingval= NaN, force=true, verbose=true)\n",
    "\n",
    "# Getting the metadata\n",
    "\tMetadatas₀ = geoRaster.RASTER_METADATA(Dem_Resample₀; Verbose=true)\n",
    "\n",
    "if 🎏_Plots\n",
    "\tgeoPlot.HEATMAP(;🎏_Colorbar=true, Input= Geomorphometry.multihillshade(Dem_Resample₀), Title=\"Digital Elevation Model\", Label=\"Altitude [m]\", colormap=:greys)\n",
    "\t\tgeoPlot.HEATMAP(;🎏_Colorbar=true, Input= Dem_Resample₀, Title=\"Digital Elevation Model\", Label=\"Altitude [m]\", colormap=:greys)\n",
    "end\n"
   ]
  },
  {
   "cell_type": "markdown",
   "metadata": {},
   "source": [
    "## ====== **PLEASE RUN PYTHON CODE** =======\n",
    "\n",
    "++===========================================++\n"
   ]
  },
  {
   "cell_type": "markdown",
   "metadata": {},
   "source": [
    "## **Reading the corrected DEM from python**"
   ]
  },
  {
   "cell_type": "code",
   "execution_count": 85,
   "metadata": {},
   "outputs": [
    {
     "name": "stderr",
     "output_type": "stream",
     "text": [
      "WARNING: replacing module geoRaster.\n"
     ]
    },
    {
     "name": "stdout",
     "output_type": "stream",
     "text": [
      "Param_Crs = 29902\n",
      "ΔX = 10.0\n",
      "ΔY = -10.0\n",
      "N_Width  = 461\n",
      "N_Height = 286\n",
      "Coord_X_Left = 143100.001, Coord_X_Right = 147700.001\n",
      "Coord_Y_Top = 42620.008, Coord_Y_Bottom = 39770.008\n"
     ]
    }
   ],
   "source": [
    "include(\"Julia//GeoRaster.jl\")\n",
    "# Reading data\n",
    "   Path_InputPython_Dem = joinpath(Path_Root, Path_OutputPython, Dem_Input_Python)\n",
    "\n",
    "   Dem_Resample₀ = Rasters.Raster(Path_InputPython_Dem)\n",
    "   Dem_Resample  = Rasters.replace_missing(Dem_Resample₀, missingval=NaN)\n",
    "\n",
    "# Writting the output\n",
    "   Path_OutputJulia_Dem_Corrected = joinpath(Path_Root, Path_OutputJulia, Dem_Julia_Corrected)\n",
    "   Rasters.write(Path_OutputJulia_Dem_Corrected, Dem_Resample; ext=\".tiff\", missingval= NaN, force=true, verbose=true)\n",
    "\n",
    "# Getting the metadata\n",
    "\tMetadatas = geoRaster.RASTER_METADATA(Dem_Resample; Verbose=true)\n",
    "\n",
    "if 🎏_Plots\n",
    "\tgeoPlot.HEATMAP(;🎏_Colorbar=true, Input= Geomorphometry.multihillshade(Dem_Resample), Title=\"Corrected Digital Elevation Model\", Label=\"Altitude [m]\", colormap=:greys)\n",
    "end\n"
   ]
  },
  {
   "cell_type": "markdown",
   "metadata": {},
   "source": [
    "## **Longitute and Latitude**"
   ]
  },
  {
   "cell_type": "code",
   "execution_count": 86,
   "metadata": {},
   "outputs": [
    {
     "name": "stderr",
     "output_type": "stream",
     "text": [
      "WARNING: replacing module geoRaster.\n"
     ]
    }
   ],
   "source": [
    "include(\"Julia//GeoRaster.jl\")\n",
    "\n",
    "Longitude, Latitude = Rasters.X(Metadatas.Coord_X_Left: Metadatas.ΔX: Metadatas.Coord_X_Right, crs=Metadatas.Crs_GeoFormat), Rasters.Y(Metadatas.Coord_Y_Top: Metadatas.ΔY: Metadatas.Coord_Y_Bottom, crs=Metadatas.Crs_GeoFormat)\n",
    "\n",
    "@assert(Metadatas.N_Width  == length(Longitude))\n",
    "@assert(Metadatas.N_Height == length(Latitude))\n"
   ]
  },
  {
   "cell_type": "markdown",
   "metadata": {},
   "source": [
    "## **CATCHMENT:** *Reading catchment boundary from Python used as a mask*"
   ]
  },
  {
   "cell_type": "code",
   "execution_count": null,
   "metadata": {},
   "outputs": [
    {
     "name": "stderr",
     "output_type": "stream",
     "text": [
      "WARNING: replacing module geoRaster.\n"
     ]
    }
   ],
   "source": [
    "# Reading Catchement map\n",
    "   Path_InputPython_Subcatchment = joinpath(Path_Root, Path_OutputPython, Subcatch_Python)\n",
    "   Subcatchment₀ = Rasters.Raster(Path_InputPython_Subcatchment)\n",
    "   Subcatchment₁ = Rasters.replace_missing(Subcatchment₀, missingval=0)\n",
    "\n",
    "# Resampling to the same grid size as the Dem_Resample\n",
    "   # Subcatchment₁ = Rasters.resample(Subcatchment₀; to=Dem_Resample, missingval=0)\n",
    "\n",
    "# Computing subcatchments\n",
    "   Subcatchment = Rasters.Raster((Longitude, Latitude), crs=Metadatas.Crs_GeoFormat)\n",
    "\n",
    "   for iX=1:Metadatas.N_Width\n",
    "      for iY=1:Metadatas.N_Height\n",
    "         if Subcatchment₁[iX,iY] > 0\n",
    "            Subcatchment[iX,iY] = 1\n",
    "         else\n",
    "            Subcatchment[iX,iY] = 0\n",
    "         end\n",
    "      end # for iY=1:Metadatas.N_Height\n",
    "   end # for iX=1:Metadatas.N_Width\n"
   ]
  },
  {
   "cell_type": "markdown",
   "metadata": {},
   "source": [
    "## **GAUGE**"
   ]
  },
  {
   "cell_type": "code",
   "execution_count": 118,
   "metadata": {},
   "outputs": [
    {
     "name": "stdout",
     "output_type": "stream",
     "text": [
      "0×0 view(::Matrix{Float64}, 362:361, 47:46) with eltype Float64\n"
     ]
    }
   ],
   "source": [
    "N_Width, N_Height  = size(Dem_Resample)\n",
    "\n",
    "Gauge = Rasters.Raster((Longitude, Latitude), crs=Metadatas.Crs_GeoFormat)\n",
    "\n",
    "X1= Param_GaugeCoordinate[1]\n",
    "Y1 = Param_GaugeCoordinate[2]\n",
    "\n",
    "A = Rasters.view(Gauge, X(X1..X1), Y(Y1..Y1))\n",
    "\n",
    "println(A)\n",
    "\n",
    "# iX, iY = LAT_LONG_2_INDEX(;Map=Gauge, Param_GaugeCoordinate)\n",
    "\n"
   ]
  },
  {
   "cell_type": "code",
   "execution_count": null,
   "metadata": {},
   "outputs": [
    {
     "name": "stderr",
     "output_type": "stream",
     "text": [
      "WARNING: replacing module geoRaster.\n"
     ]
    },
    {
     "name": "stdout",
     "output_type": "stream",
     "text": [
      "d:\\JOE\\MAIN\\MODELS\\WFLOW\\DATA\\Timoleague\\InputGis\\Timoleague_Gauge_Hydro.shp\n",
      "Gauge:  iX= 362  iY= 46\n",
      "LAT_LONG_2_iCOORD: [362 ; 46]\n"
     ]
    },
    {
     "data": {
      "text/plain": [
       "(362, 46)"
      ]
     },
     "metadata": {},
     "output_type": "display_data"
    }
   ],
   "source": [
    "include(\"Julia//GeoRaster.jl\")\n",
    "\n",
    "Path_InputGis_Gauge  = joinpath(Path_Root, Path_InputGis, Gauge_Shp)\n",
    "println(Path_InputGis_Gauge)\n",
    "\n",
    "# Load the shapefile\n",
    "   Gauge_Raw = Shapefile.Handle(Path_InputGis_Gauge)\n",
    "\n",
    "# Rasterizing\n",
    "   Gauge = Rasters.rasterize(last, Gauge_Raw; res=Metadatas.ΔX, fill=1, missingval=0, crs=Metadatas.Crs_GeoFormat, to=Dem_Resample, boundary=:center, shape=:point ,progress=true)\n",
    "\n",
    "# Saving file\n",
    "   Path_OutputGauge = joinpath(Path_Root, Path_OutputWflow, Gauge_Wflow)\n",
    "   Rasters.write(Path_OutputGauge, Gauge; ext=\".tiff\", force=true, verbose=true, missingval=0)\n",
    "\n",
    "# Finding the Gauge coordinate\n",
    "   iX_Gauge = 1\n",
    "   iY_Gauge = 1\n",
    "   for iX=1:Metadatas.N_Width\n",
    "      for iY=1:Metadatas.N_Height\n",
    "         if Gauge[iX, iY] == 1\n",
    "            iX_Gauge = iX\n",
    "            iY_Gauge = iY\n",
    "            println( \"Gauge:  iX= $iX_Gauge  iY= $iY_Gauge\")\n",
    "            break\n",
    "         end\n",
    "      end # for iY=1:Metadatas.N_Height\n",
    "   end # for iX=1:Metadatas.N_Width\n",
    "\n",
    "   # @assert(Subcatchment[iX_Gauge, iY_Gauge] == 1)\n",
    "\n",
    "   iX₂, iY₂,= geoRaster.LAT_LONG_2_INDEX(;Map=Gauge, Param_GaugeCoordinate)\n",
    "\n",
    "# Writting the output\n",
    "   # Path_OutputWflow_Subcatchment = joinpath(Path_Root, Path_OutputWflow, Subcatch_Wflow)\n",
    "   # Rasters.write(Path_OutputWflow_Subcatchment, Subcatchment; ext=\".tiff\", missingval=NaN, force=true, verbose=true)\n",
    "\n",
    "# if 🎏_Plots\n",
    "#    CairoMakie.activate!()\n",
    "#    Fig_2 =  CairoMakie.Figure()\n",
    "#    Axis_2 = CairoMakie.Axis(Fig_2[1, 1], title=\"Catchment Boundaries\", xlabel= L\"Longitude\", ylabel=L\"Latitude\",  ylabelsize=ylabelsize, xlabelsize=xlabelSize, xticksize=xticksize, yticksize=yticksize, titlesize=titlesize,  titlecolor=titlecolor)\n",
    "\n",
    "#    Map_2 = CairoMakie.plot!(Axis_2, Subcatchment, colormap=Reverse(:greys))\n",
    "#    Map_2 = CairoMakie.heatmap!(Axis_2, Gauge, colormap=:lajolla)\n",
    "\n",
    "#    CairoMakie.display(Fig_2)\n",
    "# end\n"
   ]
  },
  {
   "cell_type": "markdown",
   "metadata": {},
   "source": [
    "## **DEM:** *Mask to catchment area*"
   ]
  },
  {
   "cell_type": "code",
   "execution_count": 90,
   "metadata": {},
   "outputs": [
    {
     "name": "stderr",
     "output_type": "stream",
     "text": [
      "WARNING: replacing module geoRaster.\n"
     ]
    },
    {
     "name": "stdout",
     "output_type": "stream",
     "text": [
      "Param_Crs = 29902\n",
      "ΔX = 10.0\n",
      "ΔY = -10.0\n",
      "N_Width  = 461\n",
      "N_Height = 286\n",
      "Coord_X_Left = 143100.001, Coord_X_Right = 147700.001\n",
      "Coord_Y_Top = 42620.008, Coord_Y_Bottom = 39770.008\n"
     ]
    }
   ],
   "source": [
    "include(\"Julia//GeoRaster.jl\")\n",
    "\n",
    "Dem_Resample_Mask = geoRaster.MASK(;Input=Dem_Resample, Mask=Subcatchment, Param_Crs=Metadatas.Crs_GeoFormat, Latitude, Longitude)\n",
    "\n",
    "🎏_Map₁_Eq_Map₂ = geoRaster.TEST_SAMESIZE(; Map₁=Dem_Resample_Mask, Map₂=Subcatchment, Map₁_Nodata=NaN, Map₂_Nodata=0)\n",
    "\n",
    "# Writting output\n",
    "   Path_OutputJulia_DemMask = joinpath(Path_Root, Path_OutputJulia, Dem_Julia_Mask)\n",
    "\n",
    "   Rasters.write(Path_OutputJulia_DemMask, Dem_Resample_Mask; ext=\".tiff\", missingval= NaN, force=true, verbose=true)\n",
    "\n",
    "# Getting the metadata\n",
    "\tMetadatas = geoRaster.RASTER_METADATA(Dem_Resample_Mask; Verbose=true);\n",
    "\n",
    "if 🎏_Plots\n",
    "\tgeoPlot.HEATMAP(;🎏_Colorbar=true, Input= Dem_Resample_Mask, Title=\"Digital Elevation Model Masked\", Label=\"Altitude [m]\", colormap=:greys)\n",
    "end\n"
   ]
  },
  {
   "cell_type": "markdown",
   "metadata": {},
   "source": [
    "## **DEM:** *flow accumulation*"
   ]
  },
  {
   "cell_type": "code",
   "execution_count": 91,
   "metadata": {},
   "outputs": [],
   "source": [
    "if 🎏_Plots && 🎏_Plot_FlowAccumulation\n",
    "   # Options: DInf(), D8(), FD8(2)\n",
    "   Acc, Ldd = Geomorphometry.flowaccumulation(Dem_Resample; method=FD8(4))\n",
    "\n",
    "   Acc_Mask = geoRaster.MASK(;Param_Crs=Metadatas.Crs_GeoFormat, Input=Acc, Latitude, Longitude, Mask=Subcatchment)\n",
    "\n",
    "\tgeoPlot.HEATMAP(;🎏_Colorbar=true, Input= log10.(Acc_Mask), Title=\"Flow accumulation\", Label=\"Flow accumulation [mm]\", colormap=:rain)\n",
    "end\n"
   ]
  },
  {
   "cell_type": "markdown",
   "metadata": {},
   "source": [
    "## **LDD:** *Python Mask to catchment area* "
   ]
  },
  {
   "cell_type": "code",
   "execution_count": 92,
   "metadata": {},
   "outputs": [
    {
     "name": "stderr",
     "output_type": "stream",
     "text": [
      "WARNING: replacing module geoRaster.\n"
     ]
    },
    {
     "name": "stdout",
     "output_type": "stream",
     "text": [
      "d:\\JOE\\MAIN\\MODELS\\WFLOW\\DATA\\Timoleague\\OutputWflow\\wflow_ldd.tiff\n"
     ]
    },
    {
     "data": {
      "text/plain": [
       "true"
      ]
     },
     "metadata": {},
     "output_type": "display_data"
    }
   ],
   "source": [
    "include(\"Julia//GeoRaster.jl\")\n",
    "\n",
    "Path_InputPython_Ldd = joinpath(Path_Root, Path_OutputPython, Ldd_Python)\n",
    "Ldd₀                 = Rasters.Raster(Path_InputPython_Ldd)\n",
    "Ldd₁                 = Rasters.replace_missing(Ldd₀, missingval=0)\n",
    "\n",
    "# Resampling such that it has the same grid size as the Dem_Resample\n",
    "   # Ldd₁ = Rasters.resample(Ldd₀; to=Dem_Resample_Mask, missingval=0) #\n",
    "\n",
    "# Masking with catchment\n",
    "   Ldd_Mask = geoRaster.MASK(;Param_Crs=Metadatas.Crs_GeoFormat, Input=Ldd₁, Latitude, Longitude, Mask=Subcatchment, Missing=0)\n",
    "\n",
    "# Writting output\n",
    "   Path_OutputWflow_LddMask = joinpath(Path_Root, Path_OutputWflow, Ldd_Wflow)\n",
    "   Rasters.write(Path_OutputWflow_LddMask, Ldd_Mask; ext=\".tiff\", force=true, verbose=true)\n",
    "   println(Path_OutputWflow_LddMask)\n",
    "\n",
    "if 🎏_Plots\n",
    "\tgeoPlot.HEATMAP(;🎏_Colorbar=true, Input=Ldd_Mask, Title=\"Local Drain Direction\", Label=\"Ldd [1-9]\", colormap=Makie.Categorical(:Spectral_11))\n",
    "end\n",
    "\n",
    "🎏_Map₁_Eq_Map₂ = geoRaster.TEST_SAMESIZE(; Map₁=Subcatchment, Map₂=Ldd_Mask,  Map₁_Nodata=0, Map₂_Nodata=0)\n"
   ]
  },
  {
   "cell_type": "markdown",
   "metadata": {},
   "source": [
    "## **RIVER:** *Mask to catchment area*"
   ]
  },
  {
   "cell_type": "code",
   "execution_count": 93,
   "metadata": {},
   "outputs": [
    {
     "name": "stdout",
     "output_type": "stream",
     "text": [
      "d:\\JOE\\MAIN\\MODELS\\WFLOW\\DATA\\Timoleague\\InputGis\\Timoleague_River3.shp\n"
     ]
    }
   ],
   "source": [
    "\n",
    "Path_InputGis_River  = joinpath(Path_Root, Path_InputGis, River_Shp)\n",
    "println(Path_InputGis_River)\n",
    "\n",
    "# Load the shapefile\n",
    "River_Raw = Shapefile.Handle(Path_InputGis_River)\n",
    "\n",
    "River = Rasters.rasterize(last, River_Raw; res=ΔX₂, fill=1, missingval=0, crs=Metadatas.Crs_GeoFormat, to=Dem_Resample_Mask, shape=:line ,progress=true)\n",
    "\n",
    "River_Mask = geoRaster.MASK(;Param_Crs=Metadatas.Crs_GeoFormat, Input=River, Latitude, Longitude, Mask=Subcatchment, Missing=0)\n",
    "\n",
    "Path_OutputWflow_River = joinpath(Path_Root, Path_OutputWflow, River_Wflow)\n",
    "Rasters.write(Path_OutputWflow_River, River_Mask; ext=\".tiff\", force=true, verbose=true)\n",
    "\n",
    "if 🎏_Plots\n",
    "   CairoMakie.activate!()\n",
    "   Fig_6 =  CairoMakie.Figure()\n",
    "   # Axis_6 = CairoMakie.Axis(Fig_6[1, 1], title=\"Rivers\", xlabel= L\"$Latitude$\", ylabel=L\"$Longitude$\", ylabelsize=ylabelsize, xlabelsize=xlabelSize, xticksize=xticksize, yticksize=yticksize, titlesize=titlesize,  titlecolor=titlecolor)\n",
    "\n",
    "   Map_6 = CairoMakie.plot!(Axis_6, River_Mask, colormap=Reverse(:lajolla))\n",
    "   Map_6 = CairoMakie.heatmap!(Axis_6, Gauge, colormap=:lajolla)\n",
    "\n",
    "   # CairoMakie.Colorbar(Fig_6[1, 2], Map_6, label = \"Rivers\", width = 15, ticksize = 15, tickalign = 0.5)\n",
    "   CairoMakie.display(Fig_6)\n",
    "end\n"
   ]
  },
  {
   "cell_type": "markdown",
   "metadata": {},
   "source": [
    "## **PITS**"
   ]
  },
  {
   "cell_type": "code",
   "execution_count": 94,
   "metadata": {},
   "outputs": [
    {
     "data": {
      "text/plain": [
       "\"1, 62\""
      ]
     },
     "metadata": {},
     "output_type": "display_data"
    },
    {
     "data": {
      "text/plain": [
       "\"1, 74\""
      ]
     },
     "metadata": {},
     "output_type": "display_data"
    },
    {
     "data": {
      "text/plain": [
       "\"1, 88\""
      ]
     },
     "metadata": {},
     "output_type": "display_data"
    },
    {
     "data": {
      "text/plain": [
       "\"1, 99\""
      ]
     },
     "metadata": {},
     "output_type": "display_data"
    },
    {
     "data": {
      "text/plain": [
       "\"2, 113\""
      ]
     },
     "metadata": {},
     "output_type": "display_data"
    },
    {
     "data": {
      "text/plain": [
       "\"23, 143\""
      ]
     },
     "metadata": {},
     "output_type": "display_data"
    },
    {
     "data": {
      "text/plain": [
       "\"29, 208\""
      ]
     },
     "metadata": {},
     "output_type": "display_data"
    },
    {
     "data": {
      "text/plain": [
       "\"30, 197\""
      ]
     },
     "metadata": {},
     "output_type": "display_data"
    },
    {
     "data": {
      "text/plain": [
       "\"32, 213\""
      ]
     },
     "metadata": {},
     "output_type": "display_data"
    },
    {
     "data": {
      "text/plain": [
       "\"34, 188\""
      ]
     },
     "metadata": {},
     "output_type": "display_data"
    },
    {
     "data": {
      "text/plain": [
       "\"35, 149\""
      ]
     },
     "metadata": {},
     "output_type": "display_data"
    },
    {
     "data": {
      "text/plain": [
       "\"37, 174\""
      ]
     },
     "metadata": {},
     "output_type": "display_data"
    },
    {
     "data": {
      "text/plain": [
       "\"37, 180\""
      ]
     },
     "metadata": {},
     "output_type": "display_data"
    },
    {
     "data": {
      "text/plain": [
       "\"48, 223\""
      ]
     },
     "metadata": {},
     "output_type": "display_data"
    },
    {
     "data": {
      "text/plain": [
       "\"53, 2\""
      ]
     },
     "metadata": {},
     "output_type": "display_data"
    },
    {
     "data": {
      "text/plain": [
       "\"78, 10\""
      ]
     },
     "metadata": {},
     "output_type": "display_data"
    },
    {
     "data": {
      "text/plain": [
       "\"80, 27\""
      ]
     },
     "metadata": {},
     "output_type": "display_data"
    },
    {
     "data": {
      "text/plain": [
       "\"81, 25\""
      ]
     },
     "metadata": {},
     "output_type": "display_data"
    },
    {
     "data": {
      "text/plain": [
       "\"83, 270\""
      ]
     },
     "metadata": {},
     "output_type": "display_data"
    },
    {
     "data": {
      "text/plain": [
       "\"85, 272\""
      ]
     },
     "metadata": {},
     "output_type": "display_data"
    },
    {
     "data": {
      "text/plain": [
       "\"89, 34\""
      ]
     },
     "metadata": {},
     "output_type": "display_data"
    },
    {
     "data": {
      "text/plain": [
       "\"90, 275\""
      ]
     },
     "metadata": {},
     "output_type": "display_data"
    },
    {
     "data": {
      "text/plain": [
       "\"101, 36\""
      ]
     },
     "metadata": {},
     "output_type": "display_data"
    },
    {
     "data": {
      "text/plain": [
       "\"103, 37\""
      ]
     },
     "metadata": {},
     "output_type": "display_data"
    },
    {
     "data": {
      "text/plain": [
       "\"106, 42\""
      ]
     },
     "metadata": {},
     "output_type": "display_data"
    },
    {
     "data": {
      "text/plain": [
       "\"110, 48\""
      ]
     },
     "metadata": {},
     "output_type": "display_data"
    },
    {
     "data": {
      "text/plain": [
       "\"117, 53\""
      ]
     },
     "metadata": {},
     "output_type": "display_data"
    },
    {
     "data": {
      "text/plain": [
       "\"123, 56\""
      ]
     },
     "metadata": {},
     "output_type": "display_data"
    },
    {
     "data": {
      "text/plain": [
       "\"125, 58\""
      ]
     },
     "metadata": {},
     "output_type": "display_data"
    },
    {
     "data": {
      "text/plain": [
       "\"131, 64\""
      ]
     },
     "metadata": {},
     "output_type": "display_data"
    },
    {
     "data": {
      "text/plain": [
       "\"140, 63\""
      ]
     },
     "metadata": {},
     "output_type": "display_data"
    },
    {
     "data": {
      "text/plain": [
       "\"146, 271\""
      ]
     },
     "metadata": {},
     "output_type": "display_data"
    },
    {
     "data": {
      "text/plain": [
       "\"147, 59\""
      ]
     },
     "metadata": {},
     "output_type": "display_data"
    },
    {
     "data": {
      "text/plain": [
       "\"148, 272\""
      ]
     },
     "metadata": {},
     "output_type": "display_data"
    },
    {
     "data": {
      "text/plain": [
       "\"149, 58\""
      ]
     },
     "metadata": {},
     "output_type": "display_data"
    },
    {
     "data": {
      "text/plain": [
       "\"150, 273\""
      ]
     },
     "metadata": {},
     "output_type": "display_data"
    },
    {
     "data": {
      "text/plain": [
       "\"152, 274\""
      ]
     },
     "metadata": {},
     "output_type": "display_data"
    },
    {
     "data": {
      "text/plain": [
       "\"157, 58\""
      ]
     },
     "metadata": {},
     "output_type": "display_data"
    },
    {
     "data": {
      "text/plain": [
       "\"160, 57\""
      ]
     },
     "metadata": {},
     "output_type": "display_data"
    },
    {
     "data": {
      "text/plain": [
       "\"162, 56\""
      ]
     },
     "metadata": {},
     "output_type": "display_data"
    },
    {
     "data": {
      "text/plain": [
       "\"171, 56\""
      ]
     },
     "metadata": {},
     "output_type": "display_data"
    },
    {
     "data": {
      "text/plain": [
       "\"175, 56\""
      ]
     },
     "metadata": {},
     "output_type": "display_data"
    },
    {
     "data": {
      "text/plain": [
       "\"179, 56\""
      ]
     },
     "metadata": {},
     "output_type": "display_data"
    },
    {
     "data": {
      "text/plain": [
       "\"182, 56\""
      ]
     },
     "metadata": {},
     "output_type": "display_data"
    },
    {
     "data": {
      "text/plain": [
       "\"186, 283\""
      ]
     },
     "metadata": {},
     "output_type": "display_data"
    },
    {
     "data": {
      "text/plain": [
       "\"188, 282\""
      ]
     },
     "metadata": {},
     "output_type": "display_data"
    },
    {
     "data": {
      "text/plain": [
       "\"191, 54\""
      ]
     },
     "metadata": {},
     "output_type": "display_data"
    },
    {
     "data": {
      "text/plain": [
       "\"191, 280\""
      ]
     },
     "metadata": {},
     "output_type": "display_data"
    },
    {
     "data": {
      "text/plain": [
       "\"193, 53\""
      ]
     },
     "metadata": {},
     "output_type": "display_data"
    },
    {
     "data": {
      "text/plain": [
       "\"196, 270\""
      ]
     },
     "metadata": {},
     "output_type": "display_data"
    },
    {
     "data": {
      "text/plain": [
       "\"197, 267\""
      ]
     },
     "metadata": {},
     "output_type": "display_data"
    },
    {
     "data": {
      "text/plain": [
       "\"198, 52\""
      ]
     },
     "metadata": {},
     "output_type": "display_data"
    },
    {
     "data": {
      "text/plain": [
       "\"213, 49\""
      ]
     },
     "metadata": {},
     "output_type": "display_data"
    },
    {
     "data": {
      "text/plain": [
       "\"238, 40\""
      ]
     },
     "metadata": {},
     "output_type": "display_data"
    },
    {
     "data": {
      "text/plain": [
       "\"238, 249\""
      ]
     },
     "metadata": {},
     "output_type": "display_data"
    },
    {
     "data": {
      "text/plain": [
       "\"240, 250\""
      ]
     },
     "metadata": {},
     "output_type": "display_data"
    },
    {
     "data": {
      "text/plain": [
       "\"241, 37\""
      ]
     },
     "metadata": {},
     "output_type": "display_data"
    },
    {
     "data": {
      "text/plain": [
       "\"247, 31\""
      ]
     },
     "metadata": {},
     "output_type": "display_data"
    },
    {
     "data": {
      "text/plain": [
       "\"249, 28\""
      ]
     },
     "metadata": {},
     "output_type": "display_data"
    },
    {
     "data": {
      "text/plain": [
       "\"253, 25\""
      ]
     },
     "metadata": {},
     "output_type": "display_data"
    },
    {
     "data": {
      "text/plain": [
       "\"258, 250\""
      ]
     },
     "metadata": {},
     "output_type": "display_data"
    },
    {
     "data": {
      "text/plain": [
       "\"266, 9\""
      ]
     },
     "metadata": {},
     "output_type": "display_data"
    },
    {
     "data": {
      "text/plain": [
       "\"272, 5\""
      ]
     },
     "metadata": {},
     "output_type": "display_data"
    },
    {
     "data": {
      "text/plain": [
       "\"281, 255\""
      ]
     },
     "metadata": {},
     "output_type": "display_data"
    },
    {
     "data": {
      "text/plain": [
       "\"282, 6\""
      ]
     },
     "metadata": {},
     "output_type": "display_data"
    },
    {
     "data": {
      "text/plain": [
       "\"283, 259\""
      ]
     },
     "metadata": {},
     "output_type": "display_data"
    },
    {
     "data": {
      "text/plain": [
       "\"285, 262\""
      ]
     },
     "metadata": {},
     "output_type": "display_data"
    },
    {
     "data": {
      "text/plain": [
       "\"343, 281\""
      ]
     },
     "metadata": {},
     "output_type": "display_data"
    },
    {
     "data": {
      "text/plain": [
       "\"345, 41\""
      ]
     },
     "metadata": {},
     "output_type": "display_data"
    },
    {
     "data": {
      "text/plain": [
       "\"349, 279\""
      ]
     },
     "metadata": {},
     "output_type": "display_data"
    },
    {
     "data": {
      "text/plain": [
       "\"351, 278\""
      ]
     },
     "metadata": {},
     "output_type": "display_data"
    },
    {
     "data": {
      "text/plain": [
       "\"364, 39\""
      ]
     },
     "metadata": {},
     "output_type": "display_data"
    },
    {
     "data": {
      "text/plain": [
       "\"368, 42\""
      ]
     },
     "metadata": {},
     "output_type": "display_data"
    },
    {
     "data": {
      "text/plain": [
       "\"372, 45\""
      ]
     },
     "metadata": {},
     "output_type": "display_data"
    },
    {
     "data": {
      "text/plain": [
       "\"376, 50\""
      ]
     },
     "metadata": {},
     "output_type": "display_data"
    },
    {
     "data": {
      "text/plain": [
       "\"410, 211\""
      ]
     },
     "metadata": {},
     "output_type": "display_data"
    },
    {
     "data": {
      "text/plain": [
       "\"410, 217\""
      ]
     },
     "metadata": {},
     "output_type": "display_data"
    },
    {
     "data": {
      "text/plain": [
       "\"411, 207\""
      ]
     },
     "metadata": {},
     "output_type": "display_data"
    },
    {
     "data": {
      "text/plain": [
       "\"414, 192\""
      ]
     },
     "metadata": {},
     "output_type": "display_data"
    },
    {
     "name": "stdout",
     "output_type": "stream",
     "text": [
      "d:\\JOE\\MAIN\\MODELS\\WFLOW\\DATA\\Timoleague\\OutputJulia\\Timoleague_Pits.tiff\n"
     ]
    },
    {
     "ename": "LoadError",
     "evalue": "LoadError: UndefVarError: `@L_str` not defined in `Main`\nSuggestion: check for spelling errors or missing imports.\nHint: a global variable of this name may be made accessible by importing LaTeXStrings in the current active module Main\nin expression starting at d:\\JOE\\MAIN\\MODELS\\WFLOW\\WflowDataJoe\\WflowRaster.jl\\src\\jl_notebook_cell_df34fa98e69747e1a8f8a730347b8e2f_X35sZmlsZQ==.jl:24",
     "output_type": "error",
     "traceback": [
      "LoadError: UndefVarError: `@L_str` not defined in `Main`\n",
      "Suggestion: check for spelling errors or missing imports.\n",
      "Hint: a global variable of this name may be made accessible by importing LaTeXStrings in the current active module Main\n",
      "in expression starting at d:\\JOE\\MAIN\\MODELS\\WFLOW\\WflowDataJoe\\WflowRaster.jl\\src\\jl_notebook_cell_df34fa98e69747e1a8f8a730347b8e2f_X35sZmlsZQ==.jl:24\n"
     ]
    }
   ],
   "source": [
    "Pits  = Rasters.Raster((Longitude, Latitude), crs=Metadatas.Crs_GeoFormat)\n",
    "\n",
    "Pits_Count = 1\n",
    "for iX=1:Metadatas.N_Width\n",
    "   for iY=1:Metadatas.N_Height\n",
    "      if Ldd₁[iX, iY] == 5\n",
    "         Pits[iX,iY] = Pits_Count\n",
    "         display(\"$iX, $iY\")\n",
    "         Pits_Count += 1\n",
    "    else\n",
    "        Pits[iX,iY] = NaN\n",
    "      end\n",
    "   end # for iY=1:Metadatas.N_Height\n",
    "end # for iX=1:Metadatas.N_Width\n",
    "\n",
    "# Writting output\n",
    "   PathOutput_Pits = joinpath(Path_Root, Path_OutputJulia, Pits_Julia)\n",
    "   Rasters.write(PathOutput_Pits, Pits; ext=\".tiff\", force=true, verbose=true)\n",
    "   println(PathOutput_Pits)\n",
    "\n",
    "if 🎏_Plots\n",
    "   CairoMakie.activate!()\n",
    "   Fig_2 =  CairoMakie.Figure()\n",
    "   Axis_2 = CairoMakie.Axis(Fig_2[1, 1], title=\"Catchment Boundaries\", xlabel= L\"Longitude\", ylabel=L\"Latitude\",  ylabelsize=ylabelsize, xlabelsize=xlabelSize, xticksize=xticksize, yticksize=yticksize, titlesize=titlesize,  titlecolor=titlecolor)\n",
    "\n",
    "    CairoMakie.heatmap!(Axis_2, Dem_Resample, colormap=:greys)\n",
    "    CairoMakie.heatmap!(Axis_2, Pits, colormap=Reverse(:greys))\n",
    "    CairoMakie.heatmap!(Axis_2, RiverWidth, colormap=Reverse(:lajolla))\n",
    "    # CairoMakie.heatmap!(Axis_2, Geomorphometry.multihillshade(Dem_Resample), colormap=:greys)\n",
    "   # Map_2 = CairoMakie.heatmap!(Axis_2, Gauge, colormap=:lajolla)\n",
    "\n",
    "   CairoMakie.display(Fig_2)\n",
    "end\n"
   ]
  },
  {
   "cell_type": "markdown",
   "metadata": {},
   "source": [
    "## **SLOPE:** *Reading Slope from Python & Mask*"
   ]
  },
  {
   "cell_type": "code",
   "execution_count": 95,
   "metadata": {},
   "outputs": [
    {
     "name": "stdout",
     "output_type": "stream",
     "text": [
      "d:\\JOE\\MAIN\\MODELS\\WFLOW\\DATA\\Timoleague\\OutputWflow\\RiverSlope.tiff\n"
     ]
    }
   ],
   "source": [
    "Path_InputPython_Slope = joinpath(Path_Root, Path_OutputPython, Slope_Python)\n",
    "\n",
    "Slope₀ = Rasters.Raster(Path_InputPython_Slope)\n",
    "\n",
    "Slope = Rasters.replace_missing(Slope₀, missingval=NaN)\n",
    "\n",
    "# Slope = Rasters.resample(Slope₀; to=Dem_Resample_Mask, missingval=0)\n",
    "\n",
    "Slope_Mask = geoRaster.MASK(;Param_Crs=Metadatas.Crs_GeoFormat, Input=Slope, Latitude, Longitude, Mask=Subcatchment)\n",
    "\n",
    "\n",
    "# Writting the output\n",
    "Path_OutputWflow_Slope = joinpath(Path_Root, Path_OutputWflow, RiverSlope_Wflow)\n",
    "# Rasters.write(Path_OutputWflow_Slope, Slope_Mask; ext=\".tiff\", force=true, verbose=true)\n",
    "println(Path_OutputWflow_Slope)\n",
    "\n",
    "if 🎏_Plots\n",
    "\tgeoPlot.HEATMAP(;🎏_Colorbar=true, Input=Slope_Mask, Title=\"Slope\", Label=\"Slope\", colormap=:matter)\n",
    "end\n",
    "\n",
    "# 🎏_Map₁_Eq_Map₂ = geoRaster.TEST_SAMESIZE(; Map₁=Subcatchment, Map₂=Slope_Mask,  Map₁_Nodata=NaN, Map₂_Nodata=NaN)\n"
   ]
  },
  {
   "cell_type": "markdown",
   "metadata": {},
   "source": [
    "## **Rivers slope**"
   ]
  },
  {
   "cell_type": "code",
   "execution_count": 96,
   "metadata": {},
   "outputs": [
    {
     "name": "stderr",
     "output_type": "stream",
     "text": [
      "WARNING: replacing module geoRaster.\n"
     ]
    },
    {
     "name": "stdout",
     "output_type": "stream",
     "text": [
      "d:\\JOE\\MAIN\\MODELS\\WFLOW\\DATA\\Timoleague\\OutputWflow\\RiverSlope.tiff\n"
     ]
    },
    {
     "ename": "LoadError",
     "evalue": "LoadError: UndefVarError: `@L_str` not defined in `Main`\nSuggestion: check for spelling errors or missing imports.\nHint: a global variable of this name may be made accessible by importing LaTeXStrings in the current active module Main\nin expression starting at d:\\JOE\\MAIN\\MODELS\\WFLOW\\WflowDataJoe\\WflowRaster.jl\\src\\jl_notebook_cell_df34fa98e69747e1a8f8a730347b8e2f_X42sZmlsZQ==.jl:13",
     "output_type": "error",
     "traceback": [
      "LoadError: UndefVarError: `@L_str` not defined in `Main`\n",
      "Suggestion: check for spelling errors or missing imports.\n",
      "Hint: a global variable of this name may be made accessible by importing LaTeXStrings in the current active module Main\n",
      "in expression starting at d:\\JOE\\MAIN\\MODELS\\WFLOW\\WflowDataJoe\\WflowRaster.jl\\src\\jl_notebook_cell_df34fa98e69747e1a8f8a730347b8e2f_X42sZmlsZQ==.jl:13\n"
     ]
    }
   ],
   "source": [
    "include(\"Julia//GeoRaster.jl\")\n",
    "\n",
    "RiverSlope = geoRaster.MASK(;Param_Crs=Metadatas.Crs_GeoFormat, Input=Slope_Mask, Latitude, Longitude, Mask=River_Mask)\n",
    "\n",
    "Path_OutputWflow_RiverSlope = joinpath(Path_Root, Path_OutputWflow, RiverSlope_Wflow)\n",
    "\n",
    "Rasters.write(Path_OutputWflow_RiverSlope, RiverSlope; ext=\".tiff\", force=true, verbose=true)\n",
    "println(Path_OutputWflow_RiverSlope)\n",
    "\n",
    "if 🎏_Plots\n",
    "   CairoMakie.activate!()\n",
    "   Fig_12 =  CairoMakie.Figure()\n",
    "   Axis_12 = CairoMakie.Axis(Fig_12[1, 1], title=\"River Slope Per Pixel\", xlabel= L\"$Latitude$\", ylabel=L\"$Longitude$\", ylabelsize=ylabelsize, xlabelsize=xlabelSize, xticksize=xticksize, yticksize=yticksize, titlesize=titlesize, titlecolor=titlecolor)\n",
    "\n",
    "   # CairoMakie.plot!(Axis_12, River_Mask, colormap=Reverse(:lajolla))\n",
    "   Map_12 = CairoMakie.heatmap!(Axis_12, RiverSlope, colormap=:viridis)\n",
    "\n",
    "   Colorbar(Fig_12[1, 2], Map_12, label = \"River slope [deg]\", width = 15, ticksize = 15, tickalign = 0.5)\n",
    "   display(Fig_12)\n",
    "end\n"
   ]
  },
  {
   "cell_type": "markdown",
   "metadata": {},
   "source": [
    "## **River width**"
   ]
  },
  {
   "cell_type": "code",
   "execution_count": 97,
   "metadata": {},
   "outputs": [
    {
     "ename": "LoadError",
     "evalue": "LoadError: UndefVarError: `@L_str` not defined in `Main`\nSuggestion: check for spelling errors or missing imports.\nHint: a global variable of this name may be made accessible by importing LaTeXStrings in the current active module Main\nin expression starting at d:\\JOE\\MAIN\\MODELS\\WFLOW\\WflowDataJoe\\WflowRaster.jl\\src\\jl_notebook_cell_df34fa98e69747e1a8f8a730347b8e2f_X44sZmlsZQ==.jl:18",
     "output_type": "error",
     "traceback": [
      "LoadError: UndefVarError: `@L_str` not defined in `Main`\n",
      "Suggestion: check for spelling errors or missing imports.\n",
      "Hint: a global variable of this name may be made accessible by importing LaTeXStrings in the current active module Main\n",
      "in expression starting at d:\\JOE\\MAIN\\MODELS\\WFLOW\\WflowDataJoe\\WflowRaster.jl\\src\\jl_notebook_cell_df34fa98e69747e1a8f8a730347b8e2f_X44sZmlsZQ==.jl:18\n"
     ]
    }
   ],
   "source": [
    "RiverWidth = Rasters.Raster((Longitude, Latitude), crs=Metadatas.Crs_GeoFormat, mappedcrs=EPSG(Metadatas.Param_Crs))\n",
    "for iX=1:Metadatas.N_Width\n",
    "   for iY=1:Metadatas.N_Height\n",
    "      if River_Mask[iX,iY] == 1\n",
    "         RiverWidth[iX,iY] = P_RiverWidth\n",
    "      else\n",
    "         RiverWidth[iX,iY] = NaN\n",
    "      end\n",
    "   end # for iY=1:Metadatas.N_Height\n",
    "end # for iX=1:Metadatas.N_Width\n",
    "\n",
    "Path_OutputWflow_RiverWidth = joinpath(Path_Root, Path_OutputWflow, RiverWidth_Wflow)\n",
    "# Rasters.write(Path_OutputWflow_RiverWidth, RiverWidth; ext=\".tiff\", force=true, verbose=true)\n",
    "\n",
    "if 🎏_Plots\n",
    "   CairoMakie.activate!()\n",
    "   Fig_9 =  CairoMakie.Figure()\n",
    "   Axis_9 = CairoMakie.Axis(Fig_9[1, 1], title=\"River Width\", xlabel= L\"$Latitude$\", ylabel=L\"$Longitude$\",  ylabelsize=ylabelsize, xlabelsize=xlabelSize, xticksize=xticksize, yticksize=yticksize, titlesize=titlesize,  titlecolor=titlecolor)\n",
    "\n",
    "   Map_9 = CairoMakie.plot!(Axis_9, RiverWidth, colormap=Reverse(:viridis))\n",
    "\n",
    "   # CairoMakie.Colorbar(Fig_6[1, 2], Map_6, label = \"Rivers\", width = 15, ticksize = 15, tickalign = 0.5)\n",
    "   CairoMakie.display(Fig_9)\n",
    "end\n"
   ]
  },
  {
   "cell_type": "markdown",
   "metadata": {},
   "source": [
    "## **River depth**"
   ]
  },
  {
   "cell_type": "code",
   "execution_count": 98,
   "metadata": {},
   "outputs": [
    {
     "name": "stdout",
     "output_type": "stream",
     "text": [
      "d:\\JOE\\MAIN\\MODELS\\WFLOW\\DATA\\Timoleague\\OutputWflow\\wflow_riverdepth.tiff\n"
     ]
    },
    {
     "ename": "LoadError",
     "evalue": "LoadError: UndefVarError: `@L_str` not defined in `Main`\nSuggestion: check for spelling errors or missing imports.\nHint: a global variable of this name may be made accessible by importing LaTeXStrings in the current active module Main\nin expression starting at d:\\JOE\\MAIN\\MODELS\\WFLOW\\WflowDataJoe\\WflowRaster.jl\\src\\jl_notebook_cell_df34fa98e69747e1a8f8a730347b8e2f_X46sZmlsZQ==.jl:21",
     "output_type": "error",
     "traceback": [
      "LoadError: UndefVarError: `@L_str` not defined in `Main`\n",
      "Suggestion: check for spelling errors or missing imports.\n",
      "Hint: a global variable of this name may be made accessible by importing LaTeXStrings in the current active module Main\n",
      "in expression starting at d:\\JOE\\MAIN\\MODELS\\WFLOW\\WflowDataJoe\\WflowRaster.jl\\src\\jl_notebook_cell_df34fa98e69747e1a8f8a730347b8e2f_X46sZmlsZQ==.jl:21\n"
     ]
    }
   ],
   "source": [
    "RiverDepth = Rasters.Raster((Longitude, Latitude), crs=Metadatas.Crs_GeoFormat)\n",
    "\n",
    "for iX=1:Metadatas.N_Width\n",
    "   for iY=1:Metadatas.N_Height\n",
    "      if River_Mask[iX,iY] == 1\n",
    "         RiverDepth[iX,iY] = P_RiverDepth\n",
    "      else\n",
    "         RiverDepth[iX,iY] = NaN\n",
    "      end\n",
    "   end # for iY=1:Metadatas.N_Height\n",
    "end # for iX=1:Metadatas.N_Width\n",
    "\n",
    "Path_OutputWflow_RiverDepth = joinpath(Path_Root, Path_OutputWflow, RiverDepth_Wflow)\n",
    "println(Path_OutputWflow_RiverDepth)\n",
    "\n",
    "Rasters.write(Path_OutputWflow_RiverDepth, RiverDepth; ext=\".tiff\", force=true, verbose=true, crs=Metadatas.Crs_GeoFormat)\n",
    "\n",
    "if 🎏_Plots\n",
    "   CairoMakie.activate!()\n",
    "   Fig_10 =  CairoMakie.Figure()\n",
    "   Axis_10 = CairoMakie.Axis(Fig_10[1, 1], title=\"River Depth\", xlabel= L\"$Latitudeitude$\", ylabel=L\"$Longitudegitude$\",  ylabelsize=ylabelsize, xlabelsize=xlabelSize, xticksize=xticksize, yticksize=yticksize, titlesize=titlesize,  titlecolor=titlecolor)\n",
    "\n",
    "   Map_10 = CairoMakie.plot!(Axis_10, RiverDepth, colormap=Reverse(:viridis))\n",
    "\n",
    "   # CairoMakie.Colorbar(Fig_6[1, 2], Map_6, label = \"Rivers\", width = 15, ticksize = 15, tickalign = 0.5)\n",
    "   CairoMakie.display(Fig_10)\n",
    "end\n"
   ]
  },
  {
   "cell_type": "markdown",
   "metadata": {},
   "source": [
    "## **River length**"
   ]
  },
  {
   "cell_type": "code",
   "execution_count": 99,
   "metadata": {},
   "outputs": [
    {
     "name": "stdout",
     "output_type": "stream",
     "text": [
      "d:\\JOE\\MAIN\\MODELS\\WFLOW\\DATA\\Timoleague\\OutputPython\\RiverLength.tiff\n",
      "d:\\JOE\\MAIN\\MODELS\\WFLOW\\DATA\\Timoleague\\OutputWflow\\wflow_riverlength.tiff\n"
     ]
    },
    {
     "ename": "LoadError",
     "evalue": "LoadError: UndefVarError: `@L_str` not defined in `Main`\nSuggestion: check for spelling errors or missing imports.\nHint: a global variable of this name may be made accessible by importing LaTeXStrings in the current active module Main\nin expression starting at d:\\JOE\\MAIN\\MODELS\\WFLOW\\WflowDataJoe\\WflowRaster.jl\\src\\jl_notebook_cell_df34fa98e69747e1a8f8a730347b8e2f_X51sZmlsZQ==.jl:17",
     "output_type": "error",
     "traceback": [
      "LoadError: UndefVarError: `@L_str` not defined in `Main`\n",
      "Suggestion: check for spelling errors or missing imports.\n",
      "Hint: a global variable of this name may be made accessible by importing LaTeXStrings in the current active module Main\n",
      "in expression starting at d:\\JOE\\MAIN\\MODELS\\WFLOW\\WflowDataJoe\\WflowRaster.jl\\src\\jl_notebook_cell_df34fa98e69747e1a8f8a730347b8e2f_X51sZmlsZQ==.jl:17\n"
     ]
    }
   ],
   "source": [
    "Path_InputPython_RiverLength = joinpath(Path_Root, Path_OutputPython, RiverLength_Python)\n",
    "println(Path_InputPython_RiverLength)\n",
    "\n",
    "RiverLength₀ = Rasters.Raster(Path_InputPython_RiverLength)\n",
    "# RiverLength₁ = Rasters.resample(RiverLength₀; to=Dem_Resample_Mask, missingval=0)\n",
    "RiverLength₁ = Rasters.replace_missing(RiverLength₀, missingval=NaN)\n",
    "\n",
    "RiverLength_Mask = geoRaster.MASK(;Param_Crs=Metadatas.Crs_GeoFormat, Input=RiverLength₁, Latitude, Longitude, Mask=River_Mask)\n",
    "\n",
    "Path_OutputWflow_RiverLength = joinpath(Path_Root, Path_OutputWflow, RiverLength_Wflow)\n",
    "Rasters.write(Path_OutputWflow_RiverLength, RiverLength_Mask; ext=\".tiff\", force=true, verbose=true)\n",
    "println(Path_OutputWflow_RiverLength)\n",
    "\n",
    "if 🎏_Plots\n",
    "   CairoMakie.activate!()\n",
    "   Fig_12 =  CairoMakie.Figure()\n",
    "   Axis_12 = CairoMakie.Axis(Fig_12[1, 1], title=\"River Length Per Pixel\", xlabel= L\"$Latitudeitude$\", ylabel=L\"$Longitudegitude$\",  ylabelsize=ylabelsize, xlabelsize=xlabelSize, xticksize=xticksize, yticksize=yticksize, titlesize=titlesize, titlecolor=titlecolor)\n",
    "\n",
    "   Map_12 = CairoMakie.heatmap!(Axis_12, RiverLength_Mask, colormap=:viridis)\n",
    "\n",
    "   Colorbar(Fig_12[1, 2], Map_12, label = \"River length [m]\", width = 15, ticksize = 15, tickalign = 0.5)\n",
    "   display(Fig_12)\n",
    "end\n"
   ]
  },
  {
   "cell_type": "markdown",
   "metadata": {},
   "source": [
    "## **Impermeable layers:**"
   ]
  },
  {
   "cell_type": "code",
   "execution_count": 100,
   "metadata": {},
   "outputs": [
    {
     "data": {
      "text/plain": [
       "Any[]"
      ]
     },
     "metadata": {},
     "output_type": "display_data"
    }
   ],
   "source": [
    "if 🎏_ImpermeableMap\n",
    "   Path_InputGis_Roads = joinpath(Path_Root, Path_InputGis, Roads_Shp)\n",
    "   println(Path_InputGis_Roads)\n",
    "\n",
    "   Road_Shapefile= GeoDataFrames.read(Path_InputGis_Roads)\n",
    "\n",
    "   Impermeable = Rasters.rasterize(last, Road_Shapefile;  fill=1, res=Metadatas.ΔX, to=Dem_Resample_Mask, missingval=NaN, shape=:polygon, crs=Param_Crs_GeoFormat, boundary=:touches , progress=true, verbose=true)\n",
    "\n",
    "   Impermeable_Mask = geoRaster.MASK(;Param_Crs=Metadatas.Param_Crs_GeoFormat, Input=Impermeable, Latitude, Longitude, Mask=Subcatchment)\n",
    "\n",
    "   Path_OutputWflow_Impermeable = joinpath(Path_Root, Path_OutputWflow, Impermable_Wflow)\n",
    "\n",
    "   Rasters.write(Path_OutputWflow_Impermeable, Impermeable_Mask; ext=\".tiff\", force=true, verbose=true)\n",
    "\n",
    "   geoPlot.HEATMAP(;Title=\"Roads\", Label=\"Road\", Input=Impermeable_Mask, 🎏_Colorbar=false)\n",
    "else\n",
    "   Impermeable_Mask = []\n",
    "end\n"
   ]
  },
  {
   "cell_type": "markdown",
   "metadata": {},
   "source": [
    "# **SOIL MAPS**"
   ]
  },
  {
   "cell_type": "code",
   "execution_count": 101,
   "metadata": {},
   "outputs": [],
   "source": [
    "if 🎏_SoilMap\n",
    "   Path_InputSoils = joinpath(Path_Root, Path_InputGis, SoilMap_Raster)\n",
    "   println(Path_InputSoils)\n",
    "\n",
    "   SoilMapₒ = Rasters.Raster(Path_InputSoils)\n",
    "\n",
    "   SoilMap₁ = Rasters.resample(SoilMapₒ; to=Dem_Resample_Mask, missingval=NaN)\n",
    "\n",
    "   SoilMap = geoRaster.MASK(;Param_Crs=Metadatas.Param_Crs_GeoFormat, Input=SoilMap₁, Latitude, Longitude, Mask=Subcatchment)\n",
    "\n",
    "   if 🎏_Plots\n",
    "      geoPlot.HEATMAP(;🎏_Colorbar=true, Input=SoilMap, Label=\"Infiltration index [-]\", Title =\"Soil Maps\" )\n",
    "   end\n",
    "end\n"
   ]
  },
  {
   "cell_type": "markdown",
   "metadata": {},
   "source": [
    "# **LOOKUP TABLES**\n"
   ]
  },
  {
   "cell_type": "markdown",
   "metadata": {},
   "source": [
    "## *Lookup hydro parameters*"
   ]
  },
  {
   "cell_type": "code",
   "execution_count": 102,
   "metadata": {},
   "outputs": [
    {
     "data": {
      "text/plain": [
       "Any[]"
      ]
     },
     "metadata": {},
     "output_type": "display_data"
    }
   ],
   "source": [
    "if 🎏_SoilMap\n",
    "   include(\"Julia//geoRaster.jl\")\n",
    "   include(\"Julia//Parameters.jl\")\n",
    "\n",
    "   Soil_Header, Soil_Maps = geoRaster.LOOKUPTABLE_2_MAPS(;🎏_Plots, Param_Crs=Metadatas.Param_Crs_GeoFormat, Dem_Resample_Mask, Latitude, Longitude, LookupTable=Lookup_Hydro, Map_Shp=SoilMap_Shp, Map_Value=:Drainage_C, Metadatas, Path_InputGis, Path_Root, Path_Root_LookupTable, Subcatchment, TitleMap=\"Soil Map\", ΔX=ΔX₂)\n",
    "else\n",
    "   Soil_Header = Soil_Maps = []\n",
    "end # if 🎏_SoilMap\n"
   ]
  },
  {
   "cell_type": "markdown",
   "metadata": {},
   "source": [
    "## *Lookup vegetation parameters*"
   ]
  },
  {
   "cell_type": "code",
   "execution_count": 103,
   "metadata": {},
   "outputs": [
    {
     "name": "stderr",
     "output_type": "stream",
     "text": [
      "WARNING: replacing module geoRaster.\n"
     ]
    },
    {
     "data": {
      "text/plain": [
       "Any[]"
      ]
     },
     "metadata": {},
     "output_type": "display_data"
    }
   ],
   "source": [
    "   include(\"Julia//geoRaster.jl\")\n",
    "   include(\"Julia//Parameters.jl\")\n",
    "if 🎏_VegetationMap\n",
    "   Vegetation_Header, Vegetation_Maps = geoRaster.LOOKUPTABLE_2_MAPS(;🎏_Plots, Colormap=:plasma, Param_Crs=Metadatas.Param_Crs_GeoFormat, Dem_Resample_Mask, Latitude, Longitude, LookupTable=Lookup_Vegetation, Map_Shp=VegetationMap_Shp, Map_Value=:CROP_DESC, Metadatas, Path_InputGis, Path_Root, Path_Root_LookupTable, Subcatchment, TitleMap=\"Vegetation Map\", ΔX=ΔX₂)\n",
    "else\n",
    "   Vegetation_Header = Vegetation_Maps = []\n",
    "\n",
    "end # if 🎏_VegetationMap\n"
   ]
  },
  {
   "cell_type": "markdown",
   "metadata": {},
   "source": [
    "# **NETCDF**"
   ]
  },
  {
   "cell_type": "markdown",
   "metadata": {},
   "source": [
    "## ***Static maps***"
   ]
  },
  {
   "cell_type": "code",
   "execution_count": 104,
   "metadata": {},
   "outputs": [
    {
     "name": "stderr",
     "output_type": "stream",
     "text": [
      "WARNING: replacing module geoNetcdf.\n"
     ]
    },
    {
     "ename": "Base.IOError",
     "evalue": "IOError: unlink(\"D:\\\\JOE\\\\MAIN\\\\MODELS\\\\WFLOW\\\\Wflow.jl\\\\Wflow\\\\Data\\\\input\\\\Timoleague\\\\staticmaps-Timoleague.nc\"): resource busy or locked (EBUSY)",
     "output_type": "error",
     "traceback": [
      "IOError: unlink(\"D:\\\\JOE\\\\MAIN\\\\MODELS\\\\WFLOW\\\\Wflow.jl\\\\Wflow\\\\Data\\\\input\\\\Timoleague\\\\staticmaps-Timoleague.nc\"): resource busy or locked (EBUSY)\n",
      "\n",
      "Stacktrace:\n",
      " [1] uv_error\n",
      "   @ .\\libuv.jl:106 [inlined]\n",
      " [2] unlink(p::String)\n",
      "   @ Base.Filesystem .\\file.jl:1105\n",
      " [3] rm(path::String; force::Bool, recursive::Bool)\n",
      "   @ Base.Filesystem .\\file.jl:283\n",
      " [4] TIFF_2_NETCDF(Gauge::Raster{Int64, 2, Tuple{X{Projected{Float64, StepRangeLen{Float64, Base.TwicePrecision{Float64}, Base.TwicePrecision{Float64}, Int64}, DimensionalData.Dimensions.Lookups.ForwardOrdered, DimensionalData.Dimensions.Lookups.Regular{Float64}, DimensionalData.Dimensions.Lookups.Intervals{DimensionalData.Dimensions.Lookups.Start}, DimensionalData.Dimensions.Lookups.NoMetadata, WellKnownText{GeoFormatTypes.CRS}, Nothing, X{Colon}}}, Y{Projected{Float64, StepRangeLen{Float64, Base.TwicePrecision{Float64}, Base.TwicePrecision{Float64}, Int64}, DimensionalData.Dimensions.Lookups.ReverseOrdered, DimensionalData.Dimensions.Lookups.Regular{Float64}, DimensionalData.Dimensions.Lookups.Intervals{DimensionalData.Dimensions.Lookups.Start}, DimensionalData.Dimensions.Lookups.NoMetadata, WellKnownText{GeoFormatTypes.CRS}, Nothing, Y{Colon}}}}, Tuple{}, Matrix{Int64}, Symbol, DimensionalData.Dimensions.Lookups.Metadata{Nothing, Dict{Any, Any}}, Int64}, Impermable_Wflow::String, Impermeable_Mask::Vector{Any}, Latitude::Y{DimensionalData.Dimensions.Lookups.AutoLookup{Float64, StepRangeLen{Float64, Base.TwicePrecision{Float64}, Base.TwicePrecision{Float64}, Int64}, @NamedTuple{crs::WellKnownText{GeoFormatTypes.CRS}}}}, Ldd_Mask::Raster{Float64, 2, Tuple{X{Projected{Float64, StepRangeLen{Float64, Base.TwicePrecision{Float64}, Base.TwicePrecision{Float64}, Int64}, DimensionalData.Dimensions.Lookups.ForwardOrdered, DimensionalData.Dimensions.Lookups.Regular{Float64}, DimensionalData.Dimensions.Lookups.Points, DimensionalData.Dimensions.Lookups.NoMetadata, WellKnownText{GeoFormatTypes.CRS}, Nothing, X{Colon}}}, Y{Projected{Float64, StepRangeLen{Float64, Base.TwicePrecision{Float64}, Base.TwicePrecision{Float64}, Int64}, DimensionalData.Dimensions.Lookups.ReverseOrdered, DimensionalData.Dimensions.Lookups.Regular{Float64}, DimensionalData.Dimensions.Lookups.Points, DimensionalData.Dimensions.Lookups.NoMetadata, WellKnownText{GeoFormatTypes.CRS}, Nothing, Y{Colon}}}}, Tuple{}, Matrix{Float64}, Symbol, DimensionalData.Dimensions.Lookups.NoMetadata, Nothing}, Longitude::X{DimensionalData.Dimensions.Lookups.AutoLookup{Float64, StepRangeLen{Float64, Base.TwicePrecision{Float64}, Base.TwicePrecision{Float64}, Int64}, @NamedTuple{crs::WellKnownText{GeoFormatTypes.CRS}}}}, Metadatas::Main.geoRaster.METADATA, River_Mask::Raster{Float64, 2, Tuple{X{Projected{Float64, StepRangeLen{Float64, Base.TwicePrecision{Float64}, Base.TwicePrecision{Float64}, Int64}, DimensionalData.Dimensions.Lookups.ForwardOrdered, DimensionalData.Dimensions.Lookups.Regular{Float64}, DimensionalData.Dimensions.Lookups.Points, DimensionalData.Dimensions.Lookups.NoMetadata, WellKnownText{GeoFormatTypes.CRS}, Nothing, X{Colon}}}, Y{Projected{Float64, StepRangeLen{Float64, Base.TwicePrecision{Float64}, Base.TwicePrecision{Float64}, Int64}, DimensionalData.Dimensions.Lookups.ReverseOrdered, DimensionalData.Dimensions.Lookups.Regular{Float64}, DimensionalData.Dimensions.Lookups.Points, DimensionalData.Dimensions.Lookups.NoMetadata, WellKnownText{GeoFormatTypes.CRS}, Nothing, Y{Colon}}}}, Tuple{}, Matrix{Float64}, Symbol, DimensionalData.Dimensions.Lookups.NoMetadata, Nothing}, River_Wflow::String, RiverDepth::Raster{Float64, 2, Tuple{X{Projected{Float64, StepRangeLen{Float64, Base.TwicePrecision{Float64}, Base.TwicePrecision{Float64}, Int64}, DimensionalData.Dimensions.Lookups.ForwardOrdered, DimensionalData.Dimensions.Lookups.Regular{Float64}, DimensionalData.Dimensions.Lookups.Points, DimensionalData.Dimensions.Lookups.NoMetadata, WellKnownText{GeoFormatTypes.CRS}, Nothing, X{Colon}}}, Y{Projected{Float64, StepRangeLen{Float64, Base.TwicePrecision{Float64}, Base.TwicePrecision{Float64}, Int64}, DimensionalData.Dimensions.Lookups.ReverseOrdered, DimensionalData.Dimensions.Lookups.Regular{Float64}, DimensionalData.Dimensions.Lookups.Points, DimensionalData.Dimensions.Lookups.NoMetadata, WellKnownText{GeoFormatTypes.CRS}, Nothing, Y{Colon}}}}, Tuple{}, Matrix{Float64}, Symbol, DimensionalData.Dimensions.Lookups.NoMetadata, Nothing}, RiverDepth_Wflow::String, RiverLength_Mask::Raster{Float64, 2, Tuple{X{Projected{Float64, StepRangeLen{Float64, Base.TwicePrecision{Float64}, Base.TwicePrecision{Float64}, Int64}, DimensionalData.Dimensions.Lookups.ForwardOrdered, DimensionalData.Dimensions.Lookups.Regular{Float64}, DimensionalData.Dimensions.Lookups.Points, DimensionalData.Dimensions.Lookups.NoMetadata, WellKnownText{GeoFormatTypes.CRS}, Nothing, X{Colon}}}, Y{Projected{Float64, StepRangeLen{Float64, Base.TwicePrecision{Float64}, Base.TwicePrecision{Float64}, Int64}, DimensionalData.Dimensions.Lookups.ReverseOrdered, DimensionalData.Dimensions.Lookups.Regular{Float64}, DimensionalData.Dimensions.Lookups.Points, DimensionalData.Dimensions.Lookups.NoMetadata, WellKnownText{GeoFormatTypes.CRS}, Nothing, Y{Colon}}}}, Tuple{}, Matrix{Float64}, Symbol, DimensionalData.Dimensions.Lookups.NoMetadata, Nothing}, RiverSlope::Raster{Float64, 2, Tuple{X{Projected{Float64, StepRangeLen{Float64, Base.TwicePrecision{Float64}, Base.TwicePrecision{Float64}, Int64}, DimensionalData.Dimensions.Lookups.ForwardOrdered, DimensionalData.Dimensions.Lookups.Regular{Float64}, DimensionalData.Dimensions.Lookups.Points, DimensionalData.Dimensions.Lookups.NoMetadata, WellKnownText{GeoFormatTypes.CRS}, Nothing, X{Colon}}}, Y{Projected{Float64, StepRangeLen{Float64, Base.TwicePrecision{Float64}, Base.TwicePrecision{Float64}, Int64}, DimensionalData.Dimensions.Lookups.ReverseOrdered, DimensionalData.Dimensions.Lookups.Regular{Float64}, DimensionalData.Dimensions.Lookups.Points, DimensionalData.Dimensions.Lookups.NoMetadata, WellKnownText{GeoFormatTypes.CRS}, Nothing, Y{Colon}}}}, Tuple{}, Matrix{Float64}, Symbol, DimensionalData.Dimensions.Lookups.NoMetadata, Nothing}, RiverSlope_Wflow::String, RiverWidth::Raster{Float64, 2, Tuple{X{Projected{Float64, StepRangeLen{Float64, Base.TwicePrecision{Float64}, Base.TwicePrecision{Float64}, Int64}, DimensionalData.Dimensions.Lookups.ForwardOrdered, DimensionalData.Dimensions.Lookups.Regular{Float64}, DimensionalData.Dimensions.Lookups.Points, DimensionalData.Dimensions.Lookups.NoMetadata, WellKnownText{GeoFormatTypes.CRS}, EPSG{1}, X{Colon}}}, Y{Projected{Float64, StepRangeLen{Float64, Base.TwicePrecision{Float64}, Base.TwicePrecision{Float64}, Int64}, DimensionalData.Dimensions.Lookups.ReverseOrdered, DimensionalData.Dimensions.Lookups.Regular{Float64}, DimensionalData.Dimensions.Lookups.Points, DimensionalData.Dimensions.Lookups.NoMetadata, WellKnownText{GeoFormatTypes.CRS}, EPSG{1}, Y{Colon}}}}, Tuple{}, Matrix{Float64}, Symbol, DimensionalData.Dimensions.Lookups.NoMetadata, Nothing}, RiverWidth_Wflow::String, Slope_Mask::Raster{Float64, 2, Tuple{X{Projected{Float64, StepRangeLen{Float64, Base.TwicePrecision{Float64}, Base.TwicePrecision{Float64}, Int64}, DimensionalData.Dimensions.Lookups.ForwardOrdered, DimensionalData.Dimensions.Lookups.Regular{Float64}, DimensionalData.Dimensions.Lookups.Points, DimensionalData.Dimensions.Lookups.NoMetadata, WellKnownText{GeoFormatTypes.CRS}, Nothing, X{Colon}}}, Y{Projected{Float64, StepRangeLen{Float64, Base.TwicePrecision{Float64}, Base.TwicePrecision{Float64}, Int64}, DimensionalData.Dimensions.Lookups.ReverseOrdered, DimensionalData.Dimensions.Lookups.Regular{Float64}, DimensionalData.Dimensions.Lookups.Points, DimensionalData.Dimensions.Lookups.NoMetadata, WellKnownText{GeoFormatTypes.CRS}, Nothing, Y{Colon}}}}, Tuple{}, Matrix{Float64}, Symbol, DimensionalData.Dimensions.Lookups.NoMetadata, Nothing}, Soil_Header::Vector{Any}, Soil_Maps::Vector{Any}, Subcatch_Wflow::String, Subcatchment::Raster{Float64, 2, Tuple{X{Projected{Float64, StepRangeLen{Float64, Base.TwicePrecision{Float64}, Base.TwicePrecision{Float64}, Int64}, DimensionalData.Dimensions.Lookups.ForwardOrdered, DimensionalData.Dimensions.Lookups.Regular{Float64}, DimensionalData.Dimensions.Lookups.Points, DimensionalData.Dimensions.Lookups.NoMetadata, WellKnownText{GeoFormatTypes.CRS}, Nothing, X{Colon}}}, Y{Projected{Float64, StepRangeLen{Float64, Base.TwicePrecision{Float64}, Base.TwicePrecision{Float64}, Int64}, DimensionalData.Dimensions.Lookups.ReverseOrdered, DimensionalData.Dimensions.Lookups.Regular{Float64}, DimensionalData.Dimensions.Lookups.Points, DimensionalData.Dimensions.Lookups.NoMetadata, WellKnownText{GeoFormatTypes.CRS}, Nothing, Y{Colon}}}}, Tuple{}, Matrix{Float64}, Symbol, DimensionalData.Dimensions.Lookups.NoMetadata, Nothing}, Vegetation_Header::Vector{Any}, Vegetation_Maps::Vector{Any})\n",
      "   @ Main.geoNetcdf d:\\JOE\\MAIN\\MODELS\\WFLOW\\WflowDataJoe\\WflowRaster.jl\\src\\Julia\\GeoNetcdf.jl:56\n",
      " [5] top-level scope\n",
      "   @ d:\\JOE\\MAIN\\MODELS\\WFLOW\\WflowDataJoe\\WflowRaster.jl\\src\\jl_notebook_cell_df34fa98e69747e1a8f8a730347b8e2f_X66sZmlsZQ==.jl:4"
     ]
    }
   ],
   "source": [
    "include(\"Julia//GeoNetcdf.jl\")\n",
    "\n",
    "if 🎏_NetCDF\n",
    "   NetCDF, Path_NetCDF_Full = geoNetcdf.TIFF_2_NETCDF(Gauge, Impermable_Wflow, Impermeable_Mask, Latitude, Ldd_Mask, Longitude, Metadatas, River_Mask, River_Wflow, RiverDepth, RiverDepth_Wflow, RiverLength_Mask, RiverSlope, RiverSlope_Wflow, RiverWidth, RiverWidth_Wflow, Slope_Mask, Soil_Header, Soil_Maps, Subcatch_Wflow, Subcatchment, Vegetation_Header, Vegetation_Maps)\n",
    "   end\n"
   ]
  },
  {
   "cell_type": "code",
   "execution_count": 105,
   "metadata": {},
   "outputs": [
    {
     "data": {
      "text/plain": [
       "\u001b[31mDataset: D:\\JOE\\MAIN\\MODELS\\WFLOW\\Wflow.jl\\Wflow\\Data\\input\\Timoleague\\staticmaps-Timoleague.nc\u001b[39m\n",
       "Group: /\n",
       "\n",
       "\u001b[31mDimensions\u001b[39m\n",
       "   x = 461\n",
       "   y = 286\n",
       "\n",
       "\u001b[31mVariables\u001b[39m\n",
       "\u001b[32m  x\u001b[39m   (461)\n",
       "    Datatype:    \u001b[0m\u001b[1mFloat64\u001b[22m (Float64)\n",
       "    Dimensions:  x\n",
       "    Attributes:\n",
       "     units                = \u001b[36mm\u001b[39m\n",
       "     comments             = \u001b[36mlon\u001b[39m\n",
       "\n",
       "\u001b[32m  y\u001b[39m   (286)\n",
       "    Datatype:    \u001b[0m\u001b[1mUnion{Missing, Float64}\u001b[22m (Float64)\n",
       "    Dimensions:  y\n",
       "    Attributes:\n",
       "     _FillValue           = \u001b[36mNaN\u001b[39m\n",
       "     units                = \u001b[36mm\u001b[39m\n",
       "     comments             = \u001b[36mlat\u001b[39m\n",
       "\n",
       "\u001b[32m  lon\u001b[39m   (461)\n",
       "    Datatype:    \u001b[0m\u001b[1mUnion{Missing, Float64}\u001b[22m (Float64)\n",
       "    Dimensions:  x\n",
       "    Attributes:\n",
       "     _FillValue           = \u001b[36mNaN\u001b[39m\n",
       "     units                = \u001b[36mm\u001b[39m\n",
       "     comments             = \u001b[36mlon\u001b[39m\n",
       "\n",
       "\u001b[32m  lat\u001b[39m   (286)\n",
       "    Datatype:    \u001b[0m\u001b[1mUnion{Missing, Float64}\u001b[22m (Float64)\n",
       "    Dimensions:  y\n",
       "    Attributes:\n",
       "     _FillValue           = \u001b[36mNaN\u001b[39m\n",
       "     units                = \u001b[36mm\u001b[39m\n",
       "     comments             = \u001b[36mlat\u001b[39m\n",
       "\n",
       "\u001b[32m  wflow_ldd\u001b[39m   (461 × 286)\n",
       "    Datatype:    \u001b[0m\u001b[1mUnion{Missing, UInt8}\u001b[22m (UInt8)\n",
       "    Dimensions:  x × y\n",
       "    Attributes:\n",
       "     _FillValue           = \u001b[36m0\u001b[39m\n",
       "     units                = \u001b[36m1-9\u001b[39m\n",
       "     comments             = \u001b[36mDerived from hydromt.flw.d8_from_dem\u001b[39m\n",
       "     long_name            = \u001b[36mldd flow direction\u001b[39m\n",
       "\n",
       "\u001b[32m  wflow_subcatch\u001b[39m   (461 × 286)\n",
       "    Datatype:    \u001b[0m\u001b[1mUnion{Missing, Int32}\u001b[22m (Int32)\n",
       "    Dimensions:  x × y\n",
       "    Attributes:\n",
       "     _FillValue           = \u001b[36m0\u001b[39m\n",
       "     units                = \u001b[36m1/0\u001b[39m\n",
       "     comments             = \u001b[36mDerived from hydromt\u001b[39m\n",
       "\n",
       "\u001b[32m  wflow_gauges_grdc\u001b[39m   (461 × 286)\n",
       "    Datatype:    \u001b[0m\u001b[1mUnion{Missing, Int32}\u001b[22m (Int32)\n",
       "    Dimensions:  x × y\n",
       "    Attributes:\n",
       "     _FillValue           = \u001b[36m0\u001b[39m\n",
       "     units                = \u001b[36m1/0\u001b[39m\n",
       "     comments             = \u001b[36mDerived from hydromt\u001b[39m\n",
       "\n",
       "\u001b[32m  Slope\u001b[39m   (461 × 286)\n",
       "    Datatype:    \u001b[0m\u001b[1mUnion{Missing, Float64}\u001b[22m (Float64)\n",
       "    Dimensions:  x × y\n",
       "    Attributes:\n",
       "     _FillValue           = \u001b[36mNaN\u001b[39m\n",
       "     units                = \u001b[36mdeg\u001b[39m\n",
       "     comments             = \u001b[36mDerived from hydromt\u001b[39m\n",
       "\n",
       "\u001b[32m  wflow_river\u001b[39m   (461 × 286)\n",
       "    Datatype:    \u001b[0m\u001b[1mUnion{Missing, Int32}\u001b[22m (Int32)\n",
       "    Dimensions:  x × y\n",
       "    Attributes:\n",
       "     _FillValue           = \u001b[36m0\u001b[39m\n",
       "     units                = \u001b[36m0/1\u001b[39m\n",
       "     comments             = \u001b[36mDerived from hydromt\u001b[39m\n",
       "\n",
       "\u001b[32m  RiverSlope\u001b[39m   (461 × 286)\n",
       "    Datatype:    \u001b[0m\u001b[1mUnion{Missing, Float64}\u001b[22m (Float64)\n",
       "    Dimensions:  x × y\n",
       "    Attributes:\n",
       "     _FillValue           = \u001b[36mNaN\u001b[39m\n",
       "     units                = \u001b[36mSlope\u001b[39m\n",
       "     comments             = \u001b[36mDerived from hydromt\u001b[39m\n",
       "\n",
       "\u001b[32m  wflow_riverlength\u001b[39m   (461 × 286)\n",
       "    Datatype:    \u001b[0m\u001b[1mUnion{Missing, Float64}\u001b[22m (Float64)\n",
       "    Dimensions:  x × y\n",
       "    Attributes:\n",
       "     _FillValue           = \u001b[36mNaN\u001b[39m\n",
       "     units                = \u001b[36mm\u001b[39m\n",
       "     comments             = \u001b[36mDerived from hydromt\u001b[39m\n",
       "\n",
       "\u001b[32m  wflow_riverwidth\u001b[39m   (461 × 286)\n",
       "    Datatype:    \u001b[0m\u001b[1mUnion{Missing, Float64}\u001b[22m (Float64)\n",
       "    Dimensions:  x × y\n",
       "    Attributes:\n",
       "     _FillValue           = \u001b[36mNaN\u001b[39m\n",
       "     units                = \u001b[36mm\u001b[39m\n",
       "     comments             = \u001b[36mDerived from hydromt\u001b[39m\n",
       "\n",
       "\u001b[32m  wflow_riverdepth\u001b[39m   (461 × 286)\n",
       "    Datatype:    \u001b[0m\u001b[1mUnion{Missing, Float64}\u001b[22m (Float64)\n",
       "    Dimensions:  x × y\n",
       "    Attributes:\n",
       "     _FillValue           = \u001b[36mNaN\u001b[39m\n",
       "     units                = \u001b[36mm\u001b[39m\n",
       "     comments             = \u001b[36mDerived from hydromt\u001b[39m\n",
       "\n",
       "\u001b[31mGlobal attributes\u001b[39m\n",
       "  title                = \u001b[36mTimoleague instates dataset\u001b[39m\n",
       "  creator              = \u001b[36mJoseph A.P. POLLACCO\u001b[39m\n"
      ]
     },
     "metadata": {},
     "output_type": "display_data"
    }
   ],
   "source": [
    "Output_NCDatasets = NCDatasets.NCDataset(Path_NetCDF_Full)\n"
   ]
  },
  {
   "cell_type": "code",
   "execution_count": 106,
   "metadata": {},
   "outputs": [
    {
     "data": {
      "text/plain": [
       "closed Dataset"
      ]
     },
     "metadata": {},
     "output_type": "display_data"
    }
   ],
   "source": [
    "NCDatasets.close(Output_NCDatasets)\n"
   ]
  },
  {
   "cell_type": "markdown",
   "metadata": {},
   "source": [
    "### ***Plotting NetCDF maps***"
   ]
  },
  {
   "cell_type": "code",
   "execution_count": 107,
   "metadata": {},
   "outputs": [
    {
     "ename": "LoadError",
     "evalue": "LoadError: UndefVarError: `@L_str` not defined in `Main`\nSuggestion: check for spelling errors or missing imports.\nHint: a global variable of this name may be made accessible by importing LaTeXStrings in the current active module Main\nin expression starting at d:\\JOE\\MAIN\\MODELS\\WFLOW\\WflowDataJoe\\WflowRaster.jl\\src\\jl_notebook_cell_df34fa98e69747e1a8f8a730347b8e2f_Y103sZmlsZQ==.jl:30",
     "output_type": "error",
     "traceback": [
      "LoadError: UndefVarError: `@L_str` not defined in `Main`\n",
      "Suggestion: check for spelling errors or missing imports.\n",
      "Hint: a global variable of this name may be made accessible by importing LaTeXStrings in the current active module Main\n",
      "in expression starting at d:\\JOE\\MAIN\\MODELS\\WFLOW\\WflowDataJoe\\WflowRaster.jl\\src\\jl_notebook_cell_df34fa98e69747e1a8f8a730347b8e2f_Y103sZmlsZQ==.jl:30\n"
     ]
    }
   ],
   "source": [
    "if 🎏_Plots && 🎏_Plot_NetCDF\n",
    "\tusing NCDatasets\n",
    "\n",
    "\tPath_NetCDF_Full  = joinpath(Path_Root_NetCDF, NetCDF_Instates)\n",
    "\tOutput_NCDatasets = NCDatasets.NCDataset(Path_NetCDF_Full)\n",
    "\n",
    "\tKeys = NCDatasets.keys(Output_NCDatasets)\n",
    "\n",
    "\tKeys_Select = []\n",
    "\tfor iiKeys ∈ Keys\n",
    "\t\tOutput = Output_NCDatasets[iiKeys]\n",
    "\t\tDimensions = length(size(Output))\n",
    "\n",
    "\t\tif Dimensions == 2\n",
    "\t\t\t\tpush!(Keys_Select, String(iiKeys))\n",
    "\t\tend # Dimensions == 2\n",
    "\tend # for iiKeys ∈ Keys\n",
    "\n",
    "\tKeys_Select = String.(Keys_Select)\n",
    "\tprintln(Keys_Select)\n",
    "\n",
    "\tfor iiKeys ∈ Keys_Select\n",
    "\t\tprintln(iiKeys)\n",
    "\t\tMap₀ = Array(Output_NCDatasets[iiKeys])\n",
    "\n",
    "\t\t# Clean data\n",
    "\t\t\tFillValue = Output_NCDatasets[iiKeys].attrib[\"_FillValue\"]\n",
    "\t\t\tMap =  replace(Map₀, FillValue => NaN)\n",
    "\n",
    "\t\tgeoPlot.HEATMAP(;🎏_Colorbar=true, Input=Map, Label=\"$iiKeys\", Title=\"$iiKeys\", Xlabel= L\"$iX$\", Ylabel=L\"$iY$\", Yreversed=true, colormap=:hawaii50)\n",
    "\tend\n",
    "end  # if: 🎏_Plots &&\n",
    "\n",
    "Output_NCDatasets = nothing\n"
   ]
  },
  {
   "cell_type": "markdown",
   "metadata": {},
   "source": [
    "## ***Timeseries NetCDF maps***"
   ]
  },
  {
   "cell_type": "code",
   "execution_count": 108,
   "metadata": {},
   "outputs": [
    {
     "ename": "SystemError",
     "evalue": "SystemError: opening file \"d:\\\\JOE\\\\MAIN\\\\MODELS\\\\WFLOW\\\\WflowDataJoe\\\\WflowRaster.jl\\\\src\\\\Parameters.jl\": No such file or directory",
     "output_type": "error",
     "traceback": [
      "SystemError: opening file \"d:\\\\JOE\\\\MAIN\\\\MODELS\\\\WFLOW\\\\WflowDataJoe\\\\WflowRaster.jl\\\\src\\\\Parameters.jl\": No such file or directory\n",
      "\n",
      "Stacktrace:\n",
      " [1] include(fname::String)\n",
      "   @ Main .\\sysimg.jl:38\n",
      " [2] top-level scope\n",
      "   @ d:\\JOE\\MAIN\\MODELS\\WFLOW\\WflowDataJoe\\WflowRaster.jl\\src\\jl_notebook_cell_df34fa98e69747e1a8f8a730347b8e2f_Y105sZmlsZQ==.jl:2"
     ]
    }
   ],
   "source": [
    "if 🎏_TimeSeries\n",
    "\tinclude(\"Parameters.jl\")\n",
    "\tinclude(\"GeoNetcdf.jl\")\n",
    "   include(\"GeoPlot.jl\")\n",
    "\n",
    "\tNetCDFmeteo, Path_NetCDFmeteo_Output = geoNetcdf.TIMESERIES_2_NETCDF(Latitude, Longitude, Metadatas, Subcatchment)\n",
    "\n",
    "\tif 🎏_Plot_TimeSeries\n",
    "   \t# precip pet temp\n",
    "   \tgeoPlot.HEATMAP_TIME(;Path=Path_NetCDFmeteo_Output, NameOutput=\"temp\", Layer=1)\n",
    "\tend\n",
    "end\n",
    "\n"
   ]
  },
  {
   "cell_type": "code",
   "execution_count": null,
   "metadata": {},
   "outputs": [],
   "source": [
    "\n",
    "# include(raw\"d:\\JOE\\MAIN\\MODELS\\WFLOW\\WflowDataJoe\\WflowRaster.jl\\src\\GeoRaster.jl\")\n",
    "\n",
    "# Path_InputGis_Gauge  = joinpath(Path_Root, Path_InputGis, Gauge_Shp)\n",
    "# println(Path_InputGis_Gauge)\n",
    "\n",
    "# # Load the shapefile\n",
    "# Gauge_Raw = Shapefile.Handle(Path_InputGis_Gauge)\n",
    "\n",
    "# Gauge = Rasters.rasterize(last, Gauge_Raw; res=ΔX₂, fill=1, missingval=NaN, crs=Metadatas.Param_Crs_GeoFormat, to=Dem_Resample_Mask, shape=:point ,progress=true)\n",
    "\n",
    "# for iLongitudeg=1:Metadatas.N_Width\n",
    "# \tfor iLatitude=1:1:Metadatas.N_Height\n",
    "# \t\tif Gauge[iLongitudeg, iLatitude] == 1\n",
    "\n",
    "#          println( \"Point:  Nlongitude= $(Metadatas.N_Width) iLongitudegitude= $iLongitudeg Nlatitude= $(Metadatas.N_Height) iLatitudeitude= $iLatitude\")\n",
    "\n",
    "# \t\tend\n",
    "# \tend # for iY=1:Metadatas.N_Height\n",
    "# end # for iX=1:Metadatas.N_Width\n",
    "\n",
    "# iLatitude, iLongitudeg, Latitudeitude, Longitudegitude, Nlatitude, Nlongitude = geoRaster.LAT_LONG_2_INDEX(;Map=Gauge, Param_GaugeCoordinate)\n",
    "\n",
    "# Path_OutputJulia_Gauge = joinpath(Path_Root, Path_OutputJulia, Gauge_Julia)\n",
    "# Rasters.write(Path_OutputJulia_Gauge, Gauge; ext=\".tiff\", force=true, verbose=true, missingval= NaN)\n",
    "\n",
    "# if 🎏_Plots\n",
    "#    using CairoMakie, Colors, ColorSchemes\n",
    "#    include(raw\"d:\\JOE\\MAIN\\MODELS\\WFLOW\\WflowDataJoe\\WflowRaster.jl\\src\\GeoPlot.jl\")\n",
    "\n",
    "#    CairoMakie.activate!()\n",
    "#    Fig_6 =  CairoMakie.Figure()\n",
    "#    Axis_6 = CairoMakie.Axis(Fig_6[1, 1], title=\"Rivers\", xlabel= L\"$Latitudeitude$\", ylabel=L\"$Longitudegitude$\",  ylabelsize=ylabelsize, xlabelsize=xlabelSize, xticksize=xticksize, yticksize=yticksize, titlesize=titlesize,  titlecolor=titlecolor)\n",
    "\n",
    "#    Map_6 =  CairoMakie.heatmap!(Axis_6, Gauge, colormap=:lajolla)\n",
    "\n",
    "#    # CairoMakie.Colorbar(Fig_6[1, 2], Map_6, label = \"Rivers\", width = 15, ticksize = 15, tickalign = 0.5)\n",
    "#    CairoMakie.display(Fig_6)\n",
    "# end\n",
    "\n"
   ]
  },
  {
   "cell_type": "code",
   "execution_count": 110,
   "metadata": {},
   "outputs": [],
   "source": [
    "# Path = raw\"D:\\JOE\\MAIN\\MODELS\\WFLOW\\DATA\\Ballycanew\\InputGis\\Ballycanew_DTM_1M.tif\"\n",
    "# Dem_Resample₀ = Rasters.Raster(Path, missingval=NaN)\n",
    "# Dem_Resample₁ = Rasters.resample(Dem_Resample₀; res=5.0, method=ResampleMethod₁, crs=Param_Crs_GeoFormat)\n",
    "# Dem_Resample  = Rasters.resample(Dem_Resample₁; res=10.0, method=ResampleMethod₂, crs=Param_Crs_GeoFormat)\n",
    "\n",
    "# \tPath_Output = raw\"D:\\JOE\\MAIN\\MODELS\\WFLOW\\DATA\\Ballycanew\\OutputJulia\\FlowAccumulation.tif\"\n",
    "# \tRasters.write(Path_Output, log10.(Acc); ext=\".tiff\", missingval= NaN, force=true, verbose=true)\n"
   ]
  },
  {
   "cell_type": "code",
   "execution_count": 111,
   "metadata": {},
   "outputs": [],
   "source": [
    "# Path_OutputJulia_DemMask = joinpath(Path_Root, Path_OutputJulia, Dem_Julia_Mask)\n",
    "\n",
    "# Dem_Resample_Mask₂ = Rasters.Raster(Path_OutputJulia_DemMask)\n",
    "\n",
    "# # Dem_Resample_Mask₂ = Rasters.replace_missing(Dem_Resample_Mask₂, missingval=NaN)\n",
    "\n",
    "# Geomorphometry.cellsize(Dem_Resample)\n",
    "\n",
    "# # Dem_FillDepression = Geomorphometry.filldepressions(Dem_Resample)\n",
    "# Acc, Ldd₁ = Geomorphometry.flowaccumulation(Dem_Resample_Mask₂; method=D8(), cellsize = [Metadatas.ΔX, Metadatas.ΔY])\n",
    "\n",
    "# Ldd_Mask = geoRaster.MASK(;Param_Crs=Metadatas.Param_Crs_GeoFormat, Input=Ldd₁, Latitude, Longitude, Mask=Subcatchment, Missing=0)\n",
    "\n",
    "# if 🎏_Plots\n",
    "# \tgeoPlot.HEATMAP(;🎏_Colorbar=true, Input=Ldd_Mask, Title=\"Local Drain Direction\", Label=\"Ldd [1-9]\", colormap=Makie.Categorical(:Spectral_11))\n",
    "# end\n",
    "\n",
    "# 🎏_Map₁_Eq_Map₂ = geoRaster.TEST_SAMESIZE(; Map₁=Subcatchment, Map₂=Ldd_Mask,  Map₁_Nodata=0, Map₂_Nodata=0)\n"
   ]
  }
 ],
 "metadata": {
  "kernelspec": {
   "display_name": "Julia 1.11.6",
   "language": "julia",
   "name": "julia-1.11"
  },
  "language_info": {
   "file_extension": ".jl",
   "mimetype": "application/julia",
   "name": "julia",
   "version": "1.11.6"
  }
 },
 "nbformat": 4,
 "nbformat_minor": 2
}
