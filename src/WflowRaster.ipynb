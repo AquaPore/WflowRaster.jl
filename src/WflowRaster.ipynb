{
 "cells": [
  {
   "cell_type": "markdown",
   "metadata": {},
   "source": [
    "# **WFLOW: DERIVING INPUT MAPS**"
   ]
  },
  {
   "cell_type": "markdown",
   "metadata": {},
   "source": [
    "## *PACKAGES*\n"
   ]
  },
  {
   "cell_type": "code",
   "execution_count": 207,
   "metadata": {},
   "outputs": [
    {
     "name": "stderr",
     "output_type": "stream",
     "text": [
      "WARNING: replacing module geoRaster.\n",
      "WARNING: replacing module geoNetcdf.\n",
      "WARNING: replacing module geoPlot.\n"
     ]
    },
    {
     "data": {
      "text/plain": [
       "\"d:\\\\JOE\\\\MAIN\\\\MODELS\\\\WFLOW\\\\DATA\\\\TimoleagueCrop\\\\OutputWflow\""
      ]
     },
     "metadata": {},
     "output_type": "display_data"
    }
   ],
   "source": [
    "using  Revise, Rasters, GeoFormatTypes, GeoTIFF, ArchGDAL, Shapefile, NCDatasets, GeoDataFrames\n",
    "using Colors, ColorSchemes, CairoMakie, DimensionalData\n",
    "using Geomorphometry\n",
    "\n",
    "Path_Home = @__DIR__\n",
    "cd(Path_Home)\n",
    "\n",
    "include(\"Julia//Parameters.jl\")\n",
    "include(\"Julia//GeoRaster.jl\")\n",
    "include(\"Julia//GeoNetcdf.jl\")\n",
    "include(\"Julia//PlotParameter.jl\")\n",
    "include(\"Julia//GeoPlot.jl\")\n",
    "\n",
    "# For new projects if does not exist\n",
    "   mkpath(joinpath(Path_Root, Path_InputForcing))\n",
    "   mkpath(joinpath(Path_Root, Path_InputGis))\n",
    "   mkpath(joinpath(Path_Root, Path_InputLookuptable))\n",
    "   mkpath(joinpath(Path_Root, Path_NetCDF))\n",
    "   mkpath(joinpath(Path_Root, Path_OutputJulia))\n",
    "   mkpath(joinpath(Path_Root, Path_OutputPython))\n",
    "   mkpath(joinpath(Path_Root, Path_OutputTimeSeriesWflow))\n",
    "   mkpath(joinpath(Path_Root, Path_OutputWflow))\n",
    "\n",
    "# Pkg.add(name=\"ArchGDAL\", version=\"0.10.9\")\n"
   ]
  },
  {
   "cell_type": "markdown",
   "metadata": {},
   "source": [
    "## **=== DEM OPERATIONS ===**"
   ]
  },
  {
   "cell_type": "markdown",
   "metadata": {},
   "source": [
    "### **== DEM:** *Deriving data from Mosaic  ==*"
   ]
  },
  {
   "cell_type": "code",
   "execution_count": 208,
   "metadata": {},
   "outputs": [],
   "source": [
    "```\n",
    "Deriving maps from mosaic\n",
    "```\n",
    "if 🎏_Mosaic\n",
    "    Dem₀ = geoRaster.MOSAIC(;Path_Root_Mosaic, Missing=NaN)\n",
    "\n",
    "    Path_Output_Mosaic = joinpath(Path_Root, Path_InputGis, Dem_Input_Qgis)\n",
    "\n",
    "\t# Reducing the size of the raw map with the shape file having the same shp file as MOSAIC\n",
    "\tPath_Input_Shp = joinpath(Path_Root, Path_InputGis, Mask_Shp)\n",
    "\tMask_Shapefile= GeoDataFrames.read(Path_Input_Shp)\n",
    "\tprintln(Path_Input_Shp)\n",
    "\n",
    "\tDem₀ = Rasters.mask(Dem₀; with=Mask_Shapefile, missingval=NaN, shape=:polygon, boundary=:touches, progress=true)\n",
    "\n",
    "\tRasters.write(Path_Output_Mosaic, Dem₀; ext=\".tiff\", missingval=NaN, force=true, verbose=true)\n",
    "\tprintln(Path_Output_Mosaic)\n",
    "end\n"
   ]
  },
  {
   "cell_type": "markdown",
   "metadata": {},
   "source": [
    "### == **DEM:** *Resampling and deriving new CRS* =="
   ]
  },
  {
   "cell_type": "code",
   "execution_count": 209,
   "metadata": {},
   "outputs": [
    {
     "name": "stdout",
     "output_type": "stream",
     "text": [
      "Param_Crs = 29902\n",
      "ΔX = 20.0\n",
      "ΔY = -20.0\n",
      "N_Width  = 21055\n",
      "N_Height = 28024\n",
      "Coord_X_Left = -10566.616338923981, Coord_X_Right = 410513.383661076\n",
      "Coord_Y_Top = 532331.122395666, Coord_Y_Bottom = -28128.877604334033\n"
     ]
    },
    {
     "data": {
      "text/plain": [
       "Main.geoRaster.METADATA(21055, 28024, 20, -20, -10566.616338923981, 410513.383661076, 532331.122395666, -28128.877604334033, 29902, WellKnownText{GeoFormatTypes.CRS}(GeoFormatTypes.CRS(), \"PROJCS[\\\"TM65 / Irish Grid\\\",GEOGCS[\\\"TM65\\\",DATUM[\\\"TM65\\\",SPHEROID[\\\"Airy Modified 1849\\\",6377340.189,299.3249646,AUTHORITY[\\\"EPSG\\\",\\\"7002\\\"]],AUTHORITY[\\\"EPSG\\\",\\\"6299\\\"]],PRIMEM[\\\"Greenwich\\\",0,AUTHORITY[\\\"EPSG\\\",\\\"8901\\\"]],UNIT[\\\"degree\\\",0.0174532925199433,AUTHORITY[\\\"EPSG\\\",\\\"9122\\\"]],AUTHORITY[\\\"EPSG\\\",\\\"4299\\\"]],PROJECTION[\\\"Transverse_Mercator\\\"],PARAMETER[\\\"latitude_of_origin\\\",53.5],PARAMETER[\\\"central_meridian\\\",-8],PARAMETER[\\\"scale_factor\\\",1.000035],PARAMETER[\\\"false_easting\\\",200000],PARAMETER[\\\"false_northing\\\",250000],UNIT[\\\"metre\\\",1,AUTHORITY[\\\"EPSG\\\",\\\"9001\\\"]],AXIS[\\\"Easting\\\",EAST],AXIS[\\\"Northing\\\",NORTH],AUTHORITY[\\\"EPSG\\\",\\\"29902\\\"]]\"))"
      ]
     },
     "metadata": {},
     "output_type": "display_data"
    }
   ],
   "source": [
    "\"\"\"\thttps://rafaqz.github.io/Rasters.jl/dev/api#Rasters.resample-Tuple\n",
    "method: A Symbol or String specifying the method to use for resampling. From the docs for gdalwarp:\n",
    "\n",
    "**:near:** nearest neighbour resampling (default, fastest algorithm, worst interpolation quality).\n",
    ":bilinear: bilinear resampling.\n",
    ":cubic: cubic resampling.\n",
    ":cubicspline: cubic spline resampling.\n",
    ":lanczos: Lanczos windowed sinc resampling.\n",
    ":average: average resampling, computes the weighted average of all non-NODATA contributing pixels. rms root mean square / quadratic mean of all non-NODATA contributing pixels (GDAL >= 3.3)\n",
    ":mode: mode resampling, selects the value which appears most often of all the sampled points.\n",
    ":max: maximum resampling, selects the maximum value from all non-NODATA contributing pixels.\n",
    ":min: minimum resampling, selects the minimum value from all non-NODATA contributing pixels.\n",
    ":med: median resampling, selects the median value of all non-NODATA contributing pixels.\n",
    ":q1: first quartile resampling, selects the first quartile value of all non-NODATA contributing pixels.\n",
    ":q3: third quartile resampling, selects the third quartile value of all non-NODATA contributing pixels.\n",
    ":sum: compute the weighted sum of all non-NODATA contributing pixels (since GDAL 3.1)\"\"\"\n",
    "\n",
    "\n",
    "# Reading data\n",
    "\tif !(🎏_Mosaic)\n",
    "\t\tPath_InputGis_Dem = joinpath(Path_Root, Path_InputGis, Dem_Input_Qgis)\n",
    "\t\tDem₀     = Rasters.Raster(Path_InputGis_Dem)\n",
    "\t\tDem₀     = Rasters.replace_missing(Dem₀, missingval=NaN)\n",
    "\tend\n",
    "\n",
    "   # Resample Dem in 2 steps\n",
    "      Param_Crs_GeoFormat = GeoFormatTypes.convert(WellKnownText, EPSG(Param_Crs))\n",
    "\n",
    "    #   Dem_Resample₀ = Rasters.resample(Dem_Resample₀; res=ΔX₁, method=ResampleMethod₁, crs=Param_Crs_GeoFormat)\n",
    "      Dem_Resample  = Rasters.resample(Dem₀; res=ΔX₂, method=ResampleMethod₂, crs=Param_Crs_GeoFormat)\n",
    "\n",
    "# Getting the metadata\n",
    "\tMetadatas = geoRaster.RASTER_METADATA(Dem_Resample; Verbose=true)\n"
   ]
  },
  {
   "cell_type": "markdown",
   "metadata": {},
   "source": [
    "### == **DEM:** *Longitute and Latitude* =="
   ]
  },
  {
   "cell_type": "code",
   "execution_count": 210,
   "metadata": {},
   "outputs": [],
   "source": [
    "Longitude, Latitude = Rasters.X(Metadatas.Coord_X_Left: Metadatas.ΔX: Metadatas.Coord_X_Right, crs=Metadatas.Crs_GeoFormat), Rasters.Y(Metadatas.Coord_Y_Top: Metadatas.ΔY: Metadatas.Coord_Y_Bottom, crs=Metadatas.Crs_GeoFormat)\n",
    "\n",
    "@assert(Metadatas.N_Width  == length(Longitude))\n",
    "@assert(Metadatas.N_Height == length(Latitude))\n"
   ]
  },
  {
   "cell_type": "markdown",
   "metadata": {},
   "source": [
    "### == **DEM:** *Deriving a coastal boundary* =="
   ]
  },
  {
   "cell_type": "code",
   "execution_count": 211,
   "metadata": {},
   "outputs": [],
   "source": [
    "if 🎏_Coastline && 🎏_Mosaic\n",
    "\tinclude(\"Julia//GeoRaster.jl\")\n",
    "\n",
    "\tCoastline_Bool, Dem_Resample = geoRaster.DEM_DERIVE_COASTLINES(;Dem=Dem_Resample,  Longitude, Latitude, Crs=Metadatas.Crs_GeoFormat, Missing=NaN, DemMin=5.0)\n",
    "\n",
    "\t# Writting the output\n",
    "\tPath_OutputJulia_Coastline = joinpath(Path_Root, Path_OutputJulia, \"Coastline.tiff\")\n",
    "\tRasters.write(Path_OutputJulia_Coastline, Coastline_Bool; ext=\".tiff\", missingval= NaN, force=true, verbose=true)\n",
    "\n",
    "    if 🎏_Plots\n",
    "\t    using GLMakie\n",
    "\t    GLMakie.activate!()\n",
    "\n",
    "\t    geoPlot.HEATMAP(;🎏_Colorbar=true, Input=Coastline_Bool, Title=\"Digital Elevation Model\", Label=\"Altitude [m]\", colormap=:greys)\n",
    "    end\n",
    "end\n"
   ]
  },
  {
   "cell_type": "markdown",
   "metadata": {},
   "source": [
    "### == **DEM:** *Reduce size of map by removing NaN* =="
   ]
  },
  {
   "cell_type": "code",
   "execution_count": null,
   "metadata": {},
   "outputs": [],
   "source": [
    "Dem_Resample = Rasters.trim(Dem_Resample)\n",
    "Metadatas    = geoRaster.RASTER_METADATA(Dem_Resample; Verbose=true)\n",
    "\n",
    "Longitude, Latitude = Rasters.X(Metadatas.Coord_X_Left: Metadatas.ΔX: Metadatas.Coord_X_Right, crs=Metadatas.Crs_GeoFormat), Rasters.Y(Metadatas.Coord_Y_Top: Metadatas.ΔY: Metadatas.Coord_Y_Bottom, crs=Metadatas.Crs_GeoFormat)\n",
    "\n",
    "# Dem_Resample = DimensionalData.shiftlocus(Rasters.Center(), Dem_Resample)\n",
    "\n",
    "if 🎏_Plots\n",
    "\tusing GLMakie\n",
    "\tGLMakie.activate!()\n",
    "\n",
    "\tgeoPlot.HEATMAP(;🎏_Colorbar=true, Input= Geomorphometry.multihillshade(Dem_Resample), Title=\"Digital Elevation Model\", Label=\"Altitude [m]\", colormap=:greys)\n",
    "end\n"
   ]
  },
  {
   "cell_type": "markdown",
   "metadata": {},
   "source": [
    "## == **WRITTING OUTPUTS** =="
   ]
  },
  {
   "cell_type": "code",
   "execution_count": null,
   "metadata": {},
   "outputs": [],
   "source": [
    "# Writting the output\n",
    "\tPath_OutputJulia_Dem = joinpath(Path_Root, Path_OutputJulia, Dem_Julia)\n",
    "    println(Path_OutputJulia_Dem)\n",
    "\tRasters.write(Path_OutputJulia_Dem, Dem_Resample; ext=\".tiff\", missingval= NaN, force=true, verbose=true)\n"
   ]
  },
  {
   "cell_type": "markdown",
   "metadata": {},
   "source": [
    "## ====== **PLEASE RUN PYTHON CODE** =======\n",
    "\n",
    "++===========================================++\n"
   ]
  },
  {
   "cell_type": "markdown",
   "metadata": {},
   "source": [
    "# === **DEM:** *Reading the corrected DEM from python & cleaning data* ==="
   ]
  },
  {
   "cell_type": "code",
   "execution_count": null,
   "metadata": {},
   "outputs": [],
   "source": [
    "include(\"Julia//GeoRaster.jl\")\n",
    "\n",
    "# Reading data\n",
    "   Path_InputPython_Dem = joinpath(Path_Root, Path_OutputPython, Dem_Input_Python)\n",
    "\n",
    "   Dem_Resample₀ = Rasters.Raster(Path_InputPython_Dem)\n",
    "   Dem_Resample  = Rasters.replace_missing(Dem_Resample₀, missingval=NaN)\n",
    "\n",
    "# Cleaning data\n",
    "    Dem_Resample = Rasters.trim(Dem_Resample)\n",
    "    # Dem_Resample = DimensionalData.shiftlocus(Rasters.End(), Dem_Resample)\n",
    "\n",
    "# Getting the metadata\n",
    "    Metadatas    = geoRaster.RASTER_METADATA(Dem_Resample; Verbose=true)\n",
    "\n",
    "# Longitude & Latitude\n",
    "    Longitude, Latitude = Rasters.X(Metadatas.Coord_X_Left: Metadatas.ΔX: Metadatas.Coord_X_Right, crs=Metadatas.Crs_GeoFormat), Rasters.Y(Metadatas.Coord_Y_Top: Metadatas.ΔY: Metadatas.Coord_Y_Bottom, crs=Metadatas.Crs_GeoFormat)\n",
    "\n",
    "\n",
    "if 🎏_Plots\n",
    "\tgeoPlot.HEATMAP(;🎏_Colorbar=true, Input= Geomorphometry.multihillshade(Dem_Resample), Title=\"Corrected Digital Elevation Model\", Label=\"Altitude [m]\", colormap=:greys)\n",
    "end\n",
    "\n",
    "# Writting the output\n",
    "   Path_OutputJulia_Dem_Corrected = joinpath(Path_Root, Path_OutputJulia, Dem_Julia_Corrected)\n",
    "   Rasters.write(Path_OutputJulia_Dem_Corrected, Dem_Resample; ext=\".tiff\", missingval= NaN, force=true, verbose=true)\n"
   ]
  },
  {
   "cell_type": "code",
   "execution_count": null,
   "metadata": {},
   "outputs": [],
   "source": [
    "if 🎏_MaskFromDem\n",
    "    # Computing subcatchments\n",
    "   Subcatchment = Rasters.Raster((Longitude, Latitude), crs=Metadatas.Crs_GeoFormat)\n",
    "\n",
    "   for iX=1:Metadatas.N_Width\n",
    "      for iY=1:Metadatas.N_Height\n",
    "\t    if !isnan(Dem_Resample[iX,iY])\n",
    "            Subcatchment[iX,iY] = 1\n",
    "         else\n",
    "            Subcatchment[iX,iY] = 0\n",
    "         end\n",
    "      end # for iY=1:Metadatas.N_Height\n",
    "   end # for iX=1:Metadatas.N_Width\n",
    "\n",
    "else\n",
    "    # Reading Catchement map\n",
    "    Subcatch_Python    = \"Basins.tiff\"\n",
    "    Path_InputPython_Subcatchment = joinpath(Path_Root, Path_OutputPython, Subcatch_Python)\n",
    "    Subcatchment₀                 = Rasters.Raster(Path_InputPython_Subcatchment)\n",
    "    Subcatchment₀                 = Rasters.replace_missing(Subcatchment₀, missingval=0)\n",
    "\n",
    "    # Computing subcatchments\n",
    "    Subcatchment = Rasters.Raster((Longitude, Latitude), crs=Metadatas.Crs_GeoFormat)\n",
    "\n",
    "    for iX=1:Metadatas.N_Width\n",
    "        for iY=1:Metadatas.N_Height\n",
    "            if Subcatchment₀[iX,iY] ==1\n",
    "            #  if Subcatchment₀[iX,iY] > 0\n",
    "                Subcatchment[iX,iY] = 1\n",
    "            else\n",
    "                Subcatchment[iX,iY] = 0\n",
    "            end\n",
    "        end # for iY=1:Metadatas.N_Height\n",
    "    end # for iX=1:Metadatas.N_Width\n",
    "\n",
    "    println(Subcatchment[iiParam_GaugeCoordinate[1],iiParam_GaugeCoordinate[2]])\n",
    "end # if 🎏_MaskFromDem\n",
    "\n",
    "if 🎏_Plots\n",
    "\tgeoPlot.HEATMAP(;🎏_Colorbar=true, Input=Subcatchment, Title=\"Subcatchment\", Label=\"Subcatchment\")\n",
    "end\n"
   ]
  },
  {
   "cell_type": "markdown",
   "metadata": {},
   "source": [
    "## **CATCHMENT:** *Reading catchment boundary from Python used as a mask*"
   ]
  },
  {
   "cell_type": "code",
   "execution_count": null,
   "metadata": {},
   "outputs": [],
   "source": [
    "println(iiParam_GaugeCoordinate[1])\n",
    "# println(Subcatchment[iiParam_GaugeCoordinate[1],iiParam_GaugeCoordinate[2]])\n",
    "\n"
   ]
  },
  {
   "cell_type": "markdown",
   "metadata": {},
   "source": [
    "## **DEM:** *Mask to catchment area*"
   ]
  },
  {
   "cell_type": "code",
   "execution_count": null,
   "metadata": {},
   "outputs": [],
   "source": [
    "include(\"Julia//GeoRaster.jl\")\n",
    "\n",
    "Dem_Resample_Mask = geoRaster.MASK(;Input=Dem_Resample, Mask=Subcatchment, Param_Crs=Metadatas.Crs_GeoFormat, Latitude, Longitude)\n",
    "\n",
    "🎏_Map₁_Eq_Map₂ = geoRaster.TEST_SAMESIZE(; Map₁=Dem_Resample_Mask, Map₂=Subcatchment, Map₁_Nodata=NaN, Map₂_Nodata=0)\n",
    "\n",
    "# Writting output\n",
    "   Path_OutputJulia_DemMask = joinpath(Path_Root, Path_OutputJulia, Dem_Julia_Mask)\n",
    "\n",
    "   Rasters.write(Path_OutputJulia_DemMask, Dem_Resample_Mask; ext=\".tiff\", missingval= NaN, force=true, verbose=true)\n",
    "\n",
    "# Getting the metadata\n",
    "\tMetadatas = geoRaster.RASTER_METADATA(Dem_Resample_Mask; Verbose=true);\n",
    "\n",
    "if 🎏_Plots\n",
    "\tgeoPlot.HEATMAP(;🎏_Colorbar=true, Input= Dem_Resample_Mask, Title=\"Digital Elevation Model Masked\", Label=\"Altitude [m]\")\n",
    "end\n"
   ]
  },
  {
   "cell_type": "markdown",
   "metadata": {},
   "source": [
    "## **DEM:** *flow accumulation*"
   ]
  },
  {
   "cell_type": "code",
   "execution_count": null,
   "metadata": {},
   "outputs": [],
   "source": [
    "if 🎏_Plots && 🎏_Plot_FlowAccumulation\n",
    "   # Options: DInf(), D8(), FD8(2)\n",
    "   Acc, Ldd = Geomorphometry.flowaccumulation(Dem_Resample; method=FD8(4))\n",
    "\n",
    "   Acc_Mask = geoRaster.MASK(;Param_Crs=Metadatas.Crs_GeoFormat, Input=Acc, Latitude, Longitude, Mask=Subcatchment)\n",
    "\n",
    "\tgeoPlot.HEATMAP(;🎏_Colorbar=true, Input= log10.(Acc_Mask), Title=\"Flow accumulation\", Label=\"Flow accumulation [mm]\", colormap=:rain)\n",
    "end\n"
   ]
  },
  {
   "cell_type": "markdown",
   "metadata": {},
   "source": [
    "## **LDD:** *Python Mask to catchment area* "
   ]
  },
  {
   "cell_type": "code",
   "execution_count": null,
   "metadata": {},
   "outputs": [],
   "source": [
    "include(\"Julia//GeoRaster.jl\")\n",
    "\n",
    "Path_InputPython_Ldd = joinpath(Path_Root, Path_OutputPython, Ldd_Python)\n",
    "Ldd₁                 = Rasters.Raster(Path_InputPython_Ldd)\n",
    "Ldd₁                 = Rasters.replace_missing(Ldd₁, missingval=0)\n",
    "\n",
    "# Masking with catchment\n",
    "   Ldd_Mask = Rasters.resample(Ldd₁; to=Dem_Resample_Mask, missingval=0)\n",
    "\n",
    "   Ldd_Mask = geoRaster.MASK(;Param_Crs=Metadatas.Crs_GeoFormat, Input=Ldd_Mask, Latitude, Longitude, Mask=Subcatchment, Missing=0)\n",
    "\n",
    "# Writting output\n",
    "   Path_OutputWflow_LddMask = joinpath(Path_Root, Path_OutputWflow, Ldd_Wflow)\n",
    "   Rasters.write(Path_OutputWflow_LddMask, Ldd_Mask; ext=\".tiff\", force=true, verbose=true)\n",
    "   println(Path_OutputWflow_LddMask)\n",
    "\n",
    "if 🎏_Plots\n",
    "\tgeoPlot.HEATMAP(;🎏_Colorbar=true, Input=Ldd_Mask, Title=\"Local Drain Direction\", Label=\"Ldd [1-9]\", colormap=Makie.Categorical(:Spectral_11))\n",
    "end\n",
    "\n",
    "🎏_Map₁_Eq_Map₂ = geoRaster.TEST_SAMESIZE(; Map₁=Subcatchment, Map₂=Ldd_Mask,  Map₁_Nodata=0, Map₂_Nodata=0)\n",
    "\n"
   ]
  },
  {
   "cell_type": "markdown",
   "metadata": {},
   "source": [
    "## == **GAUGE** =="
   ]
  },
  {
   "cell_type": "code",
   "execution_count": null,
   "metadata": {},
   "outputs": [],
   "source": [
    "\"\"\" Sometimes the Near() method returns the right pixel data, but it’s strange, it “fails” with coordinate points that are pretty at the center of their pixel..\n",
    " But also note your Raster does not contain “pixels” that have a center (Intervals on x/y), but Points. So likely your confusion is from treating them as pixels starting from the point at one side\"\"\"\n",
    "\n",
    "Path_OutputGauge = joinpath(Path_Root, Path_OutputWflow, Gauge_Wflow)\n",
    "\n",
    "Gauge, iiParam_GaugeCoordinate = geoRaster.GAUGE(;🎏_Method_Index = \"Rasters\", Latitude=Latitude, Longitude=Longitude, Metadatas=Metadatas, Param_GaugeCoordinate, Path_OutputGauge)\n",
    "\n",
    "if 🎏_Plots\n",
    "\tgeoPlot.HEATMAP(;🎏_Colorbar=true, Input= Gauge, Title=\"Gauge\", Label=\"Altitude [m]\", colormap=:reds)\n",
    "end\n",
    "\n",
    "println(Path_OutputGauge)\n"
   ]
  },
  {
   "cell_type": "markdown",
   "metadata": {},
   "source": [
    "## **RIVER:** *Mask to catchment area*"
   ]
  },
  {
   "cell_type": "code",
   "execution_count": null,
   "metadata": {},
   "outputs": [],
   "source": [
    "if 🎏_RiverFromDem\n",
    "    Path_Input_RiverFromDem  = joinpath(Path_Root, Path_OutputPython, Filename_Dem2Rivers)\n",
    "    println(Path_Input_RiverFromDem)\n",
    "    River_Raw     = Rasters.Raster(Path_Input_RiverFromDem)\n",
    "\n",
    "   River = Rasters.resample(River_Raw; to=Dem_Resample_Mask, missingval=0)\n",
    "else\n",
    "    Path_InputGis_River  = joinpath(Path_Root, Path_InputGis, River_Shp)\n",
    "    println(Path_InputGis_River)\n",
    "\n",
    "    # Load the shapefile\n",
    "    River_Raw = Shapefile.Handle(Path_InputGis_River)\n",
    "\n",
    "    River = Rasters.rasterize(last, River_Raw; res=ΔX₂, fill=1, missingval=0, crs=Metadatas.Crs_GeoFormat, to=Dem_Resample_Mask, shape=:line ,progress=true)\n",
    "end # if 🎏_RiverFromDem\n",
    "\n",
    "\n",
    "\n",
    "River_Mask = geoRaster.MASK(;Param_Crs=Metadatas.Crs_GeoFormat, Input=River, Latitude, Longitude, Mask=Subcatchment, Missing=0)\n",
    "\n",
    "Path_OutputWflow_River = joinpath(Path_Root, Path_OutputWflow, River_Wflow)\n",
    "Rasters.write(Path_OutputWflow_River, River_Mask; ext=\".tiff\", force=true, verbose=true)\n",
    "\n",
    "if 🎏_Plots\n",
    "   CairoMakie.activate!()\n",
    "   Fig_6 =  CairoMakie.Figure()\n",
    "   Axis_6 = CairoMakie.Axis(Fig_6[1, 1], title=\"Rivers\", xlabel= L\"$Latitude$\", ylabel=L\"$Longitude$\", ylabelsize=ylabelsize, xlabelsize=xlabelSize, xticksize=xticksize, yticksize=yticksize, titlesize=titlesize,  titlecolor=titlecolor)\n",
    "\n",
    "   Map_6 = CairoMakie.heatmap!(Axis_6, River_Mask, colormap=Reverse(:lajolla))\n",
    "#    Map_6 = CairoMakie.heatmap!(Axis_6, Gauge, colormap=:reds)\n",
    "\n",
    "#    CairoMakie.Colorbar(Fig_6[1, 2], Map_6, label = \"Rivers\", width = 15, ticksize = 15, tickalign = 0.5)\n",
    "   CairoMakie.display(Fig_6)\n",
    "end\n"
   ]
  },
  {
   "cell_type": "markdown",
   "metadata": {},
   "source": [
    "## **PITS**"
   ]
  },
  {
   "cell_type": "code",
   "execution_count": null,
   "metadata": {},
   "outputs": [],
   "source": [
    "#   Ldd_Mask[iiParam_GaugeCoordinate[1],iiParam_GaugeCoordinate[2]] = 5\n",
    "\n",
    "Pits  = Rasters.Raster((Longitude, Latitude), crs=Metadatas.Crs_GeoFormat)\n",
    "\n",
    "Pits_Count = 0\n",
    "for iX=1:Metadatas.N_Width\n",
    "   for iY=1:Metadatas.N_Height\n",
    "      if Ldd_Mask[iX, iY] == 5\n",
    "         Pits_Count += 1\n",
    "         Pits[iX,iY] = Pits_Count\n",
    "         display(\"[$iX, $iY]\")\n",
    "    else\n",
    "        Pits[iX,iY] = NaN\n",
    "      end\n",
    "   end # for iY=1:Metadatas.N_Height\n",
    "end # for iX=1:Metadatas.N_Width\n",
    "\n",
    "println(\"\tPits = $Pits_Count\")\n",
    "\n",
    "# Writting output\n",
    "   PathOutput_Pits = joinpath(Path_Root, Path_OutputJulia, Pits_Julia)\n",
    "   Rasters.write(PathOutput_Pits, Pits; ext=\".tiff\", force=true, verbose=true)\n",
    "   println(PathOutput_Pits)\n",
    "\n",
    "# if 🎏_Plots\n",
    "#    CairoMakie.activate!()\n",
    "#    Fig_2 =  CairoMakie.Figure()\n",
    "#    Axis_2 = CairoMakie.Axis(Fig_2[1, 1], title=\"Catchment Boundaries\", xlabel= L\"Longitude\", ylabel=L\"Latitude\",  ylabelsize=ylabelsize, xlabelsize=xlabelSize, xticksize=xticksize, yticksize=yticksize, titlesize=titlesize,  titlecolor=titlecolor)\n",
    "\n",
    "#     CairoMakie.heatmap!(Axis_2, Dem_Resample, colormap=:greys)\n",
    "#     CairoMakie.heatmap!(Axis_2, Pits, colormap=Reverse(:greys))\n",
    "#     CairoMakie.heatmap!(Axis_2, RiverWidth, colormap=Reverse(:lajolla))\n",
    "#     # CairoMakie.heatmap!(Axis_2, Geomorphometry.multihillshade(Dem_Resample), colormap=:greys)\n",
    "#    # Map_2 = CairoMakie.heatmap!(Axis_2, Gauge, colormap=:lajolla)\n",
    "\n",
    "#    CairoMakie.display(Fig_2)\n",
    "# end\n"
   ]
  },
  {
   "cell_type": "markdown",
   "metadata": {},
   "source": [
    "## **SLOPE:** *Reading Slope from Python & Mask*"
   ]
  },
  {
   "cell_type": "code",
   "execution_count": null,
   "metadata": {},
   "outputs": [],
   "source": [
    "include(\"Julia//GeoRaster.jl\")\n",
    "\n",
    "Path_InputPython_Slope = joinpath(Path_Root, Path_OutputPython, Slope_Python)\n",
    "\n",
    "Slope₀ = Rasters.Raster(Path_InputPython_Slope)\n",
    "\n",
    "Slope = Rasters.replace_missing(Slope₀, missingval=NaN)\n",
    "\n",
    "Slope = Rasters.resample(Slope₀; to=Dem_Resample_Mask, missingval=0)\n",
    "\n",
    "Slope_Mask = geoRaster.MASK(;Param_Crs=Metadatas.Crs_GeoFormat, Input=Slope, Latitude, Longitude, Mask=Subcatchment)\n",
    "\n",
    "# Slope_Mask = Rasters.replace_missing(Slope₀, missingval=NaN)\n",
    "\n",
    "# Writting the output\n",
    "Path_OutputWflow_Slope = joinpath(Path_Root, Path_OutputWflow, Slope_Wflow)\n",
    "Rasters.write(Path_OutputWflow_Slope, Slope_Mask; ext=\".tiff\", force=true, verbose=true)\n",
    "println(Path_OutputWflow_Slope)\n",
    "\n",
    "if 🎏_Plots\n",
    "\tgeoPlot.HEATMAP(;🎏_Colorbar=true, Input=Slope_Mask, Title=\"Slope\", Label=\"Slope\", colormap=:matter)\n",
    "end\n",
    "\n",
    "# 🎏_Map₁_Eq_Map₂ = geoRaster.TEST_SAMESIZE(; Map₁=Subcatchment, Map₂=Slope_Mask,  Map₁_Nodata=NaN, Map₂_Nodata=NaN)\n"
   ]
  },
  {
   "cell_type": "markdown",
   "metadata": {},
   "source": [
    "## **Rivers slope**"
   ]
  },
  {
   "cell_type": "code",
   "execution_count": null,
   "metadata": {},
   "outputs": [],
   "source": [
    "include(\"Julia//GeoRaster.jl\")\n",
    "\n",
    "RiverSlope = geoRaster.MASK(;Param_Crs=Metadatas.Crs_GeoFormat, Input=Slope_Mask, Latitude, Longitude, Mask=River_Mask)\n",
    "\n",
    "Path_OutputWflow_RiverSlope = joinpath(Path_Root, Path_OutputWflow, RiverSlope_Wflow)\n",
    "\n",
    "Rasters.write(Path_OutputWflow_RiverSlope, RiverSlope; ext=\".tiff\", force=true, verbose=true)\n",
    "println(Path_OutputWflow_RiverSlope)\n",
    "\n",
    "if 🎏_Plots\n",
    "   CairoMakie.activate!()\n",
    "   Fig_12 =  CairoMakie.Figure()\n",
    "   Axis_12 = CairoMakie.Axis(Fig_12[1, 1], title=\"River Slope Per Pixel\", xlabel= L\"$Latitude$\", ylabel=L\"$Longitude$\", ylabelsize=ylabelsize, xlabelsize=xlabelSize, xticksize=xticksize, yticksize=yticksize, titlesize=titlesize, titlecolor=titlecolor)\n",
    "\n",
    "   # CairoMakie.plot!(Axis_12, River_Mask, colormap=Reverse(:lajolla))\n",
    "   Map_12 = CairoMakie.heatmap!(Axis_12, RiverSlope, colormap=:viridis)\n",
    "\n",
    "   Colorbar(Fig_12[1, 2], Map_12, label = \"River slope [deg]\", width = 15, ticksize = 15, tickalign = 0.5)\n",
    "   display(Fig_12)\n",
    "end\n"
   ]
  },
  {
   "cell_type": "markdown",
   "metadata": {},
   "source": [
    "## **River width**"
   ]
  },
  {
   "cell_type": "code",
   "execution_count": null,
   "metadata": {},
   "outputs": [],
   "source": [
    "RiverWidth = Rasters.Raster((Longitude, Latitude), crs=Metadatas.Crs_GeoFormat, mappedcrs=EPSG(Metadatas.Param_Crs))\n",
    "for iX=1:Metadatas.N_Width\n",
    "   for iY=1:Metadatas.N_Height\n",
    "      if River_Mask[iX,iY] == 1\n",
    "         RiverWidth[iX,iY] = P_RiverWidth\n",
    "      else\n",
    "         RiverWidth[iX,iY] = NaN\n",
    "      end\n",
    "   end # for iY=1:Metadatas.N_Height\n",
    "end # for iX=1:Metadatas.N_Width\n",
    "\n",
    "Path_OutputWflow_RiverWidth = joinpath(Path_Root, Path_OutputWflow, RiverWidth_Wflow)\n",
    "# Rasters.write(Path_OutputWflow_RiverWidth, RiverWidth; ext=\".tiff\", force=true, verbose=true)\n",
    "\n",
    "if 🎏_Plots\n",
    "   CairoMakie.activate!()\n",
    "   Fig_9 =  CairoMakie.Figure()\n",
    "   Axis_9 = CairoMakie.Axis(Fig_9[1, 1], title=\"River Width\", xlabel= L\"$Latitude$\", ylabel=L\"$Longitude$\",  ylabelsize=ylabelsize, xlabelsize=xlabelSize, xticksize=xticksize, yticksize=yticksize, titlesize=titlesize,  titlecolor=titlecolor)\n",
    "\n",
    "   Map_9 = CairoMakie.plot!(Axis_9, RiverWidth, colormap=:lajolla)\n",
    "\n",
    "   # CairoMakie.Colorbar(Fig_6[1, 2], Map_6, label = \"Rivers\", width = 15, ticksize = 15, tickalign = 0.5)\n",
    "   CairoMakie.display(Fig_9)\n",
    "end\n"
   ]
  },
  {
   "cell_type": "markdown",
   "metadata": {},
   "source": [
    "## **River depth**"
   ]
  },
  {
   "cell_type": "code",
   "execution_count": null,
   "metadata": {},
   "outputs": [],
   "source": [
    "RiverDepth = Rasters.Raster((Longitude, Latitude), crs=Metadatas.Crs_GeoFormat)\n",
    "\n",
    "for iX=1:Metadatas.N_Width\n",
    "   for iY=1:Metadatas.N_Height\n",
    "      if River_Mask[iX,iY] == 1\n",
    "         RiverDepth[iX,iY] = P_RiverDepth\n",
    "      else\n",
    "         RiverDepth[iX,iY] = NaN\n",
    "      end\n",
    "   end # for iY=1:Metadatas.N_Height\n",
    "end # for iX=1:Metadatas.N_Width\n",
    "\n",
    "Path_OutputWflow_RiverDepth = joinpath(Path_Root, Path_OutputWflow, RiverDepth_Wflow)\n",
    "println(Path_OutputWflow_RiverDepth)\n",
    "\n",
    "Rasters.write(Path_OutputWflow_RiverDepth, RiverDepth; ext=\".tiff\", force=true, verbose=true, crs=Metadatas.Crs_GeoFormat)\n",
    "\n",
    "if 🎏_Plots\n",
    "   CairoMakie.activate!()\n",
    "   Fig_10 =  CairoMakie.Figure()\n",
    "   Axis_10 = CairoMakie.Axis(Fig_10[1, 1], title=\"River Depth\", xlabel= L\"$Latitudeitude$\", ylabel=L\"$Longitudegitude$\",  ylabelsize=ylabelsize, xlabelsize=xlabelSize, xticksize=xticksize, yticksize=yticksize, titlesize=titlesize,  titlecolor=titlecolor)\n",
    "\n",
    "   Map_10 = CairoMakie.plot!(Axis_10, RiverDepth, colormap=Reverse(:viridis))\n",
    "\n",
    "   # CairoMakie.Colorbar(Fig_6[1, 2], Map_6, label = \"Rivers\", width = 15, ticksize = 15, tickalign = 0.5)\n",
    "   CairoMakie.display(Fig_10)\n",
    "end\n"
   ]
  },
  {
   "cell_type": "markdown",
   "metadata": {},
   "source": [
    "## **River length**"
   ]
  },
  {
   "cell_type": "code",
   "execution_count": null,
   "metadata": {},
   "outputs": [],
   "source": [
    "Path_InputPython_RiverLength = joinpath(Path_Root, Path_OutputPython, RiverLength_Python)\n",
    "println(Path_InputPython_RiverLength)\n",
    "\n",
    "RiverLength₀ = Rasters.Raster(Path_InputPython_RiverLength)\n",
    "RiverLength₁ = Rasters.resample(RiverLength₀; to=Dem_Resample_Mask, missingval=0)\n",
    "\n",
    "\n",
    "RiverLength₁ = Rasters.replace_missing(RiverLength₁, missingval=NaN)\n",
    "RiverLength_Mask = geoRaster.MASK(;Param_Crs=Metadatas.Crs_GeoFormat, Input=RiverLength₁, Latitude, Longitude, Mask=River_Mask)\n",
    "\n",
    "Path_OutputWflow_RiverLength = joinpath(Path_Root, Path_OutputWflow, RiverLength_Wflow)\n",
    "Rasters.write(Path_OutputWflow_RiverLength, RiverLength_Mask; ext=\".tiff\", force=true, verbose=true)\n",
    "println(Path_OutputWflow_RiverLength)\n",
    "\n",
    "if 🎏_Plots\n",
    "   CairoMakie.activate!()\n",
    "   Fig_12 =  CairoMakie.Figure()\n",
    "   Axis_12 = CairoMakie.Axis(Fig_12[1, 1], title=\"River Length Per Pixel\", xlabel= L\"$Latitude$\", ylabel=L\"$Longitudegitude$\",  ylabelsize=ylabelsize, xlabelsize=xlabelSize, xticksize=xticksize, yticksize=yticksize, titlesize=titlesize, titlecolor=titlecolor)\n",
    "\n",
    "   Map_12 = CairoMakie.heatmap!(Axis_12, RiverLength_Mask, colormap=:viridis)\n",
    "\n",
    "   Colorbar(Fig_12[1, 2], Map_12, label = \"River length [m]\", width = 15, ticksize = 15, tickalign = 0.5)\n",
    "   display(Fig_12)\n",
    "end\n"
   ]
  },
  {
   "cell_type": "markdown",
   "metadata": {},
   "source": [
    "## **Impermeable layers:**"
   ]
  },
  {
   "cell_type": "code",
   "execution_count": null,
   "metadata": {},
   "outputs": [],
   "source": [
    "if 🎏_ImpermeableMap\n",
    "   Path_InputGis_Roads = joinpath(Path_Root, Path_InputGis, Roads_Shp)\n",
    "   println(Path_InputGis_Roads)\n",
    "\n",
    "   Road_Shapefile= GeoDataFrames.read(Path_InputGis_Roads)\n",
    "\n",
    "   Impermeable = Rasters.rasterize(last, Road_Shapefile;  fill=1, res=Metadatas.ΔX, to=Dem_Resample_Mask, missingval=NaN, shape=:polygon, crs=Param_Crs_GeoFormat, boundary=:touches , progress=true, verbose=true)\n",
    "\n",
    "   Impermeable_Mask = geoRaster.MASK(;Param_Crs=Metadatas.Param_Crs_GeoFormat, Input=Impermeable, Latitude, Longitude, Mask=Subcatchment)\n",
    "\n",
    "   Path_OutputWflow_Impermeable = joinpath(Path_Root, Path_OutputWflow, Impermable_Wflow)\n",
    "\n",
    "   Rasters.write(Path_OutputWflow_Impermeable, Impermeable_Mask; ext=\".tiff\", force=true, verbose=true)\n",
    "\n",
    "   geoPlot.HEATMAP(;Title=\"Roads\", Label=\"Road\", Input=Impermeable_Mask, 🎏_Colorbar=false)\n",
    "else\n",
    "   Impermeable_Mask = []\n",
    "end\n"
   ]
  },
  {
   "cell_type": "markdown",
   "metadata": {},
   "source": [
    "# **SOIL MAPS**"
   ]
  },
  {
   "cell_type": "code",
   "execution_count": null,
   "metadata": {},
   "outputs": [],
   "source": [
    "if 🎏_SoilMap\n",
    "   Path_InputSoils = joinpath(Path_Root, Path_InputGis, SoilMap_Raster)\n",
    "   println(Path_InputSoils)\n",
    "\n",
    "   SoilMapₒ = Rasters.Raster(Path_InputSoils)\n",
    "\n",
    "   SoilMap₁ = Rasters.resample(SoilMapₒ; to=Dem_Resample_Mask, missingval=NaN)\n",
    "\n",
    "   SoilMap = geoRaster.MASK(;Param_Crs=Metadatas.Crs_GeoFormat, Input=SoilMap₁, Latitude, Longitude, Mask=Subcatchment)\n",
    "\n",
    "   if 🎏_Plots\n",
    "      geoPlot.HEATMAP(;🎏_Colorbar=true, Input=SoilMap, Label=\"Infiltration index [-]\", Title =\"Soil Maps\" )\n",
    "   end\n",
    "end\n"
   ]
  },
  {
   "cell_type": "markdown",
   "metadata": {},
   "source": [
    "# **LOOKUP TABLES**\n"
   ]
  },
  {
   "cell_type": "markdown",
   "metadata": {},
   "source": [
    "## *Lookup hydro parameters*"
   ]
  },
  {
   "cell_type": "code",
   "execution_count": null,
   "metadata": {},
   "outputs": [],
   "source": [
    "if 🎏_SoilMap\n",
    "   include(\"Julia//geoRaster.jl\")\n",
    "   include(\"Julia//Parameters.jl\")\n",
    "\n",
    "   Soil_Header, Soil_Maps = geoRaster.LOOKUPTABLE_2_MAPS(;🎏_Plots, Param_Crs=Metadatas.Crs_GeoFormat, Dem_Resample_Mask, Latitude, Longitude, LookupTable=Lookup_Hydro, Map_Shp=SoilMap_Shp, Map_Value=:Drainage_C, Metadatas, Path_InputGis, Path_Root, Path_Root_LookupTable, Subcatchment, TitleMap=\"Soil Map\", ΔX=ΔX₂)\n",
    "else\n",
    "   Soil_Header = Soil_Maps = []\n",
    "end # if 🎏_SoilMap\n"
   ]
  },
  {
   "cell_type": "markdown",
   "metadata": {},
   "source": [
    "## *Lookup vegetation parameters*"
   ]
  },
  {
   "cell_type": "code",
   "execution_count": null,
   "metadata": {},
   "outputs": [],
   "source": [
    "   include(\"Julia//geoRaster.jl\")\n",
    "   include(\"Julia//Parameters.jl\")\n",
    "if 🎏_VegetationMap\n",
    "   Vegetation_Header, Vegetation_Maps = geoRaster.LOOKUPTABLE_2_MAPS(;🎏_Plots, Colormap=:plasma, Param_Crs=Metadatas.Crs_GeoFormat, Dem_Resample_Mask, Latitude, Longitude, LookupTable=Lookup_Vegetation, Map_Shp=VegetationMap_Shp, Map_Value=:CROP_DESC, Metadatas, Path_InputGis, Path_Root, Path_Root_LookupTable, Subcatchment, TitleMap=\"Vegetation Map\", ΔX=ΔX₂)\n",
    "else\n",
    "   Vegetation_Header = Vegetation_Maps = []\n",
    "\n",
    "end # if 🎏_VegetationMap\n"
   ]
  },
  {
   "cell_type": "markdown",
   "metadata": {},
   "source": [
    "# **NETCDF**"
   ]
  },
  {
   "cell_type": "markdown",
   "metadata": {},
   "source": [
    "## ***Static maps***"
   ]
  },
  {
   "cell_type": "code",
   "execution_count": null,
   "metadata": {},
   "outputs": [],
   "source": [
    "include(\"Julia//GeoNetcdf.jl\")\n",
    "\n",
    "if 🎏_NetCDF\n",
    "   NetCDF, Path_NetCDF_Full = geoNetcdf.TIFF_2_NETCDF(Gauge, Impermable_Wflow, Impermeable_Mask, Latitude, Ldd_Mask, Longitude, Metadatas, River_Mask, River_Wflow, RiverDepth, RiverDepth_Wflow, RiverLength_Mask, RiverSlope, RiverSlope_Wflow, RiverWidth, RiverWidth_Wflow, Slope_Mask, Soil_Header, Soil_Maps, Subcatch_Wflow, Subcatchment, Vegetation_Header, Vegetation_Maps)\n",
    "   end\n",
    "\n",
    "Path_Copy =  joinpath(Path_Root, Path_NetCDF, NetCDF_Instates)\n",
    "Path_Paste  = joinpath(Path_Root_NetCDF, NetCDF_Instates)\n",
    "Base.Filesystem.cp(Path_Copy, Path_Paste, force=true)\n"
   ]
  },
  {
   "cell_type": "code",
   "execution_count": null,
   "metadata": {},
   "outputs": [],
   "source": [
    "Output_NCDatasets = NCDatasets.NCDataset(Path_NetCDF_Full)\n",
    "close(Output_NCDatasets)\n"
   ]
  },
  {
   "cell_type": "code",
   "execution_count": null,
   "metadata": {},
   "outputs": [],
   "source": [
    "# NCDatasets.close(Output_NCDatasets)\n",
    "\n",
    "Path_Copy =  joinpath(Path_Root, Path_NetCDF, NetCDF_Instates)\n",
    "Path_Paste  = joinpath(Path_Root_NetCDF, NetCDF_Instates)\n",
    "Base.Filesystem.cp(Path_Copy, Path_Paste, force=true)\n"
   ]
  },
  {
   "cell_type": "markdown",
   "metadata": {},
   "source": [
    "### ***Plotting NetCDF maps***"
   ]
  },
  {
   "cell_type": "code",
   "execution_count": null,
   "metadata": {},
   "outputs": [],
   "source": [
    "if 🎏_Plots && 🎏_Plot_NetCDF\n",
    "\tusing NCDatasets\n",
    "\n",
    "\tPath_NetCDF_Full  = joinpath(Path_Root, Path_NetCDF, NetCDF_Instates)\n",
    "\tOutput_NCDatasets = NCDatasets.NCDataset(Path_NetCDF_Full)\n",
    "\n",
    "\tKeys = NCDatasets.keys(Output_NCDatasets)\n",
    "\n",
    "\tKeys_Select = []\n",
    "\tfor iiKeys ∈ Keys\n",
    "\t\tOutput = Output_NCDatasets[iiKeys]\n",
    "\t\tDimensions = length(size(Output))\n",
    "\n",
    "\t\tif Dimensions == 2\n",
    "\t\t\t\tpush!(Keys_Select, String(iiKeys))\n",
    "\t\tend # Dimensions == 2\n",
    "\tend # for iiKeys ∈ Keys\n",
    "\n",
    "\tKeys_Select = String.(Keys_Select)\n",
    "\tprintln(Keys_Select)\n",
    "\n",
    "\tfor iiKeys ∈ Keys_Select\n",
    "\t\tprintln(iiKeys)\n",
    "\t\tMap₀ = Array(Output_NCDatasets[iiKeys])\n",
    "\n",
    "\t\t# Clean data\n",
    "\t\t\tFillValue = Output_NCDatasets[iiKeys].attrib[\"_FillValue\"]\n",
    "\t\t\tMap =  replace(Map₀, FillValue => NaN)\n",
    "\n",
    "\t\tgeoPlot.HEATMAP(;🎏_Colorbar=true, Input=Map, Label=\"$iiKeys\", Title=\"$iiKeys\", Xlabel= L\"$iX$\", Ylabel=L\"$iY$\", Yreversed=true, colormap=:hawaii50)\n",
    "\tend\n",
    "end  # if: 🎏_Plots &&\n",
    "\n",
    "Output_NCDatasets = nothing\n"
   ]
  },
  {
   "cell_type": "markdown",
   "metadata": {},
   "source": [
    "## ***Timeseries NetCDF maps***"
   ]
  },
  {
   "cell_type": "code",
   "execution_count": null,
   "metadata": {},
   "outputs": [],
   "source": [
    "if 🎏_Forcing_2_NetCDF\n",
    "\tinclude(\"Julia//Parameters.jl\")\n",
    "\tinclude(\"Julia//GeoRaster.jl\")\n",
    "\tinclude(\"Julia//GeoNetcdf.jl\")\n",
    "\t# include(\"Julia//PlotParameter.jl\")\n",
    "\n",
    "\tNetCDFmeteo, Path_NetCDFmeteo_Output = geoNetcdf.TIMESERIES_2_NETCDF(Latitude, Longitude, Metadatas, Subcatchment)\n",
    "\n",
    "\tif 🎏_Plot_TimeSeries\n",
    "   \t# precip pet temp\n",
    "   \tgeoPlot.HEATMAP_TIME(;Path=Path_NetCDFmeteo_Output, NameOutput=\"temp\", Layer=1)\n",
    "\tend\n",
    "end\n"
   ]
  },
  {
   "cell_type": "code",
   "execution_count": null,
   "metadata": {},
   "outputs": [],
   "source": [
    "if 🎏_Forcing_2_NetCDF\n",
    "\tPath_Copy =  joinpath(Path_Root, Path_NetCDF, NetCDF_Forcing)\n",
    "\tPath_Paste  = joinpath(Path_Root_NetCDF, NetCDF_Forcing)\n",
    "\tBase.Filesystem.cp(Path_Copy, Path_Paste, force=true)\n",
    "end\n"
   ]
  },
  {
   "cell_type": "code",
   "execution_count": null,
   "metadata": {},
   "outputs": [],
   "source": [
    "\n",
    "# include(raw\"d:\\JOE\\MAIN\\MODELS\\WFLOW\\WflowDataJoe\\WflowRaster.jl\\src\\GeoRaster.jl\")\n",
    "\n",
    "# Path_InputGis_Gauge  = joinpath(Path_Root, Path_InputGis, Gauge_Shp)\n",
    "# println(Path_InputGis_Gauge)\n",
    "\n",
    "# # Load the shapefile\n",
    "# Gauge_Raw = Shapefile.Handle(Path_InputGis_Gauge)\n",
    "\n",
    "# Gauge = Rasters.rasterize(last, Gauge_Raw; res=ΔX₂, fill=1, missingval=NaN, crs=Metadatas.Param_Crs_GeoFormat, to=Dem_Resample_Mask, shape=:point ,progress=true)\n",
    "\n",
    "# for iLongitudeg=1:Metadatas.N_Width\n",
    "# \tfor iLatitude=1:1:Metadatas.N_Height\n",
    "# \t\tif Gauge[iLongitudeg, iLatitude] == 1\n",
    "\n",
    "#          println( \"Point:  Nlongitude= $(Metadatas.N_Width) iLongitudegitude= $iLongitudeg Nlatitude= $(Metadatas.N_Height) iLatitudeitude= $iLatitude\")\n",
    "\n",
    "# \t\tend\n",
    "# \tend # for iY=1:Metadatas.N_Height\n",
    "# end # for iX=1:Metadatas.N_Width\n",
    "\n",
    "# iLatitude, iLongitudeg, Latitudeitude, Longitudegitude, Nlatitude, Nlongitude = geoRaster.LAT_LONG_2_INDEX(;Map=Gauge, Param_GaugeCoordinate)\n",
    "\n",
    "# Path_OutputJulia_Gauge = joinpath(Path_Root, Path_OutputJulia, Gauge_Julia)\n",
    "# Rasters.write(Path_OutputJulia_Gauge, Gauge; ext=\".tiff\", force=true, verbose=true, missingval= NaN)\n",
    "\n",
    "# if 🎏_Plots\n",
    "#    using CairoMakie, Colors, ColorSchemes\n",
    "#    include(raw\"d:\\JOE\\MAIN\\MODELS\\WFLOW\\WflowDataJoe\\WflowRaster.jl\\src\\GeoPlot.jl\")\n",
    "\n",
    "#    CairoMakie.activate!()\n",
    "#    Fig_6 =  CairoMakie.Figure()\n",
    "#    Axis_6 = CairoMakie.Axis(Fig_6[1, 1], title=\"Rivers\", xlabel= L\"$Latitudeitude$\", ylabel=L\"$Longitudegitude$\",  ylabelsize=ylabelsize, xlabelsize=xlabelSize, xticksize=xticksize, yticksize=yticksize, titlesize=titlesize,  titlecolor=titlecolor)\n",
    "\n",
    "#    Map_6 =  CairoMakie.heatmap!(Axis_6, Gauge, colormap=:lajolla)\n",
    "\n",
    "#    # CairoMakie.Colorbar(Fig_6[1, 2], Map_6, label = \"Rivers\", width = 15, ticksize = 15, tickalign = 0.5)\n",
    "#    CairoMakie.display(Fig_6)\n",
    "# end\n",
    "\n"
   ]
  },
  {
   "cell_type": "code",
   "execution_count": null,
   "metadata": {},
   "outputs": [],
   "source": [
    "# Path = raw\"D:\\JOE\\MAIN\\MODELS\\WFLOW\\DATA\\Ballycanew\\InputGis\\Ballycanew_DTM_1M.tif\"\n",
    "# Dem_Resample₀ = Rasters.Raster(Path, missingval=NaN)\n",
    "# Dem_Resample₁ = Rasters.resample(Dem_Resample₀; res=5.0, method=ResampleMethod₁, crs=Param_Crs_GeoFormat)\n",
    "# Dem_Resample  = Rasters.resample(Dem_Resample₁; res=10.0, method=ResampleMethod₂, crs=Param_Crs_GeoFormat)\n",
    "\n",
    "# \tPath_Output = raw\"D:\\JOE\\MAIN\\MODELS\\WFLOW\\DATA\\Ballycanew\\OutputJulia\\FlowAccumulation.tif\"\n",
    "# \tRasters.write(Path_Output, log10.(Acc); ext=\".tiff\", missingval= NaN, force=true, verbose=true)\n"
   ]
  },
  {
   "cell_type": "code",
   "execution_count": null,
   "metadata": {},
   "outputs": [],
   "source": [
    "# GAUGES\n",
    "# Param_GaugeCoordinate_X_Right_Top    = [146709.6323,42159.6226]\n",
    "# Param_GaugeCoordinate_X_Left_Top     = [146700.2167,42159.7300]\n",
    "# Param_GaugeCoordinate_X_Right_Bottom = [146709.7495,42150.1972]\n",
    "# Param_GaugeCoordinate_X_Left_Bottom  = [146700.2801,42150.2118]\n",
    "\n",
    "# GAUGE(Gauge_Name=\"Gauge_Wflow_X_Right_Top.tiff\", Param_GaugeCoordinate=Param_GaugeCoordinate_X_Right_Top, ΔX=Metadatas.ΔX)\n",
    "\n",
    "# println(Param_GaugeCoordinate_Center)\n",
    "\n",
    "# GAUGE(Gauge_Name=\"Gauge_Wflow_X_Left_Top.tiff\", Param_GaugeCoordinate=Param_GaugeCoordinate_X_Left_Top, ΔX=Metadatas.ΔX)\n",
    "\n",
    "# GAUGE(Gauge_Name=\"Gauge_Wflow_Center.tiff\", Param_GaugeCoordinate=Param_GaugeCoordinate_Center, ΔX=Metadatas.ΔX)\n",
    "\n",
    "# GAUGE(Gauge_Name=\"Gauge_Wflow_X_Right_Bottom.tiff\", Param_GaugeCoordinate=Param_GaugeCoordinate_X_Right_Bottom, ΔX=Metadatas.ΔX)\n",
    "\n",
    "\n",
    "# Param_GaugeCoordinate_Center         = [(Param_GaugeCoordinate_X_Left_Top[1] + Param_GaugeCoordinate_X_Right_Bottom[1]) / 2.0 ,  (Param_GaugeCoordinate_X_Left_Top[2] + Param_GaugeCoordinate_X_Right_Bottom[2]) / 2.0 ]\n"
   ]
  },
  {
   "cell_type": "markdown",
   "metadata": {},
   "source": [
    "# LOCUS"
   ]
  },
  {
   "cell_type": "code",
   "execution_count": null,
   "metadata": {},
   "outputs": [],
   "source": [
    "\n",
    "\t\t# Dem_Resample = Rasters.set(Dem_Resample₀,  X => Rasters.Center)\n",
    "\t\t# Dem_Resample = Rasters.set(Dem_Resample₀,  Y => Rasters.Center)\n",
    "\n",
    "\t\t# Dem_Resample₀ = Rasters.set(Dem_Resample₀, X => Rasters.Intervals(Rasters.Start()))\n",
    "\t\t# Dem_Resample₀ = Rasters.set(Dem_Resample₀, Y => Rasters.Intervals(Rasters.Start()))\n",
    "\n",
    "\t\t# Dem_Resample₀ = Rasters.set(Dem_Resample₀, X => Rasters.Intervals(Rasters.End()))\n",
    "\t\t# Dem_Resample₀ = Rasters.set(Dem_Resample₀, Y => Rasters.Intervals(Rasters.End()))\n",
    "\t\t# https://rafaqz.github.io/Rasters.jl/dev/tutorials/resample#Sinusoidal-Projection-MODIS\n",
    "\t\t# locus_resampled = DimensionalData.shiftlocus(Center(), ras_epsg)\n"
   ]
  },
  {
   "cell_type": "markdown",
   "metadata": {},
   "source": [
    "## == **DEM:** ***pit location*** == "
   ]
  },
  {
   "cell_type": "markdown",
   "metadata": {},
   "source": [
    "## **DEM:** *DEM correct boarders*"
   ]
  },
  {
   "cell_type": "code",
   "execution_count": null,
   "metadata": {},
   "outputs": [],
   "source": [
    "if 🎏_Fix_Cyclic\n",
    "\tinclude(\"Julia//GeoRaster.jl\")\n",
    "\n",
    "\tDem_Resample, Dem_Boarder₀ = geoRaster.DEM_CORRECT_BOARDERS!(; Dem=Dem_Resample,  Latitude, Longitude, Crs=Metadatas.Crs_GeoFormat, iiParam_GaugeCoordinate)\n",
    "\n",
    "\tDem_Boarder = Rasters.replace_missing(Dem_Boarder₀, missingval=NaN)\n",
    "\n",
    "\t# # Dem_Resample = Rasters.set(Dem_Resample,  Rasters.Center)\n",
    "\n",
    "\tif 🎏_Plots\n",
    "\t\tgeoPlot.HEATMAP(;🎏_Colorbar=true, Input= Dem_Boarder, Title=\"Boarders\", Label=\"True [m]\")\n",
    "\tend\n",
    "\n",
    "\t# Writting the output\n",
    "\t\tPath_OutputJulia_Dem = joinpath(Path_Root, Path_OutputJulia, \"Boarder.tiff\")\n",
    "\t\tRasters.write(Path_OutputJulia_Dem, Dem_Boarder; ext=\".tiff\", missingval= NaN, force=true, verbose=true)\n",
    "end\n"
   ]
  },
  {
   "cell_type": "markdown",
   "metadata": {},
   "source": [
    "## == **DEM:** ***pit location*** == "
   ]
  },
  {
   "cell_type": "code",
   "execution_count": null,
   "metadata": {},
   "outputs": [],
   "source": [
    "if 🎏_Fix_Cyclic\n",
    "\tDem_Coordinate = Dem_Resample[iiParam_GaugeCoordinate[1], iiParam_GaugeCoordinate[2]]\n",
    "\tDem_Resample[iiParam_GaugeCoordinate[1], iiParam_GaugeCoordinate[2]] = Dem_Coordinate - 100.0\n",
    "end\n"
   ]
  },
  {
   "cell_type": "code",
   "execution_count": null,
   "metadata": {},
   "outputs": [],
   "source": [
    "if 🎏_Fix_Cyclic\n",
    "\tinclude(\"Julia//GeoRaster.jl\")\n",
    "\n",
    "\tDem_Resample, Dem_Boarder₀ = geoRaster.DEM_CORRECT_BOARDERS!(; Dem=Dem_Resample,  Latitude, Longitude, Crs=Metadatas.Crs_GeoFormat, iiParam_GaugeCoordinate)\n",
    "\n",
    "\tDem_Boarder = Rasters.replace_missing(Dem_Boarder₀, missingval=NaN)\n",
    "\n",
    "\t# # Dem_Resample = Rasters.set(Dem_Resample,  Rasters.Center)\n",
    "\n",
    "\tif 🎏_Plots\n",
    "\t\tgeoPlot.HEATMAP(;🎏_Colorbar=true, Input= Dem_Boarder, Title=\"Boarders\", Label=\"True [m]\")\n",
    "\tend\n",
    "\n",
    "\t# Writting the output\n",
    "\t\tPath_OutputJulia_Dem = joinpath(Path_Root, Path_OutputJulia, \"Boarder.tiff\")\n",
    "\t\tRasters.write(Path_OutputJulia_Dem, Dem_Boarder; ext=\".tiff\", missingval= NaN, force=true, verbose=true)\n",
    "end\n"
   ]
  }
 ],
 "metadata": {
  "kernelspec": {
   "display_name": "Julia 1.11.6",
   "language": "julia",
   "name": "julia-1.11"
  },
  "language_info": {
   "file_extension": ".jl",
   "mimetype": "application/julia",
   "name": "julia",
   "version": "1.11.6"
  }
 },
 "nbformat": 4,
 "nbformat_minor": 2
}
